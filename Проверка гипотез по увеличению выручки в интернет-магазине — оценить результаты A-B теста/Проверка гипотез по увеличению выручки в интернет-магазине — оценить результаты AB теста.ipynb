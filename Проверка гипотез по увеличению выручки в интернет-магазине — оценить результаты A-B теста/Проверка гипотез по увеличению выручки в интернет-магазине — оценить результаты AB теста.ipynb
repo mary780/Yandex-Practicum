{
 "cells": [
  {
   "cell_type": "markdown",
   "metadata": {},
   "source": [
    "# Описание проекта\n",
    "\n",
    "Вы — аналитик крупного интернет-магазина. Вместе с отделом маркетинга вы подготовили список гипотез для увеличения выручки.\n",
    "Приоритизируйте гипотезы, запустите A/B-тест и проанализируйте результаты. \n"
   ]
  },
  {
   "cell_type": "markdown",
   "metadata": {},
   "source": [
    "# План\n",
    "\n",
    "1. Ознакомиться с данными\n",
    "2. Провести предварительную обработку данных \n",
    "3. Применить фреймворк ICE и RICE для приоритизации гипотез.\n",
    "4. Сравнить результаты приоритизации гипотез по обоим фреймворкам и объяснить изменения при использовании RICE.\n",
    "5. Построить графики кумулятивной выручки и среднего чека по группам и сделать выводы.\n",
    "6. Изучить относительное изменение кумулятивного среднего чека группы B к группе A и сделать выводы.\n",
    "7. Построить графики кумулятивного среднего количества заказов на посетителя по группам и сделать выводы.\n",
    "8. Изучить относительное изменение кумулятивного среднего количества заказов на посетителя группы B к группе A и сделать выводы.\n",
    "9. Построить точечные графики количества заказов и стоимостей заказов и сделать выводы.\n",
    "10. Рассчитать перцентили количества и стоимости заказов для определения аномальных значений.\n",
    "11. Проверить статистическую значимость различий в среднем количестве заказов на посетителя и среднем чеке заказа между группами по \"сырым\" данным.\n",
    "12. Проверить статистическую значимость различий в среднем количестве заказов на посетителя и среднем чеке заказа между группами по \"очищенным\" данным.\n",
    "13. Принять решение по результатам теста и объяснить его."
   ]
  },
  {
   "cell_type": "markdown",
   "metadata": {},
   "source": [
    "## Приоритизация гипотез.\n",
    "**В файле 9 гипотез по увеличению выручки интернет-магазина с указанными параметрами Reach, Impact, Confidence, Effort.**"
   ]
  },
  {
   "cell_type": "code",
   "execution_count": 1,
   "metadata": {},
   "outputs": [],
   "source": [
    "import pandas as pd\n",
    "import numpy as np\n",
    "import matplotlib.pyplot as plt\n",
    "import datetime as dt\n",
    "from scipy import stats as st\n",
    "import math as mth"
   ]
  },
  {
   "cell_type": "code",
   "execution_count": 2,
   "metadata": {
    "scrolled": true
   },
   "outputs": [],
   "source": [
    "df=pd.read_csv(r\"D:\\Загрузки\\hypothesis.csv\")"
   ]
  },
  {
   "cell_type": "code",
   "execution_count": 3,
   "metadata": {},
   "outputs": [
    {
     "data": {
      "text/html": [
       "<div>\n",
       "<style scoped>\n",
       "    .dataframe tbody tr th:only-of-type {\n",
       "        vertical-align: middle;\n",
       "    }\n",
       "\n",
       "    .dataframe tbody tr th {\n",
       "        vertical-align: top;\n",
       "    }\n",
       "\n",
       "    .dataframe thead th {\n",
       "        text-align: right;\n",
       "    }\n",
       "</style>\n",
       "<table border=\"1\" class=\"dataframe\">\n",
       "  <thead>\n",
       "    <tr style=\"text-align: right;\">\n",
       "      <th></th>\n",
       "      <th>Hypothesis</th>\n",
       "      <th>Reach</th>\n",
       "      <th>Impact</th>\n",
       "      <th>Confidence</th>\n",
       "      <th>Efforts</th>\n",
       "    </tr>\n",
       "  </thead>\n",
       "  <tbody>\n",
       "    <tr>\n",
       "      <th>0</th>\n",
       "      <td>Добавить два новых канала привлечения трафика, что позволит привлекать на 30% больше пользователей</td>\n",
       "      <td>3</td>\n",
       "      <td>10</td>\n",
       "      <td>8</td>\n",
       "      <td>6</td>\n",
       "    </tr>\n",
       "    <tr>\n",
       "      <th>1</th>\n",
       "      <td>Запустить собственную службу доставки, что сократит срок доставки заказов</td>\n",
       "      <td>2</td>\n",
       "      <td>5</td>\n",
       "      <td>4</td>\n",
       "      <td>10</td>\n",
       "    </tr>\n",
       "    <tr>\n",
       "      <th>2</th>\n",
       "      <td>Добавить блоки рекомендаций товаров на сайт интернет магазина, чтобы повысить конверсию и средний чек заказа</td>\n",
       "      <td>8</td>\n",
       "      <td>3</td>\n",
       "      <td>7</td>\n",
       "      <td>3</td>\n",
       "    </tr>\n",
       "    <tr>\n",
       "      <th>3</th>\n",
       "      <td>Изменить структура категорий, что увеличит конверсию, т.к. пользователи быстрее найдут нужный товар</td>\n",
       "      <td>8</td>\n",
       "      <td>3</td>\n",
       "      <td>3</td>\n",
       "      <td>8</td>\n",
       "    </tr>\n",
       "    <tr>\n",
       "      <th>4</th>\n",
       "      <td>Изменить цвет фона главной страницы, чтобы увеличить вовлеченность пользователей</td>\n",
       "      <td>3</td>\n",
       "      <td>1</td>\n",
       "      <td>1</td>\n",
       "      <td>1</td>\n",
       "    </tr>\n",
       "    <tr>\n",
       "      <th>5</th>\n",
       "      <td>Добавить страницу отзывов клиентов о магазине, что позволит увеличить количество заказов</td>\n",
       "      <td>3</td>\n",
       "      <td>2</td>\n",
       "      <td>2</td>\n",
       "      <td>3</td>\n",
       "    </tr>\n",
       "    <tr>\n",
       "      <th>6</th>\n",
       "      <td>Показать на главной странице баннеры с актуальными акциями и распродажами, чтобы увеличить конверсию</td>\n",
       "      <td>5</td>\n",
       "      <td>3</td>\n",
       "      <td>8</td>\n",
       "      <td>3</td>\n",
       "    </tr>\n",
       "    <tr>\n",
       "      <th>7</th>\n",
       "      <td>Добавить форму подписки на все основные страницы, чтобы собрать базу клиентов для email-рассылок</td>\n",
       "      <td>10</td>\n",
       "      <td>7</td>\n",
       "      <td>8</td>\n",
       "      <td>5</td>\n",
       "    </tr>\n",
       "    <tr>\n",
       "      <th>8</th>\n",
       "      <td>Запустить акцию, дающую скидку на товар в день рождения</td>\n",
       "      <td>1</td>\n",
       "      <td>9</td>\n",
       "      <td>9</td>\n",
       "      <td>5</td>\n",
       "    </tr>\n",
       "  </tbody>\n",
       "</table>\n",
       "</div>"
      ],
      "text/plain": [
       "                                                                                                     Hypothesis  \\\n",
       "0            Добавить два новых канала привлечения трафика, что позволит привлекать на 30% больше пользователей   \n",
       "1                                     Запустить собственную службу доставки, что сократит срок доставки заказов   \n",
       "2  Добавить блоки рекомендаций товаров на сайт интернет магазина, чтобы повысить конверсию и средний чек заказа   \n",
       "3           Изменить структура категорий, что увеличит конверсию, т.к. пользователи быстрее найдут нужный товар   \n",
       "4                              Изменить цвет фона главной страницы, чтобы увеличить вовлеченность пользователей   \n",
       "5                      Добавить страницу отзывов клиентов о магазине, что позволит увеличить количество заказов   \n",
       "6          Показать на главной странице баннеры с актуальными акциями и распродажами, чтобы увеличить конверсию   \n",
       "7              Добавить форму подписки на все основные страницы, чтобы собрать базу клиентов для email-рассылок   \n",
       "8                                                       Запустить акцию, дающую скидку на товар в день рождения   \n",
       "\n",
       "   Reach  Impact  Confidence  Efforts  \n",
       "0      3      10           8        6  \n",
       "1      2       5           4       10  \n",
       "2      8       3           7        3  \n",
       "3      8       3           3        8  \n",
       "4      3       1           1        1  \n",
       "5      3       2           2        3  \n",
       "6      5       3           8        3  \n",
       "7     10       7           8        5  \n",
       "8      1       9           9        5  "
      ]
     },
     "execution_count": 3,
     "metadata": {},
     "output_type": "execute_result"
    }
   ],
   "source": [
    "pd.options.display.max_colwidth = 130\n",
    "df"
   ]
  },
  {
   "cell_type": "markdown",
   "metadata": {},
   "source": [
    "### Фреймворк ICE для приоритизации гипотез"
   ]
  },
  {
   "cell_type": "code",
   "execution_count": 4,
   "metadata": {},
   "outputs": [
    {
     "name": "stdout",
     "output_type": "stream",
     "text": [
      "                                                                                                     Hypothesis  \\\n",
      "8                                                       Запустить акцию, дающую скидку на товар в день рождения   \n",
      "0            Добавить два новых канала привлечения трафика, что позволит привлекать на 30% больше пользователей   \n",
      "7              Добавить форму подписки на все основные страницы, чтобы собрать базу клиентов для email-рассылок   \n",
      "6          Показать на главной странице баннеры с актуальными акциями и распродажами, чтобы увеличить конверсию   \n",
      "2  Добавить блоки рекомендаций товаров на сайт интернет магазина, чтобы повысить конверсию и средний чек заказа   \n",
      "1                                     Запустить собственную службу доставки, что сократит срок доставки заказов   \n",
      "5                      Добавить страницу отзывов клиентов о магазине, что позволит увеличить количество заказов   \n",
      "3           Изменить структура категорий, что увеличит конверсию, т.к. пользователи быстрее найдут нужный товар   \n",
      "4                              Изменить цвет фона главной страницы, чтобы увеличить вовлеченность пользователей   \n",
      "\n",
      "     ICE  \n",
      "8  16.20  \n",
      "0  13.33  \n",
      "7  11.20  \n",
      "6   8.00  \n",
      "2   7.00  \n",
      "1   2.00  \n",
      "5   1.33  \n",
      "3   1.12  \n",
      "4   1.00  \n"
     ]
    }
   ],
   "source": [
    "df['ICE']=round((df['Impact']*df['Confidence'])/df['Efforts'],2)\n",
    "print(df[['Hypothesis','ICE']].sort_values(by='ICE', ascending=False))"
   ]
  },
  {
   "cell_type": "markdown",
   "metadata": {},
   "source": [
    "### Фреймворк RICE для приоритизации гипотез"
   ]
  },
  {
   "cell_type": "code",
   "execution_count": 5,
   "metadata": {},
   "outputs": [
    {
     "name": "stdout",
     "output_type": "stream",
     "text": [
      "                                                                                                     Hypothesis  \\\n",
      "7              Добавить форму подписки на все основные страницы, чтобы собрать базу клиентов для email-рассылок   \n",
      "2  Добавить блоки рекомендаций товаров на сайт интернет магазина, чтобы повысить конверсию и средний чек заказа   \n",
      "0            Добавить два новых канала привлечения трафика, что позволит привлекать на 30% больше пользователей   \n",
      "6          Показать на главной странице баннеры с актуальными акциями и распродажами, чтобы увеличить конверсию   \n",
      "8                                                       Запустить акцию, дающую скидку на товар в день рождения   \n",
      "3           Изменить структура категорий, что увеличит конверсию, т.к. пользователи быстрее найдут нужный товар   \n",
      "1                                     Запустить собственную службу доставки, что сократит срок доставки заказов   \n",
      "5                      Добавить страницу отзывов клиентов о магазине, что позволит увеличить количество заказов   \n",
      "4                              Изменить цвет фона главной страницы, чтобы увеличить вовлеченность пользователей   \n",
      "\n",
      "    RICE  \n",
      "7  112.0  \n",
      "2   56.0  \n",
      "0   40.0  \n",
      "6   40.0  \n",
      "8   16.2  \n",
      "3    9.0  \n",
      "1    4.0  \n",
      "5    4.0  \n",
      "4    3.0  \n"
     ]
    }
   ],
   "source": [
    "df['RICE']=(df['Reach']*df['Impact']*df['Confidence'])/df['Efforts']\n",
    "print(df[['Hypothesis', 'RICE']].sort_values(by='RICE', ascending=False))"
   ]
  },
  {
   "cell_type": "markdown",
   "metadata": {},
   "source": [
    "**При использовании RICE более приоритетными становятся гипотезы с высоким охватом, даже если их потенциальное влияние или уверенность в этом влиянии ниже, чем у других гипотез. Поэтому видим, что с учетом охвата, наиболее приоритетной гипотезой является 7('Добавить форму подписки на все основные страницы, чтобы собрать базу клиентов для email-рассылок'), так как она имеет максимальную оценку охвата.**"
   ]
  },
  {
   "cell_type": "markdown",
   "metadata": {},
   "source": [
    "## Анализ A/B-теста"
   ]
  },
  {
   "cell_type": "code",
   "execution_count": 6,
   "metadata": {},
   "outputs": [],
   "source": [
    "orders= pd.read_csv(r\"D:\\Загрузки\\orders.csv\")\n",
    "visitors = pd.read_csv(r\"D:\\Загрузки\\visitors.csv\")"
   ]
  },
  {
   "cell_type": "code",
   "execution_count": 7,
   "metadata": {},
   "outputs": [],
   "source": [
    "def analysis_df(df):\n",
    "\n",
    "    print(\"Info:\")\n",
    "    display(df.info())\n",
    "    print(\"\\n\")\n",
    "\n",
    "    print(\"Head:\")\n",
    "    display(df.head())\n",
    "    print(\"\\n\")\n",
    "\n",
    "    print(\"Describe:\")\n",
    "    display(df.describe())\n",
    "    print(\"\\n\")\n",
    "\n",
    "    print(\"Value Counts:\")\n",
    "    for column in df.columns:\n",
    "        if df[column].dtype == 'object':\n",
    "            display(df[column].value_counts().to_frame())\n",
    "            print(\"\\n\")\n",
    "            print('List of Unique')\n",
    "            print(df[column].unique())\n",
    "    print(\"\\n\")\n",
    "    \n",
    "    print('Duplicates:')\n",
    "    print(df.duplicated().sum())"
   ]
  },
  {
   "cell_type": "code",
   "execution_count": 8,
   "metadata": {
    "scrolled": true
   },
   "outputs": [
    {
     "name": "stdout",
     "output_type": "stream",
     "text": [
      "Info:\n",
      "<class 'pandas.core.frame.DataFrame'>\n",
      "RangeIndex: 1197 entries, 0 to 1196\n",
      "Data columns (total 5 columns):\n",
      " #   Column         Non-Null Count  Dtype \n",
      "---  ------         --------------  ----- \n",
      " 0   transactionId  1197 non-null   int64 \n",
      " 1   visitorId      1197 non-null   int64 \n",
      " 2   date           1197 non-null   object\n",
      " 3   revenue        1197 non-null   int64 \n",
      " 4   group          1197 non-null   object\n",
      "dtypes: int64(3), object(2)\n",
      "memory usage: 46.9+ KB\n"
     ]
    },
    {
     "data": {
      "text/plain": [
       "None"
      ]
     },
     "metadata": {},
     "output_type": "display_data"
    },
    {
     "name": "stdout",
     "output_type": "stream",
     "text": [
      "\n",
      "\n",
      "Head:\n"
     ]
    },
    {
     "data": {
      "text/html": [
       "<div>\n",
       "<style scoped>\n",
       "    .dataframe tbody tr th:only-of-type {\n",
       "        vertical-align: middle;\n",
       "    }\n",
       "\n",
       "    .dataframe tbody tr th {\n",
       "        vertical-align: top;\n",
       "    }\n",
       "\n",
       "    .dataframe thead th {\n",
       "        text-align: right;\n",
       "    }\n",
       "</style>\n",
       "<table border=\"1\" class=\"dataframe\">\n",
       "  <thead>\n",
       "    <tr style=\"text-align: right;\">\n",
       "      <th></th>\n",
       "      <th>transactionId</th>\n",
       "      <th>visitorId</th>\n",
       "      <th>date</th>\n",
       "      <th>revenue</th>\n",
       "      <th>group</th>\n",
       "    </tr>\n",
       "  </thead>\n",
       "  <tbody>\n",
       "    <tr>\n",
       "      <th>0</th>\n",
       "      <td>3667963787</td>\n",
       "      <td>3312258926</td>\n",
       "      <td>2019-08-15</td>\n",
       "      <td>1650</td>\n",
       "      <td>B</td>\n",
       "    </tr>\n",
       "    <tr>\n",
       "      <th>1</th>\n",
       "      <td>2804400009</td>\n",
       "      <td>3642806036</td>\n",
       "      <td>2019-08-15</td>\n",
       "      <td>730</td>\n",
       "      <td>B</td>\n",
       "    </tr>\n",
       "    <tr>\n",
       "      <th>2</th>\n",
       "      <td>2961555356</td>\n",
       "      <td>4069496402</td>\n",
       "      <td>2019-08-15</td>\n",
       "      <td>400</td>\n",
       "      <td>A</td>\n",
       "    </tr>\n",
       "    <tr>\n",
       "      <th>3</th>\n",
       "      <td>3797467345</td>\n",
       "      <td>1196621759</td>\n",
       "      <td>2019-08-15</td>\n",
       "      <td>9759</td>\n",
       "      <td>B</td>\n",
       "    </tr>\n",
       "    <tr>\n",
       "      <th>4</th>\n",
       "      <td>2282983706</td>\n",
       "      <td>2322279887</td>\n",
       "      <td>2019-08-15</td>\n",
       "      <td>2308</td>\n",
       "      <td>B</td>\n",
       "    </tr>\n",
       "  </tbody>\n",
       "</table>\n",
       "</div>"
      ],
      "text/plain": [
       "   transactionId   visitorId        date  revenue group\n",
       "0     3667963787  3312258926  2019-08-15     1650     B\n",
       "1     2804400009  3642806036  2019-08-15      730     B\n",
       "2     2961555356  4069496402  2019-08-15      400     A\n",
       "3     3797467345  1196621759  2019-08-15     9759     B\n",
       "4     2282983706  2322279887  2019-08-15     2308     B"
      ]
     },
     "metadata": {},
     "output_type": "display_data"
    },
    {
     "name": "stdout",
     "output_type": "stream",
     "text": [
      "\n",
      "\n",
      "Describe:\n"
     ]
    },
    {
     "data": {
      "text/html": [
       "<div>\n",
       "<style scoped>\n",
       "    .dataframe tbody tr th:only-of-type {\n",
       "        vertical-align: middle;\n",
       "    }\n",
       "\n",
       "    .dataframe tbody tr th {\n",
       "        vertical-align: top;\n",
       "    }\n",
       "\n",
       "    .dataframe thead th {\n",
       "        text-align: right;\n",
       "    }\n",
       "</style>\n",
       "<table border=\"1\" class=\"dataframe\">\n",
       "  <thead>\n",
       "    <tr style=\"text-align: right;\">\n",
       "      <th></th>\n",
       "      <th>transactionId</th>\n",
       "      <th>visitorId</th>\n",
       "      <th>revenue</th>\n",
       "    </tr>\n",
       "  </thead>\n",
       "  <tbody>\n",
       "    <tr>\n",
       "      <th>count</th>\n",
       "      <td>1.197000e+03</td>\n",
       "      <td>1.197000e+03</td>\n",
       "      <td>1.197000e+03</td>\n",
       "    </tr>\n",
       "    <tr>\n",
       "      <th>mean</th>\n",
       "      <td>2.155621e+09</td>\n",
       "      <td>2.165960e+09</td>\n",
       "      <td>8.348006e+03</td>\n",
       "    </tr>\n",
       "    <tr>\n",
       "      <th>std</th>\n",
       "      <td>1.229085e+09</td>\n",
       "      <td>1.236014e+09</td>\n",
       "      <td>3.919113e+04</td>\n",
       "    </tr>\n",
       "    <tr>\n",
       "      <th>min</th>\n",
       "      <td>1.062393e+06</td>\n",
       "      <td>5.114589e+06</td>\n",
       "      <td>5.000000e+01</td>\n",
       "    </tr>\n",
       "    <tr>\n",
       "      <th>25%</th>\n",
       "      <td>1.166776e+09</td>\n",
       "      <td>1.111826e+09</td>\n",
       "      <td>1.220000e+03</td>\n",
       "    </tr>\n",
       "    <tr>\n",
       "      <th>50%</th>\n",
       "      <td>2.145194e+09</td>\n",
       "      <td>2.217985e+09</td>\n",
       "      <td>2.978000e+03</td>\n",
       "    </tr>\n",
       "    <tr>\n",
       "      <th>75%</th>\n",
       "      <td>3.237740e+09</td>\n",
       "      <td>3.177606e+09</td>\n",
       "      <td>8.290000e+03</td>\n",
       "    </tr>\n",
       "    <tr>\n",
       "      <th>max</th>\n",
       "      <td>4.293856e+09</td>\n",
       "      <td>4.283872e+09</td>\n",
       "      <td>1.294500e+06</td>\n",
       "    </tr>\n",
       "  </tbody>\n",
       "</table>\n",
       "</div>"
      ],
      "text/plain": [
       "       transactionId     visitorId       revenue\n",
       "count   1.197000e+03  1.197000e+03  1.197000e+03\n",
       "mean    2.155621e+09  2.165960e+09  8.348006e+03\n",
       "std     1.229085e+09  1.236014e+09  3.919113e+04\n",
       "min     1.062393e+06  5.114589e+06  5.000000e+01\n",
       "25%     1.166776e+09  1.111826e+09  1.220000e+03\n",
       "50%     2.145194e+09  2.217985e+09  2.978000e+03\n",
       "75%     3.237740e+09  3.177606e+09  8.290000e+03\n",
       "max     4.293856e+09  4.283872e+09  1.294500e+06"
      ]
     },
     "metadata": {},
     "output_type": "display_data"
    },
    {
     "name": "stdout",
     "output_type": "stream",
     "text": [
      "\n",
      "\n",
      "Value Counts:\n"
     ]
    },
    {
     "data": {
      "text/html": [
       "<div>\n",
       "<style scoped>\n",
       "    .dataframe tbody tr th:only-of-type {\n",
       "        vertical-align: middle;\n",
       "    }\n",
       "\n",
       "    .dataframe tbody tr th {\n",
       "        vertical-align: top;\n",
       "    }\n",
       "\n",
       "    .dataframe thead th {\n",
       "        text-align: right;\n",
       "    }\n",
       "</style>\n",
       "<table border=\"1\" class=\"dataframe\">\n",
       "  <thead>\n",
       "    <tr style=\"text-align: right;\">\n",
       "      <th></th>\n",
       "      <th>date</th>\n",
       "    </tr>\n",
       "  </thead>\n",
       "  <tbody>\n",
       "    <tr>\n",
       "      <th>2019-08-05</th>\n",
       "      <td>48</td>\n",
       "    </tr>\n",
       "    <tr>\n",
       "      <th>2019-08-12</th>\n",
       "      <td>47</td>\n",
       "    </tr>\n",
       "    <tr>\n",
       "      <th>2019-08-14</th>\n",
       "      <td>47</td>\n",
       "    </tr>\n",
       "    <tr>\n",
       "      <th>2019-08-15</th>\n",
       "      <td>46</td>\n",
       "    </tr>\n",
       "    <tr>\n",
       "      <th>2019-08-06</th>\n",
       "      <td>46</td>\n",
       "    </tr>\n",
       "    <tr>\n",
       "      <th>2019-08-28</th>\n",
       "      <td>45</td>\n",
       "    </tr>\n",
       "    <tr>\n",
       "      <th>2019-08-01</th>\n",
       "      <td>45</td>\n",
       "    </tr>\n",
       "    <tr>\n",
       "      <th>2019-08-27</th>\n",
       "      <td>44</td>\n",
       "    </tr>\n",
       "    <tr>\n",
       "      <th>2019-08-02</th>\n",
       "      <td>44</td>\n",
       "    </tr>\n",
       "    <tr>\n",
       "      <th>2019-08-19</th>\n",
       "      <td>43</td>\n",
       "    </tr>\n",
       "    <tr>\n",
       "      <th>2019-08-08</th>\n",
       "      <td>43</td>\n",
       "    </tr>\n",
       "    <tr>\n",
       "      <th>2019-08-29</th>\n",
       "      <td>42</td>\n",
       "    </tr>\n",
       "    <tr>\n",
       "      <th>2019-08-07</th>\n",
       "      <td>42</td>\n",
       "    </tr>\n",
       "    <tr>\n",
       "      <th>2019-08-22</th>\n",
       "      <td>41</td>\n",
       "    </tr>\n",
       "    <tr>\n",
       "      <th>2019-08-09</th>\n",
       "      <td>41</td>\n",
       "    </tr>\n",
       "    <tr>\n",
       "      <th>2019-08-26</th>\n",
       "      <td>41</td>\n",
       "    </tr>\n",
       "    <tr>\n",
       "      <th>2019-08-03</th>\n",
       "      <td>40</td>\n",
       "    </tr>\n",
       "    <tr>\n",
       "      <th>2019-08-23</th>\n",
       "      <td>40</td>\n",
       "    </tr>\n",
       "    <tr>\n",
       "      <th>2019-08-10</th>\n",
       "      <td>39</td>\n",
       "    </tr>\n",
       "    <tr>\n",
       "      <th>2019-08-16</th>\n",
       "      <td>38</td>\n",
       "    </tr>\n",
       "    <tr>\n",
       "      <th>2019-08-21</th>\n",
       "      <td>37</td>\n",
       "    </tr>\n",
       "    <tr>\n",
       "      <th>2019-08-13</th>\n",
       "      <td>35</td>\n",
       "    </tr>\n",
       "    <tr>\n",
       "      <th>2019-08-30</th>\n",
       "      <td>35</td>\n",
       "    </tr>\n",
       "    <tr>\n",
       "      <th>2019-08-04</th>\n",
       "      <td>33</td>\n",
       "    </tr>\n",
       "    <tr>\n",
       "      <th>2019-08-20</th>\n",
       "      <td>32</td>\n",
       "    </tr>\n",
       "    <tr>\n",
       "      <th>2019-08-31</th>\n",
       "      <td>32</td>\n",
       "    </tr>\n",
       "    <tr>\n",
       "      <th>2019-08-24</th>\n",
       "      <td>31</td>\n",
       "    </tr>\n",
       "    <tr>\n",
       "      <th>2019-08-18</th>\n",
       "      <td>26</td>\n",
       "    </tr>\n",
       "    <tr>\n",
       "      <th>2019-08-11</th>\n",
       "      <td>26</td>\n",
       "    </tr>\n",
       "    <tr>\n",
       "      <th>2019-08-25</th>\n",
       "      <td>24</td>\n",
       "    </tr>\n",
       "    <tr>\n",
       "      <th>2019-08-17</th>\n",
       "      <td>24</td>\n",
       "    </tr>\n",
       "  </tbody>\n",
       "</table>\n",
       "</div>"
      ],
      "text/plain": [
       "            date\n",
       "2019-08-05    48\n",
       "2019-08-12    47\n",
       "2019-08-14    47\n",
       "2019-08-15    46\n",
       "2019-08-06    46\n",
       "2019-08-28    45\n",
       "2019-08-01    45\n",
       "2019-08-27    44\n",
       "2019-08-02    44\n",
       "2019-08-19    43\n",
       "2019-08-08    43\n",
       "2019-08-29    42\n",
       "2019-08-07    42\n",
       "2019-08-22    41\n",
       "2019-08-09    41\n",
       "2019-08-26    41\n",
       "2019-08-03    40\n",
       "2019-08-23    40\n",
       "2019-08-10    39\n",
       "2019-08-16    38\n",
       "2019-08-21    37\n",
       "2019-08-13    35\n",
       "2019-08-30    35\n",
       "2019-08-04    33\n",
       "2019-08-20    32\n",
       "2019-08-31    32\n",
       "2019-08-24    31\n",
       "2019-08-18    26\n",
       "2019-08-11    26\n",
       "2019-08-25    24\n",
       "2019-08-17    24"
      ]
     },
     "metadata": {},
     "output_type": "display_data"
    },
    {
     "name": "stdout",
     "output_type": "stream",
     "text": [
      "\n",
      "\n",
      "List of Unique\n",
      "['2019-08-15' '2019-08-16' '2019-08-01' '2019-08-22' '2019-08-17'\n",
      " '2019-08-23' '2019-08-02' '2019-08-18' '2019-08-24' '2019-08-03'\n",
      " '2019-08-25' '2019-08-28' '2019-08-19' '2019-08-06' '2019-08-26'\n",
      " '2019-08-29' '2019-08-04' '2019-08-20' '2019-08-09' '2019-08-07'\n",
      " '2019-08-30' '2019-08-05' '2019-08-27' '2019-08-21' '2019-08-08'\n",
      " '2019-08-10' '2019-08-31' '2019-08-11' '2019-08-12' '2019-08-13'\n",
      " '2019-08-14']\n"
     ]
    },
    {
     "data": {
      "text/html": [
       "<div>\n",
       "<style scoped>\n",
       "    .dataframe tbody tr th:only-of-type {\n",
       "        vertical-align: middle;\n",
       "    }\n",
       "\n",
       "    .dataframe tbody tr th {\n",
       "        vertical-align: top;\n",
       "    }\n",
       "\n",
       "    .dataframe thead th {\n",
       "        text-align: right;\n",
       "    }\n",
       "</style>\n",
       "<table border=\"1\" class=\"dataframe\">\n",
       "  <thead>\n",
       "    <tr style=\"text-align: right;\">\n",
       "      <th></th>\n",
       "      <th>group</th>\n",
       "    </tr>\n",
       "  </thead>\n",
       "  <tbody>\n",
       "    <tr>\n",
       "      <th>B</th>\n",
       "      <td>640</td>\n",
       "    </tr>\n",
       "    <tr>\n",
       "      <th>A</th>\n",
       "      <td>557</td>\n",
       "    </tr>\n",
       "  </tbody>\n",
       "</table>\n",
       "</div>"
      ],
      "text/plain": [
       "   group\n",
       "B    640\n",
       "A    557"
      ]
     },
     "metadata": {},
     "output_type": "display_data"
    },
    {
     "name": "stdout",
     "output_type": "stream",
     "text": [
      "\n",
      "\n",
      "List of Unique\n",
      "['B' 'A']\n",
      "\n",
      "\n",
      "Duplicates:\n",
      "0\n"
     ]
    }
   ],
   "source": [
    "analysis_df(orders)"
   ]
  },
  {
   "cell_type": "code",
   "execution_count": 9,
   "metadata": {
    "scrolled": true
   },
   "outputs": [
    {
     "name": "stdout",
     "output_type": "stream",
     "text": [
      "Info:\n",
      "<class 'pandas.core.frame.DataFrame'>\n",
      "RangeIndex: 62 entries, 0 to 61\n",
      "Data columns (total 3 columns):\n",
      " #   Column    Non-Null Count  Dtype \n",
      "---  ------    --------------  ----- \n",
      " 0   date      62 non-null     object\n",
      " 1   group     62 non-null     object\n",
      " 2   visitors  62 non-null     int64 \n",
      "dtypes: int64(1), object(2)\n",
      "memory usage: 1.6+ KB\n"
     ]
    },
    {
     "data": {
      "text/plain": [
       "None"
      ]
     },
     "metadata": {},
     "output_type": "display_data"
    },
    {
     "name": "stdout",
     "output_type": "stream",
     "text": [
      "\n",
      "\n",
      "Head:\n"
     ]
    },
    {
     "data": {
      "text/html": [
       "<div>\n",
       "<style scoped>\n",
       "    .dataframe tbody tr th:only-of-type {\n",
       "        vertical-align: middle;\n",
       "    }\n",
       "\n",
       "    .dataframe tbody tr th {\n",
       "        vertical-align: top;\n",
       "    }\n",
       "\n",
       "    .dataframe thead th {\n",
       "        text-align: right;\n",
       "    }\n",
       "</style>\n",
       "<table border=\"1\" class=\"dataframe\">\n",
       "  <thead>\n",
       "    <tr style=\"text-align: right;\">\n",
       "      <th></th>\n",
       "      <th>date</th>\n",
       "      <th>group</th>\n",
       "      <th>visitors</th>\n",
       "    </tr>\n",
       "  </thead>\n",
       "  <tbody>\n",
       "    <tr>\n",
       "      <th>0</th>\n",
       "      <td>2019-08-01</td>\n",
       "      <td>A</td>\n",
       "      <td>719</td>\n",
       "    </tr>\n",
       "    <tr>\n",
       "      <th>1</th>\n",
       "      <td>2019-08-02</td>\n",
       "      <td>A</td>\n",
       "      <td>619</td>\n",
       "    </tr>\n",
       "    <tr>\n",
       "      <th>2</th>\n",
       "      <td>2019-08-03</td>\n",
       "      <td>A</td>\n",
       "      <td>507</td>\n",
       "    </tr>\n",
       "    <tr>\n",
       "      <th>3</th>\n",
       "      <td>2019-08-04</td>\n",
       "      <td>A</td>\n",
       "      <td>717</td>\n",
       "    </tr>\n",
       "    <tr>\n",
       "      <th>4</th>\n",
       "      <td>2019-08-05</td>\n",
       "      <td>A</td>\n",
       "      <td>756</td>\n",
       "    </tr>\n",
       "  </tbody>\n",
       "</table>\n",
       "</div>"
      ],
      "text/plain": [
       "         date group  visitors\n",
       "0  2019-08-01     A       719\n",
       "1  2019-08-02     A       619\n",
       "2  2019-08-03     A       507\n",
       "3  2019-08-04     A       717\n",
       "4  2019-08-05     A       756"
      ]
     },
     "metadata": {},
     "output_type": "display_data"
    },
    {
     "name": "stdout",
     "output_type": "stream",
     "text": [
      "\n",
      "\n",
      "Describe:\n"
     ]
    },
    {
     "data": {
      "text/html": [
       "<div>\n",
       "<style scoped>\n",
       "    .dataframe tbody tr th:only-of-type {\n",
       "        vertical-align: middle;\n",
       "    }\n",
       "\n",
       "    .dataframe tbody tr th {\n",
       "        vertical-align: top;\n",
       "    }\n",
       "\n",
       "    .dataframe thead th {\n",
       "        text-align: right;\n",
       "    }\n",
       "</style>\n",
       "<table border=\"1\" class=\"dataframe\">\n",
       "  <thead>\n",
       "    <tr style=\"text-align: right;\">\n",
       "      <th></th>\n",
       "      <th>visitors</th>\n",
       "    </tr>\n",
       "  </thead>\n",
       "  <tbody>\n",
       "    <tr>\n",
       "      <th>count</th>\n",
       "      <td>62.000000</td>\n",
       "    </tr>\n",
       "    <tr>\n",
       "      <th>mean</th>\n",
       "      <td>607.290323</td>\n",
       "    </tr>\n",
       "    <tr>\n",
       "      <th>std</th>\n",
       "      <td>114.400560</td>\n",
       "    </tr>\n",
       "    <tr>\n",
       "      <th>min</th>\n",
       "      <td>361.000000</td>\n",
       "    </tr>\n",
       "    <tr>\n",
       "      <th>25%</th>\n",
       "      <td>534.000000</td>\n",
       "    </tr>\n",
       "    <tr>\n",
       "      <th>50%</th>\n",
       "      <td>624.500000</td>\n",
       "    </tr>\n",
       "    <tr>\n",
       "      <th>75%</th>\n",
       "      <td>710.500000</td>\n",
       "    </tr>\n",
       "    <tr>\n",
       "      <th>max</th>\n",
       "      <td>770.000000</td>\n",
       "    </tr>\n",
       "  </tbody>\n",
       "</table>\n",
       "</div>"
      ],
      "text/plain": [
       "         visitors\n",
       "count   62.000000\n",
       "mean   607.290323\n",
       "std    114.400560\n",
       "min    361.000000\n",
       "25%    534.000000\n",
       "50%    624.500000\n",
       "75%    710.500000\n",
       "max    770.000000"
      ]
     },
     "metadata": {},
     "output_type": "display_data"
    },
    {
     "name": "stdout",
     "output_type": "stream",
     "text": [
      "\n",
      "\n",
      "Value Counts:\n"
     ]
    },
    {
     "data": {
      "text/html": [
       "<div>\n",
       "<style scoped>\n",
       "    .dataframe tbody tr th:only-of-type {\n",
       "        vertical-align: middle;\n",
       "    }\n",
       "\n",
       "    .dataframe tbody tr th {\n",
       "        vertical-align: top;\n",
       "    }\n",
       "\n",
       "    .dataframe thead th {\n",
       "        text-align: right;\n",
       "    }\n",
       "</style>\n",
       "<table border=\"1\" class=\"dataframe\">\n",
       "  <thead>\n",
       "    <tr style=\"text-align: right;\">\n",
       "      <th></th>\n",
       "      <th>date</th>\n",
       "    </tr>\n",
       "  </thead>\n",
       "  <tbody>\n",
       "    <tr>\n",
       "      <th>2019-08-07</th>\n",
       "      <td>2</td>\n",
       "    </tr>\n",
       "    <tr>\n",
       "      <th>2019-08-15</th>\n",
       "      <td>2</td>\n",
       "    </tr>\n",
       "    <tr>\n",
       "      <th>2019-08-04</th>\n",
       "      <td>2</td>\n",
       "    </tr>\n",
       "    <tr>\n",
       "      <th>2019-08-08</th>\n",
       "      <td>2</td>\n",
       "    </tr>\n",
       "    <tr>\n",
       "      <th>2019-08-20</th>\n",
       "      <td>2</td>\n",
       "    </tr>\n",
       "    <tr>\n",
       "      <th>2019-08-22</th>\n",
       "      <td>2</td>\n",
       "    </tr>\n",
       "    <tr>\n",
       "      <th>2019-08-01</th>\n",
       "      <td>2</td>\n",
       "    </tr>\n",
       "    <tr>\n",
       "      <th>2019-08-26</th>\n",
       "      <td>2</td>\n",
       "    </tr>\n",
       "    <tr>\n",
       "      <th>2019-08-16</th>\n",
       "      <td>2</td>\n",
       "    </tr>\n",
       "    <tr>\n",
       "      <th>2019-08-24</th>\n",
       "      <td>2</td>\n",
       "    </tr>\n",
       "    <tr>\n",
       "      <th>2019-08-21</th>\n",
       "      <td>2</td>\n",
       "    </tr>\n",
       "    <tr>\n",
       "      <th>2019-08-03</th>\n",
       "      <td>2</td>\n",
       "    </tr>\n",
       "    <tr>\n",
       "      <th>2019-08-30</th>\n",
       "      <td>2</td>\n",
       "    </tr>\n",
       "    <tr>\n",
       "      <th>2019-08-31</th>\n",
       "      <td>2</td>\n",
       "    </tr>\n",
       "    <tr>\n",
       "      <th>2019-08-29</th>\n",
       "      <td>2</td>\n",
       "    </tr>\n",
       "    <tr>\n",
       "      <th>2019-08-02</th>\n",
       "      <td>2</td>\n",
       "    </tr>\n",
       "    <tr>\n",
       "      <th>2019-08-25</th>\n",
       "      <td>2</td>\n",
       "    </tr>\n",
       "    <tr>\n",
       "      <th>2019-08-06</th>\n",
       "      <td>2</td>\n",
       "    </tr>\n",
       "    <tr>\n",
       "      <th>2019-08-19</th>\n",
       "      <td>2</td>\n",
       "    </tr>\n",
       "    <tr>\n",
       "      <th>2019-08-14</th>\n",
       "      <td>2</td>\n",
       "    </tr>\n",
       "    <tr>\n",
       "      <th>2019-08-27</th>\n",
       "      <td>2</td>\n",
       "    </tr>\n",
       "    <tr>\n",
       "      <th>2019-08-05</th>\n",
       "      <td>2</td>\n",
       "    </tr>\n",
       "    <tr>\n",
       "      <th>2019-08-18</th>\n",
       "      <td>2</td>\n",
       "    </tr>\n",
       "    <tr>\n",
       "      <th>2019-08-23</th>\n",
       "      <td>2</td>\n",
       "    </tr>\n",
       "    <tr>\n",
       "      <th>2019-08-12</th>\n",
       "      <td>2</td>\n",
       "    </tr>\n",
       "    <tr>\n",
       "      <th>2019-08-17</th>\n",
       "      <td>2</td>\n",
       "    </tr>\n",
       "    <tr>\n",
       "      <th>2019-08-11</th>\n",
       "      <td>2</td>\n",
       "    </tr>\n",
       "    <tr>\n",
       "      <th>2019-08-10</th>\n",
       "      <td>2</td>\n",
       "    </tr>\n",
       "    <tr>\n",
       "      <th>2019-08-13</th>\n",
       "      <td>2</td>\n",
       "    </tr>\n",
       "    <tr>\n",
       "      <th>2019-08-28</th>\n",
       "      <td>2</td>\n",
       "    </tr>\n",
       "    <tr>\n",
       "      <th>2019-08-09</th>\n",
       "      <td>2</td>\n",
       "    </tr>\n",
       "  </tbody>\n",
       "</table>\n",
       "</div>"
      ],
      "text/plain": [
       "            date\n",
       "2019-08-07     2\n",
       "2019-08-15     2\n",
       "2019-08-04     2\n",
       "2019-08-08     2\n",
       "2019-08-20     2\n",
       "2019-08-22     2\n",
       "2019-08-01     2\n",
       "2019-08-26     2\n",
       "2019-08-16     2\n",
       "2019-08-24     2\n",
       "2019-08-21     2\n",
       "2019-08-03     2\n",
       "2019-08-30     2\n",
       "2019-08-31     2\n",
       "2019-08-29     2\n",
       "2019-08-02     2\n",
       "2019-08-25     2\n",
       "2019-08-06     2\n",
       "2019-08-19     2\n",
       "2019-08-14     2\n",
       "2019-08-27     2\n",
       "2019-08-05     2\n",
       "2019-08-18     2\n",
       "2019-08-23     2\n",
       "2019-08-12     2\n",
       "2019-08-17     2\n",
       "2019-08-11     2\n",
       "2019-08-10     2\n",
       "2019-08-13     2\n",
       "2019-08-28     2\n",
       "2019-08-09     2"
      ]
     },
     "metadata": {},
     "output_type": "display_data"
    },
    {
     "name": "stdout",
     "output_type": "stream",
     "text": [
      "\n",
      "\n",
      "List of Unique\n",
      "['2019-08-01' '2019-08-02' '2019-08-03' '2019-08-04' '2019-08-05'\n",
      " '2019-08-06' '2019-08-07' '2019-08-08' '2019-08-09' '2019-08-10'\n",
      " '2019-08-11' '2019-08-12' '2019-08-13' '2019-08-14' '2019-08-15'\n",
      " '2019-08-16' '2019-08-17' '2019-08-18' '2019-08-19' '2019-08-20'\n",
      " '2019-08-21' '2019-08-22' '2019-08-23' '2019-08-24' '2019-08-25'\n",
      " '2019-08-26' '2019-08-27' '2019-08-28' '2019-08-29' '2019-08-30'\n",
      " '2019-08-31']\n"
     ]
    },
    {
     "data": {
      "text/html": [
       "<div>\n",
       "<style scoped>\n",
       "    .dataframe tbody tr th:only-of-type {\n",
       "        vertical-align: middle;\n",
       "    }\n",
       "\n",
       "    .dataframe tbody tr th {\n",
       "        vertical-align: top;\n",
       "    }\n",
       "\n",
       "    .dataframe thead th {\n",
       "        text-align: right;\n",
       "    }\n",
       "</style>\n",
       "<table border=\"1\" class=\"dataframe\">\n",
       "  <thead>\n",
       "    <tr style=\"text-align: right;\">\n",
       "      <th></th>\n",
       "      <th>group</th>\n",
       "    </tr>\n",
       "  </thead>\n",
       "  <tbody>\n",
       "    <tr>\n",
       "      <th>A</th>\n",
       "      <td>31</td>\n",
       "    </tr>\n",
       "    <tr>\n",
       "      <th>B</th>\n",
       "      <td>31</td>\n",
       "    </tr>\n",
       "  </tbody>\n",
       "</table>\n",
       "</div>"
      ],
      "text/plain": [
       "   group\n",
       "A     31\n",
       "B     31"
      ]
     },
     "metadata": {},
     "output_type": "display_data"
    },
    {
     "name": "stdout",
     "output_type": "stream",
     "text": [
      "\n",
      "\n",
      "List of Unique\n",
      "['A' 'B']\n",
      "\n",
      "\n",
      "Duplicates:\n",
      "0\n"
     ]
    }
   ],
   "source": [
    "analysis_df(visitors)"
   ]
  },
  {
   "cell_type": "code",
   "execution_count": 10,
   "metadata": {},
   "outputs": [],
   "source": [
    "orders['date'] = orders['date'].map(lambda x: dt.datetime.strptime(x, '%Y-%m-%d'))\n",
    "\n",
    "visitors['date'] = visitors['date'].map(lambda x: dt.datetime.strptime(x, '%Y-%m-%d'))"
   ]
  },
  {
   "cell_type": "code",
   "execution_count": 11,
   "metadata": {},
   "outputs": [
    {
     "data": {
      "text/plain": [
       "58"
      ]
     },
     "execution_count": 11,
     "metadata": {},
     "output_type": "execute_result"
    }
   ],
   "source": [
    "# проверим есть ли пользователи, которые попали в обе группы\n",
    "visitors_a_b = orders.groupby('visitorId')['group'].nunique()\n",
    "visitors_a_b = visitors_a_b[visitors_a_b >1].index.tolist()\n",
    "len(visitors_a_b)"
   ]
  },
  {
   "cell_type": "code",
   "execution_count": 12,
   "metadata": {},
   "outputs": [],
   "source": [
    "orders = orders[~orders['visitorId'].isin(visitors_a_b)]"
   ]
  },
  {
   "cell_type": "markdown",
   "metadata": {},
   "source": [
    "**Изменили тип в колонке date на дату, удалили пользователей, которые попали сразу в две группы.**"
   ]
  },
  {
   "cell_type": "markdown",
   "metadata": {},
   "source": [
    "### Кумулятивные показатели"
   ]
  },
  {
   "cell_type": "markdown",
   "metadata": {},
   "source": [
    "#### График кумулятивной выручки по группам"
   ]
  },
  {
   "cell_type": "code",
   "execution_count": 13,
   "metadata": {},
   "outputs": [
    {
     "data": {
      "text/html": [
       "<div>\n",
       "<style scoped>\n",
       "    .dataframe tbody tr th:only-of-type {\n",
       "        vertical-align: middle;\n",
       "    }\n",
       "\n",
       "    .dataframe tbody tr th {\n",
       "        vertical-align: top;\n",
       "    }\n",
       "\n",
       "    .dataframe thead th {\n",
       "        text-align: right;\n",
       "    }\n",
       "</style>\n",
       "<table border=\"1\" class=\"dataframe\">\n",
       "  <thead>\n",
       "    <tr style=\"text-align: right;\">\n",
       "      <th></th>\n",
       "      <th>date</th>\n",
       "      <th>group</th>\n",
       "      <th>orders</th>\n",
       "      <th>buyers</th>\n",
       "      <th>revenue</th>\n",
       "      <th>visitors</th>\n",
       "    </tr>\n",
       "  </thead>\n",
       "  <tbody>\n",
       "    <tr>\n",
       "      <th>0</th>\n",
       "      <td>2019-08-01</td>\n",
       "      <td>A</td>\n",
       "      <td>23</td>\n",
       "      <td>19</td>\n",
       "      <td>142779</td>\n",
       "      <td>719</td>\n",
       "    </tr>\n",
       "    <tr>\n",
       "      <th>1</th>\n",
       "      <td>2019-08-01</td>\n",
       "      <td>B</td>\n",
       "      <td>17</td>\n",
       "      <td>17</td>\n",
       "      <td>59758</td>\n",
       "      <td>713</td>\n",
       "    </tr>\n",
       "    <tr>\n",
       "      <th>2</th>\n",
       "      <td>2019-08-02</td>\n",
       "      <td>A</td>\n",
       "      <td>42</td>\n",
       "      <td>36</td>\n",
       "      <td>234381</td>\n",
       "      <td>1338</td>\n",
       "    </tr>\n",
       "    <tr>\n",
       "      <th>3</th>\n",
       "      <td>2019-08-02</td>\n",
       "      <td>B</td>\n",
       "      <td>40</td>\n",
       "      <td>39</td>\n",
       "      <td>221801</td>\n",
       "      <td>1294</td>\n",
       "    </tr>\n",
       "    <tr>\n",
       "      <th>4</th>\n",
       "      <td>2019-08-03</td>\n",
       "      <td>A</td>\n",
       "      <td>66</td>\n",
       "      <td>60</td>\n",
       "      <td>346854</td>\n",
       "      <td>1845</td>\n",
       "    </tr>\n",
       "    <tr>\n",
       "      <th>...</th>\n",
       "      <td>...</td>\n",
       "      <td>...</td>\n",
       "      <td>...</td>\n",
       "      <td>...</td>\n",
       "      <td>...</td>\n",
       "      <td>...</td>\n",
       "    </tr>\n",
       "    <tr>\n",
       "      <th>57</th>\n",
       "      <td>2019-08-29</td>\n",
       "      <td>B</td>\n",
       "      <td>510</td>\n",
       "      <td>490</td>\n",
       "      <td>4746610</td>\n",
       "      <td>17708</td>\n",
       "    </tr>\n",
       "    <tr>\n",
       "      <th>58</th>\n",
       "      <td>2019-08-30</td>\n",
       "      <td>A</td>\n",
       "      <td>460</td>\n",
       "      <td>437</td>\n",
       "      <td>3311413</td>\n",
       "      <td>18037</td>\n",
       "    </tr>\n",
       "    <tr>\n",
       "      <th>59</th>\n",
       "      <td>2019-08-30</td>\n",
       "      <td>B</td>\n",
       "      <td>531</td>\n",
       "      <td>511</td>\n",
       "      <td>4955833</td>\n",
       "      <td>18198</td>\n",
       "    </tr>\n",
       "    <tr>\n",
       "      <th>60</th>\n",
       "      <td>2019-08-31</td>\n",
       "      <td>A</td>\n",
       "      <td>468</td>\n",
       "      <td>445</td>\n",
       "      <td>3364656</td>\n",
       "      <td>18736</td>\n",
       "    </tr>\n",
       "    <tr>\n",
       "      <th>61</th>\n",
       "      <td>2019-08-31</td>\n",
       "      <td>B</td>\n",
       "      <td>548</td>\n",
       "      <td>528</td>\n",
       "      <td>5068972</td>\n",
       "      <td>18916</td>\n",
       "    </tr>\n",
       "  </tbody>\n",
       "</table>\n",
       "<p>62 rows × 6 columns</p>\n",
       "</div>"
      ],
      "text/plain": [
       "         date group  orders  buyers  revenue  visitors\n",
       "0  2019-08-01     A      23      19   142779       719\n",
       "1  2019-08-01     B      17      17    59758       713\n",
       "2  2019-08-02     A      42      36   234381      1338\n",
       "3  2019-08-02     B      40      39   221801      1294\n",
       "4  2019-08-03     A      66      60   346854      1845\n",
       "..        ...   ...     ...     ...      ...       ...\n",
       "57 2019-08-29     B     510     490  4746610     17708\n",
       "58 2019-08-30     A     460     437  3311413     18037\n",
       "59 2019-08-30     B     531     511  4955833     18198\n",
       "60 2019-08-31     A     468     445  3364656     18736\n",
       "61 2019-08-31     B     548     528  5068972     18916\n",
       "\n",
       "[62 rows x 6 columns]"
      ]
     },
     "execution_count": 13,
     "metadata": {},
     "output_type": "execute_result"
    }
   ],
   "source": [
    "datesGroups = orders[['date','group']].drop_duplicates()\n",
    "\n",
    "ordersAggregated = (datesGroups\n",
    "                    .apply(lambda x: orders[np.logical_and(orders['date'] <= x['date'], orders['group'] == x['group'])].agg({'date' : 'max', 'group' : 'max', 'transactionId' : 'nunique', 'visitorId' : 'nunique', 'revenue' : 'sum'}), axis=1)\n",
    "                    .sort_values(by=['date','group']))\n",
    "\n",
    "visitorsAggregated = (datesGroups\n",
    "                      .apply(lambda x: visitors[np.logical_and(visitors['date'] <= x['date'], visitors['group'] == x['group'])].agg({'date' : 'max', 'group' : 'max', 'visitors' : 'sum'}), axis=1)\n",
    "                      .sort_values(by=['date','group']))\n",
    "\n",
    "cumulativeData = ordersAggregated.merge(visitorsAggregated, left_on=['date', 'group'], right_on=['date', 'group'])\n",
    "cumulativeData.columns = ['date', 'group', 'orders', 'buyers' , 'revenue', 'visitors']\n",
    "cumulativeData"
   ]
  },
  {
   "cell_type": "code",
   "execution_count": 14,
   "metadata": {},
   "outputs": [
    {
     "name": "stdout",
     "output_type": "stream",
     "text": [
      "Даты совпадают, датафрейм создан верно\n"
     ]
    }
   ],
   "source": [
    "if cumulativeData['date'].min() == orders['date'].min() and cumulativeData['date'].max() == orders['date'].max():\n",
    "    print('Даты совпадают, датафрейм создан верно')\n",
    "else:\n",
    "    print('Ошибка в создании датафрейма')"
   ]
  },
  {
   "cell_type": "code",
   "execution_count": 15,
   "metadata": {},
   "outputs": [],
   "source": [
    "cumulativeRevenueA = cumulativeData[cumulativeData['group']=='A'][['date','revenue', 'orders']]\n",
    "cumulativeRevenueB = cumulativeData[cumulativeData['group']=='B'][['date','revenue', 'orders']]"
   ]
  },
  {
   "cell_type": "code",
   "execution_count": 16,
   "metadata": {},
   "outputs": [
    {
     "data": {
      "image/png": "[encoded data removed]",
      "text/plain": [
       "<Figure size 1008x504 with 1 Axes>"
      ]
     },
     "metadata": {
      "needs_background": "light"
     },
     "output_type": "display_data"
    }
   ],
   "source": [
    "plt.figure(figsize=(14,7))\n",
    "plt.plot(cumulativeRevenueA['date'], cumulativeRevenueA['revenue'], label='A')\n",
    "plt.plot(cumulativeRevenueB['date'], cumulativeRevenueB['revenue'], label='B')\n",
    "plt.title('Кумулятивная выручка по группам')\n",
    "plt.xlabel('Дата')\n",
    "plt.ylabel('Выручка') \n",
    "plt.legend() \n",
    "plt.show()"
   ]
  },
  {
   "cell_type": "markdown",
   "metadata": {},
   "source": [
    "**Выручка в обеих группах со временем растет, но в группе В она заметно выше на протяжении всего периода. Также видим резкий рост выручки в группе В 18-19 августа. Скорее всего в группу попал слишком дорогой заказ, либо в этот день было много заказов**"
   ]
  },
  {
   "cell_type": "markdown",
   "metadata": {},
   "source": [
    "#### График кумулятивного среднего чека по группам"
   ]
  },
  {
   "cell_type": "code",
   "execution_count": 17,
   "metadata": {},
   "outputs": [
    {
     "data": {
      "image/png": "[encoded data removed]",
      "text/plain": [
       "<Figure size 1008x504 with 1 Axes>"
      ]
     },
     "metadata": {
      "needs_background": "light"
     },
     "output_type": "display_data"
    }
   ],
   "source": [
    "plt.figure(figsize=(14,7))\n",
    "plt.plot(cumulativeRevenueA['date'], cumulativeRevenueA['revenue']/cumulativeRevenueA['orders'], label='A')\n",
    "plt.plot(cumulativeRevenueB['date'], cumulativeRevenueB['revenue']/cumulativeRevenueB['orders'], label='B')\n",
    "plt.title('Кумулятивный средний чек по группам')\n",
    "plt.xlabel('Дата')\n",
    "plt.ylabel('Средний чек') \n",
    "plt.legend() \n",
    "plt.show()"
   ]
  },
  {
   "cell_type": "markdown",
   "metadata": {},
   "source": [
    "**В начале заметны сильные колебания в обеих группах. Видим тот же скачок 18-19 августа. К концу исследуемого периода средний чек обеих групп стабилизируется, в группе В он заметно выше, однако не стоит забывать о сильном пике, который влияет на эту разницу. Также заметно, что средний чек группы В снижается, а группы А растет.**"
   ]
  },
  {
   "cell_type": "markdown",
   "metadata": {},
   "source": [
    "#### График относительного изменения кумулятивного среднего чека группы B к группе A"
   ]
  },
  {
   "cell_type": "code",
   "execution_count": 18,
   "metadata": {},
   "outputs": [
    {
     "data": {
      "image/png": "[encoded data removed]",
      "text/plain": [
       "<Figure size 1008x504 with 1 Axes>"
      ]
     },
     "metadata": {
      "needs_background": "light"
     },
     "output_type": "display_data"
    }
   ],
   "source": [
    "mergedCumulativeRevenue = cumulativeRevenueA.merge(cumulativeRevenueB, left_on='date', right_on='date', how='left', suffixes=['A', 'B'])\n",
    "\n",
    "plt.figure(figsize=(14,7))\n",
    "plt.plot(mergedCumulativeRevenue['date'], (mergedCumulativeRevenue['revenueB']/mergedCumulativeRevenue['ordersB'])/(mergedCumulativeRevenue['revenueA']/mergedCumulativeRevenue['ordersA'])-1)\n",
    "plt.axhline(y=0, color='black', linestyle='--')\n",
    "plt.title('Относительное изменение кумулятивного среднего чека')\n",
    "plt.xlabel('Дата')\n",
    "plt.ylabel('Отношение')  \n",
    "plt.show()"
   ]
  },
  {
   "cell_type": "markdown",
   "metadata": {},
   "source": [
    "**На графике заметны сильные скачки, то есть в данных точно присутствуют аномально дорогие заказы. Видим тот же выброс 18-19 августа, а также видим скачок вниз 13 августа, в этот день средний чек в группе А был выше**"
   ]
  },
  {
   "cell_type": "markdown",
   "metadata": {},
   "source": [
    "#### График кумулятивного среднего количества заказов на посетителя по группам"
   ]
  },
  {
   "cell_type": "code",
   "execution_count": 19,
   "metadata": {},
   "outputs": [
    {
     "data": {
      "image/png": "[encoded data removed]",
      "text/plain": [
       "<Figure size 1008x504 with 1 Axes>"
      ]
     },
     "metadata": {
      "needs_background": "light"
     },
     "output_type": "display_data"
    }
   ],
   "source": [
    "cumulativeData['conversion'] = cumulativeData['orders']/cumulativeData['visitors']\n",
    "\n",
    "cumulativeDataA = cumulativeData[cumulativeData['group']=='A']\n",
    "cumulativeDataB = cumulativeData[cumulativeData['group']=='B']\n",
    "\n",
    "plt.figure(figsize=(14,7))\n",
    "plt.plot(cumulativeDataA['date'], cumulativeDataA['conversion'], label='A')\n",
    "plt.plot(cumulativeDataB['date'], cumulativeDataB['conversion'], label='B')\n",
    "plt.legend()\n",
    "plt.title('Кумулятивное среднее количество заказов на посетителя')\n",
    "plt.xlabel('Дата')\n",
    "plt.ylabel('Конверсия')  \n",
    "plt.show()"
   ]
  },
  {
   "cell_type": "markdown",
   "metadata": {},
   "source": [
    "**Видим, что в начале эксперимента группа А лидировала, однако в скором времени конверсия группы В увеличилась и держалась выше, чем среди пользователей в группе А**"
   ]
  },
  {
   "cell_type": "markdown",
   "metadata": {},
   "source": [
    "#### График относительного изменения кумулятивного среднего количества заказов на посетителя группы B к группе A"
   ]
  },
  {
   "cell_type": "code",
   "execution_count": 20,
   "metadata": {},
   "outputs": [
    {
     "data": {
      "image/png": "[encoded data removed]",
      "text/plain": [
       "<Figure size 1008x504 with 1 Axes>"
      ]
     },
     "metadata": {
      "needs_background": "light"
     },
     "output_type": "display_data"
    }
   ],
   "source": [
    "mergedCumulativeConversions = cumulativeDataA[['date','conversion']].merge(cumulativeDataB[['date','conversion']], left_on='date', right_on='date', how='left', suffixes=['A', 'B'])\n",
    "\n",
    "plt.figure(figsize=(14,7))\n",
    "plt.plot(mergedCumulativeConversions['date'], mergedCumulativeConversions['conversionB']/mergedCumulativeConversions['conversionA']-1, label=\"Относительный прирост кумулятивного среднего количества заказов на посетителя группы B относительно группы A\")\n",
    "plt.legend()\n",
    "plt.axhline(y=0, color='black', linestyle='--')\n",
    "plt.axhline(y=0.15, color='grey', linestyle='--')\n",
    "plt.title('Относительное изменение кумулятивного среднего количества заказов на посетителя')\n",
    "plt.xlabel('Дата')\n",
    "plt.ylabel('Отношение')  \n",
    "plt.show()"
   ]
  },
  {
   "cell_type": "markdown",
   "metadata": {},
   "source": [
    "**В начале заметны колебания, но после 6 августа видим, что в группе В среднее количество заказов стабильно выше, чем в группе А на 10-15%**"
   ]
  },
  {
   "cell_type": "markdown",
   "metadata": {},
   "source": [
    "### Выбросы"
   ]
  },
  {
   "cell_type": "markdown",
   "metadata": {},
   "source": [
    "#### Точечный график количества заказов по пользователям"
   ]
  },
  {
   "cell_type": "code",
   "execution_count": 21,
   "metadata": {},
   "outputs": [],
   "source": [
    "ordersByUsers = (\n",
    "    orders.groupby(['visitorId', 'group'], as_index=False)\n",
    "    .agg({'transactionId': 'nunique'})\n",
    ")\n",
    "\n",
    "ordersByUsers.columns = ['userId', 'group', 'orders']"
   ]
  },
  {
   "cell_type": "code",
   "execution_count": 22,
   "metadata": {},
   "outputs": [
    {
     "data": {
      "image/png": "[encoded data removed]",
      "text/plain": [
       "<Figure size 864x432 with 1 Axes>"
      ]
     },
     "metadata": {
      "needs_background": "light"
     },
     "output_type": "display_data"
    }
   ],
   "source": [
    "x_values = pd.Series(range(0,len(ordersByUsers)))\n",
    "\n",
    "plt.figure(figsize=(12,6))\n",
    "plt.scatter(x_values, ordersByUsers['orders'])\n",
    "plt.title('Точечная диаграмма количества заказов на пользователя')\n",
    "plt.xlabel('Пользователи')\n",
    "plt.ylabel('Заказы')  \n",
    "plt.show()"
   ]
  },
  {
   "cell_type": "markdown",
   "metadata": {},
   "source": [
    "**Большинство пользователей совершало только один заказ. Доля тех, кто совершал 2 заказа и более, судя по графику, мала, однако в цифрах ее пока не оценить**"
   ]
  },
  {
   "cell_type": "markdown",
   "metadata": {},
   "source": [
    "#### 95-й и 99-й перцентили количества заказов на пользователя\n"
   ]
  },
  {
   "cell_type": "code",
   "execution_count": 23,
   "metadata": {},
   "outputs": [
    {
     "name": "stdout",
     "output_type": "stream",
     "text": [
      "[1. 2.]\n"
     ]
    }
   ],
   "source": [
    "print(np.percentile(ordersByUsers['orders'], [95, 99])) \n",
    "max_quantity=int(np.percentile(ordersByUsers['orders'], [99]).item())"
   ]
  },
  {
   "cell_type": "markdown",
   "metadata": {},
   "source": [
    "**1 и более заказов совершают лишь 5% пользователей, и лишь 1% пользователей заказывает больше 2 раз.**\n",
    "\n",
    "**Будем считать 2 заказа на пользователя верхней границей (значение, соответствующее 99-ому перцентилю)**"
   ]
  },
  {
   "cell_type": "markdown",
   "metadata": {},
   "source": [
    "#### Точечный график стоимостей заказов\n"
   ]
  },
  {
   "cell_type": "code",
   "execution_count": 24,
   "metadata": {},
   "outputs": [
    {
     "data": {
      "image/png": "[encoded data removed]",
      "text/plain": [
       "<Figure size 1008x576 with 1 Axes>"
      ]
     },
     "metadata": {
      "needs_background": "light"
     },
     "output_type": "display_data"
    }
   ],
   "source": [
    "x_values = pd.Series(range(0,len(orders['revenue'])))\n",
    "\n",
    "plt.figure(figsize=(14,8))\n",
    "plt.scatter(x_values, orders['revenue'])\n",
    "plt.title('Точечная диаграмма стоимости заказов')\n",
    "plt.xlabel('Пользователи')\n",
    "plt.ylabel('Сумма')  \n",
    "plt.show()"
   ]
  },
  {
   "cell_type": "markdown",
   "metadata": {},
   "source": [
    "**Два заказа очень сильно выбиваются из общей картины, посмотрим на график без них**"
   ]
  },
  {
   "cell_type": "code",
   "execution_count": 25,
   "metadata": {
    "scrolled": false
   },
   "outputs": [
    {
     "data": {
      "image/png": "[encoded data removed]",
      "text/plain": [
       "<Figure size 1008x576 with 1 Axes>"
      ]
     },
     "metadata": {
      "needs_background": "light"
     },
     "output_type": "display_data"
    }
   ],
   "source": [
    "x_values = pd.Series(range(0,len(orders[orders['revenue']<200000]['revenue'])))\n",
    "\n",
    "plt.figure(figsize=(14,8))\n",
    "plt.scatter(x_values, orders[orders['revenue']<200000]['revenue'])\n",
    "plt.title('Точечная диаграмма стоимости заказов')\n",
    "plt.xlabel('Пользователи')\n",
    "plt.ylabel('Сумма')  \n",
    "plt.show()"
   ]
  },
  {
   "cell_type": "markdown",
   "metadata": {},
   "source": [
    "**Большинство заказов по стоимости не превышает 20.000 рублей, есть аномально дорогие заказы на 200.000 и более 1.200.000**"
   ]
  },
  {
   "cell_type": "markdown",
   "metadata": {},
   "source": [
    "#### 95-й и 99-й перцентили стоимости заказов. "
   ]
  },
  {
   "cell_type": "code",
   "execution_count": 26,
   "metadata": {},
   "outputs": [
    {
     "name": "stdout",
     "output_type": "stream",
     "text": [
      "[26785. 53904.]\n"
     ]
    }
   ],
   "source": [
    "print(np.percentile(orders['revenue'], [95, 99])) \n",
    "max_revenue = int(np.percentile(orders['revenue'], [95]).item())"
   ]
  },
  {
   "cell_type": "markdown",
   "metadata": {},
   "source": [
    "**Не более 5% заказов дороже 26785 рублей и не более 1% дороже 53904 рублей**\n",
    "\n",
    "**В качестве верхней границы оставим значение, соответствующее 95-ому перцентилю**"
   ]
  },
  {
   "cell_type": "markdown",
   "metadata": {},
   "source": [
    "### Статистическая значимость"
   ]
  },
  {
   "cell_type": "markdown",
   "metadata": {},
   "source": [
    "#### Статистическая значимость различий в среднем количестве заказов на посетителя между группами по «сырым» данным\n"
   ]
  },
  {
   "cell_type": "markdown",
   "metadata": {},
   "source": [
    "H0: Среднее количество заказов на посетителя в группе А **равно** среднему количеству заказов на посетителя в группе В\n",
    "\n",
    "H1: Среднее количество заказов на посетителя в группе А **не равно** среднему количеству заказов на посетителя в группе В"
   ]
  },
  {
   "cell_type": "code",
   "execution_count": 27,
   "metadata": {},
   "outputs": [
    {
     "name": "stdout",
     "output_type": "stream",
     "text": [
      "P-value: 0.010\n",
      "Относительный прирост: 0.166\n"
     ]
    }
   ],
   "source": [
    "ordersA = orders.query('group == \"A\"').reset_index(drop=True)\n",
    "ordersB = orders.query('group == \"B\"').reset_index(drop=True)\n",
    "ordersByUsersA = ordersByUsers.query('group == \"A\"').reset_index(drop=True)\n",
    "ordersByUsersB = ordersByUsers.query('group == \"B\"').reset_index(drop=True)\n",
    "\n",
    "sampleA = pd.concat([ordersByUsersA['orders'],\n",
    "                     pd.Series(0, index=np.arange(cumulativeDataA['visitors'].sum() - len(ordersByUsersA['orders'])),\n",
    "                               name='orders')],axis=0)\n",
    "\n",
    "sampleB = pd.concat([ordersByUsersB['orders'],\n",
    "                     pd.Series(0, index=np.arange(cumulativeDataB['visitors'].sum() - len(ordersByUsersB['orders'])),\n",
    "                               name='orders')],axis=0)\n",
    "\n",
    "\n",
    "print('P-value:', \"{0:.3f}\".format(st.mannwhitneyu(sampleA, sampleB)[1]))\n",
    "print('Относительный прирост:', \"{0:.3f}\".format(sampleB.mean()/sampleA.mean()-1))"
   ]
  },
  {
   "cell_type": "markdown",
   "metadata": {},
   "source": [
    "**P-value (0.01) меньше 0.05, значит нулевую гипотезу отвергаем. То есть в среднем количестве заказов между группами есть статистически значимые различия. Относительный прирост среднего группы B к конверсии группы A равен 16%**"
   ]
  },
  {
   "cell_type": "markdown",
   "metadata": {},
   "source": [
    "#### Статистическая значимость различий в среднем чеке заказа между группами по «сырым» данным\n"
   ]
  },
  {
   "cell_type": "markdown",
   "metadata": {},
   "source": [
    "H0: Средний чек в группе А **равен** среднему чеку в группе В\n",
    "\n",
    "H1: Средний чек в группе А **не равен** среднему чеку в группе В"
   ]
  },
  {
   "cell_type": "code",
   "execution_count": 28,
   "metadata": {},
   "outputs": [
    {
     "name": "stdout",
     "output_type": "stream",
     "text": [
      "P-value: 0.829\n",
      "Относительный прирост: 0.29\n"
     ]
    }
   ],
   "source": [
    "\n",
    "\n",
    "print('P-value:','{0:.3f}'.format(st.mannwhitneyu(orders[orders['group']=='A']['revenue'], orders[orders['group']=='B']['revenue'])[1]))\n",
    "print('Относительный прирост:','{0:.2f}'.format(orders[orders['group']=='B']['revenue'].mean()/orders[orders['group']=='A']['revenue'].mean()-1))\n",
    "\n"
   ]
  },
  {
   "cell_type": "markdown",
   "metadata": {},
   "source": [
    "**P-value значительно превышает 0.05, значми отвернуть нулевую гипотезу нельзя. Средние чеки равны, статистически значимых различий между группами нет. Однако средний чек среди группы В больше на 29%, возможно дело в аномально дорогом заказе.**"
   ]
  },
  {
   "cell_type": "markdown",
   "metadata": {},
   "source": [
    "#### Статистическая значимость различий в среднем количестве заказов на посетителя между группами по «очищенным» данным\n"
   ]
  },
  {
   "cell_type": "markdown",
   "metadata": {},
   "source": [
    "H0: Среднее количество заказов на посетителя в группе А **равно** среднему количеству заказов на посетителя в группе В\n",
    "\n",
    "H1: Среднее количество заказов на посетителя в группе А **не равно** среднему количеству заказов на посетителя в группе В"
   ]
  },
  {
   "cell_type": "code",
   "execution_count": 29,
   "metadata": {},
   "outputs": [
    {
     "name": "stdout",
     "output_type": "stream",
     "text": [
      "568     113298937\n",
      "1099    148427295\n",
      "928     204675465\n",
      "33      249864742\n",
      "684     358944393\n",
      "dtype: int64\n",
      "58\n"
     ]
    }
   ],
   "source": [
    "usersWithManyOrders = pd.concat(\n",
    "    [\n",
    "        ordersByUsersA[ordersByUsersA['orders'] > max_quantity]['userId'],\n",
    "        ordersByUsersB[ordersByUsersB['orders'] > max_quantity]['userId'],\n",
    "    ],\n",
    "    axis=0,\n",
    ")\n",
    "usersWithExpensiveOrders = orders[orders['revenue'] > max_revenue]['visitorId']\n",
    "abnormalUsers = (\n",
    "    pd.concat([usersWithManyOrders, usersWithExpensiveOrders], axis=0)\n",
    "    .drop_duplicates()\n",
    "    .sort_values()\n",
    ")\n",
    "print(abnormalUsers.head(5))\n",
    "print(abnormalUsers.shape[0])"
   ]
  },
  {
   "cell_type": "markdown",
   "metadata": {},
   "source": [
    "**Таким образом, у нас 58 аномальных пользователей**"
   ]
  },
  {
   "cell_type": "code",
   "execution_count": 30,
   "metadata": {},
   "outputs": [
    {
     "name": "stdout",
     "output_type": "stream",
     "text": [
      "P-value: 0.011\n",
      "Относительный прирост: 0.19\n"
     ]
    }
   ],
   "source": [
    "sampleAFiltered = pd.concat(\n",
    "    [\n",
    "        ordersByUsersA[\n",
    "            np.logical_not(ordersByUsersA['userId'].isin(abnormalUsers))\n",
    "        ]['orders'],\n",
    "        pd.Series(\n",
    "            0,\n",
    "            index=np.arange(\n",
    "                cumulativeDataA['visitors'].sum() - len(ordersByUsersA['orders'])\n",
    "            ),\n",
    "            name='orders',\n",
    "        ),\n",
    "    ],\n",
    "    axis=0,\n",
    ")\n",
    "\n",
    "sampleBFiltered = pd.concat(\n",
    "    [\n",
    "        ordersByUsersB[\n",
    "            np.logical_not(ordersByUsersB['userId'].isin(abnormalUsers))\n",
    "        ]['orders'],\n",
    "        pd.Series(\n",
    "            0,\n",
    "            index=np.arange(\n",
    "                cumulativeDataB['visitors'].sum() - len(ordersByUsersB['orders'])\n",
    "            ),\n",
    "            name='orders',\n",
    "        ),\n",
    "    ],\n",
    "    axis=0,\n",
    ")\n",
    "print('P-value:','{0:.3f}'.format(st.mannwhitneyu(sampleAFiltered, sampleBFiltered)[1]))\n",
    "print('Относительный прирост:','{0:.2f}'.format(sampleBFiltered.mean()/sampleAFiltered.mean()-1))"
   ]
  },
  {
   "cell_type": "markdown",
   "metadata": {},
   "source": [
    "**P-value немного увеличился, но все еще не превышает 0.05, поэтому можем точно сказать, что в среднем количестве заказов между группами есть статистически значимые различия. Также относительное различие между группами увеличилось, что показывает, что в группе В результат лучше**"
   ]
  },
  {
   "cell_type": "markdown",
   "metadata": {},
   "source": [
    "#### Статистическая значимость различий в среднем чеке заказа между группами по «очищенным» данным\n"
   ]
  },
  {
   "cell_type": "code",
   "execution_count": 31,
   "metadata": {},
   "outputs": [
    {
     "name": "stdout",
     "output_type": "stream",
     "text": [
      "P-value: 0.646\n",
      "Относительный прирост: -0.05\n"
     ]
    }
   ],
   "source": [
    "print('P-value:',\n",
    "    '{0:.3f}'.format(\n",
    "        st.mannwhitneyu(\n",
    "            orders[\n",
    "                np.logical_and(\n",
    "                    orders['group'] == 'A',\n",
    "                    np.logical_not(orders['visitorId'].isin(abnormalUsers)),)]['revenue'],\n",
    "            orders[\n",
    "                np.logical_and(\n",
    "                    orders['group'] == 'B',\n",
    "                    np.logical_not(orders['visitorId'].isin(abnormalUsers)),)]['revenue'],)[1]))\n",
    "\n",
    "print('Относительный прирост:',\n",
    "    \"{0:.2f}\".format(\n",
    "        orders[\n",
    "            np.logical_and(\n",
    "                orders['group'] == 'B',\n",
    "                np.logical_not(orders['visitorId'].isin(abnormalUsers)),)]['revenue'].mean()\n",
    "        / orders[\n",
    "            np.logical_and(\n",
    "                orders['group'] == 'A',\n",
    "                np.logical_not(orders['visitorId'].isin(abnormalUsers)),)]['revenue'].mean()- 1))"
   ]
  },
  {
   "cell_type": "markdown",
   "metadata": {},
   "source": [
    "**Видим, что p-value все еще намного выше 0,05, то есть статистически значимых различий нет. Средний чек теперь отличается на 5%, причем лидирует группа А. Получается на сырых данных на средний чек оказывали сильное влияние выбросы.**"
   ]
  },
  {
   "cell_type": "markdown",
   "metadata": {},
   "source": [
    "## Решение\n"
   ]
  },
  {
   "cell_type": "markdown",
   "metadata": {},
   "source": [
    "**Как видно из полученных результатов среднее количество заказов среди пользователей в группе В выше, чем в группе А. То есть, если цель - увеличить конверсию, то смело можно останавливать тест и признать, что изменения работают и группа В выиграла.\n",
    "В среднем чеке же не наблюдается различий между группами. Хотя на графики мы видили, что в группе В средний чек намного выше, оказалось, что это результат влияния аномально крупного заказа. Что в целом заметно, так как после него средний чек снижается. \n",
    "Продолжать тест не стоит, так как разница в среднем чеке не обнаружится, ведь при условии отсутствия аномальных заказов, величина среднего чека в обеих группах стабилизируется, но не будет сильно отличаться.\n",
    "Таким образом, следует остановить тест и признать его успешным, конверсия из посетителей в покупателей в группе В выше.**"
   ]
  }
 ],
 "metadata": {
  "ExecuteTimeLog": [
   {
    "duration": 59,
    "start_time": "2024-04-09T12:17:49.252Z"
   },
   {
    "duration": 727,
    "start_time": "2024-04-09T12:20:04.571Z"
   },
   {
    "duration": 131,
    "start_time": "2024-04-09T12:20:05.568Z"
   },
   {
    "duration": 15,
    "start_time": "2024-04-09T12:20:17.006Z"
   },
   {
    "duration": 50,
    "start_time": "2024-04-09T13:49:59.517Z"
   },
   {
    "duration": 8,
    "start_time": "2024-04-09T13:50:10.597Z"
   },
   {
    "duration": 9,
    "start_time": "2024-04-09T13:52:01.309Z"
   },
   {
    "duration": 873,
    "start_time": "2024-04-10T07:54:46.776Z"
   },
   {
    "duration": 75,
    "start_time": "2024-04-10T07:54:47.652Z"
   },
   {
    "duration": 12,
    "start_time": "2024-04-10T07:54:47.729Z"
   },
   {
    "duration": 18,
    "start_time": "2024-04-10T07:54:47.743Z"
   },
   {
    "duration": 8,
    "start_time": "2024-04-10T07:54:47.763Z"
   },
   {
    "duration": 905,
    "start_time": "2024-04-10T08:08:36.332Z"
   },
   {
    "duration": 881,
    "start_time": "2024-04-10T08:09:04.819Z"
   },
   {
    "duration": 11,
    "start_time": "2024-04-10T08:09:30.800Z"
   },
   {
    "duration": 5,
    "start_time": "2024-04-10T08:09:55.614Z"
   },
   {
    "duration": 4,
    "start_time": "2024-04-10T08:10:04.616Z"
   },
   {
    "duration": 109,
    "start_time": "2024-04-10T08:18:51.481Z"
   },
   {
    "duration": 119,
    "start_time": "2024-04-10T08:20:34.934Z"
   },
   {
    "duration": 6,
    "start_time": "2024-04-10T08:23:18.403Z"
   },
   {
    "duration": 34,
    "start_time": "2024-04-10T08:23:27.983Z"
   },
   {
    "duration": 13,
    "start_time": "2024-04-10T08:27:14.923Z"
   },
   {
    "duration": 5,
    "start_time": "2024-04-10T08:27:42.104Z"
   },
   {
    "duration": 14,
    "start_time": "2024-04-10T08:27:49.486Z"
   },
   {
    "duration": 4,
    "start_time": "2024-04-10T08:27:56.355Z"
   },
   {
    "duration": 4,
    "start_time": "2024-04-10T08:27:58.692Z"
   },
   {
    "duration": 8,
    "start_time": "2024-04-10T08:28:07.840Z"
   },
   {
    "duration": 8,
    "start_time": "2024-04-10T08:28:09.972Z"
   },
   {
    "duration": 7,
    "start_time": "2024-04-10T08:28:18.010Z"
   },
   {
    "duration": 5,
    "start_time": "2024-04-10T08:28:23.365Z"
   },
   {
    "duration": 217,
    "start_time": "2024-04-10T08:33:22.538Z"
   },
   {
    "duration": 3,
    "start_time": "2024-04-10T08:33:37.478Z"
   },
   {
    "duration": 14,
    "start_time": "2024-04-10T08:33:41.462Z"
   },
   {
    "duration": 10,
    "start_time": "2024-04-10T08:33:49.270Z"
   },
   {
    "duration": 27,
    "start_time": "2024-04-10T08:34:10.957Z"
   },
   {
    "duration": 6,
    "start_time": "2024-04-10T08:35:34.399Z"
   },
   {
    "duration": 241,
    "start_time": "2024-04-10T08:35:51.765Z"
   },
   {
    "duration": 636,
    "start_time": "2024-04-10T08:36:03.115Z"
   },
   {
    "duration": 28,
    "start_time": "2024-04-10T08:36:03.753Z"
   },
   {
    "duration": 15,
    "start_time": "2024-04-10T08:36:03.783Z"
   },
   {
    "duration": 10,
    "start_time": "2024-04-10T08:36:03.801Z"
   },
   {
    "duration": 8,
    "start_time": "2024-04-10T08:36:03.813Z"
   },
   {
    "duration": 69,
    "start_time": "2024-04-10T08:36:03.823Z"
   },
   {
    "duration": 6,
    "start_time": "2024-04-10T08:36:03.894Z"
   },
   {
    "duration": 34,
    "start_time": "2024-04-10T08:36:03.902Z"
   },
   {
    "duration": 28,
    "start_time": "2024-04-10T08:36:03.937Z"
   },
   {
    "duration": 25,
    "start_time": "2024-04-10T08:36:03.967Z"
   },
   {
    "duration": 91,
    "start_time": "2024-04-10T08:40:03.298Z"
   },
   {
    "duration": 21,
    "start_time": "2024-04-10T08:40:10.532Z"
   },
   {
    "duration": 2,
    "start_time": "2024-04-10T08:40:25.020Z"
   },
   {
    "duration": 40,
    "start_time": "2024-04-10T08:40:29.433Z"
   },
   {
    "duration": 299,
    "start_time": "2024-04-10T08:42:27.698Z"
   },
   {
    "duration": 280,
    "start_time": "2024-04-10T08:43:47.467Z"
   },
   {
    "duration": 547,
    "start_time": "2024-04-10T08:44:36.811Z"
   },
   {
    "duration": 468,
    "start_time": "2024-04-10T08:44:54.361Z"
   },
   {
    "duration": 597,
    "start_time": "2024-04-10T08:45:43.091Z"
   },
   {
    "duration": 515,
    "start_time": "2024-04-10T08:45:51.579Z"
   },
   {
    "duration": 498,
    "start_time": "2024-04-10T08:46:05.270Z"
   },
   {
    "duration": 490,
    "start_time": "2024-04-10T08:47:58.142Z"
   },
   {
    "duration": 193,
    "start_time": "2024-04-10T09:10:36.353Z"
   },
   {
    "duration": 230,
    "start_time": "2024-04-10T09:10:51.685Z"
   },
   {
    "duration": 764,
    "start_time": "2024-04-11T08:58:58.761Z"
   },
   {
    "duration": 79,
    "start_time": "2024-04-11T08:58:59.527Z"
   },
   {
    "duration": 11,
    "start_time": "2024-04-11T08:58:59.607Z"
   },
   {
    "duration": 43,
    "start_time": "2024-04-11T08:58:59.619Z"
   },
   {
    "duration": 23,
    "start_time": "2024-04-11T08:58:59.664Z"
   },
   {
    "duration": 162,
    "start_time": "2024-04-11T08:58:59.688Z"
   },
   {
    "duration": 5,
    "start_time": "2024-04-11T08:58:59.852Z"
   },
   {
    "duration": 48,
    "start_time": "2024-04-11T08:58:59.858Z"
   },
   {
    "duration": 30,
    "start_time": "2024-04-11T08:58:59.908Z"
   },
   {
    "duration": 20,
    "start_time": "2024-04-11T08:58:59.940Z"
   },
   {
    "duration": 288,
    "start_time": "2024-04-11T08:58:59.961Z"
   },
   {
    "duration": 296,
    "start_time": "2024-04-11T08:59:00.250Z"
   },
   {
    "duration": 196,
    "start_time": "2024-04-11T08:59:00.547Z"
   },
   {
    "duration": 380,
    "start_time": "2024-04-11T09:01:14.380Z"
   },
   {
    "duration": 359,
    "start_time": "2024-04-11T09:01:24.823Z"
   },
   {
    "duration": 319,
    "start_time": "2024-04-11T09:02:04.105Z"
   },
   {
    "duration": 296,
    "start_time": "2024-04-11T09:07:30.591Z"
   },
   {
    "duration": 309,
    "start_time": "2024-04-11T09:07:57.365Z"
   },
   {
    "duration": 211,
    "start_time": "2024-04-11T09:08:29.909Z"
   },
   {
    "duration": 203,
    "start_time": "2024-04-11T09:08:33.504Z"
   },
   {
    "duration": 2,
    "start_time": "2024-04-11T09:17:50.053Z"
   },
   {
    "duration": 357,
    "start_time": "2024-04-11T09:19:47.378Z"
   },
   {
    "duration": 326,
    "start_time": "2024-04-11T09:21:12.458Z"
   },
   {
    "duration": 354,
    "start_time": "2024-04-11T09:23:54.787Z"
   },
   {
    "duration": 65,
    "start_time": "2024-04-11T09:29:31.695Z"
   },
   {
    "duration": 12,
    "start_time": "2024-04-11T09:29:42.220Z"
   },
   {
    "duration": 11,
    "start_time": "2024-04-11T09:30:03.795Z"
   },
   {
    "duration": 12,
    "start_time": "2024-04-11T09:30:14.450Z"
   },
   {
    "duration": 6,
    "start_time": "2024-04-11T09:30:51.219Z"
   },
   {
    "duration": 165,
    "start_time": "2024-04-11T09:31:11.079Z"
   },
   {
    "duration": 139,
    "start_time": "2024-04-11T09:32:37.320Z"
   },
   {
    "duration": 143,
    "start_time": "2024-04-11T09:32:58.939Z"
   },
   {
    "duration": 4,
    "start_time": "2024-04-11T09:34:57.799Z"
   },
   {
    "duration": 3,
    "start_time": "2024-04-11T09:35:23.317Z"
   },
   {
    "duration": 7,
    "start_time": "2024-04-11T09:40:50.015Z"
   },
   {
    "duration": 113,
    "start_time": "2024-04-11T09:41:05.945Z"
   },
   {
    "duration": 144,
    "start_time": "2024-04-11T09:42:13.097Z"
   },
   {
    "duration": 127,
    "start_time": "2024-04-11T09:44:06.295Z"
   },
   {
    "duration": 118,
    "start_time": "2024-04-11T09:44:16.058Z"
   },
   {
    "duration": 139,
    "start_time": "2024-04-11T09:44:34.434Z"
   },
   {
    "duration": 152,
    "start_time": "2024-04-11T09:45:24.353Z"
   },
   {
    "duration": 173,
    "start_time": "2024-04-11T09:45:32.720Z"
   },
   {
    "duration": 153,
    "start_time": "2024-04-11T09:45:37.389Z"
   },
   {
    "duration": 4,
    "start_time": "2024-04-11T09:46:57.294Z"
   },
   {
    "duration": 117,
    "start_time": "2024-04-11T09:48:26.493Z"
   },
   {
    "duration": 81,
    "start_time": "2024-04-11T10:07:22.079Z"
   },
   {
    "duration": 22,
    "start_time": "2024-04-11T10:07:26.693Z"
   },
   {
    "duration": 12,
    "start_time": "2024-04-11T10:07:42.940Z"
   },
   {
    "duration": 73,
    "start_time": "2024-04-11T10:07:48.573Z"
   },
   {
    "duration": 13,
    "start_time": "2024-04-11T10:09:04.184Z"
   },
   {
    "duration": 12,
    "start_time": "2024-04-11T10:11:32.115Z"
   },
   {
    "duration": 51,
    "start_time": "2024-04-11T10:11:39.747Z"
   },
   {
    "duration": 10,
    "start_time": "2024-04-11T10:11:43.435Z"
   },
   {
    "duration": 11,
    "start_time": "2024-04-11T10:11:47.497Z"
   },
   {
    "duration": 13,
    "start_time": "2024-04-11T10:12:02.785Z"
   },
   {
    "duration": 1238,
    "start_time": "2024-04-11T10:12:33.137Z"
   },
   {
    "duration": 15,
    "start_time": "2024-04-11T10:13:35.016Z"
   },
   {
    "duration": 12,
    "start_time": "2024-04-11T10:13:58.194Z"
   },
   {
    "duration": 8,
    "start_time": "2024-04-11T10:14:04.535Z"
   },
   {
    "duration": 12,
    "start_time": "2024-04-11T10:14:11.803Z"
   },
   {
    "duration": 10,
    "start_time": "2024-04-11T10:14:36.104Z"
   },
   {
    "duration": 15,
    "start_time": "2024-04-11T10:14:44.030Z"
   },
   {
    "duration": 11,
    "start_time": "2024-04-11T10:14:54.851Z"
   },
   {
    "duration": 13,
    "start_time": "2024-04-11T10:15:26.756Z"
   },
   {
    "duration": 14,
    "start_time": "2024-04-11T10:15:29.849Z"
   },
   {
    "duration": 33,
    "start_time": "2024-04-11T10:35:32.236Z"
   },
   {
    "duration": 9,
    "start_time": "2024-04-11T10:38:24.358Z"
   },
   {
    "duration": 8,
    "start_time": "2024-04-11T10:38:59.782Z"
   },
   {
    "duration": 8,
    "start_time": "2024-04-11T10:39:11.290Z"
   },
   {
    "duration": 10,
    "start_time": "2024-04-11T10:39:38.284Z"
   },
   {
    "duration": 9,
    "start_time": "2024-04-11T10:40:28.879Z"
   },
   {
    "duration": 17,
    "start_time": "2024-04-11T10:44:01.093Z"
   },
   {
    "duration": 6,
    "start_time": "2024-04-11T10:45:03.440Z"
   },
   {
    "duration": 406,
    "start_time": "2024-04-11T10:45:14.926Z"
   },
   {
    "duration": 6,
    "start_time": "2024-04-11T10:45:18.128Z"
   },
   {
    "duration": 6,
    "start_time": "2024-04-11T10:46:08.568Z"
   },
   {
    "duration": 5,
    "start_time": "2024-04-11T10:46:18.904Z"
   },
   {
    "duration": 5,
    "start_time": "2024-04-11T10:46:35.393Z"
   },
   {
    "duration": 8,
    "start_time": "2024-04-11T10:47:12.637Z"
   },
   {
    "duration": 4,
    "start_time": "2024-04-11T10:51:59.168Z"
   },
   {
    "duration": 642,
    "start_time": "2024-04-11T10:52:29.071Z"
   },
   {
    "duration": 26,
    "start_time": "2024-04-11T10:52:29.715Z"
   },
   {
    "duration": 11,
    "start_time": "2024-04-11T10:52:29.742Z"
   },
   {
    "duration": 19,
    "start_time": "2024-04-11T10:52:29.754Z"
   },
   {
    "duration": 12,
    "start_time": "2024-04-11T10:52:29.775Z"
   },
   {
    "duration": 63,
    "start_time": "2024-04-11T10:52:29.789Z"
   },
   {
    "duration": 4,
    "start_time": "2024-04-11T10:52:29.854Z"
   },
   {
    "duration": 43,
    "start_time": "2024-04-11T10:52:29.859Z"
   },
   {
    "duration": 21,
    "start_time": "2024-04-11T10:52:29.904Z"
   },
   {
    "duration": 24,
    "start_time": "2024-04-11T10:52:29.926Z"
   },
   {
    "duration": 9,
    "start_time": "2024-04-11T10:52:29.951Z"
   },
   {
    "duration": 34,
    "start_time": "2024-04-11T10:52:29.961Z"
   },
   {
    "duration": 273,
    "start_time": "2024-04-11T10:52:29.996Z"
   },
   {
    "duration": 304,
    "start_time": "2024-04-11T10:52:30.272Z"
   },
   {
    "duration": 230,
    "start_time": "2024-04-11T10:52:30.578Z"
   },
   {
    "duration": 299,
    "start_time": "2024-04-11T10:52:30.810Z"
   },
   {
    "duration": 271,
    "start_time": "2024-04-11T10:52:31.110Z"
   },
   {
    "duration": 360,
    "start_time": "2024-04-11T10:52:31.382Z"
   },
   {
    "duration": 7,
    "start_time": "2024-04-11T10:52:31.744Z"
   },
   {
    "duration": 225,
    "start_time": "2024-04-11T10:52:31.753Z"
   },
   {
    "duration": 4,
    "start_time": "2024-04-11T10:52:31.980Z"
   },
   {
    "duration": 204,
    "start_time": "2024-04-11T10:52:31.985Z"
   },
   {
    "duration": 150,
    "start_time": "2024-04-11T10:52:32.191Z"
   },
   {
    "duration": 89,
    "start_time": "2024-04-11T10:52:32.343Z"
   },
   {
    "duration": 9,
    "start_time": "2024-04-11T10:53:28.983Z"
   },
   {
    "duration": 6,
    "start_time": "2024-04-11T10:54:20.086Z"
   },
   {
    "duration": 5,
    "start_time": "2024-04-11T10:54:20.525Z"
   },
   {
    "duration": 10,
    "start_time": "2024-04-11T10:54:21.291Z"
   },
   {
    "duration": 7,
    "start_time": "2024-04-11T10:55:01.794Z"
   },
   {
    "duration": 82,
    "start_time": "2024-04-11T10:55:03.217Z"
   },
   {
    "duration": 4,
    "start_time": "2024-04-11T10:55:39.044Z"
   },
   {
    "duration": 4,
    "start_time": "2024-04-11T10:55:39.756Z"
   },
   {
    "duration": 9,
    "start_time": "2024-04-11T10:55:40.817Z"
   },
   {
    "duration": 5,
    "start_time": "2024-04-11T10:58:41.891Z"
   },
   {
    "duration": 5,
    "start_time": "2024-04-11T10:58:44.035Z"
   },
   {
    "duration": 3,
    "start_time": "2024-04-11T10:58:44.352Z"
   },
   {
    "duration": 12,
    "start_time": "2024-04-11T10:58:44.698Z"
   },
   {
    "duration": 4,
    "start_time": "2024-04-11T10:59:15.191Z"
   },
   {
    "duration": 14,
    "start_time": "2024-04-11T10:59:16.896Z"
   },
   {
    "duration": 6,
    "start_time": "2024-04-11T10:59:56.813Z"
   },
   {
    "duration": 5,
    "start_time": "2024-04-11T11:00:03.266Z"
   },
   {
    "duration": 9,
    "start_time": "2024-04-11T11:00:04.260Z"
   },
   {
    "duration": 629,
    "start_time": "2024-04-11T11:00:09.059Z"
   },
   {
    "duration": 28,
    "start_time": "2024-04-11T11:00:09.691Z"
   },
   {
    "duration": 15,
    "start_time": "2024-04-11T11:00:09.720Z"
   },
   {
    "duration": 10,
    "start_time": "2024-04-11T11:00:09.737Z"
   },
   {
    "duration": 8,
    "start_time": "2024-04-11T11:00:09.749Z"
   },
   {
    "duration": 77,
    "start_time": "2024-04-11T11:00:09.759Z"
   },
   {
    "duration": 4,
    "start_time": "2024-04-11T11:00:09.838Z"
   },
   {
    "duration": 46,
    "start_time": "2024-04-11T11:00:09.844Z"
   },
   {
    "duration": 30,
    "start_time": "2024-04-11T11:00:09.892Z"
   },
   {
    "duration": 13,
    "start_time": "2024-04-11T11:00:09.924Z"
   },
   {
    "duration": 35,
    "start_time": "2024-04-11T11:00:09.939Z"
   },
   {
    "duration": 20,
    "start_time": "2024-04-11T11:00:09.982Z"
   },
   {
    "duration": 30,
    "start_time": "2024-04-11T11:00:10.004Z"
   },
   {
    "duration": 306,
    "start_time": "2024-04-11T11:00:10.037Z"
   },
   {
    "duration": 327,
    "start_time": "2024-04-11T11:00:10.344Z"
   },
   {
    "duration": 245,
    "start_time": "2024-04-11T11:00:10.672Z"
   },
   {
    "duration": 330,
    "start_time": "2024-04-11T11:00:10.918Z"
   },
   {
    "duration": 352,
    "start_time": "2024-04-11T11:00:11.249Z"
   },
   {
    "duration": 352,
    "start_time": "2024-04-11T11:00:11.603Z"
   },
   {
    "duration": 6,
    "start_time": "2024-04-11T11:00:11.957Z"
   },
   {
    "duration": 181,
    "start_time": "2024-04-11T11:00:11.964Z"
   },
   {
    "duration": 4,
    "start_time": "2024-04-11T11:00:12.147Z"
   },
   {
    "duration": 198,
    "start_time": "2024-04-11T11:00:12.152Z"
   },
   {
    "duration": 186,
    "start_time": "2024-04-11T11:00:12.352Z"
   },
   {
    "duration": 5,
    "start_time": "2024-04-11T11:00:12.539Z"
   },
   {
    "duration": 6,
    "start_time": "2024-04-11T11:00:30.438Z"
   },
   {
    "duration": 7,
    "start_time": "2024-04-11T11:00:32.302Z"
   },
   {
    "duration": 8,
    "start_time": "2024-04-11T11:00:32.911Z"
   },
   {
    "duration": 13,
    "start_time": "2024-04-11T11:00:57.095Z"
   },
   {
    "duration": 6,
    "start_time": "2024-04-11T11:01:07.043Z"
   },
   {
    "duration": 664,
    "start_time": "2024-04-11T11:01:12.776Z"
   },
   {
    "duration": 27,
    "start_time": "2024-04-11T11:01:13.442Z"
   },
   {
    "duration": 12,
    "start_time": "2024-04-11T11:01:13.471Z"
   },
   {
    "duration": 74,
    "start_time": "2024-04-11T11:01:13.484Z"
   },
   {
    "duration": 97,
    "start_time": "2024-04-11T11:01:13.560Z"
   },
   {
    "duration": 100,
    "start_time": "2024-04-11T11:01:13.659Z"
   },
   {
    "duration": 5,
    "start_time": "2024-04-11T11:01:13.760Z"
   },
   {
    "duration": 105,
    "start_time": "2024-04-11T11:01:13.766Z"
   },
   {
    "duration": 28,
    "start_time": "2024-04-11T11:01:13.872Z"
   },
   {
    "duration": 41,
    "start_time": "2024-04-11T11:01:13.902Z"
   },
   {
    "duration": 44,
    "start_time": "2024-04-11T11:01:13.944Z"
   },
   {
    "duration": 48,
    "start_time": "2024-04-11T11:01:13.990Z"
   },
   {
    "duration": 37,
    "start_time": "2024-04-11T11:01:14.039Z"
   },
   {
    "duration": 304,
    "start_time": "2024-04-11T11:01:14.079Z"
   },
   {
    "duration": 325,
    "start_time": "2024-04-11T11:01:14.385Z"
   },
   {
    "duration": 223,
    "start_time": "2024-04-11T11:01:14.712Z"
   },
   {
    "duration": 290,
    "start_time": "2024-04-11T11:01:14.936Z"
   },
   {
    "duration": 291,
    "start_time": "2024-04-11T11:01:15.228Z"
   },
   {
    "duration": 338,
    "start_time": "2024-04-11T11:01:15.521Z"
   },
   {
    "duration": 6,
    "start_time": "2024-04-11T11:01:15.861Z"
   },
   {
    "duration": 195,
    "start_time": "2024-04-11T11:01:15.868Z"
   },
   {
    "duration": 4,
    "start_time": "2024-04-11T11:01:16.065Z"
   },
   {
    "duration": 186,
    "start_time": "2024-04-11T11:01:16.071Z"
   },
   {
    "duration": 176,
    "start_time": "2024-04-11T11:01:16.259Z"
   },
   {
    "duration": 5,
    "start_time": "2024-04-11T11:01:16.437Z"
   },
   {
    "duration": 160,
    "start_time": "2024-04-11T11:04:28.176Z"
   },
   {
    "duration": 161,
    "start_time": "2024-04-11T11:04:45.879Z"
   },
   {
    "duration": 457,
    "start_time": "2024-04-11T11:16:15.315Z"
   },
   {
    "duration": 274,
    "start_time": "2024-04-11T11:22:55.936Z"
   },
   {
    "duration": 267,
    "start_time": "2024-04-11T11:23:05.940Z"
   },
   {
    "duration": 75,
    "start_time": "2024-04-11T11:27:12.664Z"
   },
   {
    "duration": 1301,
    "start_time": "2024-04-11T11:27:18.583Z"
   },
   {
    "duration": 13,
    "start_time": "2024-04-11T11:27:32.691Z"
   },
   {
    "duration": 15,
    "start_time": "2024-04-11T11:28:34.498Z"
   },
   {
    "duration": 9,
    "start_time": "2024-04-11T11:29:13.740Z"
   },
   {
    "duration": 19,
    "start_time": "2024-04-11T11:30:28.539Z"
   },
   {
    "duration": 10,
    "start_time": "2024-04-11T11:32:04.759Z"
   },
   {
    "duration": 14,
    "start_time": "2024-04-11T11:33:18.961Z"
   },
   {
    "duration": 10,
    "start_time": "2024-04-11T11:33:26.439Z"
   },
   {
    "duration": 7,
    "start_time": "2024-04-11T11:39:17.500Z"
   },
   {
    "duration": 18,
    "start_time": "2024-04-11T11:39:58.088Z"
   },
   {
    "duration": 19,
    "start_time": "2024-04-11T11:40:06.126Z"
   },
   {
    "duration": 8,
    "start_time": "2024-04-11T11:40:09.853Z"
   },
   {
    "duration": 8,
    "start_time": "2024-04-11T11:41:19.133Z"
   },
   {
    "duration": 5,
    "start_time": "2024-04-11T11:41:23.109Z"
   },
   {
    "duration": 8,
    "start_time": "2024-04-11T11:42:15.951Z"
   },
   {
    "duration": 5,
    "start_time": "2024-04-11T11:42:23.679Z"
   },
   {
    "duration": 3,
    "start_time": "2024-04-11T11:42:24.548Z"
   },
   {
    "duration": 6,
    "start_time": "2024-04-11T11:45:05.080Z"
   },
   {
    "duration": 9,
    "start_time": "2024-04-11T11:46:11.392Z"
   },
   {
    "duration": 5,
    "start_time": "2024-04-11T11:46:55.027Z"
   },
   {
    "duration": 1061,
    "start_time": "2024-04-11T11:47:26.500Z"
   },
   {
    "duration": 26,
    "start_time": "2024-04-11T11:47:27.564Z"
   },
   {
    "duration": 25,
    "start_time": "2024-04-11T11:47:27.591Z"
   },
   {
    "duration": 56,
    "start_time": "2024-04-11T11:47:27.617Z"
   },
   {
    "duration": 28,
    "start_time": "2024-04-11T11:47:27.676Z"
   },
   {
    "duration": 81,
    "start_time": "2024-04-11T11:47:27.706Z"
   },
   {
    "duration": 5,
    "start_time": "2024-04-11T11:47:27.788Z"
   },
   {
    "duration": 63,
    "start_time": "2024-04-11T11:47:27.795Z"
   },
   {
    "duration": 22,
    "start_time": "2024-04-11T11:47:27.860Z"
   },
   {
    "duration": 19,
    "start_time": "2024-04-11T11:47:27.884Z"
   },
   {
    "duration": 18,
    "start_time": "2024-04-11T11:47:27.904Z"
   },
   {
    "duration": 12,
    "start_time": "2024-04-11T11:47:27.923Z"
   },
   {
    "duration": 3,
    "start_time": "2024-04-11T11:47:27.937Z"
   },
   {
    "duration": 20,
    "start_time": "2024-04-11T11:47:27.943Z"
   },
   {
    "duration": 30,
    "start_time": "2024-04-11T11:47:27.964Z"
   },
   {
    "duration": 306,
    "start_time": "2024-04-11T11:47:27.995Z"
   },
   {
    "duration": 6,
    "start_time": "2024-04-11T11:47:28.303Z"
   },
   {
    "duration": 320,
    "start_time": "2024-04-11T11:47:28.311Z"
   },
   {
    "duration": 217,
    "start_time": "2024-04-11T11:47:28.632Z"
   },
   {
    "duration": 314,
    "start_time": "2024-04-11T11:47:28.851Z"
   },
   {
    "duration": 216,
    "start_time": "2024-04-11T11:47:29.167Z"
   },
   {
    "duration": 338,
    "start_time": "2024-04-11T11:47:29.385Z"
   },
   {
    "duration": 6,
    "start_time": "2024-04-11T11:47:29.724Z"
   },
   {
    "duration": 174,
    "start_time": "2024-04-11T11:47:29.731Z"
   },
   {
    "duration": 4,
    "start_time": "2024-04-11T11:47:29.907Z"
   },
   {
    "duration": 186,
    "start_time": "2024-04-11T11:47:29.913Z"
   },
   {
    "duration": 158,
    "start_time": "2024-04-11T11:47:30.101Z"
   },
   {
    "duration": 60,
    "start_time": "2024-04-11T11:47:30.260Z"
   },
   {
    "duration": 1110,
    "start_time": "2024-04-11T11:49:00.637Z"
   },
   {
    "duration": 27,
    "start_time": "2024-04-11T11:49:01.749Z"
   },
   {
    "duration": 65,
    "start_time": "2024-04-11T11:49:01.778Z"
   },
   {
    "duration": 91,
    "start_time": "2024-04-11T11:49:01.844Z"
   },
   {
    "duration": 160,
    "start_time": "2024-04-11T11:49:01.937Z"
   },
   {
    "duration": 88,
    "start_time": "2024-04-11T11:49:02.098Z"
   },
   {
    "duration": 16,
    "start_time": "2024-04-11T11:49:02.188Z"
   },
   {
    "duration": 75,
    "start_time": "2024-04-11T11:49:02.206Z"
   },
   {
    "duration": 81,
    "start_time": "2024-04-11T11:49:02.282Z"
   },
   {
    "duration": 117,
    "start_time": "2024-04-11T11:49:02.364Z"
   },
   {
    "duration": 75,
    "start_time": "2024-04-11T11:49:02.482Z"
   },
   {
    "duration": 37,
    "start_time": "2024-04-11T11:49:02.559Z"
   },
   {
    "duration": 322,
    "start_time": "2024-04-11T11:49:02.598Z"
   },
   {
    "duration": 6,
    "start_time": "2024-04-11T11:49:02.922Z"
   },
   {
    "duration": 314,
    "start_time": "2024-04-11T11:49:02.929Z"
   },
   {
    "duration": 210,
    "start_time": "2024-04-11T11:49:03.244Z"
   },
   {
    "duration": 287,
    "start_time": "2024-04-11T11:49:03.455Z"
   },
   {
    "duration": 230,
    "start_time": "2024-04-11T11:49:03.743Z"
   },
   {
    "duration": 364,
    "start_time": "2024-04-11T11:49:03.974Z"
   },
   {
    "duration": 6,
    "start_time": "2024-04-11T11:49:04.340Z"
   },
   {
    "duration": 169,
    "start_time": "2024-04-11T11:49:04.348Z"
   },
   {
    "duration": 3,
    "start_time": "2024-04-11T11:49:04.519Z"
   },
   {
    "duration": 170,
    "start_time": "2024-04-11T11:49:04.524Z"
   },
   {
    "duration": 171,
    "start_time": "2024-04-11T11:49:04.696Z"
   },
   {
    "duration": 3,
    "start_time": "2024-04-11T11:49:04.869Z"
   },
   {
    "duration": 265,
    "start_time": "2024-04-11T11:51:15.255Z"
   },
   {
    "duration": 121,
    "start_time": "2024-04-11T11:53:39.389Z"
   },
   {
    "duration": 227,
    "start_time": "2024-04-11T11:54:28.707Z"
   },
   {
    "duration": 1559,
    "start_time": "2024-04-11T11:55:24.129Z"
   },
   {
    "duration": 342,
    "start_time": "2024-04-11T12:03:28.886Z"
   },
   {
    "duration": 311,
    "start_time": "2024-04-11T12:03:50.249Z"
   },
   {
    "duration": 346,
    "start_time": "2024-04-11T12:05:46.451Z"
   },
   {
    "duration": 9,
    "start_time": "2024-04-11T12:07:59.359Z"
   },
   {
    "duration": 9,
    "start_time": "2024-04-11T12:08:05.172Z"
   },
   {
    "duration": 9,
    "start_time": "2024-04-11T12:11:30.769Z"
   },
   {
    "duration": 22,
    "start_time": "2024-04-11T12:13:03.487Z"
   },
   {
    "duration": 38,
    "start_time": "2024-04-11T12:13:07.667Z"
   },
   {
    "duration": 10,
    "start_time": "2024-04-11T12:18:32.176Z"
   },
   {
    "duration": 15,
    "start_time": "2024-04-11T12:18:40.730Z"
   },
   {
    "duration": 28,
    "start_time": "2024-04-11T12:21:32.402Z"
   },
   {
    "duration": 14,
    "start_time": "2024-04-11T12:22:33.526Z"
   },
   {
    "duration": 1394,
    "start_time": "2024-04-11T15:44:59.676Z"
   },
   {
    "duration": 83,
    "start_time": "2024-04-11T15:45:01.072Z"
   },
   {
    "duration": 275,
    "start_time": "2024-04-11T15:45:01.157Z"
   },
   {
    "duration": 321,
    "start_time": "2024-04-11T15:45:01.434Z"
   },
   {
    "duration": 239,
    "start_time": "2024-04-11T15:45:01.757Z"
   },
   {
    "duration": 612,
    "start_time": "2024-04-11T15:45:01.998Z"
   },
   {
    "duration": 122,
    "start_time": "2024-04-11T15:45:02.611Z"
   },
   {
    "duration": 205,
    "start_time": "2024-04-11T15:45:02.735Z"
   },
   {
    "duration": 118,
    "start_time": "2024-04-11T15:45:02.942Z"
   },
   {
    "duration": 51,
    "start_time": "2024-04-11T15:45:03.062Z"
   },
   {
    "duration": 72,
    "start_time": "2024-04-11T15:45:03.115Z"
   },
   {
    "duration": 61,
    "start_time": "2024-04-11T15:45:03.189Z"
   },
   {
    "duration": 476,
    "start_time": "2024-04-11T15:45:03.251Z"
   },
   {
    "duration": 6,
    "start_time": "2024-04-11T15:45:03.728Z"
   },
   {
    "duration": 400,
    "start_time": "2024-04-11T15:45:03.735Z"
   },
   {
    "duration": 241,
    "start_time": "2024-04-11T15:45:04.137Z"
   },
   {
    "duration": 369,
    "start_time": "2024-04-11T15:45:04.380Z"
   },
   {
    "duration": 245,
    "start_time": "2024-04-11T15:45:04.750Z"
   },
   {
    "duration": 368,
    "start_time": "2024-04-11T15:45:04.997Z"
   },
   {
    "duration": 7,
    "start_time": "2024-04-11T15:45:05.366Z"
   },
   {
    "duration": 309,
    "start_time": "2024-04-11T15:45:05.374Z"
   },
   {
    "duration": 62,
    "start_time": "2024-04-11T15:45:05.685Z"
   },
   {
    "duration": 292,
    "start_time": "2024-04-11T15:45:05.749Z"
   },
   {
    "duration": 158,
    "start_time": "2024-04-11T15:45:06.043Z"
   },
   {
    "duration": 226,
    "start_time": "2024-04-11T15:45:06.202Z"
   },
   {
    "duration": 434,
    "start_time": "2024-04-11T15:45:06.430Z"
   },
   {
    "duration": 9,
    "start_time": "2024-04-11T15:45:06.865Z"
   },
   {
    "duration": 51,
    "start_time": "2024-04-11T15:45:06.877Z"
   },
   {
    "duration": 91,
    "start_time": "2024-04-11T15:45:06.929Z"
   },
   {
    "duration": 32,
    "start_time": "2024-04-11T15:45:07.022Z"
   },
   {
    "duration": 48,
    "start_time": "2024-04-11T16:30:55.838Z"
   },
   {
    "duration": 1203,
    "start_time": "2024-04-11T16:30:59.128Z"
   },
   {
    "duration": 73,
    "start_time": "2024-04-11T16:31:02.385Z"
   },
   {
    "duration": 59,
    "start_time": "2024-04-11T16:31:02.981Z"
   },
   {
    "duration": 3,
    "start_time": "2024-04-11T16:31:17.708Z"
   },
   {
    "duration": 12,
    "start_time": "2024-04-11T16:31:29.007Z"
   },
   {
    "duration": 13,
    "start_time": "2024-04-11T16:31:51.765Z"
   },
   {
    "duration": 4,
    "start_time": "2024-04-11T16:32:35.099Z"
   },
   {
    "duration": 174,
    "start_time": "2024-04-11T16:32:41.104Z"
   },
   {
    "duration": 5,
    "start_time": "2024-04-11T16:32:41.995Z"
   },
   {
    "duration": 33,
    "start_time": "2024-04-11T16:32:45.218Z"
   },
   {
    "duration": 6,
    "start_time": "2024-04-11T16:33:06.095Z"
   },
   {
    "duration": 36,
    "start_time": "2024-04-11T16:33:09.112Z"
   },
   {
    "duration": 4,
    "start_time": "2024-04-11T16:33:37.134Z"
   },
   {
    "duration": 44,
    "start_time": "2024-04-11T16:33:39.354Z"
   },
   {
    "duration": 38,
    "start_time": "2024-04-11T16:33:46.545Z"
   },
   {
    "duration": 13,
    "start_time": "2024-04-11T16:33:52.918Z"
   },
   {
    "duration": 7,
    "start_time": "2024-04-11T16:33:53.327Z"
   },
   {
    "duration": 4,
    "start_time": "2024-04-11T16:33:53.702Z"
   },
   {
    "duration": 8,
    "start_time": "2024-04-11T16:36:57.914Z"
   },
   {
    "duration": 10,
    "start_time": "2024-04-11T16:37:04.459Z"
   },
   {
    "duration": 285,
    "start_time": "2024-04-11T16:37:09.319Z"
   },
   {
    "duration": 4,
    "start_time": "2024-04-11T16:37:11.762Z"
   },
   {
    "duration": 4,
    "start_time": "2024-04-11T16:37:31.606Z"
   },
   {
    "duration": 5,
    "start_time": "2024-04-11T16:38:30.943Z"
   },
   {
    "duration": 4,
    "start_time": "2024-04-11T16:39:23.729Z"
   },
   {
    "duration": 6,
    "start_time": "2024-04-11T16:39:30.398Z"
   },
   {
    "duration": 298,
    "start_time": "2024-04-11T16:39:30.759Z"
   },
   {
    "duration": 216,
    "start_time": "2024-04-11T16:39:35.365Z"
   },
   {
    "duration": 378,
    "start_time": "2024-04-11T16:39:38.226Z"
   },
   {
    "duration": 213,
    "start_time": "2024-04-11T16:39:40.835Z"
   },
   {
    "duration": 337,
    "start_time": "2024-04-11T16:39:43.368Z"
   },
   {
    "duration": 6,
    "start_time": "2024-04-11T16:39:48.105Z"
   },
   {
    "duration": 154,
    "start_time": "2024-04-11T16:39:49.121Z"
   },
   {
    "duration": 4,
    "start_time": "2024-04-11T16:39:51.795Z"
   },
   {
    "duration": 154,
    "start_time": "2024-04-11T16:40:30.032Z"
   },
   {
    "duration": 213,
    "start_time": "2024-04-11T16:40:32.285Z"
   },
   {
    "duration": 4,
    "start_time": "2024-04-11T16:40:39.968Z"
   },
   {
    "duration": 335,
    "start_time": "2024-04-11T16:43:15.235Z"
   },
   {
    "duration": 12,
    "start_time": "2024-04-11T16:50:26.896Z"
   },
   {
    "duration": 5,
    "start_time": "2024-04-11T16:50:58.472Z"
   },
   {
    "duration": 17,
    "start_time": "2024-04-11T16:54:17.437Z"
   },
   {
    "duration": 32,
    "start_time": "2024-04-11T16:54:41.338Z"
   },
   {
    "duration": 32,
    "start_time": "2024-04-11T16:55:10.040Z"
   },
   {
    "duration": 32,
    "start_time": "2024-04-11T16:55:37.493Z"
   },
   {
    "duration": 11,
    "start_time": "2024-04-11T17:01:11.642Z"
   },
   {
    "duration": 9,
    "start_time": "2024-04-11T17:02:24.661Z"
   },
   {
    "duration": 54,
    "start_time": "2024-04-11T17:03:39.461Z"
   },
   {
    "duration": 4,
    "start_time": "2024-04-11T17:04:01.300Z"
   },
   {
    "duration": 15,
    "start_time": "2024-04-11T17:04:24.948Z"
   },
   {
    "duration": 6,
    "start_time": "2024-04-11T17:06:06.524Z"
   },
   {
    "duration": 6,
    "start_time": "2024-04-11T17:06:21.136Z"
   },
   {
    "duration": 11,
    "start_time": "2024-04-11T17:06:37.495Z"
   },
   {
    "duration": 10,
    "start_time": "2024-04-11T17:07:35.242Z"
   },
   {
    "duration": 9,
    "start_time": "2024-04-11T17:07:41.836Z"
   },
   {
    "duration": 5,
    "start_time": "2024-04-11T17:07:46.572Z"
   },
   {
    "duration": 9,
    "start_time": "2024-04-11T17:07:55.274Z"
   },
   {
    "duration": 4,
    "start_time": "2024-04-11T17:11:18.458Z"
   },
   {
    "duration": 8,
    "start_time": "2024-04-11T17:11:31.858Z"
   },
   {
    "duration": 11,
    "start_time": "2024-04-11T17:11:45.873Z"
   },
   {
    "duration": 8,
    "start_time": "2024-04-11T17:12:04.464Z"
   },
   {
    "duration": 5,
    "start_time": "2024-04-11T17:13:12.791Z"
   },
   {
    "duration": 8,
    "start_time": "2024-04-11T17:13:35.730Z"
   },
   {
    "duration": 46,
    "start_time": "2024-04-11T17:14:27.436Z"
   },
   {
    "duration": 14,
    "start_time": "2024-04-11T17:14:55.439Z"
   },
   {
    "duration": 1159,
    "start_time": "2024-04-11T19:20:26.590Z"
   },
   {
    "duration": 28,
    "start_time": "2024-04-11T19:20:27.751Z"
   },
   {
    "duration": 12,
    "start_time": "2024-04-11T19:20:27.780Z"
   },
   {
    "duration": 10,
    "start_time": "2024-04-11T19:20:27.794Z"
   },
   {
    "duration": 8,
    "start_time": "2024-04-11T19:20:27.805Z"
   },
   {
    "duration": 55,
    "start_time": "2024-04-11T19:20:27.815Z"
   },
   {
    "duration": 5,
    "start_time": "2024-04-11T19:20:27.871Z"
   },
   {
    "duration": 43,
    "start_time": "2024-04-11T19:20:27.877Z"
   },
   {
    "duration": 33,
    "start_time": "2024-04-11T19:20:27.921Z"
   },
   {
    "duration": 42,
    "start_time": "2024-04-11T19:20:27.956Z"
   },
   {
    "duration": 24,
    "start_time": "2024-04-11T19:20:28.000Z"
   },
   {
    "duration": 3,
    "start_time": "2024-04-11T19:20:28.026Z"
   },
   {
    "duration": 277,
    "start_time": "2024-04-11T19:20:28.031Z"
   },
   {
    "duration": 4,
    "start_time": "2024-04-11T19:20:28.310Z"
   },
   {
    "duration": 21,
    "start_time": "2024-04-11T19:20:28.315Z"
   },
   {
    "duration": 289,
    "start_time": "2024-04-11T19:20:28.338Z"
   },
   {
    "duration": 222,
    "start_time": "2024-04-11T19:20:28.629Z"
   },
   {
    "duration": 295,
    "start_time": "2024-04-11T19:20:28.853Z"
   },
   {
    "duration": 217,
    "start_time": "2024-04-11T19:20:29.150Z"
   },
   {
    "duration": 359,
    "start_time": "2024-04-11T19:20:29.368Z"
   },
   {
    "duration": 6,
    "start_time": "2024-04-11T19:20:29.729Z"
   },
   {
    "duration": 162,
    "start_time": "2024-04-11T19:20:29.736Z"
   },
   {
    "duration": 4,
    "start_time": "2024-04-11T19:20:29.900Z"
   },
   {
    "duration": 173,
    "start_time": "2024-04-11T19:20:29.905Z"
   },
   {
    "duration": 172,
    "start_time": "2024-04-11T19:20:30.079Z"
   },
   {
    "duration": 5,
    "start_time": "2024-04-11T19:20:30.253Z"
   },
   {
    "duration": 350,
    "start_time": "2024-04-11T19:20:30.259Z"
   },
   {
    "duration": 0,
    "start_time": "2024-04-11T19:20:30.610Z"
   },
   {
    "duration": 0,
    "start_time": "2024-04-11T19:20:30.612Z"
   },
   {
    "duration": 0,
    "start_time": "2024-04-11T19:20:30.613Z"
   },
   {
    "duration": 0,
    "start_time": "2024-04-11T19:20:30.614Z"
   },
   {
    "duration": 1280,
    "start_time": "2024-04-11T19:36:40.168Z"
   },
   {
    "duration": 74,
    "start_time": "2024-04-11T19:36:41.450Z"
   },
   {
    "duration": 12,
    "start_time": "2024-04-11T19:36:41.526Z"
   },
   {
    "duration": 10,
    "start_time": "2024-04-11T19:36:41.540Z"
   },
   {
    "duration": 8,
    "start_time": "2024-04-11T19:36:41.551Z"
   },
   {
    "duration": 165,
    "start_time": "2024-04-11T19:36:41.560Z"
   },
   {
    "duration": 5,
    "start_time": "2024-04-11T19:36:41.726Z"
   },
   {
    "duration": 47,
    "start_time": "2024-04-11T19:36:41.732Z"
   },
   {
    "duration": 51,
    "start_time": "2024-04-11T19:36:41.781Z"
   },
   {
    "duration": 14,
    "start_time": "2024-04-11T19:36:41.835Z"
   },
   {
    "duration": 6,
    "start_time": "2024-04-11T19:36:41.850Z"
   },
   {
    "duration": 4,
    "start_time": "2024-04-11T19:36:41.858Z"
   },
   {
    "duration": 350,
    "start_time": "2024-04-11T19:36:41.863Z"
   },
   {
    "duration": 5,
    "start_time": "2024-04-11T19:36:42.215Z"
   },
   {
    "duration": 10,
    "start_time": "2024-04-11T19:36:42.221Z"
   },
   {
    "duration": 321,
    "start_time": "2024-04-11T19:36:42.233Z"
   },
   {
    "duration": 225,
    "start_time": "2024-04-11T19:36:42.555Z"
   },
   {
    "duration": 389,
    "start_time": "2024-04-11T19:36:42.782Z"
   },
   {
    "duration": 230,
    "start_time": "2024-04-11T19:36:43.173Z"
   },
   {
    "duration": 388,
    "start_time": "2024-04-11T19:36:43.405Z"
   },
   {
    "duration": 20,
    "start_time": "2024-04-11T19:36:43.794Z"
   },
   {
    "duration": 165,
    "start_time": "2024-04-11T19:36:43.816Z"
   },
   {
    "duration": 5,
    "start_time": "2024-04-11T19:36:43.983Z"
   },
   {
    "duration": 183,
    "start_time": "2024-04-11T19:36:43.989Z"
   },
   {
    "duration": 195,
    "start_time": "2024-04-11T19:36:44.174Z"
   },
   {
    "duration": 5,
    "start_time": "2024-04-11T19:36:44.371Z"
   },
   {
    "duration": 194,
    "start_time": "2024-04-11T19:36:44.378Z"
   },
   {
    "duration": 0,
    "start_time": "2024-04-11T19:36:44.574Z"
   },
   {
    "duration": 0,
    "start_time": "2024-04-11T19:36:44.575Z"
   },
   {
    "duration": 0,
    "start_time": "2024-04-11T19:36:44.576Z"
   },
   {
    "duration": 0,
    "start_time": "2024-04-11T19:36:44.578Z"
   },
   {
    "duration": 13,
    "start_time": "2024-04-11T19:57:51.871Z"
   },
   {
    "duration": 181,
    "start_time": "2024-04-11T19:59:46.511Z"
   },
   {
    "duration": 496,
    "start_time": "2024-04-11T20:04:42.536Z"
   },
   {
    "duration": 1116,
    "start_time": "2024-04-11T20:06:14.360Z"
   },
   {
    "duration": 29,
    "start_time": "2024-04-11T20:06:15.478Z"
   },
   {
    "duration": 12,
    "start_time": "2024-04-11T20:06:15.508Z"
   },
   {
    "duration": 14,
    "start_time": "2024-04-11T20:06:15.522Z"
   },
   {
    "duration": 8,
    "start_time": "2024-04-11T20:06:15.538Z"
   },
   {
    "duration": 58,
    "start_time": "2024-04-11T20:06:15.547Z"
   },
   {
    "duration": 5,
    "start_time": "2024-04-11T20:06:15.607Z"
   },
   {
    "duration": 55,
    "start_time": "2024-04-11T20:06:15.614Z"
   },
   {
    "duration": 57,
    "start_time": "2024-04-11T20:06:15.670Z"
   },
   {
    "duration": 15,
    "start_time": "2024-04-11T20:06:15.728Z"
   },
   {
    "duration": 7,
    "start_time": "2024-04-11T20:06:15.744Z"
   },
   {
    "duration": 4,
    "start_time": "2024-04-11T20:06:15.752Z"
   },
   {
    "duration": 326,
    "start_time": "2024-04-11T20:06:15.758Z"
   },
   {
    "duration": 4,
    "start_time": "2024-04-11T20:06:16.087Z"
   },
   {
    "duration": 15,
    "start_time": "2024-04-11T20:06:16.093Z"
   },
   {
    "duration": 322,
    "start_time": "2024-04-11T20:06:16.110Z"
   },
   {
    "duration": 249,
    "start_time": "2024-04-11T20:06:16.434Z"
   },
   {
    "duration": 337,
    "start_time": "2024-04-11T20:06:16.684Z"
   },
   {
    "duration": 233,
    "start_time": "2024-04-11T20:06:17.023Z"
   },
   {
    "duration": 323,
    "start_time": "2024-04-11T20:06:17.259Z"
   },
   {
    "duration": 6,
    "start_time": "2024-04-11T20:06:17.584Z"
   },
   {
    "duration": 176,
    "start_time": "2024-04-11T20:06:17.592Z"
   },
   {
    "duration": 5,
    "start_time": "2024-04-11T20:06:17.769Z"
   },
   {
    "duration": 184,
    "start_time": "2024-04-11T20:06:17.775Z"
   },
   {
    "duration": 184,
    "start_time": "2024-04-11T20:06:17.961Z"
   },
   {
    "duration": 6,
    "start_time": "2024-04-11T20:06:18.146Z"
   },
   {
    "duration": 14,
    "start_time": "2024-04-11T20:06:18.153Z"
   },
   {
    "duration": 238,
    "start_time": "2024-04-11T20:06:18.169Z"
   },
   {
    "duration": 0,
    "start_time": "2024-04-11T20:06:18.409Z"
   },
   {
    "duration": 0,
    "start_time": "2024-04-11T20:06:18.415Z"
   },
   {
    "duration": 0,
    "start_time": "2024-04-11T20:06:18.416Z"
   },
   {
    "duration": 0,
    "start_time": "2024-04-11T20:06:18.417Z"
   },
   {
    "duration": 252,
    "start_time": "2024-04-11T20:11:32.155Z"
   },
   {
    "duration": 41,
    "start_time": "2024-04-11T20:13:24.918Z"
   },
   {
    "duration": 1154,
    "start_time": "2024-04-11T20:15:02.407Z"
   },
   {
    "duration": 1006,
    "start_time": "2024-04-11T20:18:12.047Z"
   },
   {
    "duration": 998,
    "start_time": "2024-04-11T20:18:31.514Z"
   },
   {
    "duration": 990,
    "start_time": "2024-04-11T20:20:21.466Z"
   },
   {
    "duration": 162,
    "start_time": "2024-04-11T20:21:11.198Z"
   },
   {
    "duration": 159,
    "start_time": "2024-04-11T20:22:23.913Z"
   },
   {
    "duration": 1167,
    "start_time": "2024-04-11T20:22:39.597Z"
   },
   {
    "duration": 30,
    "start_time": "2024-04-11T20:22:40.766Z"
   },
   {
    "duration": 15,
    "start_time": "2024-04-11T20:22:40.797Z"
   },
   {
    "duration": 11,
    "start_time": "2024-04-11T20:22:40.814Z"
   },
   {
    "duration": 8,
    "start_time": "2024-04-11T20:22:40.827Z"
   },
   {
    "duration": 54,
    "start_time": "2024-04-11T20:22:40.837Z"
   },
   {
    "duration": 5,
    "start_time": "2024-04-11T20:22:40.893Z"
   },
   {
    "duration": 69,
    "start_time": "2024-04-11T20:22:40.900Z"
   },
   {
    "duration": 63,
    "start_time": "2024-04-11T20:22:40.971Z"
   },
   {
    "duration": 14,
    "start_time": "2024-04-11T20:22:41.036Z"
   },
   {
    "duration": 18,
    "start_time": "2024-04-11T20:22:41.051Z"
   },
   {
    "duration": 4,
    "start_time": "2024-04-11T20:22:41.071Z"
   },
   {
    "duration": 323,
    "start_time": "2024-04-11T20:22:41.076Z"
   },
   {
    "duration": 4,
    "start_time": "2024-04-11T20:22:41.402Z"
   },
   {
    "duration": 12,
    "start_time": "2024-04-11T20:22:41.414Z"
   },
   {
    "duration": 306,
    "start_time": "2024-04-11T20:22:41.427Z"
   },
   {
    "duration": 230,
    "start_time": "2024-04-11T20:22:41.735Z"
   },
   {
    "duration": 313,
    "start_time": "2024-04-11T20:22:41.967Z"
   },
   {
    "duration": 237,
    "start_time": "2024-04-11T20:22:42.281Z"
   },
   {
    "duration": 355,
    "start_time": "2024-04-11T20:22:42.520Z"
   },
   {
    "duration": 6,
    "start_time": "2024-04-11T20:22:42.877Z"
   },
   {
    "duration": 170,
    "start_time": "2024-04-11T20:22:42.885Z"
   },
   {
    "duration": 6,
    "start_time": "2024-04-11T20:22:43.057Z"
   },
   {
    "duration": 181,
    "start_time": "2024-04-11T20:22:43.064Z"
   },
   {
    "duration": 168,
    "start_time": "2024-04-11T20:22:43.246Z"
   },
   {
    "duration": 4,
    "start_time": "2024-04-11T20:22:43.416Z"
   },
   {
    "duration": 13,
    "start_time": "2024-04-11T20:22:43.422Z"
   },
   {
    "duration": 243,
    "start_time": "2024-04-11T20:22:43.437Z"
   },
   {
    "duration": 10,
    "start_time": "2024-04-11T20:22:43.683Z"
   },
   {
    "duration": 24,
    "start_time": "2024-04-11T20:22:43.695Z"
   },
   {
    "duration": 13,
    "start_time": "2024-04-11T20:22:43.721Z"
   },
   {
    "duration": 26,
    "start_time": "2024-04-11T20:22:43.736Z"
   },
   {
    "duration": 355,
    "start_time": "2024-04-11T20:23:30.250Z"
   },
   {
    "duration": 411,
    "start_time": "2024-04-11T20:27:56.764Z"
   },
   {
    "duration": 266,
    "start_time": "2024-04-11T20:30:16.046Z"
   },
   {
    "duration": 1174,
    "start_time": "2024-04-11T20:31:03.906Z"
   },
   {
    "duration": 28,
    "start_time": "2024-04-11T20:31:05.082Z"
   },
   {
    "duration": 12,
    "start_time": "2024-04-11T20:31:05.112Z"
   },
   {
    "duration": 9,
    "start_time": "2024-04-11T20:31:05.126Z"
   },
   {
    "duration": 7,
    "start_time": "2024-04-11T20:31:05.137Z"
   },
   {
    "duration": 54,
    "start_time": "2024-04-11T20:31:05.146Z"
   },
   {
    "duration": 5,
    "start_time": "2024-04-11T20:31:05.201Z"
   },
   {
    "duration": 48,
    "start_time": "2024-04-11T20:31:05.207Z"
   },
   {
    "duration": 68,
    "start_time": "2024-04-11T20:31:05.256Z"
   },
   {
    "duration": 16,
    "start_time": "2024-04-11T20:31:05.326Z"
   },
   {
    "duration": 20,
    "start_time": "2024-04-11T20:31:05.344Z"
   },
   {
    "duration": 12,
    "start_time": "2024-04-11T20:31:05.366Z"
   },
   {
    "duration": 342,
    "start_time": "2024-04-11T20:31:05.380Z"
   },
   {
    "duration": 5,
    "start_time": "2024-04-11T20:31:05.726Z"
   },
   {
    "duration": 7,
    "start_time": "2024-04-11T20:31:05.732Z"
   },
   {
    "duration": 346,
    "start_time": "2024-04-11T20:31:05.740Z"
   },
   {
    "duration": 229,
    "start_time": "2024-04-11T20:31:06.088Z"
   },
   {
    "duration": 334,
    "start_time": "2024-04-11T20:31:06.318Z"
   },
   {
    "duration": 247,
    "start_time": "2024-04-11T20:31:06.653Z"
   },
   {
    "duration": 372,
    "start_time": "2024-04-11T20:31:06.902Z"
   },
   {
    "duration": 6,
    "start_time": "2024-04-11T20:31:07.276Z"
   },
   {
    "duration": 175,
    "start_time": "2024-04-11T20:31:07.283Z"
   },
   {
    "duration": 5,
    "start_time": "2024-04-11T20:31:07.460Z"
   },
   {
    "duration": 176,
    "start_time": "2024-04-11T20:31:07.467Z"
   },
   {
    "duration": 171,
    "start_time": "2024-04-11T20:31:07.644Z"
   },
   {
    "duration": 5,
    "start_time": "2024-04-11T20:31:07.816Z"
   },
   {
    "duration": 13,
    "start_time": "2024-04-11T20:31:07.823Z"
   },
   {
    "duration": 311,
    "start_time": "2024-04-11T20:31:07.838Z"
   },
   {
    "duration": 0,
    "start_time": "2024-04-11T20:31:08.150Z"
   },
   {
    "duration": 0,
    "start_time": "2024-04-11T20:31:08.152Z"
   },
   {
    "duration": 0,
    "start_time": "2024-04-11T20:31:08.153Z"
   },
   {
    "duration": 0,
    "start_time": "2024-04-11T20:31:08.154Z"
   },
   {
    "duration": 217,
    "start_time": "2024-04-11T20:33:07.704Z"
   },
   {
    "duration": 1170,
    "start_time": "2024-04-11T20:35:24.213Z"
   },
   {
    "duration": 28,
    "start_time": "2024-04-11T20:35:25.385Z"
   },
   {
    "duration": 14,
    "start_time": "2024-04-11T20:35:25.415Z"
   },
   {
    "duration": 11,
    "start_time": "2024-04-11T20:35:25.430Z"
   },
   {
    "duration": 8,
    "start_time": "2024-04-11T20:35:25.443Z"
   },
   {
    "duration": 53,
    "start_time": "2024-04-11T20:35:25.453Z"
   },
   {
    "duration": 5,
    "start_time": "2024-04-11T20:35:25.508Z"
   },
   {
    "duration": 46,
    "start_time": "2024-04-11T20:35:25.515Z"
   },
   {
    "duration": 75,
    "start_time": "2024-04-11T20:35:25.563Z"
   },
   {
    "duration": 14,
    "start_time": "2024-04-11T20:35:25.639Z"
   },
   {
    "duration": 7,
    "start_time": "2024-04-11T20:35:25.655Z"
   },
   {
    "duration": 4,
    "start_time": "2024-04-11T20:35:25.663Z"
   },
   {
    "duration": 333,
    "start_time": "2024-04-11T20:35:25.668Z"
   },
   {
    "duration": 11,
    "start_time": "2024-04-11T20:35:26.004Z"
   },
   {
    "duration": 7,
    "start_time": "2024-04-11T20:35:26.016Z"
   },
   {
    "duration": 313,
    "start_time": "2024-04-11T20:35:26.024Z"
   },
   {
    "duration": 227,
    "start_time": "2024-04-11T20:35:26.338Z"
   },
   {
    "duration": 300,
    "start_time": "2024-04-11T20:35:26.566Z"
   },
   {
    "duration": 269,
    "start_time": "2024-04-11T20:35:26.868Z"
   },
   {
    "duration": 338,
    "start_time": "2024-04-11T20:35:27.138Z"
   },
   {
    "duration": 7,
    "start_time": "2024-04-11T20:35:27.478Z"
   },
   {
    "duration": 174,
    "start_time": "2024-04-11T20:35:27.487Z"
   },
   {
    "duration": 5,
    "start_time": "2024-04-11T20:35:27.663Z"
   },
   {
    "duration": 182,
    "start_time": "2024-04-11T20:35:27.669Z"
   },
   {
    "duration": 175,
    "start_time": "2024-04-11T20:35:27.853Z"
   },
   {
    "duration": 6,
    "start_time": "2024-04-11T20:35:28.030Z"
   },
   {
    "duration": 15,
    "start_time": "2024-04-11T20:35:28.037Z"
   },
   {
    "duration": 476,
    "start_time": "2024-04-11T20:35:28.054Z"
   },
   {
    "duration": 11,
    "start_time": "2024-04-11T20:35:28.531Z"
   },
   {
    "duration": 8,
    "start_time": "2024-04-11T20:35:28.543Z"
   },
   {
    "duration": 30,
    "start_time": "2024-04-11T20:35:28.553Z"
   },
   {
    "duration": 39,
    "start_time": "2024-04-11T20:35:28.585Z"
   },
   {
    "duration": 127,
    "start_time": "2024-04-11T20:40:42.638Z"
   },
   {
    "duration": 12,
    "start_time": "2024-04-11T20:41:04.515Z"
   },
   {
    "duration": 21,
    "start_time": "2024-04-11T20:44:39.376Z"
   },
   {
    "duration": 35,
    "start_time": "2024-04-11T20:47:02.818Z"
   },
   {
    "duration": 33,
    "start_time": "2024-04-11T20:47:26.116Z"
   },
   {
    "duration": 10,
    "start_time": "2024-04-11T20:48:01.929Z"
   },
   {
    "duration": 233,
    "start_time": "2024-04-11T20:48:47.305Z"
   },
   {
    "duration": 15,
    "start_time": "2024-04-11T20:49:00.134Z"
   },
   {
    "duration": 8,
    "start_time": "2024-04-11T20:49:18.743Z"
   },
   {
    "duration": 419,
    "start_time": "2024-04-11T20:49:24.358Z"
   },
   {
    "duration": 1197,
    "start_time": "2024-04-11T20:49:30.974Z"
   },
   {
    "duration": 28,
    "start_time": "2024-04-11T20:49:32.173Z"
   },
   {
    "duration": 12,
    "start_time": "2024-04-11T20:49:32.203Z"
   },
   {
    "duration": 8,
    "start_time": "2024-04-11T20:49:32.217Z"
   },
   {
    "duration": 8,
    "start_time": "2024-04-11T20:49:32.228Z"
   },
   {
    "duration": 57,
    "start_time": "2024-04-11T20:49:32.238Z"
   },
   {
    "duration": 5,
    "start_time": "2024-04-11T20:49:32.296Z"
   },
   {
    "duration": 82,
    "start_time": "2024-04-11T20:49:32.303Z"
   },
   {
    "duration": 41,
    "start_time": "2024-04-11T20:49:32.386Z"
   },
   {
    "duration": 13,
    "start_time": "2024-04-11T20:49:32.428Z"
   },
   {
    "duration": 6,
    "start_time": "2024-04-11T20:49:32.443Z"
   },
   {
    "duration": 3,
    "start_time": "2024-04-11T20:49:32.451Z"
   },
   {
    "duration": 310,
    "start_time": "2024-04-11T20:49:32.455Z"
   },
   {
    "duration": 4,
    "start_time": "2024-04-11T20:49:32.768Z"
   },
   {
    "duration": 7,
    "start_time": "2024-04-11T20:49:32.773Z"
   },
   {
    "duration": 308,
    "start_time": "2024-04-11T20:49:32.782Z"
   },
   {
    "duration": 239,
    "start_time": "2024-04-11T20:49:33.091Z"
   },
   {
    "duration": 309,
    "start_time": "2024-04-11T20:49:33.332Z"
   },
   {
    "duration": 235,
    "start_time": "2024-04-11T20:49:33.642Z"
   },
   {
    "duration": 369,
    "start_time": "2024-04-11T20:49:33.879Z"
   },
   {
    "duration": 9,
    "start_time": "2024-04-11T20:49:34.249Z"
   },
   {
    "duration": 174,
    "start_time": "2024-04-11T20:49:34.260Z"
   },
   {
    "duration": 5,
    "start_time": "2024-04-11T20:49:34.436Z"
   },
   {
    "duration": 186,
    "start_time": "2024-04-11T20:49:34.442Z"
   },
   {
    "duration": 191,
    "start_time": "2024-04-11T20:49:34.630Z"
   },
   {
    "duration": 6,
    "start_time": "2024-04-11T20:49:34.823Z"
   },
   {
    "duration": 12,
    "start_time": "2024-04-11T20:49:34.831Z"
   },
   {
    "duration": 527,
    "start_time": "2024-04-11T20:49:34.845Z"
   },
   {
    "duration": 10,
    "start_time": "2024-04-11T20:49:35.374Z"
   },
   {
    "duration": 26,
    "start_time": "2024-04-11T20:49:35.386Z"
   },
   {
    "duration": 98,
    "start_time": "2024-04-11T20:49:35.413Z"
   },
   {
    "duration": 0,
    "start_time": "2024-04-11T20:49:35.512Z"
   },
   {
    "duration": 12,
    "start_time": "2024-04-11T20:52:39.087Z"
   },
   {
    "duration": 458,
    "start_time": "2024-04-11T20:54:50.480Z"
   },
   {
    "duration": 14,
    "start_time": "2024-04-11T20:54:53.530Z"
   },
   {
    "duration": 1053,
    "start_time": "2024-04-11T20:54:59.162Z"
   },
   {
    "duration": 28,
    "start_time": "2024-04-11T20:55:00.217Z"
   },
   {
    "duration": 24,
    "start_time": "2024-04-11T20:55:00.247Z"
   },
   {
    "duration": 81,
    "start_time": "2024-04-11T20:55:00.273Z"
   },
   {
    "duration": 33,
    "start_time": "2024-04-11T20:55:00.356Z"
   },
   {
    "duration": 90,
    "start_time": "2024-04-11T20:55:00.391Z"
   },
   {
    "duration": 5,
    "start_time": "2024-04-11T20:55:00.483Z"
   },
   {
    "duration": 79,
    "start_time": "2024-04-11T20:55:00.489Z"
   },
   {
    "duration": 89,
    "start_time": "2024-04-11T20:55:00.569Z"
   },
   {
    "duration": 29,
    "start_time": "2024-04-11T20:55:00.659Z"
   },
   {
    "duration": 32,
    "start_time": "2024-04-11T20:55:00.690Z"
   },
   {
    "duration": 28,
    "start_time": "2024-04-11T20:55:00.724Z"
   },
   {
    "duration": 340,
    "start_time": "2024-04-11T20:55:00.754Z"
   },
   {
    "duration": 5,
    "start_time": "2024-04-11T20:55:01.097Z"
   },
   {
    "duration": 29,
    "start_time": "2024-04-11T20:55:01.104Z"
   },
   {
    "duration": 345,
    "start_time": "2024-04-11T20:55:01.134Z"
   },
   {
    "duration": 244,
    "start_time": "2024-04-11T20:55:01.481Z"
   },
   {
    "duration": 332,
    "start_time": "2024-04-11T20:55:01.727Z"
   },
   {
    "duration": 244,
    "start_time": "2024-04-11T20:55:02.061Z"
   },
   {
    "duration": 359,
    "start_time": "2024-04-11T20:55:02.306Z"
   },
   {
    "duration": 9,
    "start_time": "2024-04-11T20:55:02.666Z"
   },
   {
    "duration": 177,
    "start_time": "2024-04-11T20:55:02.676Z"
   },
   {
    "duration": 5,
    "start_time": "2024-04-11T20:55:02.855Z"
   },
   {
    "duration": 188,
    "start_time": "2024-04-11T20:55:02.862Z"
   },
   {
    "duration": 180,
    "start_time": "2024-04-11T20:55:03.053Z"
   },
   {
    "duration": 5,
    "start_time": "2024-04-11T20:55:03.235Z"
   },
   {
    "duration": 13,
    "start_time": "2024-04-11T20:55:03.242Z"
   },
   {
    "duration": 525,
    "start_time": "2024-04-11T20:55:03.257Z"
   },
   {
    "duration": 11,
    "start_time": "2024-04-11T20:55:03.784Z"
   },
   {
    "duration": 23,
    "start_time": "2024-04-11T20:55:03.797Z"
   },
   {
    "duration": 14,
    "start_time": "2024-04-11T20:55:03.822Z"
   },
   {
    "duration": 453,
    "start_time": "2024-04-11T20:55:03.838Z"
   },
   {
    "duration": 27,
    "start_time": "2024-04-11T20:55:04.292Z"
   },
   {
    "duration": 1032,
    "start_time": "2024-04-11T20:55:58.751Z"
   },
   {
    "duration": 28,
    "start_time": "2024-04-11T20:55:59.785Z"
   },
   {
    "duration": 12,
    "start_time": "2024-04-11T20:55:59.814Z"
   },
   {
    "duration": 8,
    "start_time": "2024-04-11T20:55:59.828Z"
   },
   {
    "duration": 8,
    "start_time": "2024-04-11T20:55:59.838Z"
   },
   {
    "duration": 54,
    "start_time": "2024-04-11T20:55:59.847Z"
   },
   {
    "duration": 4,
    "start_time": "2024-04-11T20:55:59.903Z"
   },
   {
    "duration": 46,
    "start_time": "2024-04-11T20:55:59.909Z"
   },
   {
    "duration": 64,
    "start_time": "2024-04-11T20:55:59.956Z"
   },
   {
    "duration": 13,
    "start_time": "2024-04-11T20:56:00.022Z"
   },
   {
    "duration": 17,
    "start_time": "2024-04-11T20:56:00.037Z"
   },
   {
    "duration": 33,
    "start_time": "2024-04-11T20:56:00.056Z"
   },
   {
    "duration": 345,
    "start_time": "2024-04-11T20:56:00.090Z"
   },
   {
    "duration": 4,
    "start_time": "2024-04-11T20:56:00.437Z"
   },
   {
    "duration": 58,
    "start_time": "2024-04-11T20:56:00.443Z"
   },
   {
    "duration": 355,
    "start_time": "2024-04-11T20:56:00.503Z"
   },
   {
    "duration": 239,
    "start_time": "2024-04-11T20:56:00.859Z"
   },
   {
    "duration": 340,
    "start_time": "2024-04-11T20:56:01.100Z"
   },
   {
    "duration": 258,
    "start_time": "2024-04-11T20:56:01.442Z"
   },
   {
    "duration": 368,
    "start_time": "2024-04-11T20:56:01.702Z"
   },
   {
    "duration": 8,
    "start_time": "2024-04-11T20:56:02.071Z"
   },
   {
    "duration": 183,
    "start_time": "2024-04-11T20:56:02.081Z"
   },
   {
    "duration": 4,
    "start_time": "2024-04-11T20:56:02.266Z"
   },
   {
    "duration": 191,
    "start_time": "2024-04-11T20:56:02.272Z"
   },
   {
    "duration": 170,
    "start_time": "2024-04-11T20:56:02.465Z"
   },
   {
    "duration": 5,
    "start_time": "2024-04-11T20:56:02.637Z"
   },
   {
    "duration": 11,
    "start_time": "2024-04-11T20:56:02.643Z"
   },
   {
    "duration": 547,
    "start_time": "2024-04-11T20:56:02.655Z"
   },
   {
    "duration": 17,
    "start_time": "2024-04-11T20:56:03.204Z"
   },
   {
    "duration": 19,
    "start_time": "2024-04-11T20:56:03.222Z"
   },
   {
    "duration": 419,
    "start_time": "2024-04-11T20:56:03.243Z"
   },
   {
    "duration": 14,
    "start_time": "2024-04-11T20:56:03.664Z"
   },
   {
    "duration": 1146,
    "start_time": "2024-04-11T21:22:19.089Z"
   },
   {
    "duration": 27,
    "start_time": "2024-04-11T21:22:20.237Z"
   },
   {
    "duration": 13,
    "start_time": "2024-04-11T21:22:20.265Z"
   },
   {
    "duration": 19,
    "start_time": "2024-04-11T21:22:20.280Z"
   },
   {
    "duration": 13,
    "start_time": "2024-04-11T21:22:20.300Z"
   },
   {
    "duration": 70,
    "start_time": "2024-04-11T21:22:20.314Z"
   },
   {
    "duration": 6,
    "start_time": "2024-04-11T21:22:20.386Z"
   },
   {
    "duration": 60,
    "start_time": "2024-04-11T21:22:20.394Z"
   },
   {
    "duration": 48,
    "start_time": "2024-04-11T21:22:20.455Z"
   },
   {
    "duration": 13,
    "start_time": "2024-04-11T21:22:20.506Z"
   },
   {
    "duration": 14,
    "start_time": "2024-04-11T21:22:20.520Z"
   },
   {
    "duration": 4,
    "start_time": "2024-04-11T21:22:20.535Z"
   },
   {
    "duration": 296,
    "start_time": "2024-04-11T21:22:20.540Z"
   },
   {
    "duration": 5,
    "start_time": "2024-04-11T21:22:20.837Z"
   },
   {
    "duration": 17,
    "start_time": "2024-04-11T21:22:20.843Z"
   },
   {
    "duration": 316,
    "start_time": "2024-04-11T21:22:20.861Z"
   },
   {
    "duration": 221,
    "start_time": "2024-04-11T21:22:21.178Z"
   },
   {
    "duration": 327,
    "start_time": "2024-04-11T21:22:21.400Z"
   },
   {
    "duration": 221,
    "start_time": "2024-04-11T21:22:21.729Z"
   },
   {
    "duration": 344,
    "start_time": "2024-04-11T21:22:21.952Z"
   },
   {
    "duration": 9,
    "start_time": "2024-04-11T21:22:22.297Z"
   },
   {
    "duration": 172,
    "start_time": "2024-04-11T21:22:22.307Z"
   },
   {
    "duration": 5,
    "start_time": "2024-04-11T21:22:22.481Z"
   },
   {
    "duration": 212,
    "start_time": "2024-04-11T21:22:22.487Z"
   },
   {
    "duration": 165,
    "start_time": "2024-04-11T21:22:22.701Z"
   },
   {
    "duration": 6,
    "start_time": "2024-04-11T21:22:22.868Z"
   },
   {
    "duration": 483,
    "start_time": "2024-04-11T21:22:22.876Z"
   },
   {
    "duration": 11,
    "start_time": "2024-04-11T21:22:23.363Z"
   },
   {
    "duration": 28,
    "start_time": "2024-04-11T21:22:23.375Z"
   },
   {
    "duration": 424,
    "start_time": "2024-04-11T21:22:23.404Z"
   },
   {
    "duration": 13,
    "start_time": "2024-04-11T21:22:23.829Z"
   }
  ],
  "kernelspec": {
   "display_name": "Python 3",
   "language": "python",
   "name": "python3"
  },
  "language_info": {
   "codemirror_mode": {
    "name": "ipython",
    "version": 3
   },
   "file_extension": ".py",
   "mimetype": "text/x-python",
   "name": "python",
   "nbconvert_exporter": "python",
   "pygments_lexer": "ipython3",
   "version": "3.8.8"
  },
  "toc": {
   "base_numbering": 1,
   "nav_menu": {},
   "number_sections": true,
   "sideBar": true,
   "skip_h1_title": true,
   "title_cell": "Table of Contents",
   "title_sidebar": "Contents",
   "toc_cell": false,
   "toc_position": {},
   "toc_section_display": true,
   "toc_window_display": false
  },
  "varInspector": {
   "cols": {
    "lenName": 16,
    "lenType": 16,
    "lenVar": 40
   },
   "kernels_config": {
    "python": {
     "delete_cmd_postfix": "",
     "delete_cmd_prefix": "del ",
     "library": "var_list.py",
     "varRefreshCmd": "print(var_dic_list())"
    },
    "r": {
     "delete_cmd_postfix": ") ",
     "delete_cmd_prefix": "rm(",
     "library": "var_list.r",
     "varRefreshCmd": "cat(var_dic_list()) "
    }
   },
   "types_to_exclude": [
    "module",
    "function",
    "builtin_function_or_method",
    "instance",
    "_Feature"
   ],
   "window_display": false
  }
 },
 "nbformat": 4,
 "nbformat_minor": 2
}
