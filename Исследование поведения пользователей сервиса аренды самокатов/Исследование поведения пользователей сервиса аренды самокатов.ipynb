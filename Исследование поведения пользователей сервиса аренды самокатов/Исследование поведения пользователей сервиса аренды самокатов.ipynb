{
 "cells": [
  {
   "cell_type": "markdown",
   "id": "55969f62",
   "metadata": {
    "toc": true
   },
   "source": [
    "<h1>Table of Contents<span class=\"tocSkip\"></span></h1>\n",
    "<div class=\"toc\"><ul class=\"toc-item\"><li><span><a href=\"#Шаг-1.-Загрузка-данных\" data-toc-modified-id=\"Шаг-1.-Загрузка-данных-1\"><span class=\"toc-item-num\">1&nbsp;&nbsp;</span>Шаг 1. Загрузка данных</a></span></li><li><span><a href=\"#Шаг-2.-Предобработка-данных\" data-toc-modified-id=\"Шаг-2.-Предобработка-данных-2\"><span class=\"toc-item-num\">2&nbsp;&nbsp;</span>Шаг 2. Предобработка данных</a></span><ul class=\"toc-item\"><li><span><a href=\"#Изменяем-типв-столбце-'date'\" data-toc-modified-id=\"Изменяем-типв-столбце-'date'-2.1\"><span class=\"toc-item-num\">2.1&nbsp;&nbsp;</span>Изменяем типв столбце 'date'</a></span></li><li><span><a href=\"#Добавляем-новый-столбец-с-месяцем\" data-toc-modified-id=\"Добавляем-новый-столбец-с-месяцем-2.2\"><span class=\"toc-item-num\">2.2&nbsp;&nbsp;</span>Добавляем новый столбец с месяцем</a></span></li><li><span><a href=\"#Проверка-на-наличие-пропущенных-значений-и-дубликатов.\" data-toc-modified-id=\"Проверка-на-наличие-пропущенных-значений-и-дубликатов.-2.3\"><span class=\"toc-item-num\">2.3&nbsp;&nbsp;</span>Проверка на наличие пропущенных значений и дубликатов.</a></span></li></ul></li><li><span><a href=\"#Шаг-3.-Исследовательский-анализ-данных\" data-toc-modified-id=\"Шаг-3.-Исследовательский-анализ-данных-3\"><span class=\"toc-item-num\">3&nbsp;&nbsp;</span>Шаг 3. Исследовательский анализ данных</a></span><ul class=\"toc-item\"><li><span><a href=\"#Описание-и-визуализация-общей-информации-о-пользователях-и-поездках\" data-toc-modified-id=\"Описание-и-визуализация-общей-информации-о-пользователях-и-поездках-3.1\"><span class=\"toc-item-num\">3.1&nbsp;&nbsp;</span>Описание и визуализация общей информации о пользователях и поездках</a></span></li></ul></li><li><span><a href=\"#Шаг-4.-Объединение-данных\" data-toc-modified-id=\"Шаг-4.-Объединение-данных-4\"><span class=\"toc-item-num\">4&nbsp;&nbsp;</span>Шаг 4. Объединение данных</a></span><ul class=\"toc-item\"><li><span><a href=\"#Объединение-датафреймов\" data-toc-modified-id=\"Объединение-датафреймов-4.1\"><span class=\"toc-item-num\">4.1&nbsp;&nbsp;</span>Объединение датафреймов</a></span></li><li><span><a href=\"#Создадим-еще-два-датафрейма---с-пользователями-с-подпиской-и-без-нее\" data-toc-modified-id=\"Создадим-еще-два-датафрейма---с-пользователями-с-подпиской-и-без-нее-4.2\"><span class=\"toc-item-num\">4.2&nbsp;&nbsp;</span>Создадим еще два датафрейма - с пользователями с подпиской и без нее</a></span></li><li><span><a href=\"#Распределение-расстояния-и-времени-поездок-для-пользователей-с-подпиской-и-без-подписки\" data-toc-modified-id=\"Распределение-расстояния-и-времени-поездок-для-пользователей-с-подпиской-и-без-подписки-4.3\"><span class=\"toc-item-num\">4.3&nbsp;&nbsp;</span>Распределение расстояния и времени поездок для пользователей с подпиской и без подписки</a></span></li></ul></li><li><span><a href=\"#Шаг-5.-Подсчёт-выручки\" data-toc-modified-id=\"Шаг-5.-Подсчёт-выручки-5\"><span class=\"toc-item-num\">5&nbsp;&nbsp;</span>Шаг 5. Подсчёт выручки</a></span></li><li><span><a href=\"#Шаг-6.-Проверка-гипотез\" data-toc-modified-id=\"Шаг-6.-Проверка-гипотез-6\"><span class=\"toc-item-num\">6&nbsp;&nbsp;</span>Шаг 6. Проверка гипотез</a></span><ul class=\"toc-item\"><li><span><a href=\"#Тратят-ли-пользователи-с-подпиской-больше-времени-на-поездки?\" data-toc-modified-id=\"Тратят-ли-пользователи-с-подпиской-больше-времени-на-поездки?-6.1\"><span class=\"toc-item-num\">6.1&nbsp;&nbsp;</span>Тратят ли пользователи с подпиской больше времени на поездки?</a></span></li><li><span><a href=\"#Расстояние-одной-поездки-в-3130-метров-—-оптимальное-с-точки-зрения-износа-самоката.-Можно-ли-сказать,-что-среднее-расстояние,-которое-проезжают-пользователи-с-подпиской-за-одну-поездку,-не-превышает-3130-метров?\" data-toc-modified-id=\"Расстояние-одной-поездки-в-3130-метров-—-оптимальное-с-точки-зрения-износа-самоката.-Можно-ли-сказать,-что-среднее-расстояние,-которое-проезжают-пользователи-с-подпиской-за-одну-поездку,-не-превышает-3130-метров?-6.2\"><span class=\"toc-item-num\">6.2&nbsp;&nbsp;</span>Расстояние одной поездки в 3130 метров — оптимальное с точки зрения износа самоката. Можно ли сказать, что среднее расстояние, которое проезжают пользователи с подпиской за одну поездку, не превышает 3130 метров?</a></span></li><li><span><a href=\"#Будет-ли-помесячная-выручка-от-пользователей-с-подпиской-по-месяцам-выше,-чем-выручка-от-пользователей-без-подписки?\" data-toc-modified-id=\"Будет-ли-помесячная-выручка-от-пользователей-с-подпиской-по-месяцам-выше,-чем-выручка-от-пользователей-без-подписки?-6.3\"><span class=\"toc-item-num\">6.3&nbsp;&nbsp;</span>Будет ли помесячная выручка от пользователей с подпиской по месяцам выше, чем выручка от пользователей без подписки?</a></span></li><li><span><a href=\"#Представьте-такую-ситуацию:-техническая-команда-сервиса-обновила-сервера,-с-которыми-взаимодействует-мобильное-приложение.-Она-надеется,-что-из-за-этого-количество-обращений-в-техподдержку-значимо-снизилось.-Некоторый-файл-содержит-для-каждого-пользователя-данные-о-количестве-обращений-до-обновления-и-после-него.-Какой-тест-вам-понадобился-бы-для-проверки-этой-гипотезы?\" data-toc-modified-id=\"Представьте-такую-ситуацию:-техническая-команда-сервиса-обновила-сервера,-с-которыми-взаимодействует-мобильное-приложение.-Она-надеется,-что-из-за-этого-количество-обращений-в-техподдержку-значимо-снизилось.-Некоторый-файл-содержит-для-каждого-пользователя-данные-о-количестве-обращений-до-обновления-и-после-него.-Какой-тест-вам-понадобился-бы-для-проверки-этой-гипотезы?-6.4\"><span class=\"toc-item-num\">6.4&nbsp;&nbsp;</span>Представьте такую ситуацию: техническая команда сервиса обновила сервера, с которыми взаимодействует мобильное приложение. Она надеется, что из-за этого количество обращений в техподдержку значимо снизилось. Некоторый файл содержит для каждого пользователя данные о количестве обращений до обновления и после него. Какой тест вам понадобился бы для проверки этой гипотезы?</a></span></li></ul></li><li><span><a href=\"#Шаг-7.-Распределения\" data-toc-modified-id=\"Шаг-7.-Распределения-7\"><span class=\"toc-item-num\">7&nbsp;&nbsp;</span>Шаг 7. Распределения</a></span><ul class=\"toc-item\"><li><span><a href=\"#Отделу-маркетинга-GoFast-поставили-задачу:-нужно-провести-акцию-с-раздачей-промокодов-на-один-бесплатный-месяц-подписки,-в-рамках-которой-как-минимум-100-существующих-клиентов-должны-продлить-эту-подписку.-То-есть-по-завершении-периода-действия-подписки-пользователь-может-либо-отказаться-от-неё,-либо-продлить,-совершив-соответствующий-платёж.\" data-toc-modified-id=\"Отделу-маркетинга-GoFast-поставили-задачу:-нужно-провести-акцию-с-раздачей-промокодов-на-один-бесплатный-месяц-подписки,-в-рамках-которой-как-минимум-100-существующих-клиентов-должны-продлить-эту-подписку.-То-есть-по-завершении-периода-действия-подписки-пользователь-может-либо-отказаться-от-неё,-либо-продлить,-совершив-соответствующий-платёж.-7.1\"><span class=\"toc-item-num\">7.1&nbsp;&nbsp;</span>Отделу маркетинга GoFast поставили задачу: нужно провести акцию с раздачей промокодов на один бесплатный месяц подписки, в рамках которой как минимум 100 существующих клиентов должны продлить эту подписку. То есть по завершении периода действия подписки пользователь может либо отказаться от неё, либо продлить, совершив соответствующий платёж.</a></span></li><li><span><a href=\"#Отдел-маркетинга-рассылает-клиентам-push-уведомления-в-мобильном-приложении.-Клиенты-могут-открыть-его-или-не-открывать.-Известно,-что-уведомления-открывают-около-40-%-получивших-клиентов.-Отдел-планирует-разослать-1-млн-уведомлений.-С-помощью-аппроксимации-постройте-примерный-график-распределения-и-оцените-вероятность-того,-что-уведомление-откроют-не-более-399,5-тыс.-пользователей.\" data-toc-modified-id=\"Отдел-маркетинга-рассылает-клиентам-push-уведомления-в-мобильном-приложении.-Клиенты-могут-открыть-его-или-не-открывать.-Известно,-что-уведомления-открывают-около-40-%-получивших-клиентов.-Отдел-планирует-разослать-1-млн-уведомлений.-С-помощью-аппроксимации-постройте-примерный-график-распределения-и-оцените-вероятность-того,-что-уведомление-откроют-не-более-399,5-тыс.-пользователей.-7.2\"><span class=\"toc-item-num\">7.2&nbsp;&nbsp;</span>Отдел маркетинга рассылает клиентам push-уведомления в мобильном приложении. Клиенты могут открыть его или не открывать. Известно, что уведомления открывают около 40 % получивших клиентов. Отдел планирует разослать 1 млн уведомлений. С помощью аппроксимации постройте примерный график распределения и оцените вероятность того, что уведомление откроют не более 399,5 тыс. пользователей.</a></span></li></ul></li><li><span><a href=\"#Вывод\" data-toc-modified-id=\"Вывод-8\"><span class=\"toc-item-num\">8&nbsp;&nbsp;</span>Вывод</a></span></li></ul></div>"
   ]
  },
  {
   "cell_type": "markdown",
   "id": "cfb9a56e",
   "metadata": {},
   "source": [
    "# Статистический анализ сервиса аренды самокатов"
   ]
  },
  {
   "cell_type": "markdown",
   "id": "21fef970",
   "metadata": {},
   "source": [
    "***Описание проекта*** \n",
    "\n",
    "Вы аналитик популярного сервиса аренды самокатов GoFast. Вам передали данные о некоторых пользователях из нескольких городов, а также об их поездках. Проанализируйте данные и проверьте некоторые гипотезы, которые могут помочь бизнесу вырасти.\n",
    "Чтобы совершать поездки по городу, пользователи сервиса GoFast пользуются мобильным приложением. Сервисом можно пользоваться:\n",
    "\n",
    "    без подписки \n",
    "        абонентская плата отсутствует;\n",
    "        стоимость одной минуты поездки — 8 рублей;\n",
    "        стоимость старта (начала поездки) — 50 рублей;\n",
    "        \n",
    "    с подпиской Ultra\n",
    "        абонентская плата — 199 рублей в месяц;\n",
    "        стоимость одной минуты поездки — 6 рублей;\n",
    "        стоимость старта — бесплатно.\n",
    "\n",
    "***Описание данных***\n",
    "В основных данных есть информация о пользователях, их поездках и подписках.\n",
    "*Пользователи — users_go.csv*\n",
    "\t\n",
    "1. user_id\tуникальный идентификатор пользователя\n",
    "2. name\tимя пользователя\n",
    "3. age\tвозраст\n",
    "4. city\tгород\n",
    "5. subscription_type\tтип подписки (free, ultra)\n",
    "\n",
    "*Поездки — rides_go.csv*\n",
    "\t\n",
    "1. user_id\tуникальный идентификатор пользователя\n",
    "2. distance\tрасстояние, которое пользователь проехал в текущей сессии (в метрах)\n",
    "3. duration\tпродолжительность сессии (в минутах) — время с того момента, как пользователь нажал кнопку «Начать поездку» до момента, как он нажал кнопку «Завершить поездку»\n",
    "4. date\tдата совершения поездки\n",
    "\n",
    "*Подписки — subscriptions_go.csv*\n",
    "\t\n",
    "1. subscription_type\tтип подписки\n",
    "2. minute_price\tстоимость одной минуты поездки по данной подписке\n",
    "3. start_ride_price\tстоимость начала поездки\n",
    "4. subscription_fee\tстоимость ежемесячного платежа"
   ]
  },
  {
   "cell_type": "markdown",
   "id": "aa78f2d3",
   "metadata": {},
   "source": [
    "# План работ\n",
    "\n",
    "1. Загрузка данных\n",
    "2. Знакомство с данными\n",
    "3. Предобработка (изменение типов данных, удаление дубликатов)\n",
    "4. Визуализация общей информации о пользователях и поездках\n",
    "5. Изучение поведения пользователей с подпиской и без подписки\n",
    "6. Подсчет выручки от каждого пользователя\n",
    "7. Проверка гипотез"
   ]
  },
  {
   "cell_type": "code",
   "execution_count": 1,
   "id": "aad205d1",
   "metadata": {},
   "outputs": [],
   "source": [
    "import pandas as pd\n",
    "import matplotlib.pyplot as plt\n",
    "import numpy as np\n",
    "from scipy import stats as st\n",
    "from math import factorial, sqrt"
   ]
  },
  {
   "cell_type": "markdown",
   "id": "0001c75a",
   "metadata": {},
   "source": [
    "#### Шаг 1. Загрузка данных"
   ]
  },
  {
   "cell_type": "code",
   "execution_count": 2,
   "id": "a3bf0671",
   "metadata": {},
   "outputs": [],
   "source": [
    "df_users = pd.read_csv(r\"D:\\Загрузки\\users_go.csv\")\n",
    "df_rides = pd.read_csv(r\"D:\\Загрузки\\rides_go.csv\")\n",
    "df_sub = pd.read_csv(r\"D:\\Загрузки\\subscriptions_go.csv\")"
   ]
  },
  {
   "cell_type": "code",
   "execution_count": 3,
   "id": "a8503be8",
   "metadata": {},
   "outputs": [
    {
     "data": {
      "text/html": [
       "<div>\n",
       "<style scoped>\n",
       "    .dataframe tbody tr th:only-of-type {\n",
       "        vertical-align: middle;\n",
       "    }\n",
       "\n",
       "    .dataframe tbody tr th {\n",
       "        vertical-align: top;\n",
       "    }\n",
       "\n",
       "    .dataframe thead th {\n",
       "        text-align: right;\n",
       "    }\n",
       "</style>\n",
       "<table border=\"1\" class=\"dataframe\">\n",
       "  <thead>\n",
       "    <tr style=\"text-align: right;\">\n",
       "      <th></th>\n",
       "      <th>user_id</th>\n",
       "      <th>name</th>\n",
       "      <th>age</th>\n",
       "      <th>city</th>\n",
       "      <th>subscription_type</th>\n",
       "    </tr>\n",
       "  </thead>\n",
       "  <tbody>\n",
       "    <tr>\n",
       "      <th>0</th>\n",
       "      <td>1</td>\n",
       "      <td>Кира</td>\n",
       "      <td>22</td>\n",
       "      <td>Тюмень</td>\n",
       "      <td>ultra</td>\n",
       "    </tr>\n",
       "    <tr>\n",
       "      <th>1</th>\n",
       "      <td>2</td>\n",
       "      <td>Станислав</td>\n",
       "      <td>31</td>\n",
       "      <td>Омск</td>\n",
       "      <td>ultra</td>\n",
       "    </tr>\n",
       "    <tr>\n",
       "      <th>2</th>\n",
       "      <td>3</td>\n",
       "      <td>Алексей</td>\n",
       "      <td>20</td>\n",
       "      <td>Москва</td>\n",
       "      <td>ultra</td>\n",
       "    </tr>\n",
       "    <tr>\n",
       "      <th>3</th>\n",
       "      <td>4</td>\n",
       "      <td>Константин</td>\n",
       "      <td>26</td>\n",
       "      <td>Ростов-на-Дону</td>\n",
       "      <td>ultra</td>\n",
       "    </tr>\n",
       "    <tr>\n",
       "      <th>4</th>\n",
       "      <td>5</td>\n",
       "      <td>Адель</td>\n",
       "      <td>28</td>\n",
       "      <td>Омск</td>\n",
       "      <td>ultra</td>\n",
       "    </tr>\n",
       "    <tr>\n",
       "      <th>5</th>\n",
       "      <td>6</td>\n",
       "      <td>Регина</td>\n",
       "      <td>25</td>\n",
       "      <td>Краснодар</td>\n",
       "      <td>ultra</td>\n",
       "    </tr>\n",
       "    <tr>\n",
       "      <th>6</th>\n",
       "      <td>7</td>\n",
       "      <td>Игорь</td>\n",
       "      <td>23</td>\n",
       "      <td>Омск</td>\n",
       "      <td>ultra</td>\n",
       "    </tr>\n",
       "    <tr>\n",
       "      <th>7</th>\n",
       "      <td>8</td>\n",
       "      <td>Юрий</td>\n",
       "      <td>23</td>\n",
       "      <td>Краснодар</td>\n",
       "      <td>ultra</td>\n",
       "    </tr>\n",
       "    <tr>\n",
       "      <th>8</th>\n",
       "      <td>9</td>\n",
       "      <td>Ян</td>\n",
       "      <td>21</td>\n",
       "      <td>Пятигорск</td>\n",
       "      <td>ultra</td>\n",
       "    </tr>\n",
       "    <tr>\n",
       "      <th>9</th>\n",
       "      <td>10</td>\n",
       "      <td>Валерий</td>\n",
       "      <td>18</td>\n",
       "      <td>Екатеринбург</td>\n",
       "      <td>ultra</td>\n",
       "    </tr>\n",
       "  </tbody>\n",
       "</table>\n",
       "</div>"
      ],
      "text/plain": [
       "   user_id        name  age            city subscription_type\n",
       "0        1        Кира   22          Тюмень             ultra\n",
       "1        2   Станислав   31            Омск             ultra\n",
       "2        3     Алексей   20          Москва             ultra\n",
       "3        4  Константин   26  Ростов-на-Дону             ultra\n",
       "4        5       Адель   28            Омск             ultra\n",
       "5        6      Регина   25       Краснодар             ultra\n",
       "6        7       Игорь   23            Омск             ultra\n",
       "7        8        Юрий   23       Краснодар             ultra\n",
       "8        9          Ян   21       Пятигорск             ultra\n",
       "9       10     Валерий   18    Екатеринбург             ultra"
      ]
     },
     "metadata": {},
     "output_type": "display_data"
    },
    {
     "name": "stdout",
     "output_type": "stream",
     "text": [
      "--------------------------\n",
      "<class 'pandas.core.frame.DataFrame'>\n",
      "RangeIndex: 1565 entries, 0 to 1564\n",
      "Data columns (total 5 columns):\n",
      " #   Column             Non-Null Count  Dtype \n",
      "---  ------             --------------  ----- \n",
      " 0   user_id            1565 non-null   int64 \n",
      " 1   name               1565 non-null   object\n",
      " 2   age                1565 non-null   int64 \n",
      " 3   city               1565 non-null   object\n",
      " 4   subscription_type  1565 non-null   object\n",
      "dtypes: int64(2), object(3)\n",
      "memory usage: 61.3+ KB\n"
     ]
    }
   ],
   "source": [
    "display(df_users.head(10))\n",
    "print('--------------------------')\n",
    "df_users.info()"
   ]
  },
  {
   "cell_type": "code",
   "execution_count": 4,
   "id": "0ba11333",
   "metadata": {},
   "outputs": [
    {
     "data": {
      "text/html": [
       "<div>\n",
       "<style scoped>\n",
       "    .dataframe tbody tr th:only-of-type {\n",
       "        vertical-align: middle;\n",
       "    }\n",
       "\n",
       "    .dataframe tbody tr th {\n",
       "        vertical-align: top;\n",
       "    }\n",
       "\n",
       "    .dataframe thead th {\n",
       "        text-align: right;\n",
       "    }\n",
       "</style>\n",
       "<table border=\"1\" class=\"dataframe\">\n",
       "  <thead>\n",
       "    <tr style=\"text-align: right;\">\n",
       "      <th></th>\n",
       "      <th>user_id</th>\n",
       "      <th>distance</th>\n",
       "      <th>duration</th>\n",
       "      <th>date</th>\n",
       "    </tr>\n",
       "  </thead>\n",
       "  <tbody>\n",
       "    <tr>\n",
       "      <th>0</th>\n",
       "      <td>1</td>\n",
       "      <td>4409.919140</td>\n",
       "      <td>25.599769</td>\n",
       "      <td>2021-01-01</td>\n",
       "    </tr>\n",
       "    <tr>\n",
       "      <th>1</th>\n",
       "      <td>1</td>\n",
       "      <td>2617.592153</td>\n",
       "      <td>15.816871</td>\n",
       "      <td>2021-01-18</td>\n",
       "    </tr>\n",
       "    <tr>\n",
       "      <th>2</th>\n",
       "      <td>1</td>\n",
       "      <td>754.159807</td>\n",
       "      <td>6.232113</td>\n",
       "      <td>2021-04-20</td>\n",
       "    </tr>\n",
       "    <tr>\n",
       "      <th>3</th>\n",
       "      <td>1</td>\n",
       "      <td>2694.783254</td>\n",
       "      <td>18.511000</td>\n",
       "      <td>2021-08-11</td>\n",
       "    </tr>\n",
       "    <tr>\n",
       "      <th>4</th>\n",
       "      <td>1</td>\n",
       "      <td>4028.687306</td>\n",
       "      <td>26.265803</td>\n",
       "      <td>2021-08-28</td>\n",
       "    </tr>\n",
       "    <tr>\n",
       "      <th>5</th>\n",
       "      <td>1</td>\n",
       "      <td>2770.890808</td>\n",
       "      <td>16.650138</td>\n",
       "      <td>2021-10-09</td>\n",
       "    </tr>\n",
       "    <tr>\n",
       "      <th>6</th>\n",
       "      <td>1</td>\n",
       "      <td>3039.020292</td>\n",
       "      <td>14.927879</td>\n",
       "      <td>2021-10-19</td>\n",
       "    </tr>\n",
       "    <tr>\n",
       "      <th>7</th>\n",
       "      <td>1</td>\n",
       "      <td>2842.118050</td>\n",
       "      <td>23.117468</td>\n",
       "      <td>2021-11-06</td>\n",
       "    </tr>\n",
       "    <tr>\n",
       "      <th>8</th>\n",
       "      <td>1</td>\n",
       "      <td>3412.690668</td>\n",
       "      <td>15.238072</td>\n",
       "      <td>2021-11-14</td>\n",
       "    </tr>\n",
       "    <tr>\n",
       "      <th>9</th>\n",
       "      <td>1</td>\n",
       "      <td>748.690645</td>\n",
       "      <td>15.041884</td>\n",
       "      <td>2021-11-22</td>\n",
       "    </tr>\n",
       "  </tbody>\n",
       "</table>\n",
       "</div>"
      ],
      "text/plain": [
       "   user_id     distance   duration        date\n",
       "0        1  4409.919140  25.599769  2021-01-01\n",
       "1        1  2617.592153  15.816871  2021-01-18\n",
       "2        1   754.159807   6.232113  2021-04-20\n",
       "3        1  2694.783254  18.511000  2021-08-11\n",
       "4        1  4028.687306  26.265803  2021-08-28\n",
       "5        1  2770.890808  16.650138  2021-10-09\n",
       "6        1  3039.020292  14.927879  2021-10-19\n",
       "7        1  2842.118050  23.117468  2021-11-06\n",
       "8        1  3412.690668  15.238072  2021-11-14\n",
       "9        1   748.690645  15.041884  2021-11-22"
      ]
     },
     "metadata": {},
     "output_type": "display_data"
    },
    {
     "name": "stdout",
     "output_type": "stream",
     "text": [
      "--------------------------\n",
      "<class 'pandas.core.frame.DataFrame'>\n",
      "RangeIndex: 18068 entries, 0 to 18067\n",
      "Data columns (total 4 columns):\n",
      " #   Column    Non-Null Count  Dtype  \n",
      "---  ------    --------------  -----  \n",
      " 0   user_id   18068 non-null  int64  \n",
      " 1   distance  18068 non-null  float64\n",
      " 2   duration  18068 non-null  float64\n",
      " 3   date      18068 non-null  object \n",
      "dtypes: float64(2), int64(1), object(1)\n",
      "memory usage: 564.8+ KB\n"
     ]
    }
   ],
   "source": [
    "display(df_rides.head(10))\n",
    "print('--------------------------')\n",
    "df_rides.info()"
   ]
  },
  {
   "cell_type": "code",
   "execution_count": 5,
   "id": "28bd065d",
   "metadata": {},
   "outputs": [
    {
     "data": {
      "text/html": [
       "<div>\n",
       "<style scoped>\n",
       "    .dataframe tbody tr th:only-of-type {\n",
       "        vertical-align: middle;\n",
       "    }\n",
       "\n",
       "    .dataframe tbody tr th {\n",
       "        vertical-align: top;\n",
       "    }\n",
       "\n",
       "    .dataframe thead th {\n",
       "        text-align: right;\n",
       "    }\n",
       "</style>\n",
       "<table border=\"1\" class=\"dataframe\">\n",
       "  <thead>\n",
       "    <tr style=\"text-align: right;\">\n",
       "      <th></th>\n",
       "      <th>subscription_type</th>\n",
       "      <th>minute_price</th>\n",
       "      <th>start_ride_price</th>\n",
       "      <th>subscription_fee</th>\n",
       "    </tr>\n",
       "  </thead>\n",
       "  <tbody>\n",
       "    <tr>\n",
       "      <th>0</th>\n",
       "      <td>free</td>\n",
       "      <td>8</td>\n",
       "      <td>50</td>\n",
       "      <td>0</td>\n",
       "    </tr>\n",
       "    <tr>\n",
       "      <th>1</th>\n",
       "      <td>ultra</td>\n",
       "      <td>6</td>\n",
       "      <td>0</td>\n",
       "      <td>199</td>\n",
       "    </tr>\n",
       "  </tbody>\n",
       "</table>\n",
       "</div>"
      ],
      "text/plain": [
       "  subscription_type  minute_price  start_ride_price  subscription_fee\n",
       "0              free             8                50                 0\n",
       "1             ultra             6                 0               199"
      ]
     },
     "metadata": {},
     "output_type": "display_data"
    },
    {
     "name": "stdout",
     "output_type": "stream",
     "text": [
      "--------------------------\n",
      "<class 'pandas.core.frame.DataFrame'>\n",
      "RangeIndex: 2 entries, 0 to 1\n",
      "Data columns (total 4 columns):\n",
      " #   Column             Non-Null Count  Dtype \n",
      "---  ------             --------------  ----- \n",
      " 0   subscription_type  2 non-null      object\n",
      " 1   minute_price       2 non-null      int64 \n",
      " 2   start_ride_price   2 non-null      int64 \n",
      " 3   subscription_fee   2 non-null      int64 \n",
      "dtypes: int64(3), object(1)\n",
      "memory usage: 192.0+ bytes\n"
     ]
    }
   ],
   "source": [
    "display(df_sub.head())\n",
    "print('--------------------------')\n",
    "df_sub.info()"
   ]
  },
  {
   "cell_type": "markdown",
   "id": "6c14a7ed",
   "metadata": {},
   "source": [
    "***Вывод***\n",
    "\n",
    "Данные во всех датафреймах не имеют нулевых значений. Необходимо изменить тип данных в столбце 'date' в таблице с поездками для корректной работы с датами. Тип данных в некоторых числовых столбцах не оптимальный (например, возраст можно перезаписать на int8), но т.к. у нас немного строк, оставим так."
   ]
  },
  {
   "cell_type": "markdown",
   "id": "860ed933",
   "metadata": {},
   "source": [
    "#### Шаг 2. Предобработка данных"
   ]
  },
  {
   "cell_type": "markdown",
   "id": "c99ea4fc",
   "metadata": {},
   "source": [
    "##### Изменяем типв столбце 'date'"
   ]
  },
  {
   "cell_type": "code",
   "execution_count": 6,
   "id": "08f137d0",
   "metadata": {},
   "outputs": [],
   "source": [
    "df_rides['date'] = pd.to_datetime(df_rides['date'])"
   ]
  },
  {
   "cell_type": "markdown",
   "id": "5b3eb419",
   "metadata": {},
   "source": [
    "##### Добавляем новый столбец с месяцем\n"
   ]
  },
  {
   "cell_type": "code",
   "execution_count": 7,
   "id": "787e2e2f",
   "metadata": {},
   "outputs": [
    {
     "data": {
      "text/plain": [
       "2021    18068\n",
       "Name: date, dtype: int64"
      ]
     },
     "execution_count": 7,
     "metadata": {},
     "output_type": "execute_result"
    }
   ],
   "source": [
    "df_rides['date'].dt.year.value_counts()\n",
    "# убедились, что у нас данные за один год"
   ]
  },
  {
   "cell_type": "code",
   "execution_count": 8,
   "id": "ab37cbfa",
   "metadata": {},
   "outputs": [],
   "source": [
    "df_rides['month'] = df_rides['date'].dt.month"
   ]
  },
  {
   "cell_type": "markdown",
   "id": "c1ca88ad",
   "metadata": {},
   "source": [
    "##### Проверка на наличие пропущенных значений и дубликатов. "
   ]
  },
  {
   "cell_type": "code",
   "execution_count": 10,
   "id": "b3d5deb5",
   "metadata": {},
   "outputs": [
    {
     "data": {
      "text/plain": [
       "user_id              0\n",
       "name                 0\n",
       "age                  0\n",
       "city                 0\n",
       "subscription_type    0\n",
       "dtype: int64"
      ]
     },
     "metadata": {},
     "output_type": "display_data"
    },
    {
     "name": "stdout",
     "output_type": "stream",
     "text": [
      "Число явных дубликатов: 31\n"
     ]
    }
   ],
   "source": [
    "display(df_users.isna().sum())\n",
    "print('Число явных дубликатов:', df_users.duplicated().sum())"
   ]
  },
  {
   "cell_type": "code",
   "execution_count": 11,
   "id": "244d20e0",
   "metadata": {},
   "outputs": [],
   "source": [
    "df_users.drop_duplicates(inplace=True)"
   ]
  },
  {
   "cell_type": "code",
   "execution_count": 12,
   "id": "847eb432",
   "metadata": {},
   "outputs": [
    {
     "data": {
      "text/plain": [
       "user_id     0\n",
       "distance    0\n",
       "duration    0\n",
       "date        0\n",
       "month       0\n",
       "dtype: int64"
      ]
     },
     "metadata": {},
     "output_type": "display_data"
    },
    {
     "name": "stdout",
     "output_type": "stream",
     "text": [
      "Число явных дубликатов: 0\n"
     ]
    }
   ],
   "source": [
    "display(df_rides.isna().sum())\n",
    "print('Число явных дубликатов:', df_rides.duplicated().sum())"
   ]
  },
  {
   "cell_type": "markdown",
   "id": "396b1f5a",
   "metadata": {},
   "source": [
    "***Вывод***\n",
    "\n",
    "Изменен тип данных в столбце дата, добавлен новый столбец со значением месяца, удалены дубликаты в датафрейме с пользователями."
   ]
  },
  {
   "cell_type": "markdown",
   "id": "6e66d1cc",
   "metadata": {},
   "source": [
    "#### Шаг 3. Исследовательский анализ данных"
   ]
  },
  {
   "cell_type": "markdown",
   "id": "714696cf",
   "metadata": {},
   "source": [
    "##### Описание и визуализация общей информации о пользователях и поездках"
   ]
  },
  {
   "cell_type": "code",
   "execution_count": 13,
   "id": "183a4a58",
   "metadata": {},
   "outputs": [
    {
     "data": {
      "image/png": "[encoded data removed]",
      "text/plain": [
       "<Figure size 504x360 with 1 Axes>"
      ]
     },
     "metadata": {
      "needs_background": "light"
     },
     "output_type": "display_data"
    }
   ],
   "source": [
    "df_users['city'].value_counts(ascending=True).plot(kind='barh', figsize=(7,5))\n",
    "plt.title('Частота встречаемости городов')\n",
    "plt.xlabel('Частота')\n",
    "plt.ylabel('Города')\n",
    "plt.show()"
   ]
  },
  {
   "cell_type": "markdown",
   "id": "e447a19e",
   "metadata": {},
   "source": [
    "***Вывод***\n",
    "\n",
    "Большинство зарегистрировавшихся пользователей наблюдается в Пятигорске, затем Екатеринбург и Ростов-на-Дону. Наименее популярный город - Москва."
   ]
  },
  {
   "cell_type": "code",
   "execution_count": 14,
   "id": "7390e27e",
   "metadata": {},
   "outputs": [
    {
     "data": {
      "image/png": "[encoded data removed]",
      "text/plain": [
       "<Figure size 720x504 with 1 Axes>"
      ]
     },
     "metadata": {},
     "output_type": "display_data"
    }
   ],
   "source": [
    "(df_users['subscription_type'].value_counts().\n",
    "    plot(kind='pie', figsize=(10,7), autopct='%1.0f%%', colors=['lightsteelblue', 'royalblue']))\n",
    "plt.title('Соотношение пользователей с подпиской и без подписки')\n",
    "plt.show()"
   ]
  },
  {
   "cell_type": "markdown",
   "id": "eb8934c7",
   "metadata": {},
   "source": [
    "***Вывод***\n",
    "\n",
    "\n",
    "Пользователей без подписки на 8% больше, чем с ней (54% и 46% соответственно)."
   ]
  },
  {
   "cell_type": "code",
   "execution_count": 15,
   "id": "171b50f0",
   "metadata": {},
   "outputs": [
    {
     "data": {
      "image/png": "[encoded data removed]",
      "text/plain": [
       "<Figure size 432x288 with 1 Axes>"
      ]
     },
     "metadata": {
      "needs_background": "light"
     },
     "output_type": "display_data"
    },
    {
     "data": {
      "text/plain": [
       "count    1534.000000\n",
       "mean       24.903520\n",
       "std         4.572367\n",
       "min        12.000000\n",
       "25%        22.000000\n",
       "50%        25.000000\n",
       "75%        28.000000\n",
       "max        43.000000\n",
       "Name: age, dtype: float64"
      ]
     },
     "execution_count": 15,
     "metadata": {},
     "output_type": "execute_result"
    }
   ],
   "source": [
    "df_users['age'].hist(bins=15)\n",
    "plt.title('Возраст пользователей')\n",
    "plt.xlabel('Возраст')\n",
    "plt.ylabel('Частота')\n",
    "plt.show()\n",
    "df_users['age'].describe()"
   ]
  },
  {
   "cell_type": "markdown",
   "id": "fe6d261b",
   "metadata": {},
   "source": [
    "***Вывод***\n",
    "\n",
    "\n",
    "\n",
    "Возраст пользователей в основном находится в диапазоне от 22 до 28 лет. Минимальный возраст - 12 лет, а максимальный - 43 года."
   ]
  },
  {
   "cell_type": "code",
   "execution_count": 16,
   "id": "c90900cd",
   "metadata": {},
   "outputs": [
    {
     "data": {
      "image/png": "[encoded data removed]",
      "text/plain": [
       "<Figure size 720x504 with 1 Axes>"
      ]
     },
     "metadata": {
      "needs_background": "light"
     },
     "output_type": "display_data"
    },
    {
     "data": {
      "text/plain": [
       "count    18068.000000\n",
       "mean      3070.659976\n",
       "std       1116.831209\n",
       "min          0.855683\n",
       "25%       2543.226360\n",
       "50%       3133.609994\n",
       "75%       3776.222735\n",
       "max       7211.007745\n",
       "Name: distance, dtype: float64"
      ]
     },
     "execution_count": 16,
     "metadata": {},
     "output_type": "execute_result"
    }
   ],
   "source": [
    "df_rides['distance'].hist(bins= 60, figsize=(10, 7))\n",
    "plt.title('Расстояние, которое пользователь преодолел за одну поездку')\n",
    "plt.show()\n",
    "df_rides['distance'].describe()"
   ]
  },
  {
   "cell_type": "code",
   "execution_count": 17,
   "id": "943e1f49",
   "metadata": {},
   "outputs": [
    {
     "data": {
      "image/png": "[encoded data removed]",
      "text/plain": [
       "<Figure size 1224x144 with 1 Axes>"
      ]
     },
     "metadata": {
      "needs_background": "light"
     },
     "output_type": "display_data"
    }
   ],
   "source": [
    "fig, ax = plt.subplots(figsize=(17,2))\n",
    "ax = df_rides[['distance']].boxplot(vert=False, ax=ax)\n",
    "ax.set_title('Диаграмма размаха значений расстояний за одну поездку')\n",
    "ax.set_xlim(0, 7300);"
   ]
  },
  {
   "cell_type": "code",
   "execution_count": 18,
   "id": "9f998a2c",
   "metadata": {},
   "outputs": [
    {
     "data": {
      "text/html": [
       "<div>\n",
       "<style scoped>\n",
       "    .dataframe tbody tr th:only-of-type {\n",
       "        vertical-align: middle;\n",
       "    }\n",
       "\n",
       "    .dataframe tbody tr th {\n",
       "        vertical-align: top;\n",
       "    }\n",
       "\n",
       "    .dataframe thead th {\n",
       "        text-align: right;\n",
       "    }\n",
       "</style>\n",
       "<table border=\"1\" class=\"dataframe\">\n",
       "  <thead>\n",
       "    <tr style=\"text-align: right;\">\n",
       "      <th></th>\n",
       "      <th>user_id</th>\n",
       "      <th>distance</th>\n",
       "      <th>duration</th>\n",
       "      <th>date</th>\n",
       "      <th>month</th>\n",
       "    </tr>\n",
       "  </thead>\n",
       "  <tbody>\n",
       "    <tr>\n",
       "      <th>11555</th>\n",
       "      <td>1069</td>\n",
       "      <td>0.855683</td>\n",
       "      <td>10.001902</td>\n",
       "      <td>2021-01-31</td>\n",
       "      <td>1</td>\n",
       "    </tr>\n",
       "  </tbody>\n",
       "</table>\n",
       "</div>"
      ],
      "text/plain": [
       "       user_id  distance   duration       date  month\n",
       "11555     1069  0.855683  10.001902 2021-01-31      1"
      ]
     },
     "execution_count": 18,
     "metadata": {},
     "output_type": "execute_result"
    }
   ],
   "source": [
    "df_rides.query('distance<1')"
   ]
  },
  {
   "cell_type": "markdown",
   "id": "ad2b606d",
   "metadata": {},
   "source": [
    "***Посмотрели на странное минимальное расстояние (меньше одного метра). Длительность такой поездки составила более 10 минут. Сомнительно, но окэээй.***"
   ]
  },
  {
   "cell_type": "markdown",
   "id": "6ce01443",
   "metadata": {},
   "source": [
    "***Вывод***\n",
    "\n",
    "\n",
    "На графике расстояние, которое пользователь проехал за одну поездку, имеет два пика: первый заметен около 500 метров, а другой - чуть более 3 километров. Такое распределение возможно, ведь пользователи берут самокаты как для длительнх, так и для коротких поездок."
   ]
  },
  {
   "cell_type": "code",
   "execution_count": 19,
   "id": "89aa0bef",
   "metadata": {},
   "outputs": [
    {
     "data": {
      "image/png": "[encoded data removed]",
      "text/plain": [
       "<Figure size 720x504 with 1 Axes>"
      ]
     },
     "metadata": {
      "needs_background": "light"
     },
     "output_type": "display_data"
    },
    {
     "data": {
      "text/plain": [
       "count    18068.000000\n",
       "mean        17.805011\n",
       "std          6.091051\n",
       "min          0.500000\n",
       "25%         13.597563\n",
       "50%         17.678395\n",
       "75%         21.724800\n",
       "max         40.823963\n",
       "Name: duration, dtype: float64"
      ]
     },
     "execution_count": 19,
     "metadata": {},
     "output_type": "execute_result"
    }
   ],
   "source": [
    "df_rides['duration'].hist(bins= 50, figsize=(10, 7))\n",
    "plt.title('Продолжительность поездок')\n",
    "plt.xlabel('Минуты')\n",
    "plt.ylabel('Частота')\n",
    "plt.show()\n",
    "df_rides['duration'].describe()"
   ]
  },
  {
   "cell_type": "code",
   "execution_count": 20,
   "id": "8f308f69",
   "metadata": {},
   "outputs": [
    {
     "data": {
      "image/png": "[encoded data removed]",
      "text/plain": [
       "<Figure size 1224x144 with 1 Axes>"
      ]
     },
     "metadata": {
      "needs_background": "light"
     },
     "output_type": "display_data"
    }
   ],
   "source": [
    "fig, ax = plt.subplots(figsize=(17,2))\n",
    "ax = df_rides[['duration']].boxplot(vert=False, ax=ax)\n",
    "ax.set_title('Диаграмма размаха значений продолжительности поездки')\n",
    "ax.set_xlim(0, 41);"
   ]
  },
  {
   "cell_type": "markdown",
   "id": "23b5d0c8",
   "metadata": {},
   "source": [
    "***Заметен явный выброс длиной 0.5 минут. Посмотрим подробнее на строки с этим значением.***"
   ]
  },
  {
   "cell_type": "code",
   "execution_count": 21,
   "id": "d0d76552",
   "metadata": {},
   "outputs": [
    {
     "data": {
      "text/html": [
       "<div>\n",
       "<style scoped>\n",
       "    .dataframe tbody tr th:only-of-type {\n",
       "        vertical-align: middle;\n",
       "    }\n",
       "\n",
       "    .dataframe tbody tr th {\n",
       "        vertical-align: top;\n",
       "    }\n",
       "\n",
       "    .dataframe thead th {\n",
       "        text-align: right;\n",
       "    }\n",
       "</style>\n",
       "<table border=\"1\" class=\"dataframe\">\n",
       "  <thead>\n",
       "    <tr style=\"text-align: right;\">\n",
       "      <th></th>\n",
       "      <th>user_id</th>\n",
       "      <th>distance</th>\n",
       "      <th>duration</th>\n",
       "      <th>date</th>\n",
       "      <th>month</th>\n",
       "    </tr>\n",
       "  </thead>\n",
       "  <tbody>\n",
       "    <tr>\n",
       "      <th>6531</th>\n",
       "      <td>701</td>\n",
       "      <td>4196.445201</td>\n",
       "      <td>0.5</td>\n",
       "      <td>2021-08-31</td>\n",
       "      <td>8</td>\n",
       "    </tr>\n",
       "    <tr>\n",
       "      <th>6570</th>\n",
       "      <td>704</td>\n",
       "      <td>4830.824371</td>\n",
       "      <td>0.5</td>\n",
       "      <td>2021-10-14</td>\n",
       "      <td>10</td>\n",
       "    </tr>\n",
       "    <tr>\n",
       "      <th>6680</th>\n",
       "      <td>712</td>\n",
       "      <td>4684.004397</td>\n",
       "      <td>0.5</td>\n",
       "      <td>2021-03-04</td>\n",
       "      <td>3</td>\n",
       "    </tr>\n",
       "    <tr>\n",
       "      <th>6695</th>\n",
       "      <td>713</td>\n",
       "      <td>5215.642710</td>\n",
       "      <td>0.5</td>\n",
       "      <td>2021-02-25</td>\n",
       "      <td>2</td>\n",
       "    </tr>\n",
       "    <tr>\n",
       "      <th>6768</th>\n",
       "      <td>718</td>\n",
       "      <td>5197.436649</td>\n",
       "      <td>0.5</td>\n",
       "      <td>2021-02-11</td>\n",
       "      <td>2</td>\n",
       "    </tr>\n",
       "    <tr>\n",
       "      <th>...</th>\n",
       "      <td>...</td>\n",
       "      <td>...</td>\n",
       "      <td>...</td>\n",
       "      <td>...</td>\n",
       "      <td>...</td>\n",
       "    </tr>\n",
       "    <tr>\n",
       "      <th>17004</th>\n",
       "      <td>1460</td>\n",
       "      <td>5531.335845</td>\n",
       "      <td>0.5</td>\n",
       "      <td>2021-01-19</td>\n",
       "      <td>1</td>\n",
       "    </tr>\n",
       "    <tr>\n",
       "      <th>17242</th>\n",
       "      <td>1477</td>\n",
       "      <td>6724.932981</td>\n",
       "      <td>0.5</td>\n",
       "      <td>2021-01-12</td>\n",
       "      <td>1</td>\n",
       "    </tr>\n",
       "    <tr>\n",
       "      <th>17314</th>\n",
       "      <td>1483</td>\n",
       "      <td>4445.481070</td>\n",
       "      <td>0.5</td>\n",
       "      <td>2021-03-06</td>\n",
       "      <td>3</td>\n",
       "    </tr>\n",
       "    <tr>\n",
       "      <th>17505</th>\n",
       "      <td>1496</td>\n",
       "      <td>5722.551787</td>\n",
       "      <td>0.5</td>\n",
       "      <td>2021-02-14</td>\n",
       "      <td>2</td>\n",
       "    </tr>\n",
       "    <tr>\n",
       "      <th>17909</th>\n",
       "      <td>1524</td>\n",
       "      <td>4103.998874</td>\n",
       "      <td>0.5</td>\n",
       "      <td>2021-06-18</td>\n",
       "      <td>6</td>\n",
       "    </tr>\n",
       "  </tbody>\n",
       "</table>\n",
       "<p>95 rows × 5 columns</p>\n",
       "</div>"
      ],
      "text/plain": [
       "       user_id     distance  duration       date  month\n",
       "6531       701  4196.445201       0.5 2021-08-31      8\n",
       "6570       704  4830.824371       0.5 2021-10-14     10\n",
       "6680       712  4684.004397       0.5 2021-03-04      3\n",
       "6695       713  5215.642710       0.5 2021-02-25      2\n",
       "6768       718  5197.436649       0.5 2021-02-11      2\n",
       "...        ...          ...       ...        ...    ...\n",
       "17004     1460  5531.335845       0.5 2021-01-19      1\n",
       "17242     1477  6724.932981       0.5 2021-01-12      1\n",
       "17314     1483  4445.481070       0.5 2021-03-06      3\n",
       "17505     1496  5722.551787       0.5 2021-02-14      2\n",
       "17909     1524  4103.998874       0.5 2021-06-18      6\n",
       "\n",
       "[95 rows x 5 columns]"
      ]
     },
     "execution_count": 21,
     "metadata": {},
     "output_type": "execute_result"
    }
   ],
   "source": [
    "df_rides.query('duration==0.5')"
   ]
  },
  {
   "cell_type": "markdown",
   "id": "e2e5757b",
   "metadata": {},
   "source": [
    "***Расстояние достаточно большое.***   \n",
    "***Узнаем, почему так вышло, но пока сделать с этим ничего не сможем. Оставим как есть.***"
   ]
  },
  {
   "cell_type": "markdown",
   "id": "c4e946dc",
   "metadata": {},
   "source": [
    "***Вывод***\n",
    "\n",
    "\n",
    "На гистограмме заметны два пика: один в 0.5 минут (уточним у коллег) а другой нормальный - около 17 минут. Минимальная продолжительность поездки - 30 секунд, а максимальная почти 41 минута."
   ]
  },
  {
   "cell_type": "markdown",
   "id": "42fb04a0",
   "metadata": {},
   "source": [
    "#### Шаг 4. Объединение данных"
   ]
  },
  {
   "cell_type": "markdown",
   "id": "b3478846",
   "metadata": {},
   "source": [
    "##### Объединение датафреймов"
   ]
  },
  {
   "cell_type": "code",
   "execution_count": 22,
   "id": "269abf35",
   "metadata": {},
   "outputs": [
    {
     "data": {
      "text/plain": [
       "18068"
      ]
     },
     "execution_count": 22,
     "metadata": {},
     "output_type": "execute_result"
    }
   ],
   "source": [
    "df = df_users.merge(df_rides, on='user_id').merge(df_sub, on='subscription_type')\n",
    "df.shape[0]"
   ]
  },
  {
   "cell_type": "markdown",
   "id": "7c513cf4",
   "metadata": {},
   "source": [
    "##### Создадим еще два датафрейма - с пользователями с подпиской и без нее"
   ]
  },
  {
   "cell_type": "code",
   "execution_count": 23,
   "id": "06581e05",
   "metadata": {},
   "outputs": [],
   "source": [
    "df_free = df.loc[df['subscription_type']=='free']"
   ]
  },
  {
   "cell_type": "code",
   "execution_count": 24,
   "id": "70ba5957",
   "metadata": {},
   "outputs": [],
   "source": [
    "df_ultra = df.loc[df['subscription_type']=='ultra']"
   ]
  },
  {
   "cell_type": "markdown",
   "id": "8efcc672",
   "metadata": {},
   "source": [
    "##### Распределение расстояния и времени поездок для пользователей с подпиской и без подписки"
   ]
  },
  {
   "cell_type": "code",
   "execution_count": 25,
   "id": "5f7b926f",
   "metadata": {},
   "outputs": [
    {
     "data": {
      "image/png": "[encoded data removed]",
      "text/plain": [
       "<Figure size 720x576 with 1 Axes>"
      ]
     },
     "metadata": {
      "needs_background": "light"
     },
     "output_type": "display_data"
    }
   ],
   "source": [
    "plt.figure(figsize=(10, 8)) \n",
    "df_free['duration'].plot(bins = 15, kind='hist', label='без подписки', color='orange', alpha=0.5) \n",
    "df_ultra['duration'].plot(bins = 15, kind='hist',label='с подпиской', alpha=0.5) \n",
    "plt.title('Продолжительность поездок') \n",
    "plt.xlabel('Время в минутах') \n",
    "plt.ylabel('Частота') \n",
    "plt.legend() \n",
    "plt.show()"
   ]
  },
  {
   "cell_type": "markdown",
   "id": "3f13fc7d",
   "metadata": {},
   "source": [
    "***Вывод***\n",
    "\n",
    "Длительность поездок для пользователей с подпиской немного больше, чем без нее. Хотя пик в обеих категориях расположен около 17-20 минут."
   ]
  },
  {
   "cell_type": "code",
   "execution_count": 26,
   "id": "ada064cf",
   "metadata": {},
   "outputs": [
    {
     "data": {
      "image/png": "[encoded data removed]",
      "text/plain": [
       "<Figure size 720x576 with 1 Axes>"
      ]
     },
     "metadata": {
      "needs_background": "light"
     },
     "output_type": "display_data"
    }
   ],
   "source": [
    "plt.figure(figsize=(10, 8)) \n",
    "df_free['distance'].plot(bins = 50, kind='hist', label='без подписки', color='orange', alpha=0.5) \n",
    "df_ultra['distance'].plot(bins = 50, kind='hist',label='с подпиской', alpha=0.5) \n",
    "plt.title('Расстояние поездок') \n",
    "plt.xlabel('метры') \n",
    "plt.ylabel('Частота') \n",
    "plt.legend() \n",
    "plt.show()"
   ]
  },
  {
   "cell_type": "markdown",
   "id": "47a8228f",
   "metadata": {},
   "source": [
    "***Вывод***\n",
    "\n",
    "\n",
    "Распределение расстояния также имеет два пика среди пользователей с подпиской и без нее, однако более выражены пики у пользователей с подпиской. Пользователи без подписки чаще проезжают как и большее расстояние, так и меньшее.\n",
    "\n",
    "Два пиковых значения можно объяснить несколькими способами:\n",
    "1. Люди пользуются самокатами и для быстрых поездок (от метро до дома, например) и для длительных (возможно даже \"прогулки\" на самокате)\n",
    "2. Короткие поездки также можно объяснить тем, что пользователи могут проехать неполный путь и взять другой самокат."
   ]
  },
  {
   "cell_type": "markdown",
   "id": "0a602c02",
   "metadata": {},
   "source": [
    "#### Шаг 5. Подсчёт выручки"
   ]
  },
  {
   "cell_type": "code",
   "execution_count": 27,
   "id": "fd81144a",
   "metadata": {},
   "outputs": [],
   "source": [
    "df['duration'] = np.ceil(df['duration']).astype('int')\n",
    "df_revenue = (df\n",
    "    .pivot_table(index=['user_id', 'month'], \n",
    "                 values=['distance', 'duration', 'subscription_type'], \n",
    "                 aggfunc={'duration':'sum', 'distance' :['sum', 'count'], 'subscription_type' : min})\n",
    "    .droplevel(1, axis=1)\n",
    "    .reset_index())"
   ]
  },
  {
   "cell_type": "code",
   "execution_count": 28,
   "id": "16fd69f6",
   "metadata": {},
   "outputs": [],
   "source": [
    "df_revenue.columns = ['user_id', 'month', 'rides_count', 'distance', 'duration', 'subscription_type']"
   ]
  },
  {
   "cell_type": "code",
   "execution_count": 29,
   "id": "3fcb1bb3",
   "metadata": {},
   "outputs": [],
   "source": [
    "df_total = df_revenue.merge(df_sub)"
   ]
  },
  {
   "cell_type": "code",
   "execution_count": 30,
   "id": "b6e2f06e",
   "metadata": {},
   "outputs": [],
   "source": [
    "df_total['revenue'] = df_total['duration']*df_total['minute_price']+df_total['start_ride_price']*df_total['rides_count']+df_total['subscription_fee']"
   ]
  },
  {
   "cell_type": "code",
   "execution_count": 31,
   "id": "1c8066f0",
   "metadata": {},
   "outputs": [
    {
     "data": {
      "text/html": [
       "<div>\n",
       "<style scoped>\n",
       "    .dataframe tbody tr th:only-of-type {\n",
       "        vertical-align: middle;\n",
       "    }\n",
       "\n",
       "    .dataframe tbody tr th {\n",
       "        vertical-align: top;\n",
       "    }\n",
       "\n",
       "    .dataframe thead th {\n",
       "        text-align: right;\n",
       "    }\n",
       "</style>\n",
       "<table border=\"1\" class=\"dataframe\">\n",
       "  <thead>\n",
       "    <tr style=\"text-align: right;\">\n",
       "      <th></th>\n",
       "      <th>user_id</th>\n",
       "      <th>month</th>\n",
       "      <th>rides_count</th>\n",
       "      <th>distance</th>\n",
       "      <th>duration</th>\n",
       "      <th>subscription_type</th>\n",
       "      <th>minute_price</th>\n",
       "      <th>start_ride_price</th>\n",
       "      <th>subscription_fee</th>\n",
       "      <th>revenue</th>\n",
       "    </tr>\n",
       "  </thead>\n",
       "  <tbody>\n",
       "    <tr>\n",
       "      <th>0</th>\n",
       "      <td>1</td>\n",
       "      <td>1</td>\n",
       "      <td>2</td>\n",
       "      <td>7027.511294</td>\n",
       "      <td>42</td>\n",
       "      <td>ultra</td>\n",
       "      <td>6</td>\n",
       "      <td>0</td>\n",
       "      <td>199</td>\n",
       "      <td>451</td>\n",
       "    </tr>\n",
       "    <tr>\n",
       "      <th>1</th>\n",
       "      <td>1</td>\n",
       "      <td>4</td>\n",
       "      <td>1</td>\n",
       "      <td>754.159807</td>\n",
       "      <td>7</td>\n",
       "      <td>ultra</td>\n",
       "      <td>6</td>\n",
       "      <td>0</td>\n",
       "      <td>199</td>\n",
       "      <td>241</td>\n",
       "    </tr>\n",
       "    <tr>\n",
       "      <th>2</th>\n",
       "      <td>1</td>\n",
       "      <td>8</td>\n",
       "      <td>2</td>\n",
       "      <td>6723.470560</td>\n",
       "      <td>46</td>\n",
       "      <td>ultra</td>\n",
       "      <td>6</td>\n",
       "      <td>0</td>\n",
       "      <td>199</td>\n",
       "      <td>475</td>\n",
       "    </tr>\n",
       "    <tr>\n",
       "      <th>3</th>\n",
       "      <td>1</td>\n",
       "      <td>10</td>\n",
       "      <td>2</td>\n",
       "      <td>5809.911100</td>\n",
       "      <td>32</td>\n",
       "      <td>ultra</td>\n",
       "      <td>6</td>\n",
       "      <td>0</td>\n",
       "      <td>199</td>\n",
       "      <td>391</td>\n",
       "    </tr>\n",
       "    <tr>\n",
       "      <th>4</th>\n",
       "      <td>1</td>\n",
       "      <td>11</td>\n",
       "      <td>3</td>\n",
       "      <td>7003.499363</td>\n",
       "      <td>56</td>\n",
       "      <td>ultra</td>\n",
       "      <td>6</td>\n",
       "      <td>0</td>\n",
       "      <td>199</td>\n",
       "      <td>535</td>\n",
       "    </tr>\n",
       "    <tr>\n",
       "      <th>5</th>\n",
       "      <td>1</td>\n",
       "      <td>12</td>\n",
       "      <td>2</td>\n",
       "      <td>6751.629942</td>\n",
       "      <td>28</td>\n",
       "      <td>ultra</td>\n",
       "      <td>6</td>\n",
       "      <td>0</td>\n",
       "      <td>199</td>\n",
       "      <td>367</td>\n",
       "    </tr>\n",
       "    <tr>\n",
       "      <th>6</th>\n",
       "      <td>2</td>\n",
       "      <td>3</td>\n",
       "      <td>3</td>\n",
       "      <td>10187.723006</td>\n",
       "      <td>63</td>\n",
       "      <td>ultra</td>\n",
       "      <td>6</td>\n",
       "      <td>0</td>\n",
       "      <td>199</td>\n",
       "      <td>577</td>\n",
       "    </tr>\n",
       "    <tr>\n",
       "      <th>7</th>\n",
       "      <td>2</td>\n",
       "      <td>4</td>\n",
       "      <td>2</td>\n",
       "      <td>6164.381824</td>\n",
       "      <td>40</td>\n",
       "      <td>ultra</td>\n",
       "      <td>6</td>\n",
       "      <td>0</td>\n",
       "      <td>199</td>\n",
       "      <td>439</td>\n",
       "    </tr>\n",
       "    <tr>\n",
       "      <th>8</th>\n",
       "      <td>2</td>\n",
       "      <td>6</td>\n",
       "      <td>1</td>\n",
       "      <td>3255.338202</td>\n",
       "      <td>14</td>\n",
       "      <td>ultra</td>\n",
       "      <td>6</td>\n",
       "      <td>0</td>\n",
       "      <td>199</td>\n",
       "      <td>283</td>\n",
       "    </tr>\n",
       "    <tr>\n",
       "      <th>9</th>\n",
       "      <td>2</td>\n",
       "      <td>7</td>\n",
       "      <td>2</td>\n",
       "      <td>6780.722964</td>\n",
       "      <td>48</td>\n",
       "      <td>ultra</td>\n",
       "      <td>6</td>\n",
       "      <td>0</td>\n",
       "      <td>199</td>\n",
       "      <td>487</td>\n",
       "    </tr>\n",
       "  </tbody>\n",
       "</table>\n",
       "</div>"
      ],
      "text/plain": [
       "   user_id  month  rides_count      distance  duration subscription_type  \\\n",
       "0        1      1            2   7027.511294        42             ultra   \n",
       "1        1      4            1    754.159807         7             ultra   \n",
       "2        1      8            2   6723.470560        46             ultra   \n",
       "3        1     10            2   5809.911100        32             ultra   \n",
       "4        1     11            3   7003.499363        56             ultra   \n",
       "5        1     12            2   6751.629942        28             ultra   \n",
       "6        2      3            3  10187.723006        63             ultra   \n",
       "7        2      4            2   6164.381824        40             ultra   \n",
       "8        2      6            1   3255.338202        14             ultra   \n",
       "9        2      7            2   6780.722964        48             ultra   \n",
       "\n",
       "   minute_price  start_ride_price  subscription_fee  revenue  \n",
       "0             6                 0               199      451  \n",
       "1             6                 0               199      241  \n",
       "2             6                 0               199      475  \n",
       "3             6                 0               199      391  \n",
       "4             6                 0               199      535  \n",
       "5             6                 0               199      367  \n",
       "6             6                 0               199      577  \n",
       "7             6                 0               199      439  \n",
       "8             6                 0               199      283  \n",
       "9             6                 0               199      487  "
      ]
     },
     "execution_count": 31,
     "metadata": {},
     "output_type": "execute_result"
    }
   ],
   "source": [
    "df_total.head(10)"
   ]
  },
  {
   "cell_type": "markdown",
   "id": "5c03aad4",
   "metadata": {},
   "source": [
    "***Вывод***\n",
    "\n",
    "Создали датафрейм с помесячной выручкой от каждого пользователя"
   ]
  },
  {
   "cell_type": "markdown",
   "id": "b34e28ae",
   "metadata": {},
   "source": [
    "#### Шаг 6. Проверка гипотез"
   ]
  },
  {
   "cell_type": "markdown",
   "id": "a80d3839",
   "metadata": {},
   "source": [
    "##### Тратят ли пользователи с подпиской больше времени на поездки?\n",
    "\n",
    "H0: Среднее время поездки подписчиков и пользователей без подписки **равно**.\n",
    "\n",
    "H1: Среднее время поездки подписчиков **больше**, чем среднее время поездки пользователей без подписки."
   ]
  },
  {
   "cell_type": "code",
   "execution_count": 32,
   "id": "508eab9e",
   "metadata": {},
   "outputs": [
    {
     "name": "stdout",
     "output_type": "stream",
     "text": [
      "Среднее значение длительности поездки пользователей с подпиской: 18.541985162805805\n",
      "Среднее значение длительности поездки пользователей без подписки: 17.39090929866398\n",
      "Значение p-value: 1.2804098316645613e-34\n",
      "Отвергаем нулевую гипотезу\n"
     ]
    }
   ],
   "source": [
    "alpha = 0.05\n",
    "result = st.ttest_ind(df_ultra['duration'], df_free['duration'], alternative='greater')\n",
    "print('Среднее значение длительности поездки пользователей с подпиской:', df_ultra['duration'].mean())\n",
    "print('Среднее значение длительности поездки пользователей без подписки:', df_free['duration'].mean())\n",
    "print('Значение p-value:', result.pvalue)\n",
    "if result.pvalue < alpha:\n",
    "    print('Отвергаем нулевую гипотезу')\n",
    "else:\n",
    "    print('Не получилось отвергнуть нулевую гипотезу')"
   ]
  },
  {
   "cell_type": "markdown",
   "id": "be57a195",
   "metadata": {},
   "source": [
    "***Вывод***\n",
    "\n",
    "Подписчики тратят больше времени на поездки, чем бользователи без подписки."
   ]
  },
  {
   "cell_type": "markdown",
   "id": "fad2a876",
   "metadata": {},
   "source": [
    "##### Расстояние одной поездки в 3130 метров — оптимальное с точки зрения износа самоката. Можно ли сказать, что среднее расстояние, которое проезжают пользователи с подпиской за одну поездку, не превышает 3130 метров? \n",
    "\n",
    "H0: Среднее расстояние, которое преодолевают пользователи за одну поездку **равно** 3130 метров.\n",
    "\n",
    "H1: Среднее расстояние, которое преодолевают пользователи за одну поездку **превышает** 3130 метров."
   ]
  },
  {
   "cell_type": "code",
   "execution_count": 34,
   "id": "4b6ab415",
   "metadata": {},
   "outputs": [
    {
     "name": "stdout",
     "output_type": "stream",
     "text": [
      "Значение p-value: 0.9195368847849785\n",
      "Не получилось отвергнуть нулевую гипотезу\n"
     ]
    }
   ],
   "source": [
    "alpha = 0.05\n",
    "value = 3130\n",
    "result = st.ttest_1samp(df_ultra['distance'], value, alternative='greater')\n",
    "print('Значение p-value:', result.pvalue)\n",
    "if result.pvalue < alpha:\n",
    "    print('Отвергаем нулевую гипотезу')\n",
    "else:\n",
    "    print('Не получилось отвергнуть нулевую гипотезу')"
   ]
  },
  {
   "cell_type": "markdown",
   "id": "569e3435",
   "metadata": {},
   "source": [
    "***Вывод***\n",
    "\n",
    "Не можем отвергнуть нулевую гипотезу. Среднее расстояние близко к 3130. Нельзя сказать, что расстояние, которое проезжают подписчики превышает оптимальное (3130 м)."
   ]
  },
  {
   "cell_type": "markdown",
   "id": "5afd54b7",
   "metadata": {},
   "source": [
    "##### Будет ли помесячная выручка от пользователей с подпиской по месяцам выше, чем выручка от пользователей без подписки?"
   ]
  },
  {
   "cell_type": "markdown",
   "id": "36a7b21d",
   "metadata": {},
   "source": [
    "H0: Помесячная выручка от подписчиков **равна** выручке от пользователей без подписки.\n",
    "\n",
    "H1: Помесячная выручка от пользователей с подпиской **больше**, чем выручка от пользователей без подписки."
   ]
  },
  {
   "cell_type": "code",
   "execution_count": 35,
   "id": "f5f6ed99",
   "metadata": {},
   "outputs": [
    {
     "name": "stdout",
     "output_type": "stream",
     "text": [
      "Среднее значение выручки от пользователей с подпиской: 362.7921906022502\n",
      "Среднее значение выручки от пользователей без подписки: 328.6413651073845\n",
      "Значение p-value: 1.8850394384715216e-31\n",
      "Отвергаем нулевую гипотезу\n"
     ]
    }
   ],
   "source": [
    "alpha = 0.05\n",
    "revenue_ultra = df_total.loc[df_total['subscription_type'] == 'ultra', 'revenue']\n",
    "revenue_free = df_total.loc[df_total['subscription_type'] == 'free', 'revenue']\n",
    "result = st.ttest_ind(revenue_ultra, revenue_free, alternative='greater')\n",
    "print('Среднее значение выручки от пользователей с подпиской:', revenue_ultra.mean())\n",
    "print('Среднее значение выручки от пользователей без подписки:', revenue_free.mean())\n",
    "print('Значение p-value:', result.pvalue)\n",
    "if result.pvalue < alpha:\n",
    "    print('Отвергаем нулевую гипотезу')\n",
    "else:\n",
    "    print('Не получилось отвергнуть нулевую гипотезу')"
   ]
  },
  {
   "cell_type": "markdown",
   "id": "fc911280",
   "metadata": {},
   "source": [
    "***Вывод***\n",
    "\n",
    "С вероятностью 95% можем утверждать, что выручка от пользователей с подпиской выше, чем от пользователей без нее."
   ]
  },
  {
   "cell_type": "markdown",
   "id": "ab681f1f",
   "metadata": {},
   "source": [
    "##### Представьте такую ситуацию: техническая команда сервиса обновила сервера, с которыми взаимодействует мобильное приложение. Она надеется, что из-за этого количество обращений в техподдержку значимо снизилось. Некоторый файл содержит для каждого пользователя данные о количестве обращений до обновления и после него. Какой тест вам понадобился бы для проверки этой гипотезы?"
   ]
  },
  {
   "cell_type": "markdown",
   "id": "c2c73b2e",
   "metadata": {},
   "source": [
    "Необходимо проверить гипотезу о равенстве значения среднего генеральной совокупности до и после изменения методом st.ttest_rel.\n",
    "\n",
    "H0: Среднее количество обращений в техподдержку до обновления и после **равны**\n",
    "\n",
    "H1: Среднее количество обращений в техподдержку после обновления **меньше**"
   ]
  },
  {
   "cell_type": "markdown",
   "id": "6d977c0c",
   "metadata": {},
   "source": [
    "#### Шаг 7. Распределения"
   ]
  },
  {
   "cell_type": "markdown",
   "id": "66d77f3f",
   "metadata": {},
   "source": [
    "##### Отделу маркетинга GoFast поставили задачу: нужно провести акцию с раздачей промокодов на один бесплатный месяц подписки, в рамках которой как минимум 100 существующих клиентов должны продлить эту подписку. То есть по завершении периода действия подписки пользователь может либо отказаться от неё, либо продлить, совершив соответствующий платёж. \n",
    "Эта акция уже проводилась ранее и по итогу выяснилось, что после бесплатного пробного периода подписку продлевают 10 % пользователей. Выясните, какое минимальное количество промокодов нужно разослать, чтобы вероятность не выполнить план была примерно 5 %. Подберите параметры распределения, описывающего эту ситуацию, постройте график распределения и сформулируйте ответ на вопрос о количестве промокодов."
   ]
  },
  {
   "cell_type": "code",
   "execution_count": 36,
   "id": "bfb6948d",
   "metadata": {},
   "outputs": [
    {
     "name": "stdout",
     "output_type": "stream",
     "text": [
      "1161\n"
     ]
    }
   ],
   "source": [
    "x = 100\n",
    "p = 0.1\n",
    "for n in range(600, 1500):\n",
    "    if st.binom.cdf(x-1, n, p) <= 0.05:\n",
    "        print(n)\n",
    "        break"
   ]
  },
  {
   "cell_type": "code",
   "execution_count": 37,
   "id": "2134ad9e",
   "metadata": {},
   "outputs": [
    {
     "data": {
      "image/png": "[encoded data removed]",
      "text/plain": [
       "<Figure size 432x288 with 1 Axes>"
      ]
     },
     "metadata": {
      "needs_background": "light"
     },
     "output_type": "display_data"
    }
   ],
   "source": [
    "n = 1161  \n",
    "p = 0.1  \n",
    "x = range(0, n)\n",
    "y = st.binom.pmf(x, n, p)\n",
    "plt.plot(x, y)\n",
    "plt.xlabel(\"Успехи\")\n",
    "plt.ylabel(\"Вероятность\")\n",
    "plt.title('Распределение вероятности')\n",
    "plt.show()"
   ]
  },
  {
   "cell_type": "markdown",
   "id": "259b1896",
   "metadata": {},
   "source": [
    "##### Отдел маркетинга рассылает клиентам push-уведомления в мобильном приложении. Клиенты могут открыть его или не открывать. Известно, что уведомления открывают около 40 % получивших клиентов. Отдел планирует разослать 1 млн уведомлений. С помощью аппроксимации постройте примерный график распределения и оцените вероятность того, что уведомление откроют не более 399,5 тыс. пользователей."
   ]
  },
  {
   "cell_type": "code",
   "execution_count": 38,
   "id": "231df895",
   "metadata": {},
   "outputs": [
    {
     "data": {
      "image/png": "[encoded data removed]",
      "text/plain": [
       "<Figure size 432x288 with 1 Axes>"
      ]
     },
     "metadata": {
      "needs_background": "light"
     },
     "output_type": "display_data"
    },
    {
     "name": "stdout",
     "output_type": "stream",
     "text": [
      "Вероятность того, что уведомление откроют менее 399,5 тыс пользователей : 0.15371708296369768\n"
     ]
    }
   ],
   "source": [
    "x = 399_500\n",
    "n = 1_000_000\n",
    "p = 0.4\n",
    "mu = n * p\n",
    "sigma = (n * p * (1 - p))**0.5\n",
    "\n",
    "distr = st.norm(mu, sigma)\n",
    "    \n",
    "result = distr.cdf(x)\n",
    "\n",
    "arange = np.arange(\n",
    "    (mu - 4 * sigma), \n",
    "    (mu + 4 * sigma), \n",
    "    1\n",
    ")\n",
    "plt.plot(arange, st.norm.pdf(arange, mu, sigma))\n",
    "plt.axvline(x=x, color='green')\n",
    "plt.title('Распределение вероятности')\n",
    "plt.xlabel('Количество пользователей')\n",
    "plt.ylabel('Вероятность')\n",
    "plt.show()\n",
    "print('Вероятность того, что уведомление откроют менее 399,5 тыс пользователей :', result)"
   ]
  },
  {
   "cell_type": "markdown",
   "id": "fffd719e",
   "metadata": {},
   "source": [
    "#### Вывод\n",
    "\n"
   ]
  },
  {
   "cell_type": "markdown",
   "id": "926b3cb9",
   "metadata": {},
   "source": [
    "Для выполнения проекта была выполнена предобработка даннных, которая включала в себя удаление дубликатов в таблице с пользователями и изменение типа даннных в колонке даты. Пропущенных значений ни в одном датафрейме не было. \n",
    "\n",
    "Затем был проведен исследовательский анализ: Большинство зарегистрировавшихся пользователей наблюдается в Пятигорске, затем Екатеринбург и Ростов-на-Дону. Наименее популярный город - Москва.\n",
    "Пользователей без подписки на 8% больше, чем с ней.\n",
    "Возраст пользователей в основном находится в диапазоне от 22 до 28 лет. Минимальный возраст - 12 лет, а максимальный - 43 года. Расстояние, которое пользователь проехал за одну поездку, имеет два пика: первый заметен около 500 метров, а другой - чуть более 3 километров.\n",
    "В распределении времени заметны два пика: один в 0.5 минут (уточним у коллег), а другой - около 17 минут. Минимальная продолжительность поездки - 30 секунд, а максимальная почти 41 минута.\n",
    "\n",
    "Следующее действие включало в себя объединение всех датафреймов в один и более подробное изучение поведения подписчиков и пользователей без подписки. Выяснилось, что длительность поездок для пользователей с подпиской немного больше, чем без нее. Хотя пик в обеих категориях расположен около 17-20 минут, а распределение расстояния имеет два пика среди пользователей с подпиской и без нее, однако более выражены пики у пользователей с подпиской. Пользователи без подписки чаще проезжают как и большее расстояние, так и меньшее.\n",
    "\n",
    "Создан датафрейм в помесячной выручкой от каждого пользователя.\n",
    "\n",
    "Проверены несколько гипотез. Так, можно сказать, что \n",
    "1. среднее время поездки подписчиков больше, чем пользователей без подписки.\n",
    "2. расстояние, которое преодолевают пользователи за одну поездку близко к оптимальному.\n",
    "3. с вероятностью 95% можем утверждать, что выручка от пользователей с подпиской выше, чем от пользователей без нее."
   ]
  }
 ],
 "metadata": {
  "kernelspec": {
   "display_name": "Python 3",
   "language": "python",
   "name": "python3"
  },
  "language_info": {
   "codemirror_mode": {
    "name": "ipython",
    "version": 3
   },
   "file_extension": ".py",
   "mimetype": "text/x-python",
   "name": "python",
   "nbconvert_exporter": "python",
   "pygments_lexer": "ipython3",
   "version": "3.8.8"
  },
  "toc": {
   "base_numbering": 1,
   "nav_menu": {},
   "number_sections": true,
   "sideBar": true,
   "skip_h1_title": true,
   "title_cell": "Table of Contents",
   "title_sidebar": "Contents",
   "toc_cell": true,
   "toc_position": {},
   "toc_section_display": true,
   "toc_window_display": false
  },
  "varInspector": {
   "cols": {
    "lenName": 16,
    "lenType": 16,
    "lenVar": 40
   },
   "kernels_config": {
    "python": {
     "delete_cmd_postfix": "",
     "delete_cmd_prefix": "del ",
     "library": "var_list.py",
     "varRefreshCmd": "print(var_dic_list())"
    },
    "r": {
     "delete_cmd_postfix": ") ",
     "delete_cmd_prefix": "rm(",
     "library": "var_list.r",
     "varRefreshCmd": "cat(var_dic_list()) "
    }
   },
   "types_to_exclude": [
    "module",
    "function",
    "builtin_function_or_method",
    "instance",
    "_Feature"
   ],
   "window_display": false
  }
 },
 "nbformat": 4,
 "nbformat_minor": 5
}
