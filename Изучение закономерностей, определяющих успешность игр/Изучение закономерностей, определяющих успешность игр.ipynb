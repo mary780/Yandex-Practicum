{
 "cells": [
  {
   "cell_type": "markdown",
   "metadata": {},
   "source": [
    "# Анализ продаж компьютерных игр\n",
    "\n",
    "# Описание проекта\n",
    "Вы работаете в интернет-магазине «Стримчик», который продаёт по всему миру компьютерные игры. Из открытых источников доступны исторические данные о продажах игр, оценки пользователей и экспертов, жанры и платформы (например, Xbox или PlayStation). Вам нужно выявить определяющие успешность игры закономерности. Это позволит сделать ставку на потенциально популярный продукт и спланировать рекламные кампании.\n",
    "\n",
    "Перед вами данные до 2016 года. Представим, что сейчас декабрь 2016 г., и вы планируете кампанию на 2017-й. \n",
    "\n",
    "В наборе данных попадается аббревиатура ESRB (Entertainment Software Rating Board) — это ассоциация, определяющая возрастной рейтинг компьютерных игр. ESRB оценивает игровой контент и присваивает ему подходящую возрастную категорию, например, «Для взрослых», «Для детей младшего возраста» или «Для подростков».\n",
    "\n",
    "# Описание данных\n",
    "\n",
    "    Name — название игры\n",
    "    Platform — платформа\n",
    "    Year_of_Release — год выпуска\n",
    "    Genre — жанр игры\n",
    "    NA_sales — продажи в Северной Америке (миллионы проданных копий)\n",
    "    EU_sales — продажи в Европе (миллионы проданных копий)\n",
    "    JP_sales — продажи в Японии (миллионы проданных копий)\n",
    "    Other_sales — продажи в других странах (миллионы проданных копий)\n",
    "    Critic_Score — оценка критиков (максимум 100)\n",
    "    User_Score — оценка пользователей (максимум 10)\n",
    "    Rating — рейтинг от организации ESRB (англ. Entertainment Software Rating Board). Эта ассоциация определяет рейтинг компьютерных игр и присваивает им подходящую возрастную категорию."
   ]
  },
  {
   "cell_type": "markdown",
   "metadata": {},
   "source": [
    "# План\n",
    "\n",
    "1. Знакомство с данными\n",
    "2. Предварительная обработка данных\n",
    "3. Работа с пропущенными значениям\n",
    "4. Устранение дубликатов\n",
    "5. Добавление нового столбца (общих продаж по всем регионам)\n",
    "6. Провести анализ общих продаж и выделить периоды пикового спроса на игры.\n",
    "7. Определить актуальный период для более детального анализа.\n",
    "8. Выделить наиболее перспективные платформы.\n",
    "9. Анализ выпуска игр по годам \n",
    "10. Анализ продаж по платформам\n",
    "11. Оценка влияния отзывов и анализ жанров\n",
    "12. Исследовать популярность платформ в различных регионах.\n",
    "13. Выделить особенности предпочтений игроков в Северной Америке, Европе и Японии.\n",
    "14. Проверка гипотез"
   ]
  },
  {
   "cell_type": "markdown",
   "metadata": {},
   "source": [
    "## Загрузка данных и первое знакомство"
   ]
  },
  {
   "cell_type": "code",
   "execution_count": 1,
   "metadata": {},
   "outputs": [],
   "source": [
    "import pandas as pd\n",
    "import matplotlib.pyplot as plt\n",
    "import numpy as np\n",
    "import seaborn as sns\n",
    "from scipy import stats as st"
   ]
  },
  {
   "cell_type": "code",
   "execution_count": 2,
   "metadata": {},
   "outputs": [],
   "source": [
    "df = pd.read_csv(r\"D:\\Загрузки\\games.csv\")"
   ]
  },
  {
   "cell_type": "code",
   "execution_count": 3,
   "metadata": {},
   "outputs": [
    {
     "data": {
      "text/html": [
       "<div>\n",
       "<style scoped>\n",
       "    .dataframe tbody tr th:only-of-type {\n",
       "        vertical-align: middle;\n",
       "    }\n",
       "\n",
       "    .dataframe tbody tr th {\n",
       "        vertical-align: top;\n",
       "    }\n",
       "\n",
       "    .dataframe thead th {\n",
       "        text-align: right;\n",
       "    }\n",
       "</style>\n",
       "<table border=\"1\" class=\"dataframe\">\n",
       "  <thead>\n",
       "    <tr style=\"text-align: right;\">\n",
       "      <th></th>\n",
       "      <th>Name</th>\n",
       "      <th>Platform</th>\n",
       "      <th>Year_of_Release</th>\n",
       "      <th>Genre</th>\n",
       "      <th>NA_sales</th>\n",
       "      <th>EU_sales</th>\n",
       "      <th>JP_sales</th>\n",
       "      <th>Other_sales</th>\n",
       "      <th>Critic_Score</th>\n",
       "      <th>User_Score</th>\n",
       "      <th>Rating</th>\n",
       "    </tr>\n",
       "  </thead>\n",
       "  <tbody>\n",
       "    <tr>\n",
       "      <th>0</th>\n",
       "      <td>Wii Sports</td>\n",
       "      <td>Wii</td>\n",
       "      <td>2006.0</td>\n",
       "      <td>Sports</td>\n",
       "      <td>41.36</td>\n",
       "      <td>28.96</td>\n",
       "      <td>3.77</td>\n",
       "      <td>8.45</td>\n",
       "      <td>76.0</td>\n",
       "      <td>8</td>\n",
       "      <td>E</td>\n",
       "    </tr>\n",
       "    <tr>\n",
       "      <th>1</th>\n",
       "      <td>Super Mario Bros.</td>\n",
       "      <td>NES</td>\n",
       "      <td>1985.0</td>\n",
       "      <td>Platform</td>\n",
       "      <td>29.08</td>\n",
       "      <td>3.58</td>\n",
       "      <td>6.81</td>\n",
       "      <td>0.77</td>\n",
       "      <td>NaN</td>\n",
       "      <td>NaN</td>\n",
       "      <td>NaN</td>\n",
       "    </tr>\n",
       "    <tr>\n",
       "      <th>2</th>\n",
       "      <td>Mario Kart Wii</td>\n",
       "      <td>Wii</td>\n",
       "      <td>2008.0</td>\n",
       "      <td>Racing</td>\n",
       "      <td>15.68</td>\n",
       "      <td>12.76</td>\n",
       "      <td>3.79</td>\n",
       "      <td>3.29</td>\n",
       "      <td>82.0</td>\n",
       "      <td>8.3</td>\n",
       "      <td>E</td>\n",
       "    </tr>\n",
       "    <tr>\n",
       "      <th>3</th>\n",
       "      <td>Wii Sports Resort</td>\n",
       "      <td>Wii</td>\n",
       "      <td>2009.0</td>\n",
       "      <td>Sports</td>\n",
       "      <td>15.61</td>\n",
       "      <td>10.93</td>\n",
       "      <td>3.28</td>\n",
       "      <td>2.95</td>\n",
       "      <td>80.0</td>\n",
       "      <td>8</td>\n",
       "      <td>E</td>\n",
       "    </tr>\n",
       "    <tr>\n",
       "      <th>4</th>\n",
       "      <td>Pokemon Red/Pokemon Blue</td>\n",
       "      <td>GB</td>\n",
       "      <td>1996.0</td>\n",
       "      <td>Role-Playing</td>\n",
       "      <td>11.27</td>\n",
       "      <td>8.89</td>\n",
       "      <td>10.22</td>\n",
       "      <td>1.00</td>\n",
       "      <td>NaN</td>\n",
       "      <td>NaN</td>\n",
       "      <td>NaN</td>\n",
       "    </tr>\n",
       "    <tr>\n",
       "      <th>5</th>\n",
       "      <td>Tetris</td>\n",
       "      <td>GB</td>\n",
       "      <td>1989.0</td>\n",
       "      <td>Puzzle</td>\n",
       "      <td>23.20</td>\n",
       "      <td>2.26</td>\n",
       "      <td>4.22</td>\n",
       "      <td>0.58</td>\n",
       "      <td>NaN</td>\n",
       "      <td>NaN</td>\n",
       "      <td>NaN</td>\n",
       "    </tr>\n",
       "    <tr>\n",
       "      <th>6</th>\n",
       "      <td>New Super Mario Bros.</td>\n",
       "      <td>DS</td>\n",
       "      <td>2006.0</td>\n",
       "      <td>Platform</td>\n",
       "      <td>11.28</td>\n",
       "      <td>9.14</td>\n",
       "      <td>6.50</td>\n",
       "      <td>2.88</td>\n",
       "      <td>89.0</td>\n",
       "      <td>8.5</td>\n",
       "      <td>E</td>\n",
       "    </tr>\n",
       "    <tr>\n",
       "      <th>7</th>\n",
       "      <td>Wii Play</td>\n",
       "      <td>Wii</td>\n",
       "      <td>2006.0</td>\n",
       "      <td>Misc</td>\n",
       "      <td>13.96</td>\n",
       "      <td>9.18</td>\n",
       "      <td>2.93</td>\n",
       "      <td>2.84</td>\n",
       "      <td>58.0</td>\n",
       "      <td>6.6</td>\n",
       "      <td>E</td>\n",
       "    </tr>\n",
       "    <tr>\n",
       "      <th>8</th>\n",
       "      <td>New Super Mario Bros. Wii</td>\n",
       "      <td>Wii</td>\n",
       "      <td>2009.0</td>\n",
       "      <td>Platform</td>\n",
       "      <td>14.44</td>\n",
       "      <td>6.94</td>\n",
       "      <td>4.70</td>\n",
       "      <td>2.24</td>\n",
       "      <td>87.0</td>\n",
       "      <td>8.4</td>\n",
       "      <td>E</td>\n",
       "    </tr>\n",
       "    <tr>\n",
       "      <th>9</th>\n",
       "      <td>Duck Hunt</td>\n",
       "      <td>NES</td>\n",
       "      <td>1984.0</td>\n",
       "      <td>Shooter</td>\n",
       "      <td>26.93</td>\n",
       "      <td>0.63</td>\n",
       "      <td>0.28</td>\n",
       "      <td>0.47</td>\n",
       "      <td>NaN</td>\n",
       "      <td>NaN</td>\n",
       "      <td>NaN</td>\n",
       "    </tr>\n",
       "  </tbody>\n",
       "</table>\n",
       "</div>"
      ],
      "text/plain": [
       "                        Name Platform  Year_of_Release         Genre  \\\n",
       "0                 Wii Sports      Wii           2006.0        Sports   \n",
       "1          Super Mario Bros.      NES           1985.0      Platform   \n",
       "2             Mario Kart Wii      Wii           2008.0        Racing   \n",
       "3          Wii Sports Resort      Wii           2009.0        Sports   \n",
       "4   Pokemon Red/Pokemon Blue       GB           1996.0  Role-Playing   \n",
       "5                     Tetris       GB           1989.0        Puzzle   \n",
       "6      New Super Mario Bros.       DS           2006.0      Platform   \n",
       "7                   Wii Play      Wii           2006.0          Misc   \n",
       "8  New Super Mario Bros. Wii      Wii           2009.0      Platform   \n",
       "9                  Duck Hunt      NES           1984.0       Shooter   \n",
       "\n",
       "   NA_sales  EU_sales  JP_sales  Other_sales  Critic_Score User_Score Rating  \n",
       "0     41.36     28.96      3.77         8.45          76.0          8      E  \n",
       "1     29.08      3.58      6.81         0.77           NaN        NaN    NaN  \n",
       "2     15.68     12.76      3.79         3.29          82.0        8.3      E  \n",
       "3     15.61     10.93      3.28         2.95          80.0          8      E  \n",
       "4     11.27      8.89     10.22         1.00           NaN        NaN    NaN  \n",
       "5     23.20      2.26      4.22         0.58           NaN        NaN    NaN  \n",
       "6     11.28      9.14      6.50         2.88          89.0        8.5      E  \n",
       "7     13.96      9.18      2.93         2.84          58.0        6.6      E  \n",
       "8     14.44      6.94      4.70         2.24          87.0        8.4      E  \n",
       "9     26.93      0.63      0.28         0.47           NaN        NaN    NaN  "
      ]
     },
     "execution_count": 3,
     "metadata": {},
     "output_type": "execute_result"
    }
   ],
   "source": [
    "df.head(10)"
   ]
  },
  {
   "cell_type": "code",
   "execution_count": 4,
   "metadata": {},
   "outputs": [
    {
     "name": "stdout",
     "output_type": "stream",
     "text": [
      "<class 'pandas.core.frame.DataFrame'>\n",
      "RangeIndex: 16715 entries, 0 to 16714\n",
      "Data columns (total 11 columns):\n",
      " #   Column           Non-Null Count  Dtype  \n",
      "---  ------           --------------  -----  \n",
      " 0   Name             16713 non-null  object \n",
      " 1   Platform         16715 non-null  object \n",
      " 2   Year_of_Release  16446 non-null  float64\n",
      " 3   Genre            16713 non-null  object \n",
      " 4   NA_sales         16715 non-null  float64\n",
      " 5   EU_sales         16715 non-null  float64\n",
      " 6   JP_sales         16715 non-null  float64\n",
      " 7   Other_sales      16715 non-null  float64\n",
      " 8   Critic_Score     8137 non-null   float64\n",
      " 9   User_Score       10014 non-null  object \n",
      " 10  Rating           9949 non-null   object \n",
      "dtypes: float64(6), object(5)\n",
      "memory usage: 1.4+ MB\n"
     ]
    }
   ],
   "source": [
    "df.info()"
   ]
  },
  {
   "cell_type": "markdown",
   "metadata": {},
   "source": [
    "#### Вывод\n",
    "\n",
    "Видим много пропущенных значений в столбцах с оценками и рейтингом, также есть несоответствие типов данных в столбцах User_Score, Year_of_Release. Столбцы следует переименовать."
   ]
  },
  {
   "cell_type": "markdown",
   "metadata": {},
   "source": [
    "## Подготовка данных\n",
    "\n",
    "### Заменим названия столбцов  и типы данных\n"
   ]
  },
  {
   "cell_type": "code",
   "execution_count": 5,
   "metadata": {},
   "outputs": [],
   "source": [
    "df.columns = df.columns.str.lower()"
   ]
  },
  {
   "cell_type": "code",
   "execution_count": 6,
   "metadata": {},
   "outputs": [],
   "source": [
    "# в столбце 'user_score' видим tbd (от англ. to be determined). То есть оценки здесь неизвестны - заменим на None\n",
    "df['user_score'] = df['user_score'].replace('tbd', None)"
   ]
  },
  {
   "cell_type": "code",
   "execution_count": 7,
   "metadata": {},
   "outputs": [],
   "source": [
    "df['user_score'] = df['user_score'].astype('float')\n",
    "df['year_of_release'] = pd.to_datetime(df['year_of_release'], format='%Y').dt.year"
   ]
  },
  {
   "cell_type": "markdown",
   "metadata": {},
   "source": [
    "###   Обработка пропусков"
   ]
  },
  {
   "cell_type": "code",
   "execution_count": 8,
   "metadata": {},
   "outputs": [],
   "source": [
    "def pass_value_barh(df):\n",
    "    try:\n",
    "        (\n",
    "            (df.isna().mean()*100)\n",
    "            .to_frame()\n",
    "            .rename(columns = {0:'space'})\n",
    "            .query('space > 0')\n",
    "            .sort_values(by = 'space', ascending = True)\n",
    "            .plot(kind = 'barh', figsize = (10,5), legend = False, fontsize = 16)\n",
    "                \n",
    "        )\n",
    "        plt.title('Пропущенные значения, %' + \"\\n\", fontsize=15)\n",
    "        plt.xlabel('Процент пропусков')\n",
    "        plt.ylabel('Столбцы с пропусками')\n",
    "        plt.xlim(0, 100);    \n",
    "    except:\n",
    "        print('пропусков не осталось :) или произошла ошибка в первой части функции ')"
   ]
  },
  {
   "cell_type": "code",
   "execution_count": 9,
   "metadata": {},
   "outputs": [
    {
     "data": {
      "image/png": "[encoded data removed]",
      "text/plain": [
       "<Figure size 720x360 with 1 Axes>"
      ]
     },
     "metadata": {
      "needs_background": "light"
     },
     "output_type": "display_data"
    }
   ],
   "source": [
    "pass_value_barh(df)"
   ]
  },
  {
   "cell_type": "markdown",
   "metadata": {},
   "source": [
    "***В колонках 'genre' и 'name' очень маленькое количество пропусков, можем их удалить***"
   ]
  },
  {
   "cell_type": "code",
   "execution_count": 10,
   "metadata": {},
   "outputs": [],
   "source": [
    "df.dropna(subset=['genre'], inplace=True)\n",
    "df.dropna(subset=['name'], inplace=True)"
   ]
  },
  {
   "cell_type": "code",
   "execution_count": 11,
   "metadata": {
    "scrolled": true
   },
   "outputs": [
    {
     "data": {
      "text/html": [
       "<div>\n",
       "<style scoped>\n",
       "    .dataframe tbody tr th:only-of-type {\n",
       "        vertical-align: middle;\n",
       "    }\n",
       "\n",
       "    .dataframe tbody tr th {\n",
       "        vertical-align: top;\n",
       "    }\n",
       "\n",
       "    .dataframe thead th {\n",
       "        text-align: right;\n",
       "    }\n",
       "</style>\n",
       "<table border=\"1\" class=\"dataframe\">\n",
       "  <thead>\n",
       "    <tr style=\"text-align: right;\">\n",
       "      <th></th>\n",
       "      <th>min</th>\n",
       "      <th>max</th>\n",
       "      <th>years_of_life</th>\n",
       "    </tr>\n",
       "    <tr>\n",
       "      <th>platform</th>\n",
       "      <th></th>\n",
       "      <th></th>\n",
       "      <th></th>\n",
       "    </tr>\n",
       "  </thead>\n",
       "  <tbody>\n",
       "    <tr>\n",
       "      <th>2600</th>\n",
       "      <td>1980.0</td>\n",
       "      <td>1989.0</td>\n",
       "      <td>9.0</td>\n",
       "    </tr>\n",
       "    <tr>\n",
       "      <th>3DO</th>\n",
       "      <td>1994.0</td>\n",
       "      <td>1995.0</td>\n",
       "      <td>1.0</td>\n",
       "    </tr>\n",
       "    <tr>\n",
       "      <th>3DS</th>\n",
       "      <td>2011.0</td>\n",
       "      <td>2016.0</td>\n",
       "      <td>5.0</td>\n",
       "    </tr>\n",
       "    <tr>\n",
       "      <th>DC</th>\n",
       "      <td>1998.0</td>\n",
       "      <td>2008.0</td>\n",
       "      <td>10.0</td>\n",
       "    </tr>\n",
       "    <tr>\n",
       "      <th>DS</th>\n",
       "      <td>1985.0</td>\n",
       "      <td>2013.0</td>\n",
       "      <td>28.0</td>\n",
       "    </tr>\n",
       "    <tr>\n",
       "      <th>GB</th>\n",
       "      <td>1988.0</td>\n",
       "      <td>2001.0</td>\n",
       "      <td>13.0</td>\n",
       "    </tr>\n",
       "    <tr>\n",
       "      <th>GBA</th>\n",
       "      <td>2000.0</td>\n",
       "      <td>2007.0</td>\n",
       "      <td>7.0</td>\n",
       "    </tr>\n",
       "    <tr>\n",
       "      <th>GC</th>\n",
       "      <td>2001.0</td>\n",
       "      <td>2007.0</td>\n",
       "      <td>6.0</td>\n",
       "    </tr>\n",
       "    <tr>\n",
       "      <th>GEN</th>\n",
       "      <td>1990.0</td>\n",
       "      <td>1994.0</td>\n",
       "      <td>4.0</td>\n",
       "    </tr>\n",
       "    <tr>\n",
       "      <th>GG</th>\n",
       "      <td>1992.0</td>\n",
       "      <td>1992.0</td>\n",
       "      <td>0.0</td>\n",
       "    </tr>\n",
       "    <tr>\n",
       "      <th>N64</th>\n",
       "      <td>1996.0</td>\n",
       "      <td>2002.0</td>\n",
       "      <td>6.0</td>\n",
       "    </tr>\n",
       "    <tr>\n",
       "      <th>NES</th>\n",
       "      <td>1983.0</td>\n",
       "      <td>1994.0</td>\n",
       "      <td>11.0</td>\n",
       "    </tr>\n",
       "    <tr>\n",
       "      <th>NG</th>\n",
       "      <td>1993.0</td>\n",
       "      <td>1996.0</td>\n",
       "      <td>3.0</td>\n",
       "    </tr>\n",
       "    <tr>\n",
       "      <th>PC</th>\n",
       "      <td>1985.0</td>\n",
       "      <td>2016.0</td>\n",
       "      <td>31.0</td>\n",
       "    </tr>\n",
       "    <tr>\n",
       "      <th>PCFX</th>\n",
       "      <td>1996.0</td>\n",
       "      <td>1996.0</td>\n",
       "      <td>0.0</td>\n",
       "    </tr>\n",
       "    <tr>\n",
       "      <th>PS</th>\n",
       "      <td>1994.0</td>\n",
       "      <td>2003.0</td>\n",
       "      <td>9.0</td>\n",
       "    </tr>\n",
       "    <tr>\n",
       "      <th>PS2</th>\n",
       "      <td>2000.0</td>\n",
       "      <td>2011.0</td>\n",
       "      <td>11.0</td>\n",
       "    </tr>\n",
       "    <tr>\n",
       "      <th>PS3</th>\n",
       "      <td>2006.0</td>\n",
       "      <td>2016.0</td>\n",
       "      <td>10.0</td>\n",
       "    </tr>\n",
       "    <tr>\n",
       "      <th>PS4</th>\n",
       "      <td>2013.0</td>\n",
       "      <td>2016.0</td>\n",
       "      <td>3.0</td>\n",
       "    </tr>\n",
       "    <tr>\n",
       "      <th>PSP</th>\n",
       "      <td>2004.0</td>\n",
       "      <td>2015.0</td>\n",
       "      <td>11.0</td>\n",
       "    </tr>\n",
       "    <tr>\n",
       "      <th>PSV</th>\n",
       "      <td>2011.0</td>\n",
       "      <td>2016.0</td>\n",
       "      <td>5.0</td>\n",
       "    </tr>\n",
       "    <tr>\n",
       "      <th>SAT</th>\n",
       "      <td>1994.0</td>\n",
       "      <td>1999.0</td>\n",
       "      <td>5.0</td>\n",
       "    </tr>\n",
       "    <tr>\n",
       "      <th>SCD</th>\n",
       "      <td>1993.0</td>\n",
       "      <td>1994.0</td>\n",
       "      <td>1.0</td>\n",
       "    </tr>\n",
       "    <tr>\n",
       "      <th>SNES</th>\n",
       "      <td>1990.0</td>\n",
       "      <td>1999.0</td>\n",
       "      <td>9.0</td>\n",
       "    </tr>\n",
       "    <tr>\n",
       "      <th>TG16</th>\n",
       "      <td>1995.0</td>\n",
       "      <td>1995.0</td>\n",
       "      <td>0.0</td>\n",
       "    </tr>\n",
       "    <tr>\n",
       "      <th>WS</th>\n",
       "      <td>1999.0</td>\n",
       "      <td>2001.0</td>\n",
       "      <td>2.0</td>\n",
       "    </tr>\n",
       "    <tr>\n",
       "      <th>Wii</th>\n",
       "      <td>2006.0</td>\n",
       "      <td>2016.0</td>\n",
       "      <td>10.0</td>\n",
       "    </tr>\n",
       "    <tr>\n",
       "      <th>WiiU</th>\n",
       "      <td>2012.0</td>\n",
       "      <td>2016.0</td>\n",
       "      <td>4.0</td>\n",
       "    </tr>\n",
       "    <tr>\n",
       "      <th>X360</th>\n",
       "      <td>2005.0</td>\n",
       "      <td>2016.0</td>\n",
       "      <td>11.0</td>\n",
       "    </tr>\n",
       "    <tr>\n",
       "      <th>XB</th>\n",
       "      <td>2000.0</td>\n",
       "      <td>2008.0</td>\n",
       "      <td>8.0</td>\n",
       "    </tr>\n",
       "    <tr>\n",
       "      <th>XOne</th>\n",
       "      <td>2013.0</td>\n",
       "      <td>2016.0</td>\n",
       "      <td>3.0</td>\n",
       "    </tr>\n",
       "  </tbody>\n",
       "</table>\n",
       "</div>"
      ],
      "text/plain": [
       "             min     max  years_of_life\n",
       "platform                               \n",
       "2600      1980.0  1989.0            9.0\n",
       "3DO       1994.0  1995.0            1.0\n",
       "3DS       2011.0  2016.0            5.0\n",
       "DC        1998.0  2008.0           10.0\n",
       "DS        1985.0  2013.0           28.0\n",
       "GB        1988.0  2001.0           13.0\n",
       "GBA       2000.0  2007.0            7.0\n",
       "GC        2001.0  2007.0            6.0\n",
       "GEN       1990.0  1994.0            4.0\n",
       "GG        1992.0  1992.0            0.0\n",
       "N64       1996.0  2002.0            6.0\n",
       "NES       1983.0  1994.0           11.0\n",
       "NG        1993.0  1996.0            3.0\n",
       "PC        1985.0  2016.0           31.0\n",
       "PCFX      1996.0  1996.0            0.0\n",
       "PS        1994.0  2003.0            9.0\n",
       "PS2       2000.0  2011.0           11.0\n",
       "PS3       2006.0  2016.0           10.0\n",
       "PS4       2013.0  2016.0            3.0\n",
       "PSP       2004.0  2015.0           11.0\n",
       "PSV       2011.0  2016.0            5.0\n",
       "SAT       1994.0  1999.0            5.0\n",
       "SCD       1993.0  1994.0            1.0\n",
       "SNES      1990.0  1999.0            9.0\n",
       "TG16      1995.0  1995.0            0.0\n",
       "WS        1999.0  2001.0            2.0\n",
       "Wii       2006.0  2016.0           10.0\n",
       "WiiU      2012.0  2016.0            4.0\n",
       "X360      2005.0  2016.0           11.0\n",
       "XB        2000.0  2008.0            8.0\n",
       "XOne      2013.0  2016.0            3.0"
      ]
     },
     "execution_count": 11,
     "metadata": {},
     "output_type": "execute_result"
    }
   ],
   "source": [
    "# check\n",
    "# жизненный срок платформы\n",
    "\n",
    "years_of_life = df.pivot_table(index='platform',values='year_of_release',aggfunc=['min','max'])\n",
    "years_of_life.columns=['min','max']\n",
    "years_of_life['years_of_life']=years_of_life['max']-years_of_life['min']\n",
    "years_of_life\n",
    "\n",
    "# years_of_life.sort_values(by = 'years_of_life', ascending = False)"
   ]
  },
  {
   "cell_type": "code",
   "execution_count": 12,
   "metadata": {},
   "outputs": [
    {
     "data": {
      "text/plain": [
       "PS2     34\n",
       "Wii     34\n",
       "DS      30\n",
       "X360    30\n",
       "PS3     25\n",
       "XB      21\n",
       "2600    17\n",
       "PC      17\n",
       "PSP     16\n",
       "GC      14\n",
       "GBA     11\n",
       "3DS      8\n",
       "PS       7\n",
       "N64      3\n",
       "GB       1\n",
       "PSV      1\n",
       "Name: platform, dtype: int64"
      ]
     },
     "execution_count": 12,
     "metadata": {},
     "output_type": "execute_result"
    }
   ],
   "source": [
    "df.loc[df['year_of_release'].isna()]['platform'].value_counts()"
   ]
  },
  {
   "cell_type": "markdown",
   "metadata": {},
   "source": [
    "***Пустые значения в колонке года удалим, т.к. их доля невелика***"
   ]
  },
  {
   "cell_type": "code",
   "execution_count": 13,
   "metadata": {},
   "outputs": [],
   "source": [
    "df = df.dropna(subset=['year_of_release'])"
   ]
  },
  {
   "cell_type": "code",
   "execution_count": 14,
   "metadata": {
    "scrolled": true
   },
   "outputs": [
    {
     "data": {
      "text/html": [
       "<div>\n",
       "<style scoped>\n",
       "    .dataframe tbody tr th:only-of-type {\n",
       "        vertical-align: middle;\n",
       "    }\n",
       "\n",
       "    .dataframe tbody tr th {\n",
       "        vertical-align: top;\n",
       "    }\n",
       "\n",
       "    .dataframe thead th {\n",
       "        text-align: right;\n",
       "    }\n",
       "</style>\n",
       "<table border=\"1\" class=\"dataframe\">\n",
       "  <thead>\n",
       "    <tr style=\"text-align: right;\">\n",
       "      <th></th>\n",
       "      <th>min</th>\n",
       "      <th>max</th>\n",
       "      <th>years_of_life</th>\n",
       "    </tr>\n",
       "    <tr>\n",
       "      <th>platform</th>\n",
       "      <th></th>\n",
       "      <th></th>\n",
       "      <th></th>\n",
       "    </tr>\n",
       "  </thead>\n",
       "  <tbody>\n",
       "    <tr>\n",
       "      <th>2600</th>\n",
       "      <td>1980.0</td>\n",
       "      <td>1989.0</td>\n",
       "      <td>9.0</td>\n",
       "    </tr>\n",
       "    <tr>\n",
       "      <th>3DO</th>\n",
       "      <td>1994.0</td>\n",
       "      <td>1995.0</td>\n",
       "      <td>1.0</td>\n",
       "    </tr>\n",
       "    <tr>\n",
       "      <th>3DS</th>\n",
       "      <td>2011.0</td>\n",
       "      <td>2016.0</td>\n",
       "      <td>5.0</td>\n",
       "    </tr>\n",
       "    <tr>\n",
       "      <th>DC</th>\n",
       "      <td>1998.0</td>\n",
       "      <td>2008.0</td>\n",
       "      <td>10.0</td>\n",
       "    </tr>\n",
       "    <tr>\n",
       "      <th>DS</th>\n",
       "      <td>1985.0</td>\n",
       "      <td>2013.0</td>\n",
       "      <td>28.0</td>\n",
       "    </tr>\n",
       "    <tr>\n",
       "      <th>GB</th>\n",
       "      <td>1988.0</td>\n",
       "      <td>2001.0</td>\n",
       "      <td>13.0</td>\n",
       "    </tr>\n",
       "    <tr>\n",
       "      <th>GBA</th>\n",
       "      <td>2000.0</td>\n",
       "      <td>2007.0</td>\n",
       "      <td>7.0</td>\n",
       "    </tr>\n",
       "    <tr>\n",
       "      <th>GC</th>\n",
       "      <td>2001.0</td>\n",
       "      <td>2007.0</td>\n",
       "      <td>6.0</td>\n",
       "    </tr>\n",
       "    <tr>\n",
       "      <th>GEN</th>\n",
       "      <td>1990.0</td>\n",
       "      <td>1994.0</td>\n",
       "      <td>4.0</td>\n",
       "    </tr>\n",
       "    <tr>\n",
       "      <th>GG</th>\n",
       "      <td>1992.0</td>\n",
       "      <td>1992.0</td>\n",
       "      <td>0.0</td>\n",
       "    </tr>\n",
       "    <tr>\n",
       "      <th>N64</th>\n",
       "      <td>1996.0</td>\n",
       "      <td>2002.0</td>\n",
       "      <td>6.0</td>\n",
       "    </tr>\n",
       "    <tr>\n",
       "      <th>NES</th>\n",
       "      <td>1983.0</td>\n",
       "      <td>1994.0</td>\n",
       "      <td>11.0</td>\n",
       "    </tr>\n",
       "    <tr>\n",
       "      <th>NG</th>\n",
       "      <td>1993.0</td>\n",
       "      <td>1996.0</td>\n",
       "      <td>3.0</td>\n",
       "    </tr>\n",
       "    <tr>\n",
       "      <th>PC</th>\n",
       "      <td>1985.0</td>\n",
       "      <td>2016.0</td>\n",
       "      <td>31.0</td>\n",
       "    </tr>\n",
       "    <tr>\n",
       "      <th>PCFX</th>\n",
       "      <td>1996.0</td>\n",
       "      <td>1996.0</td>\n",
       "      <td>0.0</td>\n",
       "    </tr>\n",
       "    <tr>\n",
       "      <th>PS</th>\n",
       "      <td>1994.0</td>\n",
       "      <td>2003.0</td>\n",
       "      <td>9.0</td>\n",
       "    </tr>\n",
       "    <tr>\n",
       "      <th>PS2</th>\n",
       "      <td>2000.0</td>\n",
       "      <td>2011.0</td>\n",
       "      <td>11.0</td>\n",
       "    </tr>\n",
       "    <tr>\n",
       "      <th>PS3</th>\n",
       "      <td>2006.0</td>\n",
       "      <td>2016.0</td>\n",
       "      <td>10.0</td>\n",
       "    </tr>\n",
       "    <tr>\n",
       "      <th>PS4</th>\n",
       "      <td>2013.0</td>\n",
       "      <td>2016.0</td>\n",
       "      <td>3.0</td>\n",
       "    </tr>\n",
       "    <tr>\n",
       "      <th>PSP</th>\n",
       "      <td>2004.0</td>\n",
       "      <td>2015.0</td>\n",
       "      <td>11.0</td>\n",
       "    </tr>\n",
       "    <tr>\n",
       "      <th>PSV</th>\n",
       "      <td>2011.0</td>\n",
       "      <td>2016.0</td>\n",
       "      <td>5.0</td>\n",
       "    </tr>\n",
       "    <tr>\n",
       "      <th>SAT</th>\n",
       "      <td>1994.0</td>\n",
       "      <td>1999.0</td>\n",
       "      <td>5.0</td>\n",
       "    </tr>\n",
       "    <tr>\n",
       "      <th>SCD</th>\n",
       "      <td>1993.0</td>\n",
       "      <td>1994.0</td>\n",
       "      <td>1.0</td>\n",
       "    </tr>\n",
       "    <tr>\n",
       "      <th>SNES</th>\n",
       "      <td>1990.0</td>\n",
       "      <td>1999.0</td>\n",
       "      <td>9.0</td>\n",
       "    </tr>\n",
       "    <tr>\n",
       "      <th>TG16</th>\n",
       "      <td>1995.0</td>\n",
       "      <td>1995.0</td>\n",
       "      <td>0.0</td>\n",
       "    </tr>\n",
       "    <tr>\n",
       "      <th>WS</th>\n",
       "      <td>1999.0</td>\n",
       "      <td>2001.0</td>\n",
       "      <td>2.0</td>\n",
       "    </tr>\n",
       "    <tr>\n",
       "      <th>Wii</th>\n",
       "      <td>2006.0</td>\n",
       "      <td>2016.0</td>\n",
       "      <td>10.0</td>\n",
       "    </tr>\n",
       "    <tr>\n",
       "      <th>WiiU</th>\n",
       "      <td>2012.0</td>\n",
       "      <td>2016.0</td>\n",
       "      <td>4.0</td>\n",
       "    </tr>\n",
       "    <tr>\n",
       "      <th>X360</th>\n",
       "      <td>2005.0</td>\n",
       "      <td>2016.0</td>\n",
       "      <td>11.0</td>\n",
       "    </tr>\n",
       "    <tr>\n",
       "      <th>XB</th>\n",
       "      <td>2000.0</td>\n",
       "      <td>2008.0</td>\n",
       "      <td>8.0</td>\n",
       "    </tr>\n",
       "    <tr>\n",
       "      <th>XOne</th>\n",
       "      <td>2013.0</td>\n",
       "      <td>2016.0</td>\n",
       "      <td>3.0</td>\n",
       "    </tr>\n",
       "  </tbody>\n",
       "</table>\n",
       "</div>"
      ],
      "text/plain": [
       "             min     max  years_of_life\n",
       "platform                               \n",
       "2600      1980.0  1989.0            9.0\n",
       "3DO       1994.0  1995.0            1.0\n",
       "3DS       2011.0  2016.0            5.0\n",
       "DC        1998.0  2008.0           10.0\n",
       "DS        1985.0  2013.0           28.0\n",
       "GB        1988.0  2001.0           13.0\n",
       "GBA       2000.0  2007.0            7.0\n",
       "GC        2001.0  2007.0            6.0\n",
       "GEN       1990.0  1994.0            4.0\n",
       "GG        1992.0  1992.0            0.0\n",
       "N64       1996.0  2002.0            6.0\n",
       "NES       1983.0  1994.0           11.0\n",
       "NG        1993.0  1996.0            3.0\n",
       "PC        1985.0  2016.0           31.0\n",
       "PCFX      1996.0  1996.0            0.0\n",
       "PS        1994.0  2003.0            9.0\n",
       "PS2       2000.0  2011.0           11.0\n",
       "PS3       2006.0  2016.0           10.0\n",
       "PS4       2013.0  2016.0            3.0\n",
       "PSP       2004.0  2015.0           11.0\n",
       "PSV       2011.0  2016.0            5.0\n",
       "SAT       1994.0  1999.0            5.0\n",
       "SCD       1993.0  1994.0            1.0\n",
       "SNES      1990.0  1999.0            9.0\n",
       "TG16      1995.0  1995.0            0.0\n",
       "WS        1999.0  2001.0            2.0\n",
       "Wii       2006.0  2016.0           10.0\n",
       "WiiU      2012.0  2016.0            4.0\n",
       "X360      2005.0  2016.0           11.0\n",
       "XB        2000.0  2008.0            8.0\n",
       "XOne      2013.0  2016.0            3.0"
      ]
     },
     "execution_count": 14,
     "metadata": {},
     "output_type": "execute_result"
    }
   ],
   "source": [
    "# check\n",
    "# жизненный срок платформы\n",
    "\n",
    "years_of_life = df.pivot_table(index='platform',values='year_of_release',aggfunc=['min','max'])\n",
    "years_of_life.columns=['min','max']\n",
    "years_of_life['years_of_life']=years_of_life['max']-years_of_life['min']\n",
    "years_of_life\n"
   ]
  },
  {
   "cell_type": "code",
   "execution_count": 15,
   "metadata": {},
   "outputs": [],
   "source": [
    "df = df.reset_index(drop=True)"
   ]
  },
  {
   "cell_type": "markdown",
   "metadata": {},
   "source": [
    "***Пустые значения в колонке рейтинг заменим на 'unknown'***"
   ]
  },
  {
   "cell_type": "code",
   "execution_count": 16,
   "metadata": {},
   "outputs": [],
   "source": [
    "df['rating'] = df['rating'].fillna('unknown')"
   ]
  },
  {
   "cell_type": "markdown",
   "metadata": {},
   "source": [
    "### Поиск дубликатов"
   ]
  },
  {
   "cell_type": "code",
   "execution_count": 17,
   "metadata": {
    "scrolled": true
   },
   "outputs": [
    {
     "data": {
      "text/html": [
       "<div>\n",
       "<style scoped>\n",
       "    .dataframe tbody tr th:only-of-type {\n",
       "        vertical-align: middle;\n",
       "    }\n",
       "\n",
       "    .dataframe tbody tr th {\n",
       "        vertical-align: top;\n",
       "    }\n",
       "\n",
       "    .dataframe thead th {\n",
       "        text-align: right;\n",
       "    }\n",
       "</style>\n",
       "<table border=\"1\" class=\"dataframe\">\n",
       "  <thead>\n",
       "    <tr style=\"text-align: right;\">\n",
       "      <th></th>\n",
       "      <th>name</th>\n",
       "      <th>platform</th>\n",
       "      <th>year_of_release</th>\n",
       "      <th>genre</th>\n",
       "      <th>na_sales</th>\n",
       "      <th>eu_sales</th>\n",
       "      <th>jp_sales</th>\n",
       "      <th>other_sales</th>\n",
       "      <th>critic_score</th>\n",
       "      <th>user_score</th>\n",
       "      <th>rating</th>\n",
       "    </tr>\n",
       "  </thead>\n",
       "  <tbody>\n",
       "    <tr>\n",
       "      <th>600</th>\n",
       "      <td>Madden NFL 13</td>\n",
       "      <td>PS3</td>\n",
       "      <td>2012.0</td>\n",
       "      <td>Sports</td>\n",
       "      <td>2.11</td>\n",
       "      <td>0.22</td>\n",
       "      <td>0.0</td>\n",
       "      <td>0.23</td>\n",
       "      <td>83.0</td>\n",
       "      <td>5.5</td>\n",
       "      <td>E</td>\n",
       "    </tr>\n",
       "    <tr>\n",
       "      <th>15969</th>\n",
       "      <td>Madden NFL 13</td>\n",
       "      <td>PS3</td>\n",
       "      <td>2012.0</td>\n",
       "      <td>Sports</td>\n",
       "      <td>0.00</td>\n",
       "      <td>0.01</td>\n",
       "      <td>0.0</td>\n",
       "      <td>0.00</td>\n",
       "      <td>83.0</td>\n",
       "      <td>5.5</td>\n",
       "      <td>E</td>\n",
       "    </tr>\n",
       "  </tbody>\n",
       "</table>\n",
       "</div>"
      ],
      "text/plain": [
       "                name platform  year_of_release   genre  na_sales  eu_sales  \\\n",
       "600    Madden NFL 13      PS3           2012.0  Sports      2.11      0.22   \n",
       "15969  Madden NFL 13      PS3           2012.0  Sports      0.00      0.01   \n",
       "\n",
       "       jp_sales  other_sales  critic_score  user_score rating  \n",
       "600         0.0         0.23          83.0         5.5      E  \n",
       "15969       0.0         0.00          83.0         5.5      E  "
      ]
     },
     "metadata": {},
     "output_type": "display_data"
    }
   ],
   "source": [
    "display(df.loc[df.duplicated(subset=['name', 'platform', 'year_of_release'], keep=False)])"
   ]
  },
  {
   "cell_type": "code",
   "execution_count": 18,
   "metadata": {},
   "outputs": [],
   "source": [
    "df.loc[600, 'eu_sales'] = 0.23\n",
    "df = df.drop (15969)"
   ]
  },
  {
   "cell_type": "code",
   "execution_count": 19,
   "metadata": {},
   "outputs": [],
   "source": [
    "df = df.reset_index(drop=True)"
   ]
  },
  {
   "cell_type": "code",
   "execution_count": 20,
   "metadata": {
    "scrolled": true
   },
   "outputs": [
    {
     "data": {
      "text/plain": [
       "['2600',\n",
       " '3DO',\n",
       " '3DS',\n",
       " 'DC',\n",
       " 'DS',\n",
       " 'GB',\n",
       " 'GBA',\n",
       " 'GC',\n",
       " 'GEN',\n",
       " 'GG',\n",
       " 'N64',\n",
       " 'NES',\n",
       " 'NG',\n",
       " 'PC',\n",
       " 'PCFX',\n",
       " 'PS',\n",
       " 'PS2',\n",
       " 'PS3',\n",
       " 'PS4',\n",
       " 'PSP',\n",
       " 'PSV',\n",
       " 'SAT',\n",
       " 'SCD',\n",
       " 'SNES',\n",
       " 'TG16',\n",
       " 'WS',\n",
       " 'Wii',\n",
       " 'WiiU',\n",
       " 'X360',\n",
       " 'XB',\n",
       " 'XOne']"
      ]
     },
     "execution_count": 20,
     "metadata": {},
     "output_type": "execute_result"
    }
   ],
   "source": [
    "sorted(df['platform'].unique())"
   ]
  },
  {
   "cell_type": "markdown",
   "metadata": {},
   "source": [
    "### Расчет суммарных продаж"
   ]
  },
  {
   "cell_type": "code",
   "execution_count": 21,
   "metadata": {},
   "outputs": [
    {
     "data": {
      "text/html": [
       "<div>\n",
       "<style scoped>\n",
       "    .dataframe tbody tr th:only-of-type {\n",
       "        vertical-align: middle;\n",
       "    }\n",
       "\n",
       "    .dataframe tbody tr th {\n",
       "        vertical-align: top;\n",
       "    }\n",
       "\n",
       "    .dataframe thead th {\n",
       "        text-align: right;\n",
       "    }\n",
       "</style>\n",
       "<table border=\"1\" class=\"dataframe\">\n",
       "  <thead>\n",
       "    <tr style=\"text-align: right;\">\n",
       "      <th></th>\n",
       "      <th>name</th>\n",
       "      <th>platform</th>\n",
       "      <th>year_of_release</th>\n",
       "      <th>genre</th>\n",
       "      <th>na_sales</th>\n",
       "      <th>eu_sales</th>\n",
       "      <th>jp_sales</th>\n",
       "      <th>other_sales</th>\n",
       "      <th>critic_score</th>\n",
       "      <th>user_score</th>\n",
       "      <th>rating</th>\n",
       "      <th>total_sales</th>\n",
       "    </tr>\n",
       "  </thead>\n",
       "  <tbody>\n",
       "    <tr>\n",
       "      <th>0</th>\n",
       "      <td>Wii Sports</td>\n",
       "      <td>Wii</td>\n",
       "      <td>2006.0</td>\n",
       "      <td>Sports</td>\n",
       "      <td>41.36</td>\n",
       "      <td>28.96</td>\n",
       "      <td>3.77</td>\n",
       "      <td>8.45</td>\n",
       "      <td>76.0</td>\n",
       "      <td>8.0</td>\n",
       "      <td>E</td>\n",
       "      <td>82.54</td>\n",
       "    </tr>\n",
       "    <tr>\n",
       "      <th>1</th>\n",
       "      <td>Super Mario Bros.</td>\n",
       "      <td>NES</td>\n",
       "      <td>1985.0</td>\n",
       "      <td>Platform</td>\n",
       "      <td>29.08</td>\n",
       "      <td>3.58</td>\n",
       "      <td>6.81</td>\n",
       "      <td>0.77</td>\n",
       "      <td>NaN</td>\n",
       "      <td>NaN</td>\n",
       "      <td>unknown</td>\n",
       "      <td>40.24</td>\n",
       "    </tr>\n",
       "    <tr>\n",
       "      <th>2</th>\n",
       "      <td>Mario Kart Wii</td>\n",
       "      <td>Wii</td>\n",
       "      <td>2008.0</td>\n",
       "      <td>Racing</td>\n",
       "      <td>15.68</td>\n",
       "      <td>12.76</td>\n",
       "      <td>3.79</td>\n",
       "      <td>3.29</td>\n",
       "      <td>82.0</td>\n",
       "      <td>8.3</td>\n",
       "      <td>E</td>\n",
       "      <td>35.52</td>\n",
       "    </tr>\n",
       "    <tr>\n",
       "      <th>3</th>\n",
       "      <td>Wii Sports Resort</td>\n",
       "      <td>Wii</td>\n",
       "      <td>2009.0</td>\n",
       "      <td>Sports</td>\n",
       "      <td>15.61</td>\n",
       "      <td>10.93</td>\n",
       "      <td>3.28</td>\n",
       "      <td>2.95</td>\n",
       "      <td>80.0</td>\n",
       "      <td>8.0</td>\n",
       "      <td>E</td>\n",
       "      <td>32.77</td>\n",
       "    </tr>\n",
       "    <tr>\n",
       "      <th>4</th>\n",
       "      <td>Pokemon Red/Pokemon Blue</td>\n",
       "      <td>GB</td>\n",
       "      <td>1996.0</td>\n",
       "      <td>Role-Playing</td>\n",
       "      <td>11.27</td>\n",
       "      <td>8.89</td>\n",
       "      <td>10.22</td>\n",
       "      <td>1.00</td>\n",
       "      <td>NaN</td>\n",
       "      <td>NaN</td>\n",
       "      <td>unknown</td>\n",
       "      <td>31.38</td>\n",
       "    </tr>\n",
       "    <tr>\n",
       "      <th>...</th>\n",
       "      <td>...</td>\n",
       "      <td>...</td>\n",
       "      <td>...</td>\n",
       "      <td>...</td>\n",
       "      <td>...</td>\n",
       "      <td>...</td>\n",
       "      <td>...</td>\n",
       "      <td>...</td>\n",
       "      <td>...</td>\n",
       "      <td>...</td>\n",
       "      <td>...</td>\n",
       "      <td>...</td>\n",
       "    </tr>\n",
       "    <tr>\n",
       "      <th>16438</th>\n",
       "      <td>Samurai Warriors: Sanada Maru</td>\n",
       "      <td>PS3</td>\n",
       "      <td>2016.0</td>\n",
       "      <td>Action</td>\n",
       "      <td>0.00</td>\n",
       "      <td>0.00</td>\n",
       "      <td>0.01</td>\n",
       "      <td>0.00</td>\n",
       "      <td>NaN</td>\n",
       "      <td>NaN</td>\n",
       "      <td>unknown</td>\n",
       "      <td>0.01</td>\n",
       "    </tr>\n",
       "    <tr>\n",
       "      <th>16439</th>\n",
       "      <td>LMA Manager 2007</td>\n",
       "      <td>X360</td>\n",
       "      <td>2006.0</td>\n",
       "      <td>Sports</td>\n",
       "      <td>0.00</td>\n",
       "      <td>0.01</td>\n",
       "      <td>0.00</td>\n",
       "      <td>0.00</td>\n",
       "      <td>NaN</td>\n",
       "      <td>NaN</td>\n",
       "      <td>unknown</td>\n",
       "      <td>0.01</td>\n",
       "    </tr>\n",
       "    <tr>\n",
       "      <th>16440</th>\n",
       "      <td>Haitaka no Psychedelica</td>\n",
       "      <td>PSV</td>\n",
       "      <td>2016.0</td>\n",
       "      <td>Adventure</td>\n",
       "      <td>0.00</td>\n",
       "      <td>0.00</td>\n",
       "      <td>0.01</td>\n",
       "      <td>0.00</td>\n",
       "      <td>NaN</td>\n",
       "      <td>NaN</td>\n",
       "      <td>unknown</td>\n",
       "      <td>0.01</td>\n",
       "    </tr>\n",
       "    <tr>\n",
       "      <th>16441</th>\n",
       "      <td>Spirits &amp; Spells</td>\n",
       "      <td>GBA</td>\n",
       "      <td>2003.0</td>\n",
       "      <td>Platform</td>\n",
       "      <td>0.01</td>\n",
       "      <td>0.00</td>\n",
       "      <td>0.00</td>\n",
       "      <td>0.00</td>\n",
       "      <td>NaN</td>\n",
       "      <td>NaN</td>\n",
       "      <td>unknown</td>\n",
       "      <td>0.01</td>\n",
       "    </tr>\n",
       "    <tr>\n",
       "      <th>16442</th>\n",
       "      <td>Winning Post 8 2016</td>\n",
       "      <td>PSV</td>\n",
       "      <td>2016.0</td>\n",
       "      <td>Simulation</td>\n",
       "      <td>0.00</td>\n",
       "      <td>0.00</td>\n",
       "      <td>0.01</td>\n",
       "      <td>0.00</td>\n",
       "      <td>NaN</td>\n",
       "      <td>NaN</td>\n",
       "      <td>unknown</td>\n",
       "      <td>0.01</td>\n",
       "    </tr>\n",
       "  </tbody>\n",
       "</table>\n",
       "<p>16443 rows × 12 columns</p>\n",
       "</div>"
      ],
      "text/plain": [
       "                                name platform  year_of_release         genre  \\\n",
       "0                         Wii Sports      Wii           2006.0        Sports   \n",
       "1                  Super Mario Bros.      NES           1985.0      Platform   \n",
       "2                     Mario Kart Wii      Wii           2008.0        Racing   \n",
       "3                  Wii Sports Resort      Wii           2009.0        Sports   \n",
       "4           Pokemon Red/Pokemon Blue       GB           1996.0  Role-Playing   \n",
       "...                              ...      ...              ...           ...   \n",
       "16438  Samurai Warriors: Sanada Maru      PS3           2016.0        Action   \n",
       "16439               LMA Manager 2007     X360           2006.0        Sports   \n",
       "16440        Haitaka no Psychedelica      PSV           2016.0     Adventure   \n",
       "16441               Spirits & Spells      GBA           2003.0      Platform   \n",
       "16442            Winning Post 8 2016      PSV           2016.0    Simulation   \n",
       "\n",
       "       na_sales  eu_sales  jp_sales  other_sales  critic_score  user_score  \\\n",
       "0         41.36     28.96      3.77         8.45          76.0         8.0   \n",
       "1         29.08      3.58      6.81         0.77           NaN         NaN   \n",
       "2         15.68     12.76      3.79         3.29          82.0         8.3   \n",
       "3         15.61     10.93      3.28         2.95          80.0         8.0   \n",
       "4         11.27      8.89     10.22         1.00           NaN         NaN   \n",
       "...         ...       ...       ...          ...           ...         ...   \n",
       "16438      0.00      0.00      0.01         0.00           NaN         NaN   \n",
       "16439      0.00      0.01      0.00         0.00           NaN         NaN   \n",
       "16440      0.00      0.00      0.01         0.00           NaN         NaN   \n",
       "16441      0.01      0.00      0.00         0.00           NaN         NaN   \n",
       "16442      0.00      0.00      0.01         0.00           NaN         NaN   \n",
       "\n",
       "        rating  total_sales  \n",
       "0            E        82.54  \n",
       "1      unknown        40.24  \n",
       "2            E        35.52  \n",
       "3            E        32.77  \n",
       "4      unknown        31.38  \n",
       "...        ...          ...  \n",
       "16438  unknown         0.01  \n",
       "16439  unknown         0.01  \n",
       "16440  unknown         0.01  \n",
       "16441  unknown         0.01  \n",
       "16442  unknown         0.01  \n",
       "\n",
       "[16443 rows x 12 columns]"
      ]
     },
     "execution_count": 21,
     "metadata": {},
     "output_type": "execute_result"
    }
   ],
   "source": [
    "df['total_sales'] = df[['na_sales','eu_sales','jp_sales', 'other_sales']].sum(axis = 1)\n",
    "df"
   ]
  },
  {
   "cell_type": "markdown",
   "metadata": {},
   "source": [
    "#### Вывод \n",
    "\n",
    "Изменили названия столбцов.\n",
    "\n",
    "Преобразовали типы данных в столбцах user_score, year_of_release.\n",
    "\n",
    "Заполнили пропуски в столбце year_of_release на основе данных о дате выхода игр на других платформах, в столбце rating изменили на 'unknown'. Пропуски в столбцах name и genre удалили, т.к. они составляют совсем небольшую часть.\n",
    "\n",
    "Пропуски в оценках оставили без изменений. Также в оценке пользователей 'tbd' заменили на пропуск, т.к. эта аббревиатура означает, что оценка пока не поставлена.\n",
    "\n",
    "Пропуски в столбцах могут возникнуть из-за технических проблем. Возможно игры не пользуются достаточной популярностью, из-за чего оценка в ретинге не стоит.\n",
    "\n",
    "Заметили дубликаты в двух строках, объединили в каждой данные по продажам в регионах.\n",
    "\n",
    "Создали отдельный столбец с общими продажами."
   ]
  },
  {
   "cell_type": "code",
   "execution_count": 22,
   "metadata": {},
   "outputs": [
    {
     "name": "stdout",
     "output_type": "stream",
     "text": [
      "<class 'pandas.core.frame.DataFrame'>\n",
      "RangeIndex: 16443 entries, 0 to 16442\n",
      "Data columns (total 12 columns):\n",
      " #   Column           Non-Null Count  Dtype  \n",
      "---  ------           --------------  -----  \n",
      " 0   name             16443 non-null  object \n",
      " 1   platform         16443 non-null  object \n",
      " 2   year_of_release  16443 non-null  float64\n",
      " 3   genre            16443 non-null  object \n",
      " 4   na_sales         16443 non-null  float64\n",
      " 5   eu_sales         16443 non-null  float64\n",
      " 6   jp_sales         16443 non-null  float64\n",
      " 7   other_sales      16443 non-null  float64\n",
      " 8   critic_score     7982 non-null   float64\n",
      " 9   user_score       8608 non-null   float64\n",
      " 10  rating           16443 non-null  object \n",
      " 11  total_sales      16443 non-null  float64\n",
      "dtypes: float64(8), object(4)\n",
      "memory usage: 1.5+ MB\n"
     ]
    }
   ],
   "source": [
    "# check\n",
    "df.info()"
   ]
  },
  {
   "cell_type": "markdown",
   "metadata": {},
   "source": [
    "## Исследовательский анализ данных\n",
    "\n",
    "### Выпуск игр по годам\n"
   ]
  },
  {
   "cell_type": "code",
   "execution_count": 23,
   "metadata": {
    "scrolled": true
   },
   "outputs": [
    {
     "data": {
      "image/png": "[encoded data removed]",
      "text/plain": [
       "<Figure size 576x360 with 1 Axes>"
      ]
     },
     "metadata": {
      "needs_background": "light"
     },
     "output_type": "display_data"
    }
   ],
   "source": [
    "df['year_of_release'].hist(bins=20, figsize=(8, 5))\n",
    "plt.title('Количество выпускаемых игр', fontsize=18)\n",
    "plt.ylabel('Количество', fontsize=14)\n",
    "plt.xlabel('Год', fontsize=14)\n",
    "plt.show()"
   ]
  },
  {
   "cell_type": "markdown",
   "metadata": {},
   "source": [
    "***Количество выпускаемых игр увеличивается с 1990 года, достигая максимума около 2010 года, а затем снижается.***"
   ]
  },
  {
   "cell_type": "markdown",
   "metadata": {},
   "source": [
    "### Как менялись продажи по платформам. За какой характерный срок появляются новые и исчезают старые платформы?\n"
   ]
  },
  {
   "cell_type": "code",
   "execution_count": 24,
   "metadata": {},
   "outputs": [
    {
     "data": {
      "image/png": "[encoded data removed]",
      "text/plain": [
       "<Figure size 720x504 with 1 Axes>"
      ]
     },
     "metadata": {
      "needs_background": "light"
     },
     "output_type": "display_data"
    }
   ],
   "source": [
    "(df.pivot_table(index='platform', aggfunc='sum', values='total_sales')\n",
    "    .sort_values(by='total_sales')\n",
    "    .plot(kind='barh', figsize=(10, 7), legend=False))\n",
    "plt.title('Суммарные продажи на платформах', fontsize=18)\n",
    "plt.ylabel('Платформа', fontsize=14)\n",
    "plt.xlabel('млн', fontsize=14)\n",
    "plt.show()"
   ]
  },
  {
   "cell_type": "markdown",
   "metadata": {},
   "source": [
    "***Наибольшие продажи на платформах PS2, X360, PS3, Wii, DS, PS.***"
   ]
  },
  {
   "cell_type": "code",
   "execution_count": 25,
   "metadata": {},
   "outputs": [],
   "source": [
    "df_top_platform = df[df['platform'].isin(['PS2', 'X360', 'PS3', 'Wii', 'DS', 'PS'])]"
   ]
  },
  {
   "cell_type": "code",
   "execution_count": 26,
   "metadata": {},
   "outputs": [
    {
     "data": {
      "image/png": "[encoded data removed]",
      "text/plain": [
       "<Figure size 1440x504 with 1 Axes>"
      ]
     },
     "metadata": {
      "needs_background": "light"
     },
     "output_type": "display_data"
    }
   ],
   "source": [
    "(df_top_platform.pivot_table(index='year_of_release', columns='platform', aggfunc='sum', values='total_sales')\n",
    "    .plot(kind='bar', figsize=(20, 7), width=1))\n",
    "\n",
    "plt.title('Продажи на платформах по годам', fontsize=18)\n",
    "plt.ylabel('Млн', fontsize=18)\n",
    "plt.xlabel('Год', fontsize=18)\n",
    "plt.show()"
   ]
  },
  {
   "cell_type": "markdown",
   "metadata": {},
   "source": [
    "***Заметно, что в основном платформы \"живут\" около 10 лет. Также видим, что популярность платформ, а соответственно и игр начинается с 1994 года.***"
   ]
  },
  {
   "cell_type": "code",
   "execution_count": 27,
   "metadata": {},
   "outputs": [
    {
     "data": {
      "text/html": [
       "<div>\n",
       "<style scoped>\n",
       "    .dataframe tbody tr th:only-of-type {\n",
       "        vertical-align: middle;\n",
       "    }\n",
       "\n",
       "    .dataframe tbody tr th {\n",
       "        vertical-align: top;\n",
       "    }\n",
       "\n",
       "    .dataframe thead th {\n",
       "        text-align: right;\n",
       "    }\n",
       "</style>\n",
       "<table border=\"1\" class=\"dataframe\">\n",
       "  <thead>\n",
       "    <tr style=\"text-align: right;\">\n",
       "      <th></th>\n",
       "      <th>name</th>\n",
       "      <th>platform</th>\n",
       "      <th>year_of_release</th>\n",
       "      <th>genre</th>\n",
       "      <th>na_sales</th>\n",
       "      <th>eu_sales</th>\n",
       "      <th>jp_sales</th>\n",
       "      <th>other_sales</th>\n",
       "      <th>critic_score</th>\n",
       "      <th>user_score</th>\n",
       "      <th>rating</th>\n",
       "      <th>total_sales</th>\n",
       "    </tr>\n",
       "  </thead>\n",
       "  <tbody>\n",
       "    <tr>\n",
       "      <th>15704</th>\n",
       "      <td>Strongest Tokyo University Shogi DS</td>\n",
       "      <td>DS</td>\n",
       "      <td>1985.0</td>\n",
       "      <td>Action</td>\n",
       "      <td>0.0</td>\n",
       "      <td>0.0</td>\n",
       "      <td>0.02</td>\n",
       "      <td>0.0</td>\n",
       "      <td>NaN</td>\n",
       "      <td>NaN</td>\n",
       "      <td>unknown</td>\n",
       "      <td>0.02</td>\n",
       "    </tr>\n",
       "  </tbody>\n",
       "</table>\n",
       "</div>"
      ],
      "text/plain": [
       "                                      name platform  year_of_release   genre  \\\n",
       "15704  Strongest Tokyo University Shogi DS       DS           1985.0  Action   \n",
       "\n",
       "       na_sales  eu_sales  jp_sales  other_sales  critic_score  user_score  \\\n",
       "15704       0.0       0.0      0.02          0.0           NaN         NaN   \n",
       "\n",
       "        rating  total_sales  \n",
       "15704  unknown         0.02  "
      ]
     },
     "execution_count": 27,
     "metadata": {},
     "output_type": "execute_result"
    }
   ],
   "source": [
    "df_top_platform.loc[df_top_platform['year_of_release'] == 1985]\n",
    "# DS была выпущена в 2004 году, удалим."
   ]
  },
  {
   "cell_type": "code",
   "execution_count": 28,
   "metadata": {},
   "outputs": [],
   "source": [
    "df = df.drop(index=df.query('year_of_release == 1985 and platform ==\"DS\"').index)"
   ]
  },
  {
   "cell_type": "markdown",
   "metadata": {},
   "source": [
    "   ### Определение актуального периода "
   ]
  },
  {
   "cell_type": "markdown",
   "metadata": {},
   "source": [
    "Возьмем данные за предыдущие два года"
   ]
  },
  {
   "cell_type": "code",
   "execution_count": 29,
   "metadata": {},
   "outputs": [],
   "source": [
    "df = df[df['year_of_release'] >=2014]"
   ]
  },
  {
   "cell_type": "markdown",
   "metadata": {},
   "source": [
    "### Какие платформы лидируют по продажам, растут или падают? Выберите несколько потенциально прибыльных платформ.\n"
   ]
  },
  {
   "cell_type": "code",
   "execution_count": 30,
   "metadata": {},
   "outputs": [
    {
     "data": {
      "image/png": "[encoded data removed]",
      "text/plain": [
       "<Figure size 1440x504 with 1 Axes>"
      ]
     },
     "metadata": {
      "needs_background": "light"
     },
     "output_type": "display_data"
    }
   ],
   "source": [
    "(df.pivot_table(index='year_of_release', columns='platform', values='total_sales', aggfunc='sum')\n",
    "    .plot(figsize=(20, 7), grid = True, style='o-', colormap='rainbow_r', linewidth=3)\n",
    "    .legend(loc='upper left', bbox_to_anchor=(1, 1)))\n",
    "plt.title('Продажи на платформах по годам', fontsize=18)\n",
    "plt.ylabel('Млн', fontsize=14)\n",
    "plt.xlabel('Год', fontsize=14)\n",
    "plt.xticks(np.arange(2014, 2017))\n",
    "plt.show()"
   ]
  },
  {
   "cell_type": "markdown",
   "metadata": {},
   "source": [
    "***Высокие продажи заметны на платформах PS4 и XOne.***\n",
    "\n",
    "***Продажи на других платформах в 2015 упали по сравнению с 2014***"
   ]
  },
  {
   "cell_type": "markdown",
   "metadata": {},
   "source": [
    "### Постройте график «ящик с усами» по глобальным продажам игр в разбивке по платформам. Опишите результат.\n"
   ]
  },
  {
   "cell_type": "code",
   "execution_count": 31,
   "metadata": {
    "scrolled": false
   },
   "outputs": [
    {
     "data": {
      "image/png": "[encoded data removed]",
      "text/plain": [
       "<Figure size 864x432 with 1 Axes>"
      ]
     },
     "metadata": {
      "needs_background": "light"
     },
     "output_type": "display_data"
    }
   ],
   "source": [
    "plt.figure(figsize=(12,6))\n",
    "sns.boxplot(data=df, y='platform', x='total_sales', orient='h')\n",
    "plt.title('Ящик с усами', fontsize=15)\n",
    "plt.xlabel('Глобальные продажи', fontsize=12)\n",
    "plt.ylabel('Платформа',fontsize=12)\n",
    "plt.show()"
   ]
  },
  {
   "cell_type": "markdown",
   "metadata": {},
   "source": [
    "***Заметны сильные выбросы, а сами ящики очень сжаты. Посмотрим без выбросов.***"
   ]
  },
  {
   "cell_type": "code",
   "execution_count": 32,
   "metadata": {},
   "outputs": [
    {
     "data": {
      "image/png": "[encoded data removed]",
      "text/plain": [
       "<Figure size 864x432 with 1 Axes>"
      ]
     },
     "metadata": {
      "needs_background": "light"
     },
     "output_type": "display_data"
    }
   ],
   "source": [
    "plt.figure(figsize=(12,6))\n",
    "sns.boxplot(data=df, y='platform', x='total_sales', orient='h', showfliers=False)\n",
    "plt.title('Ящик с усами', fontsize=15)\n",
    "plt.xlabel('Глобальные продажи', fontsize=12)\n",
    "plt.ylabel('Платформа',fontsize=12)\n",
    "plt.show()"
   ]
  },
  {
   "cell_type": "markdown",
   "metadata": {},
   "source": [
    "***Больше всего продаж за актуальный период приходятся на платформы XOne и PS4.***\n",
    "\n",
    "***Размах для этих консолей также достаточно большой, что говорит о наличии большого количества продаж. Также видим большие продажи на платформах WiiU, X360, однако, исходя из предыдущего графика, их востребованность уже падает.***"
   ]
  },
  {
   "cell_type": "markdown",
   "metadata": {},
   "source": [
    "### Посмотрите, как влияют на продажи внутри одной популярной платформы отзывы пользователей и критиков. Постройте диаграмму рассеяния и посчитайте корреляцию между отзывами и продажами. Сформулируйте выводы.\n"
   ]
  },
  {
   "cell_type": "code",
   "execution_count": 33,
   "metadata": {},
   "outputs": [
    {
     "data": {
      "image/png": "[encoded data removed]",
      "text/plain": [
       "<Figure size 1152x432 with 2 Axes>"
      ]
     },
     "metadata": {
      "needs_background": "light"
     },
     "output_type": "display_data"
    },
    {
     "name": "stdout",
     "output_type": "stream",
     "text": [
      "Коэффициент корреляции (критики): 0.4\n",
      "Коэффициент корреляции (пользователи): -0.04\n"
     ]
    }
   ],
   "source": [
    "df_PS4 = df[df['platform'] == 'PS4']\n",
    "f, ax = plt.subplots(1,2)\n",
    "f.set_size_inches(16,6)\n",
    "\n",
    "ax[0].scatter(x='critic_score', y='total_sales', data=df_PS4, c='b')\n",
    "ax[0].set_xlabel('Оценка критика')\n",
    "ax[0].set_ylabel('Общие продажи')\n",
    "ax[0].set_title('Диаграмма рассеяния (PS4)')\n",
    "\n",
    "ax[1].scatter(x=df_PS4['user_score'], y=df_PS4['total_sales'], c='b')\n",
    "ax[1].set_xlabel('Оценка пользователя')\n",
    "ax[1].set_ylabel('Общие продажи')\n",
    "ax[1].set_title('Диаграмма рассеяния (PS4)')\n",
    "\n",
    "plt.show()\n",
    "\n",
    "print('Коэффициент корреляции (критики):', df_PS4['total_sales'].corr(df_PS4['critic_score']).round(decimals=2))\n",
    "print('Коэффициент корреляции (пользователи):', df_PS4['total_sales'].corr(df_PS4['user_score']).round(decimals=2))"
   ]
  },
  {
   "cell_type": "markdown",
   "metadata": {},
   "source": [
    "***Мы видим положительную корреляцию между оценкой критика и количеством продаж, но точно сказать, влияет ли он на продажи нельзя. Оценнка пользователей не связана с продажами.***"
   ]
  },
  {
   "cell_type": "markdown",
   "metadata": {},
   "source": [
    "### Соотнесите выводы с продажами игр на других платформах.\n"
   ]
  },
  {
   "cell_type": "code",
   "execution_count": 34,
   "metadata": {},
   "outputs": [
    {
     "data": {
      "image/png": "[encoded data removed]",
      "text/plain": [
       "<Figure size 1152x432 with 2 Axes>"
      ]
     },
     "metadata": {
      "needs_background": "light"
     },
     "output_type": "display_data"
    },
    {
     "name": "stdout",
     "output_type": "stream",
     "text": [
      "Коэффициент корреляции (критики): 0.45\n",
      "Коэффициент корреляции (пользователи): -0.19\n"
     ]
    }
   ],
   "source": [
    "df_PS3 = df[df['platform']=='PS3']\n",
    "f, ax = plt.subplots(1,2)\n",
    "f.set_size_inches(16,6)\n",
    "\n",
    "ax[0].scatter(x='critic_score', y='total_sales', data=df_PS3, c='g')\n",
    "ax[0].set_xlabel('Оценка критика')\n",
    "ax[0].set_ylabel('Общие продажи')\n",
    "ax[0].set_title('Диаграмма рассеяния (PS3)')\n",
    "\n",
    "ax[1].scatter(x=df_PS3['user_score'], y=df_PS3['total_sales'], c='g')\n",
    "ax[1].set_xlabel('Оценка пользователя')\n",
    "ax[1].set_ylabel('Общие продажи')\n",
    "ax[1].set_title('Диаграмма рассеяния (PS3)')\n",
    "\n",
    "plt.show()\n",
    "\n",
    "print('Коэффициент корреляции (критики):', df_PS3['total_sales'].corr(df_PS3['critic_score']).round(decimals=2))\n",
    "print('Коэффициент корреляции (пользователи):', df_PS3['total_sales'].corr(df_PS3['user_score']).round(decimals=2))"
   ]
  },
  {
   "cell_type": "code",
   "execution_count": 35,
   "metadata": {},
   "outputs": [
    {
     "data": {
      "image/png": "[encoded data removed]",
      "text/plain": [
       "<Figure size 1152x432 with 2 Axes>"
      ]
     },
     "metadata": {
      "needs_background": "light"
     },
     "output_type": "display_data"
    },
    {
     "name": "stdout",
     "output_type": "stream",
     "text": [
      "Коэффициент корреляции (критики): 0.43\n",
      "Коэффициент корреляции (пользователи): -0.07\n"
     ]
    }
   ],
   "source": [
    "df_xone = df[df['platform']=='XOne']\n",
    "\n",
    "f, ax = plt.subplots(1,2)\n",
    "f.set_size_inches(16,6)\n",
    "\n",
    "ax[0].scatter(x='critic_score', y='total_sales', data=df_xone, c='r')\n",
    "ax[0].set_xlabel('Оценка критика')\n",
    "ax[0].set_ylabel('Общие продажи')\n",
    "ax[0].set_title('Диаграмма рассеяния (XOne)')\n",
    "\n",
    "ax[1].scatter(x=df_xone['user_score'], y=df_xone['total_sales'], c='r')\n",
    "ax[1].set_xlabel('Оценка пользователя')\n",
    "ax[1].set_ylabel('Общие продажи')\n",
    "ax[1].set_title('Диаграмма рассеяния (XOne)')\n",
    "\n",
    "plt.show()\n",
    "\n",
    "print('Коэффициент корреляции (критики):', df_xone['total_sales'].corr(df_xone['critic_score']).round(decimals=2))\n",
    "print('Коэффициент корреляции (пользователи):', df_xone['total_sales'].corr(df_xone['user_score']).round(decimals=2))"
   ]
  },
  {
   "cell_type": "markdown",
   "metadata": {},
   "source": [
    "***Как и следовало ожидать, оценки пользователей не влияют на количество продаж, а вот связь между продажами и оценками критиков существует, но точно оценить влияние мы, к сожалению, не можем.***"
   ]
  },
  {
   "cell_type": "markdown",
   "metadata": {},
   "source": [
    "### Общее распределение игр по жанрам. "
   ]
  },
  {
   "cell_type": "code",
   "execution_count": 36,
   "metadata": {},
   "outputs": [
    {
     "data": {
      "image/png": "[encoded data removed]",
      "text/plain": [
       "<Figure size 720x504 with 1 Axes>"
      ]
     },
     "metadata": {
      "needs_background": "light"
     },
     "output_type": "display_data"
    }
   ],
   "source": [
    "(df.pivot_table(index='genre', values='total_sales', aggfunc='sum')\n",
    "    .sort_values(by='total_sales', ascending=False)\n",
    "    .plot(kind='bar', figsize=(10, 7), grid = True, rot=45))\n",
    "plt.title('Продажи в зависимости от жанра', fontsize=18)\n",
    "plt.ylabel('Млн', fontsize=14)\n",
    "plt.xlabel('Жанр', fontsize=14)\n",
    "plt.show()"
   ]
  },
  {
   "cell_type": "markdown",
   "metadata": {},
   "source": [
    "***Игры в жанре экшн продаются в большем количестве, за ними идут шутеры, РПГ и спорт. Внизу рейтинга находятся головоломки, стратегии и приключения.***"
   ]
  },
  {
   "cell_type": "code",
   "execution_count": 37,
   "metadata": {},
   "outputs": [
    {
     "data": {
      "image/png": "[encoded data removed]",
      "text/plain": [
       "<Figure size 864x432 with 1 Axes>"
      ]
     },
     "metadata": {
      "needs_background": "light"
     },
     "output_type": "display_data"
    }
   ],
   "source": [
    "plt.figure(figsize=(12,6))\n",
    "sns.boxplot(data=df, y='genre', x='total_sales', orient='h')\n",
    "plt.title('Ящик с усами', fontsize=15)\n",
    "plt.xlabel('Глобальные продажи', fontsize=12)\n",
    "plt.ylabel('Платформа',fontsize=12)\n",
    "plt.show()"
   ]
  },
  {
   "cell_type": "code",
   "execution_count": 38,
   "metadata": {
    "scrolled": false
   },
   "outputs": [
    {
     "data": {
      "image/png": "[encoded data removed]",
      "text/plain": [
       "<Figure size 864x432 with 1 Axes>"
      ]
     },
     "metadata": {
      "needs_background": "light"
     },
     "output_type": "display_data"
    }
   ],
   "source": [
    "plt.figure(figsize=(12,6))\n",
    "sns.boxplot(data=df, y='genre', x='total_sales', orient='h', showfliers=False)\n",
    "plt.title('Ящик с усами', fontsize=15)\n",
    "plt.xlabel('Глобальные продажи', fontsize=12)\n",
    "plt.ylabel('Платформа',fontsize=12)\n",
    "plt.show()"
   ]
  },
  {
   "cell_type": "markdown",
   "metadata": {},
   "source": [
    "***Наибольшее медианное значение продаж мы видим в жанре shooter, здесь же заметен и \"длинный ус\", т.е. в этом жанре наблюдается и большой разброс значений, но все они являются нормальными.*** \n",
    "\n",
    "***Гистограмма выше нам показала, что больше продаж приносят игры в жанре экшн, однако теперь ясно, что такие высокие продажи - скорее единичные выбросы.*** \n",
    "\n",
    "***Таким образом, более \"стабильным\" жанром являются шутеры, затем следуют и сильно уступают им спортивные  игры***"
   ]
  },
  {
   "cell_type": "markdown",
   "metadata": {},
   "source": [
    "#### Вывод\n",
    "\n",
    "Количество выпускаемых игр увеличивается с 1990 года, достигая максимума около 2010 года, а затем снижается.\n",
    "\n",
    "Заметили, что в основном жизненный цикл платформы длится около 10 лет. Принято взять 2 прошедших (полных) года в качестве актуального периода, чтобы было возможно продемонстрировать динамику, но и чтобы период не был слишком большим.\n",
    "\n",
    "Наибольшие продажи за все время - на платформах PS2, X360, PS3, Wii, DS, PS.\n",
    "\n",
    "В актуальном периоде высокие продажи заметны на платформах PS4 и XOne. Продажи на других платформах в 2015 упали по сравнению с 2014\n",
    "\n",
    "Оценки пользователей не влияют на количество продаж, а вот небольшая связь между продажами и оценками критиков существует, но точно оценить влияние мы, к сожалению, не можем.\n",
    "\n",
    "Более продаваемые игры - игры в жанре экшн, а менее - головоломки. Однако здесь не учитывается разброс данных. Если мы посмотрим на боксплот, то увидим, что высокие продажи игр в жанре экшн - не типичная, а достаточно редкая история, а наиболее стабильно продаваемые игры -в жанре шутера."
   ]
  },
  {
   "cell_type": "markdown",
   "metadata": {},
   "source": [
    "## Портрет пользователя каждого региона\n",
    "### Самые популярные платформы (топ-5)"
   ]
  },
  {
   "cell_type": "code",
   "execution_count": 39,
   "metadata": {},
   "outputs": [],
   "source": [
    "na_sales = df.groupby('platform')['na_sales'].sum().sort_values(ascending=False).reset_index()\n",
    "eu_sales = df.groupby('platform')['eu_sales'].sum().sort_values(ascending=False).reset_index()\n",
    "jp_sales = df.groupby('platform')['jp_sales'].sum().sort_values(ascending=False).reset_index()"
   ]
  },
  {
   "cell_type": "code",
   "execution_count": 40,
   "metadata": {
    "scrolled": true
   },
   "outputs": [],
   "source": [
    "# заменим все, что не входит в топ-5, на 'Другие'\n",
    "na_sales.loc[~na_sales['platform'].isin(na_sales['platform'].head(5)), 'platform'] = 'Другие'\n",
    "eu_sales.loc[~eu_sales['platform'].isin(eu_sales['platform'].head(5)), 'platform'] = 'Другие'\n",
    "jp_sales.loc[~jp_sales['platform'].isin(jp_sales['platform'].head(5)), 'platform'] = 'Другие'"
   ]
  },
  {
   "cell_type": "code",
   "execution_count": 41,
   "metadata": {},
   "outputs": [],
   "source": [
    "na_sales = na_sales.groupby('platform')['na_sales'].sum()\n",
    "eu_sales = eu_sales.groupby('platform')['eu_sales'].sum()\n",
    "jp_sales = jp_sales.groupby('platform')['jp_sales'].sum()"
   ]
  },
  {
   "cell_type": "code",
   "execution_count": 42,
   "metadata": {},
   "outputs": [],
   "source": [
    "na_sales = na_sales.reset_index()\n",
    "eu_sales = eu_sales.reset_index()\n",
    "jp_sales = jp_sales.reset_index()"
   ]
  },
  {
   "cell_type": "code",
   "execution_count": 43,
   "metadata": {},
   "outputs": [
    {
     "data": {
      "image/png": "[encoded data removed]",
      "text/plain": [
       "<Figure size 1152x576 with 3 Axes>"
      ]
     },
     "metadata": {},
     "output_type": "display_data"
    }
   ],
   "source": [
    "f, ax = plt.subplots(1,3)\n",
    "f.set_size_inches(16,8)\n",
    "ax[0].pie(na_sales['na_sales'], autopct = '%1.0f%%', labels=na_sales['platform'])\n",
    "ax[1].pie(eu_sales['eu_sales'], autopct = '%1.0f%%', labels=eu_sales['platform'])\n",
    "ax[2].pie(jp_sales['jp_sales'], autopct = '%1.0f%%', labels=jp_sales['platform'])\n",
    "\n",
    "ax[0].set_title('Продажи в Северной Америке', fontsize=17)\n",
    "ax[1].set_title('Продажи в Европе', fontsize=17)\n",
    "ax[2].set_title('Продажи в Японии', fontsize=17)\n",
    "\n",
    "f.suptitle('Обзор рынка платформ', fontsize=22)\n",
    "plt.show()"
   ]
  },
  {
   "cell_type": "markdown",
   "metadata": {},
   "source": [
    "***Самые популярные платформы***\n",
    "\n",
    "Северная Америка:  PS4, XOne, X360, PS3, 3DS\n",
    "\n",
    "Европа: PS4, XOne, PS3, PC, 3DS\n",
    "\n",
    "Япония: 3DS, PSV, PS4, PS3, WiiU"
   ]
  },
  {
   "cell_type": "markdown",
   "metadata": {},
   "source": [
    "### Самые популярные жанры (топ-5). "
   ]
  },
  {
   "cell_type": "code",
   "execution_count": 44,
   "metadata": {},
   "outputs": [],
   "source": [
    "na_genre = df.groupby('genre')['na_sales'].sum().sort_values(ascending=False).reset_index()\n",
    "eu_genre = df.groupby('genre')['eu_sales'].sum().sort_values(ascending=False).reset_index()\n",
    "jp_genre = df.groupby('genre')['jp_sales'].sum().sort_values(ascending=False).reset_index()"
   ]
  },
  {
   "cell_type": "code",
   "execution_count": 45,
   "metadata": {},
   "outputs": [],
   "source": [
    "# заменим все, что не входит в топ-5, на 'Другие'\n",
    "na_genre.loc[~na_genre['genre'].isin(na_genre['genre'].head(5)), 'genre'] = 'Другие'\n",
    "eu_genre.loc[~eu_genre['genre'].isin(eu_genre['genre'].head(5)), 'genre'] = 'Другие'\n",
    "jp_genre.loc[~jp_genre['genre'].isin(jp_genre['genre'].head(5)), 'genre'] = 'Другие'"
   ]
  },
  {
   "cell_type": "code",
   "execution_count": 46,
   "metadata": {},
   "outputs": [],
   "source": [
    "na_genre = na_genre.groupby('genre')['na_sales'].sum()\n",
    "eu_genre = eu_genre.groupby('genre')['eu_sales'].sum()\n",
    "jp_genre = jp_genre.groupby('genre')['jp_sales'].sum()"
   ]
  },
  {
   "cell_type": "code",
   "execution_count": 47,
   "metadata": {},
   "outputs": [],
   "source": [
    "na_genre = na_genre.reset_index()\n",
    "eu_genre = eu_genre.reset_index()\n",
    "jp_genre = jp_genre.reset_index()"
   ]
  },
  {
   "cell_type": "code",
   "execution_count": 48,
   "metadata": {},
   "outputs": [
    {
     "data": {
      "image/png": "[encoded data removed]",
      "text/plain": [
       "<Figure size 1152x576 with 3 Axes>"
      ]
     },
     "metadata": {},
     "output_type": "display_data"
    }
   ],
   "source": [
    "f, ax = plt.subplots(1,3)\n",
    "f.set_size_inches(16,8)\n",
    "\n",
    "ax[0].pie(na_genre['na_sales'], autopct = '%1.0f%%', labels=na_genre['genre'])\n",
    "ax[1].pie(eu_genre['eu_sales'], autopct = '%1.0f%%', labels=eu_genre['genre'])\n",
    "ax[2].pie(jp_genre['jp_sales'], autopct = '%1.0f%%', labels=jp_genre['genre'])\n",
    "\n",
    "ax[0].set_title('В Северной Америке', fontsize=17)\n",
    "ax[1].set_title('В Европе', fontsize=17)\n",
    "ax[2].set_title('В Японии', fontsize=17)\n",
    "\n",
    "f.suptitle('Топ-5 популярных жанров', fontsize=22)\n",
    "plt.show()"
   ]
  },
  {
   "cell_type": "markdown",
   "metadata": {},
   "source": [
    "***Самые популярные жанры***\n",
    "\n",
    "Северная Америка: Shooter, Action, Sports, Role-Playing, Misc\n",
    "\n",
    "Европа: Action, Shooter, Sports, Role-Playing, Racing\n",
    "\n",
    "Япония: Role-Playing, Action, Fighting, Misc, Shooter"
   ]
  },
  {
   "cell_type": "markdown",
   "metadata": {},
   "source": [
    "### Влияет ли рейтинг ESRB на продажи в отдельном регионе?\n",
    "\n",
    "     \n",
    "\n",
    "«E» («Everyone») — «Для всех»\n",
    "\n",
    "«E10+» («Everyone 10 and older») — «Для всех от 10 лет и старше»\n",
    "\n",
    "«T» («Teen») — «Подросткам»\n",
    "\n",
    "«M» («Mature») — «Для взрослых»"
   ]
  },
  {
   "cell_type": "code",
   "execution_count": 49,
   "metadata": {},
   "outputs": [
    {
     "data": {
      "text/html": [
       "<div>\n",
       "<style scoped>\n",
       "    .dataframe tbody tr th:only-of-type {\n",
       "        vertical-align: middle;\n",
       "    }\n",
       "\n",
       "    .dataframe tbody tr th {\n",
       "        vertical-align: top;\n",
       "    }\n",
       "\n",
       "    .dataframe thead th {\n",
       "        text-align: right;\n",
       "    }\n",
       "</style>\n",
       "<table border=\"1\" class=\"dataframe\">\n",
       "  <thead>\n",
       "    <tr style=\"text-align: right;\">\n",
       "      <th></th>\n",
       "      <th>na_sales</th>\n",
       "      <th>eu_sales</th>\n",
       "      <th>jp_sales</th>\n",
       "    </tr>\n",
       "    <tr>\n",
       "      <th>rating</th>\n",
       "      <th></th>\n",
       "      <th></th>\n",
       "      <th></th>\n",
       "    </tr>\n",
       "  </thead>\n",
       "  <tbody>\n",
       "    <tr>\n",
       "      <th>E</th>\n",
       "      <td>50.74</td>\n",
       "      <td>58.06</td>\n",
       "      <td>8.94</td>\n",
       "    </tr>\n",
       "    <tr>\n",
       "      <th>E10+</th>\n",
       "      <td>33.23</td>\n",
       "      <td>26.16</td>\n",
       "      <td>4.46</td>\n",
       "    </tr>\n",
       "    <tr>\n",
       "      <th>M</th>\n",
       "      <td>96.42</td>\n",
       "      <td>93.44</td>\n",
       "      <td>8.01</td>\n",
       "    </tr>\n",
       "    <tr>\n",
       "      <th>T</th>\n",
       "      <td>38.95</td>\n",
       "      <td>34.07</td>\n",
       "      <td>14.78</td>\n",
       "    </tr>\n",
       "    <tr>\n",
       "      <th>unknown</th>\n",
       "      <td>64.72</td>\n",
       "      <td>58.95</td>\n",
       "      <td>56.90</td>\n",
       "    </tr>\n",
       "  </tbody>\n",
       "</table>\n",
       "</div>"
      ],
      "text/plain": [
       "         na_sales  eu_sales  jp_sales\n",
       "rating                               \n",
       "E           50.74     58.06      8.94\n",
       "E10+        33.23     26.16      4.46\n",
       "M           96.42     93.44      8.01\n",
       "T           38.95     34.07     14.78\n",
       "unknown     64.72     58.95     56.90"
      ]
     },
     "execution_count": 49,
     "metadata": {},
     "output_type": "execute_result"
    }
   ],
   "source": [
    "df.groupby('rating')[['na_sales', 'eu_sales', 'jp_sales']].sum()"
   ]
  },
  {
   "cell_type": "code",
   "execution_count": 50,
   "metadata": {},
   "outputs": [],
   "source": [
    "na_esrb = df.groupby('rating')['na_sales'].sum().sort_values(ascending=False).reset_index()\n",
    "eu_esrb = df.groupby('rating')['eu_sales'].sum().sort_values(ascending=False).reset_index()\n",
    "jp_esrb = df.groupby('rating')['jp_sales'].sum().sort_values(ascending=False).reset_index()"
   ]
  },
  {
   "cell_type": "code",
   "execution_count": 51,
   "metadata": {},
   "outputs": [
    {
     "data": {
      "image/png": "[encoded data removed]",
      "text/plain": [
       "<Figure size 1152x576 with 3 Axes>"
      ]
     },
     "metadata": {},
     "output_type": "display_data"
    }
   ],
   "source": [
    "f, ax = plt.subplots(1,3)\n",
    "f.set_size_inches(16,8)\n",
    "\n",
    "ax[0].pie(na_esrb['na_sales'], autopct = '%1.0f%%', labels=na_esrb['rating'])\n",
    "ax[1].pie(eu_esrb['eu_sales'], autopct = '%1.0f%%', labels=eu_esrb['rating'])\n",
    "ax[2].pie(jp_esrb['jp_sales'], autopct = '%1.0f%%', labels=jp_esrb['rating'])\n",
    "\n",
    "ax[0].set_title('В Северной Америке', fontsize=17)\n",
    "ax[1].set_title('В Европе', fontsize=17)\n",
    "ax[2].set_title('В Японии', fontsize=17)\n",
    "\n",
    "f.suptitle('Влияние рейтинга ESRB на продажи в регионах', fontsize=22)\n",
    "plt.show()"
   ]
  },
  {
   "cell_type": "markdown",
   "metadata": {},
   "source": [
    "***Рейтинг ESRB***\n",
    "\n",
    "Северная Америка: Для взрослых, Неизвестно, Для всех, Для подростков , Для всех от 10 лет и старше.\n",
    "\n",
    "Европа: Для взрослых, Неизвестно, Для всех, Для подростков, Для всех от 10 лет и старше.\n",
    "\n",
    "Япония: Неизвестно, Для подростков, Для всех, Для взрослых, Для всех от 10 лет и старше."
   ]
  },
  {
   "cell_type": "markdown",
   "metadata": {},
   "source": [
    "#### Вывод\n",
    "\n",
    "1. Платформа\n",
    "\n",
    "Видно, что в Северной Америке и Европе доминируют PS4 и XOne В Японии самой популярной является 3DS, при чем с достаточно большим отрывом, но также видно, что в стране пользуются и японской консолью wiiU.\n",
    "\n",
    "2. Жанр\n",
    "\n",
    "В Северной Америке самыми популярными жанрами являются Shooter, Action, Sports, Role-Playing, Misc, в Европе похожая ситуация, только вместо \"разного\" европейцы предпочитают гонки. В Японии видим достаточно отличающуюся картину: Role-Playing, Action, Fighting, Misc, Shooter. Такие различия могут быть связаны с культурными особенностями страны и иным менталитетом.\n",
    "\n",
    "3. Рейтинг\n",
    "\n",
    "В Северной Америке и Европе самой популярной категорией является M, что значит \"Для взрослых\", также преобладают игры для всех.\n",
    "В Японии на первом месте \"неизвестно\". Возможно в Японии существует другой рейтинг для присваивания категорий играм, из-за чего указать точную категорию - сложно."
   ]
  },
  {
   "cell_type": "markdown",
   "metadata": {},
   "source": [
    "## Проверка гипотез\n",
    "\n",
    "### Средние пользовательские рейтинги платформ Xbox One и PC одинаковые;\n",
    "    "
   ]
  },
  {
   "cell_type": "markdown",
   "metadata": {},
   "source": [
    "H0: Средний пользовательский рейтинг платформы XOne **равен** среднему пользовательскому рейтингу платформы PC\n",
    "\n",
    "H1: Средний пользовательский рейтинг платформы XOne **не равен** среднему пользовательскому рейтингу платформы PC"
   ]
  },
  {
   "cell_type": "code",
   "execution_count": 52,
   "metadata": {
    "scrolled": true
   },
   "outputs": [
    {
     "name": "stdout",
     "output_type": "stream",
     "text": [
      "Среднее значение рейтинга для XOne: 6.597023809523808\n",
      "Среднее значение рейтинга для PC: 6.314634146341461\n",
      "Значение p-value: 0.13130164268727834\n",
      "Не получилось отвергнуть нулевую гипотезу\n"
     ]
    }
   ],
   "source": [
    "alpha=0.05\n",
    "df_xone = df.query(\"platform == 'XOne' and user_score >= 0\")\n",
    "df_pc = df.query(\"platform == 'PC' and user_score >= 0\")\n",
    "print('Среднее значение рейтинга для XOne:', df_xone['user_score'].mean())\n",
    "print('Среднее значение рейтинга для PC:', df_pc['user_score'].mean())\n",
    "result = st.ttest_ind(df_xone['user_score'], df_pc['user_score'], equal_var=False)\n",
    "print('Значение p-value:', result.pvalue)\n",
    "if result.pvalue < alpha:\n",
    "    print('Отвергаем нулевую гипотезу')\n",
    "else:\n",
    "    print('Не получилось отвергнуть нулевую гипотезу')"
   ]
  },
  {
   "cell_type": "code",
   "execution_count": 53,
   "metadata": {},
   "outputs": [
    {
     "data": {
      "text/plain": [
       "2.0"
      ]
     },
     "metadata": {},
     "output_type": "display_data"
    },
    {
     "data": {
      "text/plain": [
       "2.0"
      ]
     },
     "metadata": {},
     "output_type": "display_data"
    }
   ],
   "source": [
    "display(df_xone['year_of_release'].max() - df_xone['year_of_release'].min())\n",
    "display(df_pc['year_of_release'].max() - df_pc['year_of_release'].min())"
   ]
  },
  {
   "cell_type": "markdown",
   "metadata": {},
   "source": [
    "***На первый взгляд, средние значения не сильно отличаются. И благодаря t-test  мы можем сказать, что среднее значение пользовательского рейтинга платформы Xbox One не отличается от среднего значения пользовательского рейтинга платформы PC.***"
   ]
  },
  {
   "cell_type": "markdown",
   "metadata": {},
   "source": [
    "### Средние пользовательские рейтинги жанров Action (англ. «действие», экшен-игры) и Sports (англ. «спортивные соревнования») разные."
   ]
  },
  {
   "cell_type": "markdown",
   "metadata": {},
   "source": [
    "H0: Cредние пользовательские рейтинги жанра Action **равны**  средним пользовательским рейтингам жанра Sports\n",
    "\n",
    "H1: Cредние пользовательские рейтинги жанра Action **не равны**  средним пользовательским рейтингам жанра Sports"
   ]
  },
  {
   "cell_type": "code",
   "execution_count": 55,
   "metadata": {},
   "outputs": [
    {
     "name": "stdout",
     "output_type": "stream",
     "text": [
      "Среднее значение рейтинга для Action: 6.753354632587856\n",
      "Среднее значение рейтинга для Sports: 5.291603053435112\n",
      "Значение p-value: 1.3080710852425688e-13\n",
      "Отвергаем нулевую гипотезу\n"
     ]
    }
   ],
   "source": [
    "alpha=0.05\n",
    "df_action = df.query(\"genre == 'Action' and user_score >= 0\")\n",
    "df_sports = df.query(\"genre == 'Sports' and user_score >= 0\")\n",
    "print('Среднее значение рейтинга для Action:', df_action['user_score'].mean())\n",
    "print('Среднее значение рейтинга для Sports:', df_sports['user_score'].mean())\n",
    "result = st.ttest_ind(df_action['user_score'], df_sports['user_score'], equal_var=False)\n",
    "print('Значение p-value:', result.pvalue)\n",
    "if result.pvalue < alpha:\n",
    "    print('Отвергаем нулевую гипотезу')\n",
    "else:\n",
    "    print('Не получилось отвергнуть нулевую гипотезу')"
   ]
  },
  {
   "cell_type": "markdown",
   "metadata": {},
   "source": [
    "***Можем сказать, что среднее значение пользовательской оценки для жанров Action и Sports не равны. А из вычисленных средних видно, что рейтинг у игр жанра Action выше.***"
   ]
  },
  {
   "cell_type": "markdown",
   "metadata": {},
   "source": [
    "***Для проверки гипотезы был выбран тест о равенстве средних двух генеральных совокупностей с аргументом equal_var = False, т.к. размер совокупностей разный.***"
   ]
  },
  {
   "cell_type": "markdown",
   "metadata": {},
   "source": [
    "## Общий вывод"
   ]
  },
  {
   "cell_type": "markdown",
   "metadata": {},
   "source": [
    "В ходе анализа данных было обнаружено несколько ключевых моментов, которые требовали внимания и коррекции.\n",
    "\n",
    "    Пропущенные значения и типы данных:\n",
    "        Выявлено множество пропущенных значений в столбцах с оценками и рейтингом.\n",
    "        Наблюдалось несоответствие типов данных в столбцах User_Score и Year_of_Release.\n",
    "        Произведено переименование столбцов для улучшения читаемости.\n",
    "\n",
    "    Обработка пропущенных значений:\n",
    "        Пропуски в столбце Year_of_Release были заполнены на основе данных о дате выхода игр на других платформах.\n",
    "        В столбце Rating пропуски были заменены на 'unknown'.\n",
    "        Пропуски в столбцах Name и Genre удалены, поскольку их доля была невелика.\n",
    "        Пропуски в оценках оставлены без изменений, а 'tbd' в столбце User_Score заменен на пропуск.\n",
    "\n",
    "    Устранение дубликатов:\n",
    "        Обнаружены дубликаты в двух строках, данные о продажах объединены.\n",
    "\n",
    "    Создание дополнительных признаков:\n",
    "        Добавлен столбец с общими продажами.\n",
    "        Проанализировано количество выпущенных игр по годам.\n",
    "\n",
    "    Анализ платформ:\n",
    "        Установлено, что жизненный цикл платформы в основном составляет около 10 лет.\n",
    "        Выделен актуальный период для анализа последних 2 полных лет (с 2014).\n",
    "        Платформы-лидеры по продажам в актуальном периоде: PS4 и XOne.\n",
    "\n",
    "    Корреляция и факторы успешности игр:\n",
    "        Оценки пользователей не влияют на количество продаж.\n",
    "        Наблюдается слабая связь между оценками критиков и продажами, но точно оценить влияние мы не можем.\n",
    "        Более продаваемые игры обычно в жанре экшн, но стоит учитывать разброс данных.\n",
    "        Жанр шутера имеет наиболее стабильные и высокие продажи.\n",
    "    Популярные жанры:\n",
    "\n",
    "        Более продаваемые игры обычно в жанре экшн, но стоит учитывать разброс данных.\n",
    "        Жанр шутера имеет наиболее стабильные и высокие продажи.\n",
    "\n",
    "    Региональные предпочтения:\n",
    "\n",
    "        В Северной Америке и Европе доминируют PS4 и XOne, в Японии - 3DS с отрывом.\n",
    "        Различия в предпочтениях могут быть обусловлены культурными особенностями.\n",
    "\n",
    "    Рейтинги игр:\n",
    "\n",
    "        В Северной Америке и Европе преобладают игры с рейтингом M (для взрослых), также популярны игры для всех.\n",
    "        В Японии преобладают игры с неизвестным рейтингом.\n",
    "        \n",
    "    Статистические тесты:\n",
    "        Средние значения пользовательского рейтинга платформ Xbox One и PC не различаются с высокой вероятностью.\n",
    "        Средние значения пользовательской оценки для жанров Action и Sports различаются с высокой вероятностью."
   ]
  }
 ],
 "metadata": {
  "ExecuteTimeLog": [
   {
    "duration": 574,
    "start_time": "2024-01-30T11:11:21.440Z"
   },
   {
    "duration": 186,
    "start_time": "2024-01-30T11:11:38.209Z"
   },
   {
    "duration": 16,
    "start_time": "2024-01-30T11:12:33.845Z"
   },
   {
    "duration": 23,
    "start_time": "2024-01-30T11:12:45.321Z"
   },
   {
    "duration": 5,
    "start_time": "2024-01-30T11:22:26.953Z"
   },
   {
    "duration": 454,
    "start_time": "2024-01-30T11:22:47.717Z"
   },
   {
    "duration": 3,
    "start_time": "2024-01-30T11:22:51.534Z"
   },
   {
    "duration": 4,
    "start_time": "2024-01-30T11:22:57.790Z"
   },
   {
    "duration": 22,
    "start_time": "2024-01-30T11:23:09.432Z"
   },
   {
    "duration": 15,
    "start_time": "2024-01-30T11:32:08.880Z"
   },
   {
    "duration": 7,
    "start_time": "2024-01-30T11:32:32.975Z"
   },
   {
    "duration": 4,
    "start_time": "2024-01-30T11:32:36.209Z"
   },
   {
    "duration": 6,
    "start_time": "2024-01-30T11:32:48.515Z"
   },
   {
    "duration": 19,
    "start_time": "2024-01-30T11:33:46.631Z"
   },
   {
    "duration": 28,
    "start_time": "2024-01-30T11:33:55.464Z"
   },
   {
    "duration": 706,
    "start_time": "2024-01-30T11:56:05.186Z"
   },
   {
    "duration": 57,
    "start_time": "2024-01-30T11:56:05.894Z"
   },
   {
    "duration": 22,
    "start_time": "2024-01-30T11:56:05.953Z"
   },
   {
    "duration": 19,
    "start_time": "2024-01-30T11:56:05.977Z"
   },
   {
    "duration": 4,
    "start_time": "2024-01-30T11:56:05.998Z"
   },
   {
    "duration": 30,
    "start_time": "2024-01-30T11:56:06.003Z"
   },
   {
    "duration": 1224,
    "start_time": "2024-01-30T12:02:50.290Z"
   },
   {
    "duration": 118,
    "start_time": "2024-01-30T12:02:51.516Z"
   },
   {
    "duration": 85,
    "start_time": "2024-01-30T12:02:51.636Z"
   },
   {
    "duration": 75,
    "start_time": "2024-01-30T12:02:51.723Z"
   },
   {
    "duration": 5,
    "start_time": "2024-01-30T12:02:51.800Z"
   },
   {
    "duration": 96,
    "start_time": "2024-01-30T12:02:51.807Z"
   },
   {
    "duration": 78,
    "start_time": "2024-01-30T12:03:46.325Z"
   },
   {
    "duration": 55,
    "start_time": "2024-01-30T12:03:55.816Z"
   },
   {
    "duration": 31,
    "start_time": "2024-01-30T12:04:28.736Z"
   },
   {
    "duration": 91,
    "start_time": "2024-01-30T12:04:47.270Z"
   },
   {
    "duration": 31,
    "start_time": "2024-01-30T12:07:10.096Z"
   },
   {
    "duration": 27,
    "start_time": "2024-01-30T12:07:16.234Z"
   },
   {
    "duration": 12,
    "start_time": "2024-01-30T12:14:39.392Z"
   },
   {
    "duration": 29,
    "start_time": "2024-01-30T12:14:44.755Z"
   },
   {
    "duration": 26,
    "start_time": "2024-01-30T12:15:28.849Z"
   },
   {
    "duration": 33,
    "start_time": "2024-01-30T12:17:27.986Z"
   },
   {
    "duration": 91,
    "start_time": "2024-01-30T12:17:39.782Z"
   },
   {
    "duration": 28,
    "start_time": "2024-01-30T12:17:44.022Z"
   },
   {
    "duration": 100,
    "start_time": "2024-01-30T12:17:49.419Z"
   },
   {
    "duration": 31,
    "start_time": "2024-01-30T12:19:12.362Z"
   },
   {
    "duration": 7,
    "start_time": "2024-01-30T12:19:25.493Z"
   },
   {
    "duration": 4,
    "start_time": "2024-01-30T12:19:37.112Z"
   },
   {
    "duration": 7,
    "start_time": "2024-01-30T12:19:59.865Z"
   },
   {
    "duration": 9,
    "start_time": "2024-01-30T12:20:18.300Z"
   },
   {
    "duration": 4,
    "start_time": "2024-01-30T12:20:21.992Z"
   },
   {
    "duration": 4,
    "start_time": "2024-01-30T12:20:25.093Z"
   },
   {
    "duration": 5,
    "start_time": "2024-01-30T12:20:30.399Z"
   },
   {
    "duration": 7,
    "start_time": "2024-01-30T12:20:38.241Z"
   },
   {
    "duration": 5,
    "start_time": "2024-01-30T12:20:39.915Z"
   },
   {
    "duration": 5,
    "start_time": "2024-01-30T12:22:55.560Z"
   },
   {
    "duration": 16,
    "start_time": "2024-01-30T12:23:05.423Z"
   },
   {
    "duration": 10,
    "start_time": "2024-01-30T12:23:11.261Z"
   },
   {
    "duration": 6,
    "start_time": "2024-01-30T12:23:12.570Z"
   },
   {
    "duration": 7,
    "start_time": "2024-01-30T12:23:19.943Z"
   },
   {
    "duration": 5,
    "start_time": "2024-01-30T12:23:20.615Z"
   },
   {
    "duration": 5,
    "start_time": "2024-01-30T12:24:05.740Z"
   },
   {
    "duration": 5,
    "start_time": "2024-01-30T12:24:07.772Z"
   },
   {
    "duration": 14,
    "start_time": "2024-01-30T12:25:55.334Z"
   },
   {
    "duration": 12,
    "start_time": "2024-01-30T12:25:59.337Z"
   },
   {
    "duration": 5,
    "start_time": "2024-01-30T12:31:37.813Z"
   },
   {
    "duration": 219,
    "start_time": "2024-01-30T12:31:53.878Z"
   },
   {
    "duration": 5,
    "start_time": "2024-01-30T12:34:02.538Z"
   },
   {
    "duration": 174,
    "start_time": "2024-01-30T12:34:04.981Z"
   },
   {
    "duration": 4,
    "start_time": "2024-01-30T12:34:15.057Z"
   },
   {
    "duration": 170,
    "start_time": "2024-01-30T12:34:16.110Z"
   },
   {
    "duration": 5,
    "start_time": "2024-01-30T12:34:25.624Z"
   },
   {
    "duration": 171,
    "start_time": "2024-01-30T12:34:27.019Z"
   },
   {
    "duration": 4,
    "start_time": "2024-01-30T12:34:31.966Z"
   },
   {
    "duration": 226,
    "start_time": "2024-01-30T12:34:32.911Z"
   },
   {
    "duration": 5,
    "start_time": "2024-01-30T12:35:30.120Z"
   },
   {
    "duration": 151,
    "start_time": "2024-01-30T12:35:30.487Z"
   },
   {
    "duration": 4,
    "start_time": "2024-01-30T12:35:35.838Z"
   },
   {
    "duration": 159,
    "start_time": "2024-01-30T12:35:37.355Z"
   },
   {
    "duration": 5,
    "start_time": "2024-01-30T12:35:41.389Z"
   },
   {
    "duration": 167,
    "start_time": "2024-01-30T12:35:41.798Z"
   },
   {
    "duration": 4,
    "start_time": "2024-01-30T12:35:47.359Z"
   },
   {
    "duration": 150,
    "start_time": "2024-01-30T12:35:48.364Z"
   },
   {
    "duration": 97,
    "start_time": "2024-01-30T12:37:00.311Z"
   },
   {
    "duration": 86,
    "start_time": "2024-01-30T12:37:10.441Z"
   },
   {
    "duration": 90,
    "start_time": "2024-01-30T12:37:17.778Z"
   },
   {
    "duration": 89,
    "start_time": "2024-01-30T12:37:26.411Z"
   },
   {
    "duration": 85,
    "start_time": "2024-01-30T12:37:31.572Z"
   },
   {
    "duration": 87,
    "start_time": "2024-01-30T12:38:36.310Z"
   },
   {
    "duration": 5,
    "start_time": "2024-01-30T12:38:42.454Z"
   },
   {
    "duration": 165,
    "start_time": "2024-01-30T12:38:43.230Z"
   },
   {
    "duration": 6,
    "start_time": "2024-01-30T12:38:55.143Z"
   },
   {
    "duration": 160,
    "start_time": "2024-01-30T12:38:56.806Z"
   },
   {
    "duration": 5,
    "start_time": "2024-01-30T12:39:02.215Z"
   },
   {
    "duration": 183,
    "start_time": "2024-01-30T12:39:02.802Z"
   },
   {
    "duration": 4,
    "start_time": "2024-01-30T12:39:26.287Z"
   },
   {
    "duration": 161,
    "start_time": "2024-01-30T12:39:27.621Z"
   },
   {
    "duration": 9,
    "start_time": "2024-01-30T12:50:14.692Z"
   },
   {
    "duration": 11,
    "start_time": "2024-01-30T12:50:24.842Z"
   },
   {
    "duration": 7,
    "start_time": "2024-01-30T13:53:26.403Z"
   },
   {
    "duration": 7,
    "start_time": "2024-01-30T13:53:46.198Z"
   },
   {
    "duration": 11,
    "start_time": "2024-01-30T13:55:27.740Z"
   },
   {
    "duration": 13,
    "start_time": "2024-01-30T14:10:52.023Z"
   },
   {
    "duration": 11,
    "start_time": "2024-01-30T14:12:46.577Z"
   },
   {
    "duration": 11,
    "start_time": "2024-01-30T14:13:33.557Z"
   },
   {
    "duration": 11,
    "start_time": "2024-01-30T14:13:56.603Z"
   },
   {
    "duration": 11,
    "start_time": "2024-01-30T14:14:07.080Z"
   },
   {
    "duration": 5,
    "start_time": "2024-01-30T14:14:47.155Z"
   },
   {
    "duration": 22,
    "start_time": "2024-01-30T14:14:53.388Z"
   },
   {
    "duration": 19,
    "start_time": "2024-01-30T14:15:09.053Z"
   },
   {
    "duration": 16,
    "start_time": "2024-01-30T14:16:13.146Z"
   },
   {
    "duration": 14,
    "start_time": "2024-01-30T14:21:00.335Z"
   },
   {
    "duration": 22881,
    "start_time": "2024-01-30T14:27:54.272Z"
   },
   {
    "duration": 674,
    "start_time": "2024-01-30T14:28:20.954Z"
   },
   {
    "duration": 58,
    "start_time": "2024-01-30T14:28:21.630Z"
   },
   {
    "duration": 21,
    "start_time": "2024-01-30T14:28:21.689Z"
   },
   {
    "duration": 16,
    "start_time": "2024-01-30T14:28:21.712Z"
   },
   {
    "duration": 15,
    "start_time": "2024-01-30T14:28:21.730Z"
   },
   {
    "duration": 16,
    "start_time": "2024-01-30T14:28:21.747Z"
   },
   {
    "duration": 6,
    "start_time": "2024-01-30T14:28:21.764Z"
   },
   {
    "duration": 5,
    "start_time": "2024-01-30T14:28:21.772Z"
   },
   {
    "duration": 192,
    "start_time": "2024-01-30T14:28:21.778Z"
   },
   {
    "duration": 26,
    "start_time": "2024-01-30T14:28:21.973Z"
   },
   {
    "duration": 12,
    "start_time": "2024-01-30T14:28:22.001Z"
   },
   {
    "duration": 21,
    "start_time": "2024-01-30T14:28:22.015Z"
   },
   {
    "duration": 36979,
    "start_time": "2024-01-30T14:28:22.039Z"
   },
   {
    "duration": 10,
    "start_time": "2024-01-30T14:29:07.880Z"
   },
   {
    "duration": 6,
    "start_time": "2024-01-30T14:37:12.162Z"
   },
   {
    "duration": 15,
    "start_time": "2024-01-30T14:37:46.706Z"
   },
   {
    "duration": 8,
    "start_time": "2024-01-30T14:38:27.193Z"
   },
   {
    "duration": 20,
    "start_time": "2024-01-30T14:38:38.929Z"
   },
   {
    "duration": 20,
    "start_time": "2024-01-30T14:39:16.343Z"
   },
   {
    "duration": 17,
    "start_time": "2024-01-30T14:44:18.926Z"
   },
   {
    "duration": 4,
    "start_time": "2024-01-30T14:44:44.810Z"
   },
   {
    "duration": 22,
    "start_time": "2024-01-30T14:53:26.351Z"
   },
   {
    "duration": 105,
    "start_time": "2024-01-30T14:53:35.940Z"
   },
   {
    "duration": 15,
    "start_time": "2024-01-30T14:53:46.014Z"
   },
   {
    "duration": 4,
    "start_time": "2024-01-30T14:53:59.768Z"
   },
   {
    "duration": 14,
    "start_time": "2024-01-30T14:54:00.137Z"
   },
   {
    "duration": 4,
    "start_time": "2024-01-30T14:54:09.133Z"
   },
   {
    "duration": 14,
    "start_time": "2024-01-30T14:54:09.615Z"
   },
   {
    "duration": 6,
    "start_time": "2024-01-30T14:54:28.652Z"
   },
   {
    "duration": 4,
    "start_time": "2024-01-30T14:54:38.359Z"
   },
   {
    "duration": 6,
    "start_time": "2024-01-30T14:54:38.930Z"
   },
   {
    "duration": 708,
    "start_time": "2024-01-30T14:54:58.082Z"
   },
   {
    "duration": 57,
    "start_time": "2024-01-30T14:54:58.792Z"
   },
   {
    "duration": 21,
    "start_time": "2024-01-30T14:54:58.850Z"
   },
   {
    "duration": 15,
    "start_time": "2024-01-30T14:54:58.873Z"
   },
   {
    "duration": 3,
    "start_time": "2024-01-30T14:54:58.890Z"
   },
   {
    "duration": 6,
    "start_time": "2024-01-30T14:54:58.895Z"
   },
   {
    "duration": 6,
    "start_time": "2024-01-30T14:54:58.903Z"
   },
   {
    "duration": 15,
    "start_time": "2024-01-30T14:54:58.911Z"
   },
   {
    "duration": 192,
    "start_time": "2024-01-30T14:54:58.928Z"
   },
   {
    "duration": 12,
    "start_time": "2024-01-30T14:54:59.122Z"
   },
   {
    "duration": 37699,
    "start_time": "2024-01-30T14:54:59.136Z"
   },
   {
    "duration": 14,
    "start_time": "2024-01-30T14:55:36.837Z"
   },
   {
    "duration": 6,
    "start_time": "2024-01-30T14:55:36.852Z"
   },
   {
    "duration": 24,
    "start_time": "2024-01-30T14:56:22.020Z"
   },
   {
    "duration": 28,
    "start_time": "2024-01-30T14:56:29.378Z"
   },
   {
    "duration": 28,
    "start_time": "2024-01-30T15:00:12.861Z"
   },
   {
    "duration": 8,
    "start_time": "2024-01-30T15:04:06.723Z"
   },
   {
    "duration": 5,
    "start_time": "2024-01-30T15:04:22.017Z"
   },
   {
    "duration": 79,
    "start_time": "2024-01-30T15:04:35.916Z"
   },
   {
    "duration": 10,
    "start_time": "2024-01-30T15:04:52.141Z"
   },
   {
    "duration": 6,
    "start_time": "2024-01-30T15:04:54.721Z"
   },
   {
    "duration": 7,
    "start_time": "2024-01-30T15:05:00.158Z"
   },
   {
    "duration": 5,
    "start_time": "2024-01-30T15:09:34.447Z"
   },
   {
    "duration": 6,
    "start_time": "2024-01-30T15:10:16.945Z"
   },
   {
    "duration": 153,
    "start_time": "2024-01-30T15:10:18.226Z"
   },
   {
    "duration": 4,
    "start_time": "2024-01-30T15:14:44.221Z"
   },
   {
    "duration": 15,
    "start_time": "2024-01-30T15:18:35.277Z"
   },
   {
    "duration": 14,
    "start_time": "2024-01-30T15:18:45.989Z"
   },
   {
    "duration": 19,
    "start_time": "2024-01-30T15:22:22.331Z"
   },
   {
    "duration": 5,
    "start_time": "2024-01-30T15:22:33.622Z"
   },
   {
    "duration": 18,
    "start_time": "2024-01-30T15:22:39.847Z"
   },
   {
    "duration": 6,
    "start_time": "2024-01-30T15:22:51.172Z"
   },
   {
    "duration": 4,
    "start_time": "2024-01-30T15:23:57.258Z"
   },
   {
    "duration": 15,
    "start_time": "2024-01-30T15:24:02.080Z"
   },
   {
    "duration": 5,
    "start_time": "2024-01-30T15:25:28.746Z"
   },
   {
    "duration": 81,
    "start_time": "2024-01-30T15:38:18.545Z"
   },
   {
    "duration": 161,
    "start_time": "2024-01-30T15:39:39.889Z"
   },
   {
    "duration": 173,
    "start_time": "2024-01-30T15:39:51.785Z"
   },
   {
    "duration": 173,
    "start_time": "2024-01-30T15:39:55.804Z"
   },
   {
    "duration": 185,
    "start_time": "2024-01-30T15:40:52.261Z"
   },
   {
    "duration": 199,
    "start_time": "2024-01-30T15:42:59.036Z"
   },
   {
    "duration": 188,
    "start_time": "2024-01-30T15:43:25.464Z"
   },
   {
    "duration": 729,
    "start_time": "2024-01-30T18:29:39.179Z"
   },
   {
    "duration": 58,
    "start_time": "2024-01-30T18:29:39.910Z"
   },
   {
    "duration": 23,
    "start_time": "2024-01-30T18:29:39.969Z"
   },
   {
    "duration": 17,
    "start_time": "2024-01-30T18:29:39.995Z"
   },
   {
    "duration": 4,
    "start_time": "2024-01-30T18:29:40.014Z"
   },
   {
    "duration": 107,
    "start_time": "2024-01-30T18:29:40.020Z"
   },
   {
    "duration": 0,
    "start_time": "2024-01-30T18:29:40.129Z"
   },
   {
    "duration": 0,
    "start_time": "2024-01-30T18:29:40.130Z"
   },
   {
    "duration": 0,
    "start_time": "2024-01-30T18:29:40.131Z"
   },
   {
    "duration": 0,
    "start_time": "2024-01-30T18:29:40.133Z"
   },
   {
    "duration": 0,
    "start_time": "2024-01-30T18:29:40.133Z"
   },
   {
    "duration": 0,
    "start_time": "2024-01-30T18:29:40.135Z"
   },
   {
    "duration": 0,
    "start_time": "2024-01-30T18:29:40.135Z"
   },
   {
    "duration": 0,
    "start_time": "2024-01-30T18:29:40.136Z"
   },
   {
    "duration": 652,
    "start_time": "2024-01-30T18:30:06.122Z"
   },
   {
    "duration": 58,
    "start_time": "2024-01-30T18:30:06.776Z"
   },
   {
    "duration": 106,
    "start_time": "2024-01-30T18:30:06.836Z"
   },
   {
    "duration": 41,
    "start_time": "2024-01-30T18:30:06.944Z"
   },
   {
    "duration": 22,
    "start_time": "2024-01-30T18:30:06.987Z"
   },
   {
    "duration": 57,
    "start_time": "2024-01-30T18:30:07.011Z"
   },
   {
    "duration": 50,
    "start_time": "2024-01-30T18:30:07.069Z"
   },
   {
    "duration": 20,
    "start_time": "2024-01-30T18:30:07.121Z"
   },
   {
    "duration": 213,
    "start_time": "2024-01-30T18:30:07.142Z"
   },
   {
    "duration": 13,
    "start_time": "2024-01-30T18:30:07.358Z"
   },
   {
    "duration": 35588,
    "start_time": "2024-01-30T18:30:07.373Z"
   },
   {
    "duration": 4,
    "start_time": "2024-01-30T18:30:42.963Z"
   },
   {
    "duration": 14,
    "start_time": "2024-01-30T18:30:42.969Z"
   },
   {
    "duration": 208,
    "start_time": "2024-01-30T18:30:42.985Z"
   },
   {
    "duration": 205,
    "start_time": "2024-01-30T18:31:57.162Z"
   },
   {
    "duration": 220,
    "start_time": "2024-01-30T18:32:30.433Z"
   },
   {
    "duration": 242,
    "start_time": "2024-01-30T18:32:39.620Z"
   },
   {
    "duration": 216,
    "start_time": "2024-01-30T18:32:42.867Z"
   },
   {
    "duration": 214,
    "start_time": "2024-01-30T18:32:46.034Z"
   },
   {
    "duration": 4,
    "start_time": "2024-01-30T18:36:00.549Z"
   },
   {
    "duration": 94,
    "start_time": "2024-01-30T18:39:05.514Z"
   },
   {
    "duration": 22,
    "start_time": "2024-01-30T18:39:22.325Z"
   },
   {
    "duration": 58,
    "start_time": "2024-01-30T18:39:30.741Z"
   },
   {
    "duration": 17,
    "start_time": "2024-01-30T18:40:12.046Z"
   },
   {
    "duration": 17,
    "start_time": "2024-01-30T18:40:37.749Z"
   },
   {
    "duration": 15,
    "start_time": "2024-01-30T18:40:49.109Z"
   },
   {
    "duration": 19,
    "start_time": "2024-01-30T18:40:55.344Z"
   },
   {
    "duration": 304,
    "start_time": "2024-01-30T18:44:00.449Z"
   },
   {
    "duration": 331,
    "start_time": "2024-01-30T18:44:33.692Z"
   },
   {
    "duration": 303,
    "start_time": "2024-01-30T18:44:40.237Z"
   },
   {
    "duration": 333,
    "start_time": "2024-01-30T18:45:22.046Z"
   },
   {
    "duration": 330,
    "start_time": "2024-01-30T18:45:33.228Z"
   },
   {
    "duration": 321,
    "start_time": "2024-01-30T18:45:41.576Z"
   },
   {
    "duration": 17,
    "start_time": "2024-01-30T18:49:00.754Z"
   },
   {
    "duration": 316,
    "start_time": "2024-01-30T18:49:12.365Z"
   },
   {
    "duration": 314,
    "start_time": "2024-01-30T18:49:23.192Z"
   },
   {
    "duration": 313,
    "start_time": "2024-01-30T18:49:35.478Z"
   },
   {
    "duration": 336,
    "start_time": "2024-01-30T18:49:44.198Z"
   },
   {
    "duration": 325,
    "start_time": "2024-01-30T18:50:18.172Z"
   },
   {
    "duration": 698,
    "start_time": "2024-01-30T18:53:52.882Z"
   },
   {
    "duration": 290,
    "start_time": "2024-01-30T18:54:16.359Z"
   },
   {
    "duration": 295,
    "start_time": "2024-01-30T18:54:45.294Z"
   },
   {
    "duration": 291,
    "start_time": "2024-01-30T18:54:50.966Z"
   },
   {
    "duration": 227,
    "start_time": "2024-01-30T18:55:13.192Z"
   },
   {
    "duration": 14,
    "start_time": "2024-01-30T19:27:06.779Z"
   },
   {
    "duration": 165,
    "start_time": "2024-01-30T19:27:19.261Z"
   },
   {
    "duration": 13,
    "start_time": "2024-01-30T19:27:25.136Z"
   },
   {
    "duration": 4,
    "start_time": "2024-01-30T19:27:53.167Z"
   },
   {
    "duration": 103,
    "start_time": "2024-01-30T19:28:29.713Z"
   },
   {
    "duration": 14,
    "start_time": "2024-01-30T19:28:37.462Z"
   },
   {
    "duration": 33,
    "start_time": "2024-01-30T19:29:01.271Z"
   },
   {
    "duration": 5,
    "start_time": "2024-01-30T19:29:28.732Z"
   },
   {
    "duration": 89,
    "start_time": "2024-01-30T19:29:54.595Z"
   },
   {
    "duration": 165,
    "start_time": "2024-01-30T19:30:01.574Z"
   },
   {
    "duration": 1216,
    "start_time": "2024-01-30T19:35:26.139Z"
   },
   {
    "duration": 19,
    "start_time": "2024-01-30T19:35:44.509Z"
   },
   {
    "duration": 165,
    "start_time": "2024-01-30T19:36:17.739Z"
   },
   {
    "duration": 23,
    "start_time": "2024-01-30T19:37:47.677Z"
   },
   {
    "duration": 239,
    "start_time": "2024-01-30T19:37:55.540Z"
   },
   {
    "duration": 194,
    "start_time": "2024-01-30T19:38:19.551Z"
   },
   {
    "duration": 244,
    "start_time": "2024-01-30T19:38:33.213Z"
   },
   {
    "duration": 13,
    "start_time": "2024-01-30T19:41:00.296Z"
   },
   {
    "duration": 16,
    "start_time": "2024-01-30T19:41:16.096Z"
   },
   {
    "duration": 237,
    "start_time": "2024-01-30T19:44:51.632Z"
   },
   {
    "duration": 245,
    "start_time": "2024-01-30T19:45:36.503Z"
   },
   {
    "duration": 438,
    "start_time": "2024-01-30T19:51:51.022Z"
   },
   {
    "duration": 237,
    "start_time": "2024-01-30T19:52:18.812Z"
   },
   {
    "duration": 6,
    "start_time": "2024-01-30T19:54:40.022Z"
   },
   {
    "duration": 183,
    "start_time": "2024-01-30T19:54:40.448Z"
   },
   {
    "duration": 709,
    "start_time": "2024-01-30T21:10:22.888Z"
   },
   {
    "duration": 59,
    "start_time": "2024-01-30T21:10:23.599Z"
   },
   {
    "duration": 22,
    "start_time": "2024-01-30T21:10:23.660Z"
   },
   {
    "duration": 16,
    "start_time": "2024-01-30T21:10:23.684Z"
   },
   {
    "duration": 3,
    "start_time": "2024-01-30T21:10:23.702Z"
   },
   {
    "duration": 5,
    "start_time": "2024-01-30T21:10:23.707Z"
   },
   {
    "duration": 14,
    "start_time": "2024-01-30T21:10:23.714Z"
   },
   {
    "duration": 6,
    "start_time": "2024-01-30T21:10:23.730Z"
   },
   {
    "duration": 202,
    "start_time": "2024-01-30T21:10:23.738Z"
   },
   {
    "duration": 12,
    "start_time": "2024-01-30T21:10:23.943Z"
   },
   {
    "duration": 35449,
    "start_time": "2024-01-30T21:10:23.957Z"
   },
   {
    "duration": 5,
    "start_time": "2024-01-30T21:10:59.408Z"
   },
   {
    "duration": 11,
    "start_time": "2024-01-30T21:10:59.414Z"
   },
   {
    "duration": 213,
    "start_time": "2024-01-30T21:10:59.426Z"
   },
   {
    "duration": 347,
    "start_time": "2024-01-30T21:10:59.641Z"
   },
   {
    "duration": 7,
    "start_time": "2024-01-30T21:10:59.989Z"
   },
   {
    "duration": 334,
    "start_time": "2024-01-30T21:10:59.998Z"
   },
   {
    "duration": 5,
    "start_time": "2024-01-30T21:11:00.334Z"
   },
   {
    "duration": 536,
    "start_time": "2024-01-30T21:11:00.341Z"
   },
   {
    "duration": 16,
    "start_time": "2024-01-30T21:23:20.336Z"
   },
   {
    "duration": 5,
    "start_time": "2024-01-30T21:24:44.641Z"
   },
   {
    "duration": 10,
    "start_time": "2024-01-30T21:25:05.357Z"
   },
   {
    "duration": 11,
    "start_time": "2024-01-30T21:25:13.714Z"
   },
   {
    "duration": 10,
    "start_time": "2024-01-30T21:25:27.127Z"
   },
   {
    "duration": 20,
    "start_time": "2024-01-30T21:25:43.967Z"
   },
   {
    "duration": 27,
    "start_time": "2024-01-30T21:26:19.060Z"
   },
   {
    "duration": 4,
    "start_time": "2024-01-30T21:30:46.625Z"
   },
   {
    "duration": 4,
    "start_time": "2024-01-30T21:30:55.956Z"
   },
   {
    "duration": 4,
    "start_time": "2024-01-30T21:31:15.778Z"
   },
   {
    "duration": 480,
    "start_time": "2024-01-30T21:31:56.106Z"
   },
   {
    "duration": 23,
    "start_time": "2024-01-30T21:33:25.408Z"
   },
   {
    "duration": 30,
    "start_time": "2024-01-30T21:35:08.689Z"
   },
   {
    "duration": 1313,
    "start_time": "2024-01-30T21:36:38.990Z"
   },
   {
    "duration": 33,
    "start_time": "2024-01-30T21:36:52.326Z"
   },
   {
    "duration": 718,
    "start_time": "2024-01-30T21:37:03.179Z"
   },
   {
    "duration": 12,
    "start_time": "2024-01-30T21:37:12.018Z"
   },
   {
    "duration": 18,
    "start_time": "2024-01-30T21:37:29.958Z"
   },
   {
    "duration": 9,
    "start_time": "2024-01-30T21:37:48.530Z"
   },
   {
    "duration": 9,
    "start_time": "2024-01-30T21:38:09.043Z"
   },
   {
    "duration": 20,
    "start_time": "2024-01-30T21:38:21.675Z"
   },
   {
    "duration": 9,
    "start_time": "2024-01-30T21:38:38.595Z"
   },
   {
    "duration": 19,
    "start_time": "2024-01-30T21:38:55.479Z"
   },
   {
    "duration": 5,
    "start_time": "2024-01-30T21:39:55.198Z"
   },
   {
    "duration": 11,
    "start_time": "2024-01-30T21:39:59.422Z"
   },
   {
    "duration": 19,
    "start_time": "2024-01-30T21:39:59.865Z"
   },
   {
    "duration": 10,
    "start_time": "2024-01-30T21:40:05.084Z"
   },
   {
    "duration": 20,
    "start_time": "2024-01-30T21:40:05.574Z"
   },
   {
    "duration": 10,
    "start_time": "2024-01-30T21:40:11.625Z"
   },
   {
    "duration": 23,
    "start_time": "2024-01-30T21:40:11.966Z"
   },
   {
    "duration": 10,
    "start_time": "2024-01-30T21:40:14.548Z"
   },
   {
    "duration": 19,
    "start_time": "2024-01-30T21:40:14.909Z"
   },
   {
    "duration": 816,
    "start_time": "2024-01-31T10:23:36.670Z"
   },
   {
    "duration": 115,
    "start_time": "2024-01-31T10:23:37.489Z"
   },
   {
    "duration": 21,
    "start_time": "2024-01-31T10:23:37.606Z"
   },
   {
    "duration": 16,
    "start_time": "2024-01-31T10:23:37.630Z"
   },
   {
    "duration": 7,
    "start_time": "2024-01-31T10:23:37.647Z"
   },
   {
    "duration": 7,
    "start_time": "2024-01-31T10:23:37.656Z"
   },
   {
    "duration": 11,
    "start_time": "2024-01-31T10:23:37.664Z"
   },
   {
    "duration": 11,
    "start_time": "2024-01-31T10:23:37.677Z"
   },
   {
    "duration": 210,
    "start_time": "2024-01-31T10:23:37.690Z"
   },
   {
    "duration": 11,
    "start_time": "2024-01-31T10:23:37.903Z"
   },
   {
    "duration": 34096,
    "start_time": "2024-01-31T10:23:37.922Z"
   },
   {
    "duration": 4,
    "start_time": "2024-01-31T10:24:12.020Z"
   },
   {
    "duration": 6,
    "start_time": "2024-01-31T10:24:12.026Z"
   },
   {
    "duration": 6,
    "start_time": "2024-01-31T10:24:12.034Z"
   },
   {
    "duration": 33,
    "start_time": "2024-01-31T10:24:12.041Z"
   },
   {
    "duration": 12,
    "start_time": "2024-01-31T10:24:12.075Z"
   },
   {
    "duration": 46,
    "start_time": "2024-01-31T10:24:12.088Z"
   },
   {
    "duration": 212,
    "start_time": "2024-01-31T10:24:12.136Z"
   },
   {
    "duration": 317,
    "start_time": "2024-01-31T10:24:12.350Z"
   },
   {
    "duration": 7,
    "start_time": "2024-01-31T10:24:12.669Z"
   },
   {
    "duration": 321,
    "start_time": "2024-01-31T10:24:12.677Z"
   },
   {
    "duration": 4,
    "start_time": "2024-01-31T10:24:13.000Z"
   },
   {
    "duration": 200,
    "start_time": "2024-01-31T10:24:13.006Z"
   },
   {
    "duration": 857,
    "start_time": "2024-01-31T10:30:10.227Z"
   },
   {
    "duration": 448,
    "start_time": "2024-01-31T10:35:16.290Z"
   },
   {
    "duration": 487,
    "start_time": "2024-01-31T10:36:09.446Z"
   },
   {
    "duration": 464,
    "start_time": "2024-01-31T10:36:35.791Z"
   },
   {
    "duration": 571,
    "start_time": "2024-01-31T10:36:41.650Z"
   },
   {
    "duration": 456,
    "start_time": "2024-01-31T10:36:48.518Z"
   },
   {
    "duration": 472,
    "start_time": "2024-01-31T10:36:54.146Z"
   },
   {
    "duration": 466,
    "start_time": "2024-01-31T10:38:20.929Z"
   },
   {
    "duration": 588,
    "start_time": "2024-01-31T10:38:34.373Z"
   },
   {
    "duration": 540,
    "start_time": "2024-01-31T10:38:40.760Z"
   },
   {
    "duration": 507,
    "start_time": "2024-01-31T10:39:49.541Z"
   },
   {
    "duration": 636,
    "start_time": "2024-01-31T10:39:54.961Z"
   },
   {
    "duration": 613,
    "start_time": "2024-01-31T10:41:37.074Z"
   },
   {
    "duration": 548,
    "start_time": "2024-01-31T10:41:51.388Z"
   },
   {
    "duration": 571,
    "start_time": "2024-01-31T10:41:57.398Z"
   },
   {
    "duration": 699,
    "start_time": "2024-01-31T10:42:04.971Z"
   },
   {
    "duration": 417,
    "start_time": "2024-01-31T10:43:27.217Z"
   },
   {
    "duration": 301,
    "start_time": "2024-01-31T10:44:31.212Z"
   },
   {
    "duration": 117,
    "start_time": "2024-01-31T10:46:30.954Z"
   },
   {
    "duration": 300,
    "start_time": "2024-01-31T10:46:35.951Z"
   },
   {
    "duration": 3,
    "start_time": "2024-01-31T10:47:01.045Z"
   },
   {
    "duration": 301,
    "start_time": "2024-01-31T11:08:14.126Z"
   },
   {
    "duration": 426,
    "start_time": "2024-01-31T11:09:33.288Z"
   },
   {
    "duration": 334,
    "start_time": "2024-01-31T11:09:49.480Z"
   },
   {
    "duration": 302,
    "start_time": "2024-01-31T11:11:55.490Z"
   },
   {
    "duration": 326,
    "start_time": "2024-01-31T11:12:55.443Z"
   },
   {
    "duration": 316,
    "start_time": "2024-01-31T11:39:48.583Z"
   },
   {
    "duration": 286,
    "start_time": "2024-01-31T11:40:00.324Z"
   },
   {
    "duration": 125,
    "start_time": "2024-01-31T11:43:27.276Z"
   },
   {
    "duration": 25,
    "start_time": "2024-01-31T12:07:45.824Z"
   },
   {
    "duration": 24,
    "start_time": "2024-01-31T12:08:25.696Z"
   },
   {
    "duration": 289,
    "start_time": "2024-01-31T12:08:42.242Z"
   },
   {
    "duration": 2,
    "start_time": "2024-01-31T12:25:30.534Z"
   },
   {
    "duration": 4,
    "start_time": "2024-01-31T12:25:54.733Z"
   },
   {
    "duration": 440,
    "start_time": "2024-01-31T12:29:56.929Z"
   },
   {
    "duration": 559,
    "start_time": "2024-01-31T12:30:14.645Z"
   },
   {
    "duration": 629,
    "start_time": "2024-01-31T12:31:27.639Z"
   },
   {
    "duration": 451,
    "start_time": "2024-01-31T12:32:15.216Z"
   },
   {
    "duration": 518,
    "start_time": "2024-01-31T12:32:20.827Z"
   },
   {
    "duration": 635,
    "start_time": "2024-01-31T12:32:37.973Z"
   },
   {
    "duration": 527,
    "start_time": "2024-01-31T12:32:42.558Z"
   },
   {
    "duration": 535,
    "start_time": "2024-01-31T12:32:53.943Z"
   },
   {
    "duration": 546,
    "start_time": "2024-01-31T12:36:56.525Z"
   },
   {
    "duration": 16,
    "start_time": "2024-01-31T13:11:49.695Z"
   },
   {
    "duration": 11,
    "start_time": "2024-01-31T13:12:32.014Z"
   },
   {
    "duration": 12,
    "start_time": "2024-01-31T13:12:41.903Z"
   },
   {
    "duration": 5,
    "start_time": "2024-01-31T13:12:48.727Z"
   },
   {
    "duration": 10,
    "start_time": "2024-01-31T13:12:52.881Z"
   },
   {
    "duration": 1223,
    "start_time": "2024-01-31T13:13:12.158Z"
   },
   {
    "duration": 58,
    "start_time": "2024-01-31T13:13:13.383Z"
   },
   {
    "duration": 22,
    "start_time": "2024-01-31T13:13:13.443Z"
   },
   {
    "duration": 18,
    "start_time": "2024-01-31T13:13:13.466Z"
   },
   {
    "duration": 3,
    "start_time": "2024-01-31T13:13:13.487Z"
   },
   {
    "duration": 15,
    "start_time": "2024-01-31T13:13:13.492Z"
   },
   {
    "duration": 117,
    "start_time": "2024-01-31T13:13:13.524Z"
   },
   {
    "duration": 0,
    "start_time": "2024-01-31T13:13:13.643Z"
   },
   {
    "duration": 0,
    "start_time": "2024-01-31T13:13:13.645Z"
   },
   {
    "duration": 0,
    "start_time": "2024-01-31T13:13:13.646Z"
   },
   {
    "duration": 0,
    "start_time": "2024-01-31T13:13:13.647Z"
   },
   {
    "duration": 0,
    "start_time": "2024-01-31T13:13:13.648Z"
   },
   {
    "duration": 0,
    "start_time": "2024-01-31T13:13:13.649Z"
   },
   {
    "duration": 0,
    "start_time": "2024-01-31T13:13:13.650Z"
   },
   {
    "duration": 0,
    "start_time": "2024-01-31T13:13:13.651Z"
   },
   {
    "duration": 0,
    "start_time": "2024-01-31T13:13:13.652Z"
   },
   {
    "duration": 0,
    "start_time": "2024-01-31T13:13:13.653Z"
   },
   {
    "duration": 11,
    "start_time": "2024-01-31T13:13:22.946Z"
   },
   {
    "duration": 11,
    "start_time": "2024-01-31T13:13:29.039Z"
   },
   {
    "duration": 1232,
    "start_time": "2024-01-31T13:13:38.184Z"
   },
   {
    "duration": 57,
    "start_time": "2024-01-31T13:13:39.417Z"
   },
   {
    "duration": 22,
    "start_time": "2024-01-31T13:13:39.476Z"
   },
   {
    "duration": 20,
    "start_time": "2024-01-31T13:13:39.500Z"
   },
   {
    "duration": 4,
    "start_time": "2024-01-31T13:13:39.524Z"
   },
   {
    "duration": 23,
    "start_time": "2024-01-31T13:13:39.530Z"
   },
   {
    "duration": 61,
    "start_time": "2024-01-31T13:13:39.555Z"
   },
   {
    "duration": 21,
    "start_time": "2024-01-31T13:13:39.618Z"
   },
   {
    "duration": 205,
    "start_time": "2024-01-31T13:13:39.641Z"
   },
   {
    "duration": 12,
    "start_time": "2024-01-31T13:13:39.847Z"
   },
   {
    "duration": 36442,
    "start_time": "2024-01-31T13:13:39.861Z"
   },
   {
    "duration": 5,
    "start_time": "2024-01-31T13:14:16.305Z"
   },
   {
    "duration": 44,
    "start_time": "2024-01-31T13:14:16.311Z"
   },
   {
    "duration": 238,
    "start_time": "2024-01-31T13:14:16.358Z"
   },
   {
    "duration": 300,
    "start_time": "2024-01-31T13:14:16.598Z"
   },
   {
    "duration": 6,
    "start_time": "2024-01-31T13:14:16.899Z"
   },
   {
    "duration": 598,
    "start_time": "2024-01-31T13:14:16.907Z"
   },
   {
    "duration": 692,
    "start_time": "2024-01-31T13:16:20.655Z"
   },
   {
    "duration": 549,
    "start_time": "2024-01-31T13:16:27.693Z"
   },
   {
    "duration": 200,
    "start_time": "2024-01-31T13:32:15.109Z"
   },
   {
    "duration": 206,
    "start_time": "2024-01-31T13:32:22.222Z"
   },
   {
    "duration": 363,
    "start_time": "2024-01-31T13:32:34.765Z"
   },
   {
    "duration": 6,
    "start_time": "2024-01-31T13:47:22.779Z"
   },
   {
    "duration": 26,
    "start_time": "2024-01-31T13:47:27.992Z"
   },
   {
    "duration": 5,
    "start_time": "2024-01-31T14:04:49.395Z"
   },
   {
    "duration": 5,
    "start_time": "2024-01-31T14:05:34.678Z"
   },
   {
    "duration": 4,
    "start_time": "2024-01-31T14:06:00.208Z"
   },
   {
    "duration": 8,
    "start_time": "2024-01-31T14:08:56.010Z"
   },
   {
    "duration": 22,
    "start_time": "2024-01-31T14:10:44.248Z"
   },
   {
    "duration": 70,
    "start_time": "2024-01-31T14:14:00.293Z"
   },
   {
    "duration": 122,
    "start_time": "2024-01-31T14:14:05.721Z"
   },
   {
    "duration": 24,
    "start_time": "2024-01-31T14:14:18.196Z"
   },
   {
    "duration": 22,
    "start_time": "2024-01-31T14:14:25.000Z"
   },
   {
    "duration": 208,
    "start_time": "2024-01-31T14:26:54.556Z"
   },
   {
    "duration": 203,
    "start_time": "2024-01-31T14:27:12.766Z"
   },
   {
    "duration": 14,
    "start_time": "2024-01-31T14:28:28.480Z"
   },
   {
    "duration": 195,
    "start_time": "2024-01-31T14:28:34.059Z"
   },
   {
    "duration": 1174,
    "start_time": "2024-01-31T14:30:30.933Z"
   },
   {
    "duration": 1279,
    "start_time": "2024-01-31T14:30:44.613Z"
   },
   {
    "duration": 271,
    "start_time": "2024-01-31T14:30:49.898Z"
   },
   {
    "duration": 362,
    "start_time": "2024-01-31T14:31:23.972Z"
   },
   {
    "duration": 789,
    "start_time": "2024-01-31T14:31:52.974Z"
   },
   {
    "duration": 335,
    "start_time": "2024-01-31T14:33:22.934Z"
   },
   {
    "duration": 208,
    "start_time": "2024-01-31T14:36:22.730Z"
   },
   {
    "duration": 377,
    "start_time": "2024-01-31T14:37:01.204Z"
   },
   {
    "duration": 172,
    "start_time": "2024-01-31T14:38:24.444Z"
   },
   {
    "duration": 176,
    "start_time": "2024-01-31T14:39:15.916Z"
   },
   {
    "duration": 353,
    "start_time": "2024-01-31T14:40:04.021Z"
   },
   {
    "duration": 373,
    "start_time": "2024-01-31T14:40:11.342Z"
   },
   {
    "duration": 179,
    "start_time": "2024-01-31T14:41:01.053Z"
   },
   {
    "duration": 177,
    "start_time": "2024-01-31T14:41:10.223Z"
   },
   {
    "duration": 383,
    "start_time": "2024-01-31T14:41:17.344Z"
   },
   {
    "duration": 342,
    "start_time": "2024-01-31T14:44:48.155Z"
   },
   {
    "duration": 373,
    "start_time": "2024-01-31T14:44:57.497Z"
   },
   {
    "duration": 175,
    "start_time": "2024-01-31T14:48:32.256Z"
   },
   {
    "duration": 377,
    "start_time": "2024-01-31T14:48:55.324Z"
   },
   {
    "duration": 187,
    "start_time": "2024-01-31T14:49:08.627Z"
   },
   {
    "duration": 351,
    "start_time": "2024-01-31T14:49:20.856Z"
   },
   {
    "duration": 364,
    "start_time": "2024-01-31T14:49:52.413Z"
   },
   {
    "duration": 369,
    "start_time": "2024-01-31T14:50:06.994Z"
   },
   {
    "duration": 364,
    "start_time": "2024-01-31T14:50:13.903Z"
   },
   {
    "duration": 669,
    "start_time": "2024-01-31T14:51:23.923Z"
   },
   {
    "duration": 336,
    "start_time": "2024-01-31T14:52:38.600Z"
   },
   {
    "duration": 325,
    "start_time": "2024-01-31T14:53:17.995Z"
   },
   {
    "duration": 348,
    "start_time": "2024-01-31T14:53:34.449Z"
   },
   {
    "duration": 237,
    "start_time": "2024-01-31T15:02:03.918Z"
   },
   {
    "duration": 112,
    "start_time": "2024-01-31T15:02:43.479Z"
   },
   {
    "duration": 1220,
    "start_time": "2024-01-31T15:39:48.348Z"
   },
   {
    "duration": 56,
    "start_time": "2024-01-31T15:39:49.570Z"
   },
   {
    "duration": 20,
    "start_time": "2024-01-31T15:39:49.628Z"
   },
   {
    "duration": 14,
    "start_time": "2024-01-31T15:39:49.650Z"
   },
   {
    "duration": 3,
    "start_time": "2024-01-31T15:39:49.666Z"
   },
   {
    "duration": 6,
    "start_time": "2024-01-31T15:39:49.670Z"
   },
   {
    "duration": 13,
    "start_time": "2024-01-31T15:39:49.678Z"
   },
   {
    "duration": 4,
    "start_time": "2024-01-31T15:39:49.693Z"
   },
   {
    "duration": 195,
    "start_time": "2024-01-31T15:39:49.699Z"
   },
   {
    "duration": 12,
    "start_time": "2024-01-31T15:39:49.897Z"
   },
   {
    "duration": 35984,
    "start_time": "2024-01-31T15:39:49.911Z"
   },
   {
    "duration": 5,
    "start_time": "2024-01-31T15:40:25.896Z"
   },
   {
    "duration": 13,
    "start_time": "2024-01-31T15:40:25.903Z"
   },
   {
    "duration": 221,
    "start_time": "2024-01-31T15:40:25.922Z"
   },
   {
    "duration": 316,
    "start_time": "2024-01-31T15:40:26.146Z"
   },
   {
    "duration": 6,
    "start_time": "2024-01-31T15:40:26.464Z"
   },
   {
    "duration": 584,
    "start_time": "2024-01-31T15:40:26.471Z"
   },
   {
    "duration": 5,
    "start_time": "2024-01-31T15:40:27.057Z"
   },
   {
    "duration": 467,
    "start_time": "2024-01-31T15:40:27.066Z"
   },
   {
    "duration": 135,
    "start_time": "2024-01-31T15:40:27.536Z"
   },
   {
    "duration": 212,
    "start_time": "2024-01-31T15:43:49.702Z"
   },
   {
    "duration": 135,
    "start_time": "2024-01-31T15:44:28.498Z"
   },
   {
    "duration": 272,
    "start_time": "2024-01-31T15:48:57.024Z"
   },
   {
    "duration": 276,
    "start_time": "2024-01-31T16:01:39.398Z"
   },
   {
    "duration": 6,
    "start_time": "2024-01-31T16:13:54.971Z"
   },
   {
    "duration": 6,
    "start_time": "2024-01-31T16:14:15.090Z"
   },
   {
    "duration": 345,
    "start_time": "2024-01-31T16:14:15.912Z"
   },
   {
    "duration": 351,
    "start_time": "2024-01-31T16:14:25.105Z"
   },
   {
    "duration": 26,
    "start_time": "2024-01-31T16:15:03.326Z"
   },
   {
    "duration": 121,
    "start_time": "2024-01-31T16:16:30.016Z"
   },
   {
    "duration": 1331,
    "start_time": "2024-01-31T16:25:45.363Z"
   },
   {
    "duration": 4,
    "start_time": "2024-01-31T16:26:34.416Z"
   },
   {
    "duration": 168,
    "start_time": "2024-01-31T16:27:00.296Z"
   },
   {
    "duration": 176,
    "start_time": "2024-01-31T16:27:16.500Z"
   },
   {
    "duration": 158,
    "start_time": "2024-01-31T16:27:22.375Z"
   },
   {
    "duration": 466,
    "start_time": "2024-01-31T16:30:38.147Z"
   },
   {
    "duration": 273,
    "start_time": "2024-01-31T16:30:47.796Z"
   },
   {
    "duration": 151,
    "start_time": "2024-01-31T16:31:24.464Z"
   },
   {
    "duration": 150,
    "start_time": "2024-01-31T16:32:07.151Z"
   },
   {
    "duration": 150,
    "start_time": "2024-01-31T16:32:25.757Z"
   },
   {
    "duration": 146,
    "start_time": "2024-01-31T16:32:36.431Z"
   },
   {
    "duration": 144,
    "start_time": "2024-01-31T16:32:54.085Z"
   },
   {
    "duration": 150,
    "start_time": "2024-01-31T16:32:57.656Z"
   },
   {
    "duration": 162,
    "start_time": "2024-01-31T16:33:16.196Z"
   },
   {
    "duration": 155,
    "start_time": "2024-01-31T16:33:29.944Z"
   },
   {
    "duration": 150,
    "start_time": "2024-01-31T16:33:36.866Z"
   },
   {
    "duration": 161,
    "start_time": "2024-01-31T16:35:04.459Z"
   },
   {
    "duration": 170,
    "start_time": "2024-01-31T16:35:31.391Z"
   },
   {
    "duration": 169,
    "start_time": "2024-01-31T16:35:43.123Z"
   },
   {
    "duration": 167,
    "start_time": "2024-01-31T16:35:53.396Z"
   },
   {
    "duration": 174,
    "start_time": "2024-01-31T16:35:57.605Z"
   },
   {
    "duration": 168,
    "start_time": "2024-01-31T16:36:26.874Z"
   },
   {
    "duration": 424,
    "start_time": "2024-01-31T16:40:20.615Z"
   },
   {
    "duration": 427,
    "start_time": "2024-01-31T16:40:41.715Z"
   },
   {
    "duration": 6,
    "start_time": "2024-01-31T16:42:15.735Z"
   },
   {
    "duration": 425,
    "start_time": "2024-01-31T16:42:22.072Z"
   },
   {
    "duration": 4,
    "start_time": "2024-01-31T16:42:31.105Z"
   },
   {
    "duration": 434,
    "start_time": "2024-01-31T16:42:31.480Z"
   },
   {
    "duration": 164,
    "start_time": "2024-01-31T16:43:47.963Z"
   },
   {
    "duration": 165,
    "start_time": "2024-01-31T16:44:06.580Z"
   },
   {
    "duration": 418,
    "start_time": "2024-01-31T16:44:48.127Z"
   },
   {
    "duration": 13,
    "start_time": "2024-01-31T16:46:58.499Z"
   },
   {
    "duration": 179,
    "start_time": "2024-01-31T16:47:28.118Z"
   },
   {
    "duration": 1191,
    "start_time": "2024-01-31T16:54:29.383Z"
   },
   {
    "duration": 58,
    "start_time": "2024-01-31T16:54:30.576Z"
   },
   {
    "duration": 20,
    "start_time": "2024-01-31T16:54:30.636Z"
   },
   {
    "duration": 74,
    "start_time": "2024-01-31T16:54:30.658Z"
   },
   {
    "duration": 49,
    "start_time": "2024-01-31T16:54:30.734Z"
   },
   {
    "duration": 51,
    "start_time": "2024-01-31T16:54:30.784Z"
   },
   {
    "duration": 44,
    "start_time": "2024-01-31T16:54:30.836Z"
   },
   {
    "duration": 100,
    "start_time": "2024-01-31T16:54:30.882Z"
   },
   {
    "duration": 227,
    "start_time": "2024-01-31T16:54:30.983Z"
   },
   {
    "duration": 18,
    "start_time": "2024-01-31T16:54:31.212Z"
   },
   {
    "duration": 35820,
    "start_time": "2024-01-31T16:54:31.231Z"
   },
   {
    "duration": 5,
    "start_time": "2024-01-31T16:55:07.052Z"
   },
   {
    "duration": 38,
    "start_time": "2024-01-31T16:55:07.059Z"
   },
   {
    "duration": 273,
    "start_time": "2024-01-31T16:55:07.100Z"
   },
   {
    "duration": 310,
    "start_time": "2024-01-31T16:55:07.375Z"
   },
   {
    "duration": 6,
    "start_time": "2024-01-31T16:55:07.687Z"
   },
   {
    "duration": 616,
    "start_time": "2024-01-31T16:55:07.694Z"
   },
   {
    "duration": 11,
    "start_time": "2024-01-31T16:55:08.312Z"
   },
   {
    "duration": 458,
    "start_time": "2024-01-31T16:55:08.324Z"
   },
   {
    "duration": 106,
    "start_time": "2024-01-31T16:55:08.785Z"
   },
   {
    "duration": 559,
    "start_time": "2024-01-31T16:55:08.893Z"
   },
   {
    "duration": 0,
    "start_time": "2024-01-31T16:55:09.454Z"
   },
   {
    "duration": 0,
    "start_time": "2024-01-31T16:55:09.455Z"
   },
   {
    "duration": 0,
    "start_time": "2024-01-31T16:55:09.456Z"
   },
   {
    "duration": 13,
    "start_time": "2024-01-31T16:56:21.004Z"
   },
   {
    "duration": 6,
    "start_time": "2024-01-31T16:56:46.329Z"
   },
   {
    "duration": 412,
    "start_time": "2024-01-31T16:57:54.842Z"
   },
   {
    "duration": 1271,
    "start_time": "2024-01-31T16:58:00.993Z"
   },
   {
    "duration": 56,
    "start_time": "2024-01-31T16:58:02.266Z"
   },
   {
    "duration": 30,
    "start_time": "2024-01-31T16:58:02.324Z"
   },
   {
    "duration": 29,
    "start_time": "2024-01-31T16:58:02.356Z"
   },
   {
    "duration": 19,
    "start_time": "2024-01-31T16:58:02.387Z"
   },
   {
    "duration": 19,
    "start_time": "2024-01-31T16:58:02.408Z"
   },
   {
    "duration": 41,
    "start_time": "2024-01-31T16:58:02.428Z"
   },
   {
    "duration": 34,
    "start_time": "2024-01-31T16:58:02.471Z"
   },
   {
    "duration": 209,
    "start_time": "2024-01-31T16:58:02.506Z"
   },
   {
    "duration": 11,
    "start_time": "2024-01-31T16:58:02.722Z"
   },
   {
    "duration": 35613,
    "start_time": "2024-01-31T16:58:02.735Z"
   },
   {
    "duration": 4,
    "start_time": "2024-01-31T16:58:38.350Z"
   },
   {
    "duration": 35,
    "start_time": "2024-01-31T16:58:38.356Z"
   },
   {
    "duration": 215,
    "start_time": "2024-01-31T16:58:38.392Z"
   },
   {
    "duration": 317,
    "start_time": "2024-01-31T16:58:38.608Z"
   },
   {
    "duration": 6,
    "start_time": "2024-01-31T16:58:38.927Z"
   },
   {
    "duration": 559,
    "start_time": "2024-01-31T16:58:38.935Z"
   },
   {
    "duration": 4,
    "start_time": "2024-01-31T16:58:39.497Z"
   },
   {
    "duration": 459,
    "start_time": "2024-01-31T16:58:39.503Z"
   },
   {
    "duration": 108,
    "start_time": "2024-01-31T16:58:39.964Z"
   },
   {
    "duration": 173,
    "start_time": "2024-01-31T16:58:40.074Z"
   },
   {
    "duration": 10,
    "start_time": "2024-01-31T16:58:40.249Z"
   },
   {
    "duration": 176,
    "start_time": "2024-01-31T16:58:40.261Z"
   },
   {
    "duration": 4,
    "start_time": "2024-01-31T16:58:40.439Z"
   },
   {
    "duration": 158,
    "start_time": "2024-01-31T17:00:13.896Z"
   },
   {
    "duration": 163,
    "start_time": "2024-01-31T17:00:20.204Z"
   },
   {
    "duration": 165,
    "start_time": "2024-01-31T17:05:04.630Z"
   },
   {
    "duration": 144,
    "start_time": "2024-01-31T17:05:54.359Z"
   },
   {
    "duration": 248,
    "start_time": "2024-01-31T17:45:20.315Z"
   },
   {
    "duration": 225,
    "start_time": "2024-01-31T17:45:34.774Z"
   },
   {
    "duration": 197,
    "start_time": "2024-01-31T17:45:43.856Z"
   },
   {
    "duration": 206,
    "start_time": "2024-01-31T17:45:51.083Z"
   },
   {
    "duration": 316,
    "start_time": "2024-01-31T17:46:24.826Z"
   },
   {
    "duration": 329,
    "start_time": "2024-01-31T17:46:36.794Z"
   },
   {
    "duration": 224,
    "start_time": "2024-01-31T17:46:44.245Z"
   },
   {
    "duration": 142,
    "start_time": "2024-01-31T17:47:02.610Z"
   },
   {
    "duration": 214,
    "start_time": "2024-01-31T17:47:06.691Z"
   },
   {
    "duration": 19,
    "start_time": "2024-01-31T17:47:34.867Z"
   },
   {
    "duration": 222,
    "start_time": "2024-01-31T17:47:51.742Z"
   },
   {
    "duration": 214,
    "start_time": "2024-01-31T17:48:09.681Z"
   },
   {
    "duration": 15,
    "start_time": "2024-01-31T18:58:03.035Z"
   },
   {
    "duration": 13,
    "start_time": "2024-01-31T19:00:14.679Z"
   },
   {
    "duration": 11,
    "start_time": "2024-01-31T19:12:50.597Z"
   },
   {
    "duration": 5,
    "start_time": "2024-01-31T19:13:13.529Z"
   },
   {
    "duration": 4,
    "start_time": "2024-01-31T19:13:15.023Z"
   },
   {
    "duration": 9,
    "start_time": "2024-01-31T19:13:21.123Z"
   },
   {
    "duration": 5,
    "start_time": "2024-01-31T19:13:38.101Z"
   },
   {
    "duration": 12,
    "start_time": "2024-01-31T19:13:39.747Z"
   },
   {
    "duration": 15,
    "start_time": "2024-01-31T19:15:18.805Z"
   },
   {
    "duration": 20,
    "start_time": "2024-01-31T19:19:58.420Z"
   },
   {
    "duration": 14,
    "start_time": "2024-01-31T19:28:47.121Z"
   },
   {
    "duration": 24,
    "start_time": "2024-01-31T19:29:55.770Z"
   },
   {
    "duration": 8,
    "start_time": "2024-01-31T19:30:12.519Z"
   },
   {
    "duration": 13,
    "start_time": "2024-01-31T19:32:59.172Z"
   },
   {
    "duration": 25,
    "start_time": "2024-01-31T19:36:10.754Z"
   },
   {
    "duration": 13,
    "start_time": "2024-01-31T19:37:20.866Z"
   },
   {
    "duration": 46,
    "start_time": "2024-02-01T10:02:00.685Z"
   },
   {
    "duration": 1347,
    "start_time": "2024-02-01T10:02:05.508Z"
   },
   {
    "duration": 100,
    "start_time": "2024-02-01T10:02:06.857Z"
   },
   {
    "duration": 20,
    "start_time": "2024-02-01T10:02:06.959Z"
   },
   {
    "duration": 14,
    "start_time": "2024-02-01T10:02:06.981Z"
   },
   {
    "duration": 31,
    "start_time": "2024-02-01T10:02:06.996Z"
   },
   {
    "duration": 16,
    "start_time": "2024-02-01T10:02:07.028Z"
   },
   {
    "duration": 40,
    "start_time": "2024-02-01T10:02:07.046Z"
   },
   {
    "duration": 13,
    "start_time": "2024-02-01T10:02:07.088Z"
   },
   {
    "duration": 184,
    "start_time": "2024-02-01T10:02:07.102Z"
   },
   {
    "duration": 10,
    "start_time": "2024-02-01T10:02:07.289Z"
   },
   {
    "duration": 33964,
    "start_time": "2024-02-01T10:02:07.300Z"
   },
   {
    "duration": 5,
    "start_time": "2024-02-01T10:02:41.265Z"
   },
   {
    "duration": 21,
    "start_time": "2024-02-01T10:02:41.271Z"
   },
   {
    "duration": 15,
    "start_time": "2024-02-01T10:02:41.293Z"
   },
   {
    "duration": 186,
    "start_time": "2024-02-01T10:02:41.309Z"
   },
   {
    "duration": 296,
    "start_time": "2024-02-01T10:02:41.497Z"
   },
   {
    "duration": 7,
    "start_time": "2024-02-01T10:02:41.795Z"
   },
   {
    "duration": 540,
    "start_time": "2024-02-01T10:02:41.804Z"
   },
   {
    "duration": 5,
    "start_time": "2024-02-01T10:02:42.346Z"
   },
   {
    "duration": 410,
    "start_time": "2024-02-01T10:02:42.353Z"
   },
   {
    "duration": 107,
    "start_time": "2024-02-01T10:02:42.765Z"
   },
   {
    "duration": 177,
    "start_time": "2024-02-01T10:02:42.874Z"
   },
   {
    "duration": 162,
    "start_time": "2024-02-01T10:02:43.053Z"
   },
   {
    "duration": 142,
    "start_time": "2024-02-01T10:02:43.216Z"
   },
   {
    "duration": 145,
    "start_time": "2024-02-01T10:02:43.359Z"
   },
   {
    "duration": 226,
    "start_time": "2024-02-01T10:02:43.506Z"
   },
   {
    "duration": 116,
    "start_time": "2024-02-01T10:02:43.734Z"
   },
   {
    "duration": 10,
    "start_time": "2024-02-01T10:03:10.532Z"
   },
   {
    "duration": 8,
    "start_time": "2024-02-01T10:03:16.371Z"
   },
   {
    "duration": 9,
    "start_time": "2024-02-01T10:03:22.104Z"
   },
   {
    "duration": 6,
    "start_time": "2024-02-01T10:03:28.654Z"
   },
   {
    "duration": 8,
    "start_time": "2024-02-01T10:07:16.915Z"
   },
   {
    "duration": 4,
    "start_time": "2024-02-01T10:07:20.149Z"
   },
   {
    "duration": 8,
    "start_time": "2024-02-01T10:07:55.960Z"
   },
   {
    "duration": 6,
    "start_time": "2024-02-01T10:08:01.127Z"
   },
   {
    "duration": 11,
    "start_time": "2024-02-01T10:09:12.824Z"
   },
   {
    "duration": 17,
    "start_time": "2024-02-01T10:10:44.914Z"
   },
   {
    "duration": 18,
    "start_time": "2024-02-01T10:10:56.916Z"
   },
   {
    "duration": 19,
    "start_time": "2024-02-01T10:11:07.553Z"
   },
   {
    "duration": 18,
    "start_time": "2024-02-01T10:11:55.693Z"
   },
   {
    "duration": 5,
    "start_time": "2024-02-01T10:12:17.775Z"
   },
   {
    "duration": 1115,
    "start_time": "2024-02-01T10:12:41.838Z"
   },
   {
    "duration": 57,
    "start_time": "2024-02-01T10:12:42.955Z"
   },
   {
    "duration": 21,
    "start_time": "2024-02-01T10:12:43.014Z"
   },
   {
    "duration": 25,
    "start_time": "2024-02-01T10:12:43.037Z"
   },
   {
    "duration": 17,
    "start_time": "2024-02-01T10:12:43.064Z"
   },
   {
    "duration": 14,
    "start_time": "2024-02-01T10:12:43.082Z"
   },
   {
    "duration": 16,
    "start_time": "2024-02-01T10:12:43.097Z"
   },
   {
    "duration": 4,
    "start_time": "2024-02-01T10:12:43.115Z"
   },
   {
    "duration": 197,
    "start_time": "2024-02-01T10:12:43.120Z"
   },
   {
    "duration": 11,
    "start_time": "2024-02-01T10:12:43.320Z"
   },
   {
    "duration": 33939,
    "start_time": "2024-02-01T10:12:43.332Z"
   },
   {
    "duration": 5,
    "start_time": "2024-02-01T10:13:17.273Z"
   },
   {
    "duration": 6,
    "start_time": "2024-02-01T10:13:17.280Z"
   },
   {
    "duration": 49,
    "start_time": "2024-02-01T10:13:17.288Z"
   },
   {
    "duration": 4,
    "start_time": "2024-02-01T10:13:17.339Z"
   },
   {
    "duration": 14,
    "start_time": "2024-02-01T10:13:17.345Z"
   },
   {
    "duration": 206,
    "start_time": "2024-02-01T10:13:17.360Z"
   },
   {
    "duration": 316,
    "start_time": "2024-02-01T10:13:17.568Z"
   },
   {
    "duration": 5,
    "start_time": "2024-02-01T10:13:17.886Z"
   },
   {
    "duration": 587,
    "start_time": "2024-02-01T10:13:17.892Z"
   },
   {
    "duration": 4,
    "start_time": "2024-02-01T10:13:18.481Z"
   },
   {
    "duration": 457,
    "start_time": "2024-02-01T10:13:18.487Z"
   },
   {
    "duration": 105,
    "start_time": "2024-02-01T10:13:18.946Z"
   },
   {
    "duration": 158,
    "start_time": "2024-02-01T10:13:19.053Z"
   },
   {
    "duration": 168,
    "start_time": "2024-02-01T10:13:19.213Z"
   },
   {
    "duration": 146,
    "start_time": "2024-02-01T10:13:19.384Z"
   },
   {
    "duration": 145,
    "start_time": "2024-02-01T10:13:19.532Z"
   },
   {
    "duration": 215,
    "start_time": "2024-02-01T10:13:19.679Z"
   },
   {
    "duration": 111,
    "start_time": "2024-02-01T10:13:19.896Z"
   },
   {
    "duration": 5,
    "start_time": "2024-02-01T10:15:12.802Z"
   },
   {
    "duration": 4,
    "start_time": "2024-02-01T10:15:57.304Z"
   },
   {
    "duration": 18,
    "start_time": "2024-02-01T10:16:13.236Z"
   },
   {
    "duration": 16,
    "start_time": "2024-02-01T10:16:17.961Z"
   },
   {
    "duration": 3,
    "start_time": "2024-02-01T10:16:48.323Z"
   },
   {
    "duration": 55,
    "start_time": "2024-02-01T10:16:48.571Z"
   },
   {
    "duration": 15,
    "start_time": "2024-02-01T10:16:49.004Z"
   },
   {
    "duration": 11,
    "start_time": "2024-02-01T10:17:01.403Z"
   },
   {
    "duration": 2,
    "start_time": "2024-02-01T10:17:08.469Z"
   },
   {
    "duration": 59,
    "start_time": "2024-02-01T10:17:08.724Z"
   },
   {
    "duration": 16,
    "start_time": "2024-02-01T10:17:08.893Z"
   },
   {
    "duration": 15,
    "start_time": "2024-02-01T10:17:09.094Z"
   },
   {
    "duration": 3,
    "start_time": "2024-02-01T10:17:09.575Z"
   },
   {
    "duration": 5,
    "start_time": "2024-02-01T10:17:09.744Z"
   },
   {
    "duration": 9,
    "start_time": "2024-02-01T10:17:09.923Z"
   },
   {
    "duration": 5,
    "start_time": "2024-02-01T10:17:10.282Z"
   },
   {
    "duration": 150,
    "start_time": "2024-02-01T10:17:10.471Z"
   },
   {
    "duration": 10,
    "start_time": "2024-02-01T10:17:12.054Z"
   },
   {
    "duration": 33575,
    "start_time": "2024-02-01T10:17:12.623Z"
   },
   {
    "duration": 4,
    "start_time": "2024-02-01T10:17:46.200Z"
   },
   {
    "duration": 25,
    "start_time": "2024-02-01T10:17:46.205Z"
   },
   {
    "duration": 62,
    "start_time": "2024-02-01T10:17:46.232Z"
   },
   {
    "duration": 20,
    "start_time": "2024-02-01T10:17:46.295Z"
   },
   {
    "duration": 11,
    "start_time": "2024-02-01T10:38:07.283Z"
   },
   {
    "duration": 22,
    "start_time": "2024-02-01T10:38:11.364Z"
   },
   {
    "duration": 27,
    "start_time": "2024-02-01T10:39:13.899Z"
   },
   {
    "duration": 14,
    "start_time": "2024-02-01T10:39:46.500Z"
   },
   {
    "duration": 10,
    "start_time": "2024-02-01T10:39:59.095Z"
   },
   {
    "duration": 26,
    "start_time": "2024-02-01T10:42:18.756Z"
   },
   {
    "duration": 26,
    "start_time": "2024-02-01T10:42:26.413Z"
   },
   {
    "duration": 17,
    "start_time": "2024-02-01T10:43:53.256Z"
   },
   {
    "duration": 18,
    "start_time": "2024-02-01T10:45:00.077Z"
   },
   {
    "duration": 1136,
    "start_time": "2024-02-01T10:45:05.709Z"
   },
   {
    "duration": 54,
    "start_time": "2024-02-01T10:45:06.847Z"
   },
   {
    "duration": 18,
    "start_time": "2024-02-01T10:45:06.902Z"
   },
   {
    "duration": 18,
    "start_time": "2024-02-01T10:45:06.921Z"
   },
   {
    "duration": 6,
    "start_time": "2024-02-01T10:45:06.941Z"
   },
   {
    "duration": 14,
    "start_time": "2024-02-01T10:45:06.948Z"
   },
   {
    "duration": 21,
    "start_time": "2024-02-01T10:45:06.963Z"
   },
   {
    "duration": 20,
    "start_time": "2024-02-01T10:45:06.985Z"
   },
   {
    "duration": 187,
    "start_time": "2024-02-01T10:45:07.007Z"
   },
   {
    "duration": 12,
    "start_time": "2024-02-01T10:45:07.195Z"
   },
   {
    "duration": 33917,
    "start_time": "2024-02-01T10:45:07.208Z"
   },
   {
    "duration": 4,
    "start_time": "2024-02-01T10:45:41.127Z"
   },
   {
    "duration": 25,
    "start_time": "2024-02-01T10:45:41.132Z"
   },
   {
    "duration": 50,
    "start_time": "2024-02-01T10:45:41.159Z"
   },
   {
    "duration": 25,
    "start_time": "2024-02-01T10:45:41.210Z"
   },
   {
    "duration": 21,
    "start_time": "2024-02-01T10:45:41.237Z"
   },
   {
    "duration": 22,
    "start_time": "2024-02-01T10:45:41.259Z"
   },
   {
    "duration": 8,
    "start_time": "2024-02-01T10:45:41.283Z"
   },
   {
    "duration": 219,
    "start_time": "2024-02-01T10:45:41.293Z"
   },
   {
    "duration": 293,
    "start_time": "2024-02-01T10:45:41.520Z"
   },
   {
    "duration": 8,
    "start_time": "2024-02-01T10:45:41.814Z"
   },
   {
    "duration": 522,
    "start_time": "2024-02-01T10:45:41.823Z"
   },
   {
    "duration": 4,
    "start_time": "2024-02-01T10:45:42.346Z"
   },
   {
    "duration": 359,
    "start_time": "2024-02-01T10:45:42.352Z"
   },
   {
    "duration": 174,
    "start_time": "2024-02-01T10:45:42.714Z"
   },
   {
    "duration": 174,
    "start_time": "2024-02-01T10:45:42.890Z"
   },
   {
    "duration": 168,
    "start_time": "2024-02-01T10:45:43.066Z"
   },
   {
    "duration": 149,
    "start_time": "2024-02-01T10:45:43.235Z"
   },
   {
    "duration": 152,
    "start_time": "2024-02-01T10:45:43.386Z"
   },
   {
    "duration": 223,
    "start_time": "2024-02-01T10:45:43.540Z"
   },
   {
    "duration": 149,
    "start_time": "2024-02-01T10:45:43.765Z"
   },
   {
    "duration": 6,
    "start_time": "2024-02-01T10:46:05.175Z"
   },
   {
    "duration": 1220,
    "start_time": "2024-02-01T10:46:47.308Z"
   },
   {
    "duration": 55,
    "start_time": "2024-02-01T10:46:48.530Z"
   },
   {
    "duration": 18,
    "start_time": "2024-02-01T10:46:48.587Z"
   },
   {
    "duration": 14,
    "start_time": "2024-02-01T10:46:48.607Z"
   },
   {
    "duration": 3,
    "start_time": "2024-02-01T10:46:48.622Z"
   },
   {
    "duration": 5,
    "start_time": "2024-02-01T10:46:48.627Z"
   },
   {
    "duration": 9,
    "start_time": "2024-02-01T10:46:48.633Z"
   },
   {
    "duration": 6,
    "start_time": "2024-02-01T10:46:48.644Z"
   },
   {
    "duration": 195,
    "start_time": "2024-02-01T10:46:48.652Z"
   },
   {
    "duration": 10,
    "start_time": "2024-02-01T10:46:48.850Z"
   },
   {
    "duration": 33917,
    "start_time": "2024-02-01T10:46:48.862Z"
   },
   {
    "duration": 4,
    "start_time": "2024-02-01T10:47:22.781Z"
   },
   {
    "duration": 24,
    "start_time": "2024-02-01T10:47:22.786Z"
   },
   {
    "duration": 33,
    "start_time": "2024-02-01T10:47:22.812Z"
   },
   {
    "duration": 18,
    "start_time": "2024-02-01T10:47:22.847Z"
   },
   {
    "duration": 19,
    "start_time": "2024-02-01T10:47:22.866Z"
   },
   {
    "duration": 11,
    "start_time": "2024-02-01T10:47:22.886Z"
   },
   {
    "duration": 8,
    "start_time": "2024-02-01T10:47:22.921Z"
   },
   {
    "duration": 267,
    "start_time": "2024-02-01T10:47:22.930Z"
   },
   {
    "duration": 277,
    "start_time": "2024-02-01T10:47:23.199Z"
   },
   {
    "duration": 7,
    "start_time": "2024-02-01T10:47:23.477Z"
   },
   {
    "duration": 519,
    "start_time": "2024-02-01T10:47:23.485Z"
   },
   {
    "duration": 5,
    "start_time": "2024-02-01T10:47:24.006Z"
   },
   {
    "duration": 358,
    "start_time": "2024-02-01T10:47:24.013Z"
   },
   {
    "duration": 168,
    "start_time": "2024-02-01T10:47:24.373Z"
   },
   {
    "duration": 162,
    "start_time": "2024-02-01T10:47:24.542Z"
   },
   {
    "duration": 156,
    "start_time": "2024-02-01T10:47:24.706Z"
   },
   {
    "duration": 141,
    "start_time": "2024-02-01T10:47:24.865Z"
   },
   {
    "duration": 143,
    "start_time": "2024-02-01T10:47:25.008Z"
   },
   {
    "duration": 208,
    "start_time": "2024-02-01T10:47:25.152Z"
   },
   {
    "duration": 107,
    "start_time": "2024-02-01T10:47:25.362Z"
   },
   {
    "duration": 1155,
    "start_time": "2024-02-01T10:48:15.403Z"
   },
   {
    "duration": 68,
    "start_time": "2024-02-01T10:48:16.560Z"
   },
   {
    "duration": 20,
    "start_time": "2024-02-01T10:48:16.630Z"
   },
   {
    "duration": 14,
    "start_time": "2024-02-01T10:48:16.652Z"
   },
   {
    "duration": 3,
    "start_time": "2024-02-01T10:48:16.668Z"
   },
   {
    "duration": 17,
    "start_time": "2024-02-01T10:48:16.672Z"
   },
   {
    "duration": 12,
    "start_time": "2024-02-01T10:48:16.690Z"
   },
   {
    "duration": 17,
    "start_time": "2024-02-01T10:48:16.703Z"
   },
   {
    "duration": 166,
    "start_time": "2024-02-01T10:48:16.722Z"
   },
   {
    "duration": 11,
    "start_time": "2024-02-01T10:48:16.889Z"
   },
   {
    "duration": 34777,
    "start_time": "2024-02-01T10:48:16.901Z"
   },
   {
    "duration": 4,
    "start_time": "2024-02-01T10:48:51.680Z"
   },
   {
    "duration": 14,
    "start_time": "2024-02-01T10:48:51.686Z"
   },
   {
    "duration": 37,
    "start_time": "2024-02-01T10:48:51.703Z"
   },
   {
    "duration": 25,
    "start_time": "2024-02-01T10:48:51.742Z"
   },
   {
    "duration": 23,
    "start_time": "2024-02-01T10:48:51.769Z"
   },
   {
    "duration": 43,
    "start_time": "2024-02-01T10:48:51.794Z"
   },
   {
    "duration": 23,
    "start_time": "2024-02-01T10:48:51.838Z"
   },
   {
    "duration": 23,
    "start_time": "2024-02-01T10:48:51.863Z"
   },
   {
    "duration": 215,
    "start_time": "2024-02-01T10:48:51.888Z"
   },
   {
    "duration": 293,
    "start_time": "2024-02-01T10:48:52.104Z"
   },
   {
    "duration": 6,
    "start_time": "2024-02-01T10:48:52.398Z"
   },
   {
    "duration": 584,
    "start_time": "2024-02-01T10:48:52.405Z"
   },
   {
    "duration": 4,
    "start_time": "2024-02-01T10:48:52.991Z"
   },
   {
    "duration": 363,
    "start_time": "2024-02-01T10:48:52.996Z"
   },
   {
    "duration": 175,
    "start_time": "2024-02-01T10:48:53.361Z"
   },
   {
    "duration": 169,
    "start_time": "2024-02-01T10:48:53.538Z"
   },
   {
    "duration": 169,
    "start_time": "2024-02-01T10:48:53.708Z"
   },
   {
    "duration": 148,
    "start_time": "2024-02-01T10:48:53.879Z"
   },
   {
    "duration": 162,
    "start_time": "2024-02-01T10:48:54.028Z"
   },
   {
    "duration": 215,
    "start_time": "2024-02-01T10:48:54.191Z"
   },
   {
    "duration": 104,
    "start_time": "2024-02-01T10:48:54.408Z"
   },
   {
    "duration": 22,
    "start_time": "2024-02-01T10:50:08.799Z"
   },
   {
    "duration": 1187,
    "start_time": "2024-02-01T10:50:23.843Z"
   },
   {
    "duration": 55,
    "start_time": "2024-02-01T10:50:25.032Z"
   },
   {
    "duration": 23,
    "start_time": "2024-02-01T10:50:25.089Z"
   },
   {
    "duration": 16,
    "start_time": "2024-02-01T10:50:25.114Z"
   },
   {
    "duration": 9,
    "start_time": "2024-02-01T10:50:25.132Z"
   },
   {
    "duration": 39,
    "start_time": "2024-02-01T10:50:25.143Z"
   },
   {
    "duration": 27,
    "start_time": "2024-02-01T10:50:25.184Z"
   },
   {
    "duration": 28,
    "start_time": "2024-02-01T10:50:25.212Z"
   },
   {
    "duration": 181,
    "start_time": "2024-02-01T10:50:25.241Z"
   },
   {
    "duration": 11,
    "start_time": "2024-02-01T10:50:25.424Z"
   },
   {
    "duration": 33926,
    "start_time": "2024-02-01T10:50:25.437Z"
   },
   {
    "duration": 4,
    "start_time": "2024-02-01T10:50:59.365Z"
   },
   {
    "duration": 14,
    "start_time": "2024-02-01T10:50:59.370Z"
   },
   {
    "duration": 57,
    "start_time": "2024-02-01T10:50:59.387Z"
   },
   {
    "duration": 25,
    "start_time": "2024-02-01T10:50:59.446Z"
   },
   {
    "duration": 20,
    "start_time": "2024-02-01T10:50:59.473Z"
   },
   {
    "duration": 35,
    "start_time": "2024-02-01T10:50:59.495Z"
   },
   {
    "duration": 31,
    "start_time": "2024-02-01T10:50:59.532Z"
   },
   {
    "duration": 6,
    "start_time": "2024-02-01T10:50:59.565Z"
   },
   {
    "duration": 219,
    "start_time": "2024-02-01T10:50:59.572Z"
   },
   {
    "duration": 287,
    "start_time": "2024-02-01T10:50:59.792Z"
   },
   {
    "duration": 6,
    "start_time": "2024-02-01T10:51:00.080Z"
   },
   {
    "duration": 648,
    "start_time": "2024-02-01T10:51:00.087Z"
   },
   {
    "duration": 4,
    "start_time": "2024-02-01T10:51:00.736Z"
   },
   {
    "duration": 417,
    "start_time": "2024-02-01T10:51:00.742Z"
   },
   {
    "duration": 181,
    "start_time": "2024-02-01T10:51:01.161Z"
   },
   {
    "duration": 184,
    "start_time": "2024-02-01T10:51:01.343Z"
   },
   {
    "duration": 157,
    "start_time": "2024-02-01T10:51:01.528Z"
   },
   {
    "duration": 151,
    "start_time": "2024-02-01T10:51:01.686Z"
   },
   {
    "duration": 182,
    "start_time": "2024-02-01T10:51:01.838Z"
   },
   {
    "duration": 208,
    "start_time": "2024-02-01T10:51:02.022Z"
   },
   {
    "duration": 115,
    "start_time": "2024-02-01T10:51:02.231Z"
   },
   {
    "duration": 1133,
    "start_time": "2024-02-01T10:51:36.289Z"
   },
   {
    "duration": 57,
    "start_time": "2024-02-01T10:51:37.424Z"
   },
   {
    "duration": 19,
    "start_time": "2024-02-01T10:51:37.483Z"
   },
   {
    "duration": 41,
    "start_time": "2024-02-01T10:51:37.504Z"
   },
   {
    "duration": 3,
    "start_time": "2024-02-01T10:51:37.546Z"
   },
   {
    "duration": 19,
    "start_time": "2024-02-01T10:51:37.550Z"
   },
   {
    "duration": 37,
    "start_time": "2024-02-01T10:51:37.570Z"
   },
   {
    "duration": 12,
    "start_time": "2024-02-01T10:51:37.608Z"
   },
   {
    "duration": 183,
    "start_time": "2024-02-01T10:51:37.622Z"
   },
   {
    "duration": 17,
    "start_time": "2024-02-01T10:51:37.809Z"
   },
   {
    "duration": 34455,
    "start_time": "2024-02-01T10:51:37.827Z"
   },
   {
    "duration": 4,
    "start_time": "2024-02-01T10:52:12.284Z"
   },
   {
    "duration": 12,
    "start_time": "2024-02-01T10:52:12.289Z"
   },
   {
    "duration": 32,
    "start_time": "2024-02-01T10:52:12.302Z"
   },
   {
    "duration": 20,
    "start_time": "2024-02-01T10:52:12.335Z"
   },
   {
    "duration": 19,
    "start_time": "2024-02-01T10:52:12.356Z"
   },
   {
    "duration": 53,
    "start_time": "2024-02-01T10:52:12.376Z"
   },
   {
    "duration": 7,
    "start_time": "2024-02-01T10:52:12.430Z"
   },
   {
    "duration": 222,
    "start_time": "2024-02-01T10:52:12.438Z"
   },
   {
    "duration": 281,
    "start_time": "2024-02-01T10:52:12.661Z"
   },
   {
    "duration": 6,
    "start_time": "2024-02-01T10:52:12.943Z"
   },
   {
    "duration": 535,
    "start_time": "2024-02-01T10:52:12.951Z"
   },
   {
    "duration": 5,
    "start_time": "2024-02-01T10:52:13.487Z"
   },
   {
    "duration": 389,
    "start_time": "2024-02-01T10:52:13.494Z"
   },
   {
    "duration": 182,
    "start_time": "2024-02-01T10:52:13.885Z"
   },
   {
    "duration": 175,
    "start_time": "2024-02-01T10:52:14.068Z"
   },
   {
    "duration": 163,
    "start_time": "2024-02-01T10:52:14.245Z"
   },
   {
    "duration": 150,
    "start_time": "2024-02-01T10:52:14.411Z"
   },
   {
    "duration": 142,
    "start_time": "2024-02-01T10:52:14.563Z"
   },
   {
    "duration": 203,
    "start_time": "2024-02-01T10:52:14.707Z"
   },
   {
    "duration": 110,
    "start_time": "2024-02-01T10:52:14.920Z"
   },
   {
    "duration": 1157,
    "start_time": "2024-02-01T10:53:21.480Z"
   },
   {
    "duration": 56,
    "start_time": "2024-02-01T10:53:22.638Z"
   },
   {
    "duration": 20,
    "start_time": "2024-02-01T10:53:22.695Z"
   },
   {
    "duration": 13,
    "start_time": "2024-02-01T10:53:22.717Z"
   },
   {
    "duration": 3,
    "start_time": "2024-02-01T10:53:22.731Z"
   },
   {
    "duration": 7,
    "start_time": "2024-02-01T10:53:22.736Z"
   },
   {
    "duration": 14,
    "start_time": "2024-02-01T10:53:22.744Z"
   },
   {
    "duration": 10,
    "start_time": "2024-02-01T10:53:22.760Z"
   },
   {
    "duration": 199,
    "start_time": "2024-02-01T10:53:22.771Z"
   },
   {
    "duration": 11,
    "start_time": "2024-02-01T10:53:22.972Z"
   },
   {
    "duration": 33847,
    "start_time": "2024-02-01T10:53:22.985Z"
   },
   {
    "duration": 4,
    "start_time": "2024-02-01T10:53:56.834Z"
   },
   {
    "duration": 19,
    "start_time": "2024-02-01T10:53:56.839Z"
   },
   {
    "duration": 40,
    "start_time": "2024-02-01T10:53:56.860Z"
   },
   {
    "duration": 486,
    "start_time": "2024-02-01T10:53:56.901Z"
   },
   {
    "duration": 0,
    "start_time": "2024-02-01T10:53:57.389Z"
   },
   {
    "duration": 0,
    "start_time": "2024-02-01T10:53:57.390Z"
   },
   {
    "duration": 0,
    "start_time": "2024-02-01T10:53:57.391Z"
   },
   {
    "duration": 0,
    "start_time": "2024-02-01T10:53:57.392Z"
   },
   {
    "duration": 0,
    "start_time": "2024-02-01T10:53:57.393Z"
   },
   {
    "duration": 0,
    "start_time": "2024-02-01T10:53:57.394Z"
   },
   {
    "duration": 0,
    "start_time": "2024-02-01T10:53:57.395Z"
   },
   {
    "duration": 0,
    "start_time": "2024-02-01T10:53:57.396Z"
   },
   {
    "duration": 0,
    "start_time": "2024-02-01T10:53:57.397Z"
   },
   {
    "duration": 0,
    "start_time": "2024-02-01T10:53:57.399Z"
   },
   {
    "duration": 0,
    "start_time": "2024-02-01T10:53:57.400Z"
   },
   {
    "duration": 0,
    "start_time": "2024-02-01T10:53:57.400Z"
   },
   {
    "duration": 0,
    "start_time": "2024-02-01T10:53:57.401Z"
   },
   {
    "duration": 0,
    "start_time": "2024-02-01T10:53:57.402Z"
   },
   {
    "duration": 0,
    "start_time": "2024-02-01T10:53:57.403Z"
   },
   {
    "duration": 0,
    "start_time": "2024-02-01T10:53:57.404Z"
   },
   {
    "duration": 17,
    "start_time": "2024-02-01T10:54:32.049Z"
   },
   {
    "duration": 26,
    "start_time": "2024-02-01T10:54:34.647Z"
   },
   {
    "duration": 328,
    "start_time": "2024-02-01T10:55:28.191Z"
   },
   {
    "duration": 18,
    "start_time": "2024-02-01T10:55:32.098Z"
   },
   {
    "duration": 27,
    "start_time": "2024-02-01T10:55:33.839Z"
   },
   {
    "duration": 8,
    "start_time": "2024-02-01T10:57:37.199Z"
   },
   {
    "duration": 18,
    "start_time": "2024-02-01T10:57:47.697Z"
   },
   {
    "duration": 1199,
    "start_time": "2024-02-01T10:57:53.215Z"
   },
   {
    "duration": 57,
    "start_time": "2024-02-01T10:57:54.416Z"
   },
   {
    "duration": 18,
    "start_time": "2024-02-01T10:57:54.475Z"
   },
   {
    "duration": 13,
    "start_time": "2024-02-01T10:57:54.495Z"
   },
   {
    "duration": 9,
    "start_time": "2024-02-01T10:57:54.510Z"
   },
   {
    "duration": 9,
    "start_time": "2024-02-01T10:57:54.521Z"
   },
   {
    "duration": 13,
    "start_time": "2024-02-01T10:57:54.531Z"
   },
   {
    "duration": 14,
    "start_time": "2024-02-01T10:57:54.546Z"
   },
   {
    "duration": 207,
    "start_time": "2024-02-01T10:57:54.561Z"
   },
   {
    "duration": 10,
    "start_time": "2024-02-01T10:57:54.771Z"
   },
   {
    "duration": 34577,
    "start_time": "2024-02-01T10:57:54.782Z"
   },
   {
    "duration": 5,
    "start_time": "2024-02-01T10:58:29.360Z"
   },
   {
    "duration": 13,
    "start_time": "2024-02-01T10:58:29.366Z"
   },
   {
    "duration": 28,
    "start_time": "2024-02-01T10:58:29.380Z"
   },
   {
    "duration": 31,
    "start_time": "2024-02-01T10:58:29.409Z"
   },
   {
    "duration": 20,
    "start_time": "2024-02-01T10:58:29.441Z"
   },
   {
    "duration": 42,
    "start_time": "2024-02-01T10:58:29.463Z"
   },
   {
    "duration": 26,
    "start_time": "2024-02-01T10:58:29.506Z"
   },
   {
    "duration": 7,
    "start_time": "2024-02-01T10:58:29.533Z"
   },
   {
    "duration": 212,
    "start_time": "2024-02-01T10:58:29.541Z"
   },
   {
    "duration": 304,
    "start_time": "2024-02-01T10:58:29.754Z"
   },
   {
    "duration": 5,
    "start_time": "2024-02-01T10:58:30.060Z"
   },
   {
    "duration": 601,
    "start_time": "2024-02-01T10:58:30.067Z"
   },
   {
    "duration": 4,
    "start_time": "2024-02-01T10:58:30.670Z"
   },
   {
    "duration": 499,
    "start_time": "2024-02-01T10:58:30.676Z"
   },
   {
    "duration": 194,
    "start_time": "2024-02-01T10:58:31.177Z"
   },
   {
    "duration": 201,
    "start_time": "2024-02-01T10:58:31.373Z"
   },
   {
    "duration": 262,
    "start_time": "2024-02-01T10:58:31.577Z"
   },
   {
    "duration": 386,
    "start_time": "2024-02-01T10:58:31.842Z"
   },
   {
    "duration": 148,
    "start_time": "2024-02-01T10:58:32.230Z"
   },
   {
    "duration": 250,
    "start_time": "2024-02-01T10:58:32.379Z"
   },
   {
    "duration": 115,
    "start_time": "2024-02-01T10:58:32.631Z"
   },
   {
    "duration": 103,
    "start_time": "2024-02-01T11:04:40.455Z"
   },
   {
    "duration": 21,
    "start_time": "2024-02-01T11:04:52.133Z"
   },
   {
    "duration": 10,
    "start_time": "2024-02-01T11:05:04.484Z"
   },
   {
    "duration": 1201,
    "start_time": "2024-02-01T11:05:35.326Z"
   },
   {
    "duration": 58,
    "start_time": "2024-02-01T11:05:36.529Z"
   },
   {
    "duration": 19,
    "start_time": "2024-02-01T11:05:36.588Z"
   },
   {
    "duration": 15,
    "start_time": "2024-02-01T11:05:36.609Z"
   },
   {
    "duration": 18,
    "start_time": "2024-02-01T11:05:36.627Z"
   },
   {
    "duration": 22,
    "start_time": "2024-02-01T11:05:36.647Z"
   },
   {
    "duration": 30,
    "start_time": "2024-02-01T11:05:36.671Z"
   },
   {
    "duration": 14,
    "start_time": "2024-02-01T11:05:36.702Z"
   },
   {
    "duration": 191,
    "start_time": "2024-02-01T11:05:36.717Z"
   },
   {
    "duration": 16,
    "start_time": "2024-02-01T11:05:36.910Z"
   },
   {
    "duration": 33678,
    "start_time": "2024-02-01T11:05:36.928Z"
   },
   {
    "duration": 5,
    "start_time": "2024-02-01T11:06:10.607Z"
   },
   {
    "duration": 15,
    "start_time": "2024-02-01T11:06:10.620Z"
   },
   {
    "duration": 62,
    "start_time": "2024-02-01T11:06:10.638Z"
   },
   {
    "duration": 31,
    "start_time": "2024-02-01T11:06:10.702Z"
   },
   {
    "duration": 20,
    "start_time": "2024-02-01T11:06:10.735Z"
   },
   {
    "duration": 7,
    "start_time": "2024-02-01T11:06:10.756Z"
   },
   {
    "duration": 225,
    "start_time": "2024-02-01T11:06:10.765Z"
   },
   {
    "duration": 279,
    "start_time": "2024-02-01T11:06:10.992Z"
   },
   {
    "duration": 6,
    "start_time": "2024-02-01T11:06:11.272Z"
   },
   {
    "duration": 570,
    "start_time": "2024-02-01T11:06:11.279Z"
   },
   {
    "duration": 4,
    "start_time": "2024-02-01T11:06:11.851Z"
   },
   {
    "duration": 383,
    "start_time": "2024-02-01T11:06:11.857Z"
   },
   {
    "duration": 183,
    "start_time": "2024-02-01T11:06:12.241Z"
   },
   {
    "duration": 166,
    "start_time": "2024-02-01T11:06:12.425Z"
   },
   {
    "duration": 159,
    "start_time": "2024-02-01T11:06:12.593Z"
   },
   {
    "duration": 147,
    "start_time": "2024-02-01T11:06:12.754Z"
   },
   {
    "duration": 145,
    "start_time": "2024-02-01T11:06:12.902Z"
   },
   {
    "duration": 220,
    "start_time": "2024-02-01T11:06:13.048Z"
   },
   {
    "duration": 112,
    "start_time": "2024-02-01T11:06:13.270Z"
   },
   {
    "duration": 84,
    "start_time": "2024-02-01T11:07:28.869Z"
   },
   {
    "duration": 23,
    "start_time": "2024-02-01T11:07:35.181Z"
   },
   {
    "duration": 19,
    "start_time": "2024-02-01T11:07:53.002Z"
   },
   {
    "duration": 17,
    "start_time": "2024-02-01T11:08:00.012Z"
   },
   {
    "duration": 15,
    "start_time": "2024-02-01T11:08:01.911Z"
   },
   {
    "duration": 86,
    "start_time": "2024-02-01T11:08:41.992Z"
   },
   {
    "duration": 82,
    "start_time": "2024-02-01T11:08:53.082Z"
   },
   {
    "duration": 90,
    "start_time": "2024-02-01T11:09:00.695Z"
   },
   {
    "duration": 23,
    "start_time": "2024-02-01T11:09:07.293Z"
   },
   {
    "duration": 15,
    "start_time": "2024-02-01T11:09:08.864Z"
   },
   {
    "duration": 96,
    "start_time": "2024-02-01T11:09:28.569Z"
   },
   {
    "duration": 329,
    "start_time": "2024-02-01T11:09:35.180Z"
   },
   {
    "duration": 16,
    "start_time": "2024-02-01T11:14:31.453Z"
   },
   {
    "duration": 1223,
    "start_time": "2024-02-01T11:14:47.196Z"
   },
   {
    "duration": 56,
    "start_time": "2024-02-01T11:14:48.420Z"
   },
   {
    "duration": 18,
    "start_time": "2024-02-01T11:14:48.478Z"
   },
   {
    "duration": 14,
    "start_time": "2024-02-01T11:14:48.498Z"
   },
   {
    "duration": 6,
    "start_time": "2024-02-01T11:14:48.514Z"
   },
   {
    "duration": 40,
    "start_time": "2024-02-01T11:14:48.521Z"
   },
   {
    "duration": 28,
    "start_time": "2024-02-01T11:14:48.563Z"
   },
   {
    "duration": 7,
    "start_time": "2024-02-01T11:14:48.593Z"
   },
   {
    "duration": 201,
    "start_time": "2024-02-01T11:14:48.601Z"
   },
   {
    "duration": 19,
    "start_time": "2024-02-01T11:14:48.804Z"
   },
   {
    "duration": 34180,
    "start_time": "2024-02-01T11:14:48.825Z"
   },
   {
    "duration": 4,
    "start_time": "2024-02-01T11:15:23.007Z"
   },
   {
    "duration": 42,
    "start_time": "2024-02-01T11:15:23.012Z"
   },
   {
    "duration": 54,
    "start_time": "2024-02-01T11:15:23.056Z"
   },
   {
    "duration": 7,
    "start_time": "2024-02-01T11:15:23.111Z"
   },
   {
    "duration": 35,
    "start_time": "2024-02-01T11:15:23.119Z"
   },
   {
    "duration": 22,
    "start_time": "2024-02-01T11:15:23.155Z"
   },
   {
    "duration": 200,
    "start_time": "2024-02-01T11:15:23.179Z"
   },
   {
    "duration": 286,
    "start_time": "2024-02-01T11:15:23.381Z"
   },
   {
    "duration": 5,
    "start_time": "2024-02-01T11:15:23.669Z"
   },
   {
    "duration": 572,
    "start_time": "2024-02-01T11:15:23.675Z"
   },
   {
    "duration": 5,
    "start_time": "2024-02-01T11:15:24.249Z"
   },
   {
    "duration": 352,
    "start_time": "2024-02-01T11:15:24.256Z"
   },
   {
    "duration": 172,
    "start_time": "2024-02-01T11:15:24.609Z"
   },
   {
    "duration": 167,
    "start_time": "2024-02-01T11:15:24.782Z"
   },
   {
    "duration": 172,
    "start_time": "2024-02-01T11:15:24.950Z"
   },
   {
    "duration": 147,
    "start_time": "2024-02-01T11:15:25.123Z"
   },
   {
    "duration": 149,
    "start_time": "2024-02-01T11:15:25.271Z"
   },
   {
    "duration": 201,
    "start_time": "2024-02-01T11:15:25.422Z"
   },
   {
    "duration": 112,
    "start_time": "2024-02-01T11:15:25.625Z"
   },
   {
    "duration": 3,
    "start_time": "2024-02-01T11:17:06.730Z"
   },
   {
    "duration": 1230,
    "start_time": "2024-02-01T11:17:11.597Z"
   },
   {
    "duration": 56,
    "start_time": "2024-02-01T11:17:12.829Z"
   },
   {
    "duration": 20,
    "start_time": "2024-02-01T11:17:12.887Z"
   },
   {
    "duration": 23,
    "start_time": "2024-02-01T11:17:12.908Z"
   },
   {
    "duration": 19,
    "start_time": "2024-02-01T11:17:12.933Z"
   },
   {
    "duration": 45,
    "start_time": "2024-02-01T11:17:12.954Z"
   },
   {
    "duration": 51,
    "start_time": "2024-02-01T11:17:13.000Z"
   },
   {
    "duration": 24,
    "start_time": "2024-02-01T11:17:13.053Z"
   },
   {
    "duration": 179,
    "start_time": "2024-02-01T11:17:13.079Z"
   },
   {
    "duration": 11,
    "start_time": "2024-02-01T11:17:13.260Z"
   },
   {
    "duration": 33925,
    "start_time": "2024-02-01T11:17:13.273Z"
   },
   {
    "duration": 4,
    "start_time": "2024-02-01T11:17:47.200Z"
   },
   {
    "duration": 14,
    "start_time": "2024-02-01T11:17:47.206Z"
   },
   {
    "duration": 23,
    "start_time": "2024-02-01T11:17:47.223Z"
   },
   {
    "duration": 8,
    "start_time": "2024-02-01T11:17:47.248Z"
   },
   {
    "duration": 4,
    "start_time": "2024-02-01T11:17:47.257Z"
   },
   {
    "duration": 16,
    "start_time": "2024-02-01T11:17:47.262Z"
   },
   {
    "duration": 207,
    "start_time": "2024-02-01T11:17:47.280Z"
   },
   {
    "duration": 306,
    "start_time": "2024-02-01T11:17:47.489Z"
   },
   {
    "duration": 6,
    "start_time": "2024-02-01T11:17:47.797Z"
   },
   {
    "duration": 587,
    "start_time": "2024-02-01T11:17:47.804Z"
   },
   {
    "duration": 5,
    "start_time": "2024-02-01T11:17:48.392Z"
   },
   {
    "duration": 354,
    "start_time": "2024-02-01T11:17:48.398Z"
   },
   {
    "duration": 185,
    "start_time": "2024-02-01T11:17:48.754Z"
   },
   {
    "duration": 163,
    "start_time": "2024-02-01T11:17:48.941Z"
   },
   {
    "duration": 169,
    "start_time": "2024-02-01T11:17:49.106Z"
   },
   {
    "duration": 153,
    "start_time": "2024-02-01T11:17:49.276Z"
   },
   {
    "duration": 147,
    "start_time": "2024-02-01T11:17:49.431Z"
   },
   {
    "duration": 204,
    "start_time": "2024-02-01T11:17:49.579Z"
   },
   {
    "duration": 112,
    "start_time": "2024-02-01T11:17:49.785Z"
   },
   {
    "duration": 5,
    "start_time": "2024-02-01T11:18:20.744Z"
   },
   {
    "duration": 5,
    "start_time": "2024-02-01T11:18:43.249Z"
   },
   {
    "duration": 4,
    "start_time": "2024-02-01T11:18:57.941Z"
   },
   {
    "duration": 1138,
    "start_time": "2024-02-01T11:19:04.661Z"
   },
   {
    "duration": 57,
    "start_time": "2024-02-01T11:19:05.801Z"
   },
   {
    "duration": 19,
    "start_time": "2024-02-01T11:19:05.859Z"
   },
   {
    "duration": 14,
    "start_time": "2024-02-01T11:19:05.880Z"
   },
   {
    "duration": 11,
    "start_time": "2024-02-01T11:19:05.895Z"
   },
   {
    "duration": 6,
    "start_time": "2024-02-01T11:19:05.907Z"
   },
   {
    "duration": 11,
    "start_time": "2024-02-01T11:19:05.914Z"
   },
   {
    "duration": 14,
    "start_time": "2024-02-01T11:19:05.927Z"
   },
   {
    "duration": 171,
    "start_time": "2024-02-01T11:19:05.942Z"
   },
   {
    "duration": 12,
    "start_time": "2024-02-01T11:19:06.116Z"
   },
   {
    "duration": 33984,
    "start_time": "2024-02-01T11:19:06.130Z"
   },
   {
    "duration": 6,
    "start_time": "2024-02-01T11:19:40.115Z"
   },
   {
    "duration": 28,
    "start_time": "2024-02-01T11:19:40.123Z"
   },
   {
    "duration": 51,
    "start_time": "2024-02-01T11:19:40.152Z"
   },
   {
    "duration": 7,
    "start_time": "2024-02-01T11:19:40.204Z"
   },
   {
    "duration": 21,
    "start_time": "2024-02-01T11:19:40.212Z"
   },
   {
    "duration": 10,
    "start_time": "2024-02-01T11:19:40.234Z"
   },
   {
    "duration": 204,
    "start_time": "2024-02-01T11:19:40.245Z"
   },
   {
    "duration": 291,
    "start_time": "2024-02-01T11:19:40.451Z"
   },
   {
    "duration": 6,
    "start_time": "2024-02-01T11:19:40.743Z"
   },
   {
    "duration": 540,
    "start_time": "2024-02-01T11:19:40.750Z"
   },
   {
    "duration": 4,
    "start_time": "2024-02-01T11:19:41.292Z"
   },
   {
    "duration": 429,
    "start_time": "2024-02-01T11:19:41.298Z"
   },
   {
    "duration": 111,
    "start_time": "2024-02-01T11:19:41.729Z"
   },
   {
    "duration": 179,
    "start_time": "2024-02-01T11:19:41.842Z"
   },
   {
    "duration": 157,
    "start_time": "2024-02-01T11:19:42.023Z"
   },
   {
    "duration": 151,
    "start_time": "2024-02-01T11:19:42.182Z"
   },
   {
    "duration": 142,
    "start_time": "2024-02-01T11:19:42.336Z"
   },
   {
    "duration": 217,
    "start_time": "2024-02-01T11:19:42.480Z"
   },
   {
    "duration": 111,
    "start_time": "2024-02-01T11:19:42.699Z"
   },
   {
    "duration": 19,
    "start_time": "2024-02-01T11:21:47.812Z"
   },
   {
    "duration": 1163,
    "start_time": "2024-02-01T11:21:56.031Z"
   },
   {
    "duration": 56,
    "start_time": "2024-02-01T11:21:57.196Z"
   },
   {
    "duration": 19,
    "start_time": "2024-02-01T11:21:57.253Z"
   },
   {
    "duration": 15,
    "start_time": "2024-02-01T11:21:57.273Z"
   },
   {
    "duration": 18,
    "start_time": "2024-02-01T11:21:57.290Z"
   },
   {
    "duration": 18,
    "start_time": "2024-02-01T11:21:57.310Z"
   },
   {
    "duration": 14,
    "start_time": "2024-02-01T11:21:57.329Z"
   },
   {
    "duration": 13,
    "start_time": "2024-02-01T11:21:57.344Z"
   },
   {
    "duration": 173,
    "start_time": "2024-02-01T11:21:57.358Z"
   },
   {
    "duration": 12,
    "start_time": "2024-02-01T11:21:57.532Z"
   },
   {
    "duration": 34077,
    "start_time": "2024-02-01T11:21:57.545Z"
   },
   {
    "duration": 5,
    "start_time": "2024-02-01T11:22:31.623Z"
   },
   {
    "duration": 59,
    "start_time": "2024-02-01T11:22:31.630Z"
   },
   {
    "duration": 25,
    "start_time": "2024-02-01T11:22:31.693Z"
   },
   {
    "duration": 18,
    "start_time": "2024-02-01T11:22:31.720Z"
   },
   {
    "duration": 29,
    "start_time": "2024-02-01T11:22:31.740Z"
   },
   {
    "duration": 45,
    "start_time": "2024-02-01T11:22:31.770Z"
   },
   {
    "duration": 205,
    "start_time": "2024-02-01T11:22:31.816Z"
   },
   {
    "duration": 280,
    "start_time": "2024-02-01T11:22:32.022Z"
   },
   {
    "duration": 5,
    "start_time": "2024-02-01T11:22:32.303Z"
   },
   {
    "duration": 556,
    "start_time": "2024-02-01T11:22:32.310Z"
   },
   {
    "duration": 5,
    "start_time": "2024-02-01T11:22:32.867Z"
   },
   {
    "duration": 426,
    "start_time": "2024-02-01T11:22:32.873Z"
   },
   {
    "duration": 100,
    "start_time": "2024-02-01T11:22:33.301Z"
   },
   {
    "duration": 182,
    "start_time": "2024-02-01T11:22:33.402Z"
   },
   {
    "duration": 169,
    "start_time": "2024-02-01T11:22:33.586Z"
   },
   {
    "duration": 151,
    "start_time": "2024-02-01T11:22:33.757Z"
   },
   {
    "duration": 155,
    "start_time": "2024-02-01T11:22:33.910Z"
   },
   {
    "duration": 221,
    "start_time": "2024-02-01T11:22:34.066Z"
   },
   {
    "duration": 114,
    "start_time": "2024-02-01T11:22:34.288Z"
   },
   {
    "duration": 24,
    "start_time": "2024-02-01T11:30:32.914Z"
   },
   {
    "duration": 9,
    "start_time": "2024-02-01T11:35:39.244Z"
   },
   {
    "duration": 32,
    "start_time": "2024-02-01T11:37:16.655Z"
   },
   {
    "duration": 13,
    "start_time": "2024-02-01T11:38:20.968Z"
   },
   {
    "duration": 12,
    "start_time": "2024-02-01T11:38:27.639Z"
   },
   {
    "duration": 11,
    "start_time": "2024-02-01T11:39:49.256Z"
   },
   {
    "duration": 14,
    "start_time": "2024-02-01T11:40:05.685Z"
   },
   {
    "duration": 17,
    "start_time": "2024-02-01T11:40:13.642Z"
   },
   {
    "duration": 17,
    "start_time": "2024-02-01T11:40:29.133Z"
   },
   {
    "duration": 14,
    "start_time": "2024-02-01T11:40:40.655Z"
   },
   {
    "duration": 14,
    "start_time": "2024-02-01T11:49:10.107Z"
   },
   {
    "duration": 14,
    "start_time": "2024-02-01T11:49:16.557Z"
   },
   {
    "duration": 13,
    "start_time": "2024-02-01T11:50:49.087Z"
   },
   {
    "duration": 217,
    "start_time": "2024-02-01T11:54:45.400Z"
   },
   {
    "duration": 13,
    "start_time": "2024-02-01T12:05:53.053Z"
   },
   {
    "duration": 246,
    "start_time": "2024-02-01T12:06:11.127Z"
   },
   {
    "duration": 13,
    "start_time": "2024-02-01T12:07:08.504Z"
   },
   {
    "duration": 14,
    "start_time": "2024-02-01T12:10:16.455Z"
   },
   {
    "duration": 23,
    "start_time": "2024-02-01T12:10:28.708Z"
   },
   {
    "duration": 12,
    "start_time": "2024-02-01T12:10:41.864Z"
   },
   {
    "duration": 13,
    "start_time": "2024-02-01T12:11:21.166Z"
   },
   {
    "duration": 12,
    "start_time": "2024-02-01T12:19:18.016Z"
   },
   {
    "duration": 8,
    "start_time": "2024-02-01T12:19:20.477Z"
   },
   {
    "duration": 234,
    "start_time": "2024-02-01T12:20:10.253Z"
   },
   {
    "duration": 13,
    "start_time": "2024-02-01T12:20:17.707Z"
   },
   {
    "duration": 70,
    "start_time": "2024-02-01T12:20:49.417Z"
   },
   {
    "duration": 341,
    "start_time": "2024-02-01T12:20:56.201Z"
   },
   {
    "duration": 198,
    "start_time": "2024-02-01T12:21:44.230Z"
   },
   {
    "duration": 141,
    "start_time": "2024-02-01T12:23:07.719Z"
   },
   {
    "duration": 156,
    "start_time": "2024-02-01T12:23:24.427Z"
   },
   {
    "duration": 140,
    "start_time": "2024-02-01T12:23:34.038Z"
   },
   {
    "duration": 132,
    "start_time": "2024-02-01T12:23:43.435Z"
   },
   {
    "duration": 135,
    "start_time": "2024-02-01T12:23:48.874Z"
   },
   {
    "duration": 154,
    "start_time": "2024-02-01T12:23:54.433Z"
   },
   {
    "duration": 136,
    "start_time": "2024-02-01T12:23:59.066Z"
   },
   {
    "duration": 160,
    "start_time": "2024-02-01T12:24:18.659Z"
   },
   {
    "duration": 140,
    "start_time": "2024-02-01T12:24:47.339Z"
   },
   {
    "duration": 140,
    "start_time": "2024-02-01T12:25:11.238Z"
   },
   {
    "duration": 73,
    "start_time": "2024-02-01T12:26:13.437Z"
   },
   {
    "duration": 170,
    "start_time": "2024-02-01T12:26:17.937Z"
   },
   {
    "duration": 162,
    "start_time": "2024-02-01T12:26:27.645Z"
   },
   {
    "duration": 161,
    "start_time": "2024-02-01T12:26:33.344Z"
   },
   {
    "duration": 4,
    "start_time": "2024-02-01T12:29:45.636Z"
   },
   {
    "duration": 12,
    "start_time": "2024-02-01T12:30:28.169Z"
   },
   {
    "duration": 1255,
    "start_time": "2024-02-01T15:11:54.503Z"
   },
   {
    "duration": 98,
    "start_time": "2024-02-01T15:11:55.759Z"
   },
   {
    "duration": 19,
    "start_time": "2024-02-01T15:11:55.858Z"
   },
   {
    "duration": 31,
    "start_time": "2024-02-01T15:11:55.878Z"
   },
   {
    "duration": 10,
    "start_time": "2024-02-01T15:11:55.910Z"
   },
   {
    "duration": 9,
    "start_time": "2024-02-01T15:11:55.922Z"
   },
   {
    "duration": 11,
    "start_time": "2024-02-01T15:11:55.932Z"
   },
   {
    "duration": 4,
    "start_time": "2024-02-01T15:11:55.944Z"
   },
   {
    "duration": 156,
    "start_time": "2024-02-01T15:11:55.949Z"
   },
   {
    "duration": 10,
    "start_time": "2024-02-01T15:11:56.108Z"
   },
   {
    "duration": 30983,
    "start_time": "2024-02-01T15:11:56.119Z"
   },
   {
    "duration": 4,
    "start_time": "2024-02-01T15:12:27.103Z"
   },
   {
    "duration": 28,
    "start_time": "2024-02-01T15:12:27.109Z"
   },
   {
    "duration": 8,
    "start_time": "2024-02-01T15:12:27.138Z"
   },
   {
    "duration": 21,
    "start_time": "2024-02-01T15:12:27.147Z"
   },
   {
    "duration": 10,
    "start_time": "2024-02-01T15:12:27.169Z"
   },
   {
    "duration": 23,
    "start_time": "2024-02-01T15:12:27.180Z"
   },
   {
    "duration": 183,
    "start_time": "2024-02-01T15:12:27.205Z"
   },
   {
    "duration": 272,
    "start_time": "2024-02-01T15:12:27.390Z"
   },
   {
    "duration": 5,
    "start_time": "2024-02-01T15:12:27.664Z"
   },
   {
    "duration": 496,
    "start_time": "2024-02-01T15:12:27.671Z"
   },
   {
    "duration": 4,
    "start_time": "2024-02-01T15:12:28.169Z"
   },
   {
    "duration": 384,
    "start_time": "2024-02-01T15:12:28.174Z"
   },
   {
    "duration": 97,
    "start_time": "2024-02-01T15:12:28.560Z"
   },
   {
    "duration": 157,
    "start_time": "2024-02-01T15:12:28.659Z"
   },
   {
    "duration": 151,
    "start_time": "2024-02-01T15:12:28.817Z"
   },
   {
    "duration": 128,
    "start_time": "2024-02-01T15:12:28.969Z"
   },
   {
    "duration": 134,
    "start_time": "2024-02-01T15:12:29.100Z"
   },
   {
    "duration": 186,
    "start_time": "2024-02-01T15:12:29.235Z"
   },
   {
    "duration": 8,
    "start_time": "2024-02-01T15:12:29.423Z"
   },
   {
    "duration": 18,
    "start_time": "2024-02-01T15:12:29.433Z"
   },
   {
    "duration": 143,
    "start_time": "2024-02-01T15:12:29.452Z"
   },
   {
    "duration": 145,
    "start_time": "2024-02-01T15:12:29.596Z"
   },
   {
    "duration": 140,
    "start_time": "2024-02-01T15:12:29.744Z"
   },
   {
    "duration": 10,
    "start_time": "2024-02-01T15:12:29.885Z"
   },
   {
    "duration": 68,
    "start_time": "2024-02-01T15:15:38.642Z"
   },
   {
    "duration": 93,
    "start_time": "2024-02-01T15:15:43.338Z"
   },
   {
    "duration": 125,
    "start_time": "2024-02-01T15:15:47.988Z"
   },
   {
    "duration": 128,
    "start_time": "2024-02-01T15:16:11.332Z"
   },
   {
    "duration": 185,
    "start_time": "2024-02-01T15:16:14.544Z"
   },
   {
    "duration": 128,
    "start_time": "2024-02-01T15:16:22.057Z"
   },
   {
    "duration": 125,
    "start_time": "2024-02-01T15:16:39.933Z"
   },
   {
    "duration": 124,
    "start_time": "2024-02-01T15:17:19.857Z"
   },
   {
    "duration": 124,
    "start_time": "2024-02-01T15:17:32.731Z"
   },
   {
    "duration": 128,
    "start_time": "2024-02-01T15:17:42.229Z"
   },
   {
    "duration": 5,
    "start_time": "2024-02-01T17:15:03.705Z"
   },
   {
    "duration": 106,
    "start_time": "2024-02-01T17:15:39.754Z"
   },
   {
    "duration": 2,
    "start_time": "2024-02-01T17:16:06.655Z"
   },
   {
    "duration": 6,
    "start_time": "2024-02-01T17:16:11.205Z"
   },
   {
    "duration": 6,
    "start_time": "2024-02-01T17:16:24.933Z"
   },
   {
    "duration": 21,
    "start_time": "2024-02-01T17:16:36.491Z"
   },
   {
    "duration": 19,
    "start_time": "2024-02-01T17:16:45.499Z"
   },
   {
    "duration": 4,
    "start_time": "2024-02-01T17:16:59.725Z"
   },
   {
    "duration": 20,
    "start_time": "2024-02-01T17:17:39.802Z"
   },
   {
    "duration": 10,
    "start_time": "2024-02-01T17:23:02.211Z"
   },
   {
    "duration": 19,
    "start_time": "2024-02-01T17:23:07.262Z"
   },
   {
    "duration": 22,
    "start_time": "2024-02-01T17:23:36.382Z"
   },
   {
    "duration": 10,
    "start_time": "2024-02-01T17:23:58.576Z"
   },
   {
    "duration": 16,
    "start_time": "2024-02-01T17:27:06.584Z"
   },
   {
    "duration": 10,
    "start_time": "2024-02-01T17:27:12.045Z"
   },
   {
    "duration": 11,
    "start_time": "2024-02-01T17:27:56.283Z"
   },
   {
    "duration": 11,
    "start_time": "2024-02-01T17:29:06.212Z"
   },
   {
    "duration": 11,
    "start_time": "2024-02-01T17:31:19.574Z"
   },
   {
    "duration": 18,
    "start_time": "2024-02-01T17:35:22.641Z"
   },
   {
    "duration": 12,
    "start_time": "2024-02-01T17:39:09.578Z"
   },
   {
    "duration": 12,
    "start_time": "2024-02-01T17:39:13.456Z"
   },
   {
    "duration": 4,
    "start_time": "2024-02-01T17:47:29.693Z"
   },
   {
    "duration": 118,
    "start_time": "2024-02-01T17:47:55.915Z"
   },
   {
    "duration": 231,
    "start_time": "2024-02-01T17:48:31.215Z"
   },
   {
    "duration": 1041,
    "start_time": "2024-02-01T17:49:31.087Z"
   },
   {
    "duration": 53,
    "start_time": "2024-02-01T17:49:32.130Z"
   },
   {
    "duration": 22,
    "start_time": "2024-02-01T17:49:32.184Z"
   },
   {
    "duration": 79,
    "start_time": "2024-02-01T17:49:32.208Z"
   },
   {
    "duration": 238,
    "start_time": "2024-02-01T17:49:32.289Z"
   },
   {
    "duration": 405,
    "start_time": "2024-02-01T17:49:32.529Z"
   },
   {
    "duration": 210,
    "start_time": "2024-02-01T17:49:32.935Z"
   },
   {
    "duration": 67,
    "start_time": "2024-02-01T17:49:33.147Z"
   },
   {
    "duration": 165,
    "start_time": "2024-02-01T17:49:33.215Z"
   },
   {
    "duration": 10,
    "start_time": "2024-02-01T17:49:33.382Z"
   },
   {
    "duration": 31040,
    "start_time": "2024-02-01T17:49:33.393Z"
   },
   {
    "duration": 4,
    "start_time": "2024-02-01T17:50:04.434Z"
   },
   {
    "duration": 61,
    "start_time": "2024-02-01T17:50:04.444Z"
   },
   {
    "duration": 7,
    "start_time": "2024-02-01T17:50:04.507Z"
   },
   {
    "duration": 16,
    "start_time": "2024-02-01T17:50:04.515Z"
   },
   {
    "duration": 10,
    "start_time": "2024-02-01T17:50:04.532Z"
   },
   {
    "duration": 36,
    "start_time": "2024-02-01T17:50:04.544Z"
   },
   {
    "duration": 171,
    "start_time": "2024-02-01T17:50:04.581Z"
   },
   {
    "duration": 254,
    "start_time": "2024-02-01T17:50:04.753Z"
   },
   {
    "duration": 6,
    "start_time": "2024-02-01T17:50:05.008Z"
   },
   {
    "duration": 498,
    "start_time": "2024-02-01T17:50:05.015Z"
   },
   {
    "duration": 4,
    "start_time": "2024-02-01T17:50:05.514Z"
   },
   {
    "duration": 410,
    "start_time": "2024-02-01T17:50:05.520Z"
   },
   {
    "duration": 5,
    "start_time": "2024-02-01T17:50:05.932Z"
   },
   {
    "duration": 156,
    "start_time": "2024-02-01T17:50:05.939Z"
   },
   {
    "duration": 160,
    "start_time": "2024-02-01T17:50:06.096Z"
   },
   {
    "duration": 184,
    "start_time": "2024-02-01T17:50:06.258Z"
   },
   {
    "duration": 138,
    "start_time": "2024-02-01T17:50:06.445Z"
   },
   {
    "duration": 132,
    "start_time": "2024-02-01T17:50:06.585Z"
   },
   {
    "duration": 195,
    "start_time": "2024-02-01T17:50:06.719Z"
   },
   {
    "duration": 8,
    "start_time": "2024-02-01T17:50:06.915Z"
   },
   {
    "duration": 24,
    "start_time": "2024-02-01T17:50:06.925Z"
   },
   {
    "duration": 135,
    "start_time": "2024-02-01T17:50:06.950Z"
   },
   {
    "duration": 158,
    "start_time": "2024-02-01T17:50:07.087Z"
   },
   {
    "duration": 141,
    "start_time": "2024-02-01T17:50:07.247Z"
   },
   {
    "duration": 12,
    "start_time": "2024-02-01T17:50:07.390Z"
   },
   {
    "duration": 159,
    "start_time": "2024-02-01T17:50:07.404Z"
   },
   {
    "duration": 152,
    "start_time": "2024-02-01T17:50:07.564Z"
   },
   {
    "duration": 213,
    "start_time": "2024-02-01T17:50:07.718Z"
   },
   {
    "duration": 16,
    "start_time": "2024-02-01T17:50:07.932Z"
   },
   {
    "duration": 19,
    "start_time": "2024-02-01T17:50:07.950Z"
   },
   {
    "duration": 219,
    "start_time": "2024-02-01T17:50:43.813Z"
   },
   {
    "duration": 1570,
    "start_time": "2024-02-01T17:55:01.641Z"
   },
   {
    "duration": 1893,
    "start_time": "2024-02-01T17:55:16.118Z"
   },
   {
    "duration": 12,
    "start_time": "2024-02-01T17:56:08.540Z"
   },
   {
    "duration": 13,
    "start_time": "2024-02-01T17:56:26.316Z"
   },
   {
    "duration": 14,
    "start_time": "2024-02-01T17:56:36.109Z"
   },
   {
    "duration": 14,
    "start_time": "2024-02-01T17:56:47.384Z"
   },
   {
    "duration": 17,
    "start_time": "2024-02-01T17:58:40.367Z"
   },
   {
    "duration": 295,
    "start_time": "2024-02-01T17:59:01.151Z"
   },
   {
    "duration": 219,
    "start_time": "2024-02-01T18:05:22.315Z"
   },
   {
    "duration": 229,
    "start_time": "2024-02-01T18:05:48.464Z"
   },
   {
    "duration": 220,
    "start_time": "2024-02-01T18:06:04.721Z"
   },
   {
    "duration": 219,
    "start_time": "2024-02-01T18:06:22.578Z"
   },
   {
    "duration": 293,
    "start_time": "2024-02-01T18:06:33.454Z"
   },
   {
    "duration": 100,
    "start_time": "2024-02-01T18:40:29.888Z"
   },
   {
    "duration": 1080,
    "start_time": "2024-02-01T18:51:06.145Z"
   },
   {
    "duration": 52,
    "start_time": "2024-02-01T18:51:07.227Z"
   },
   {
    "duration": 18,
    "start_time": "2024-02-01T18:51:07.280Z"
   },
   {
    "duration": 12,
    "start_time": "2024-02-01T18:51:07.299Z"
   },
   {
    "duration": 4,
    "start_time": "2024-02-01T18:51:07.313Z"
   },
   {
    "duration": 17,
    "start_time": "2024-02-01T18:51:07.319Z"
   },
   {
    "duration": 10,
    "start_time": "2024-02-01T18:51:07.337Z"
   },
   {
    "duration": 6,
    "start_time": "2024-02-01T18:51:07.348Z"
   },
   {
    "duration": 165,
    "start_time": "2024-02-01T18:51:07.355Z"
   },
   {
    "duration": 23,
    "start_time": "2024-02-01T18:51:07.522Z"
   },
   {
    "duration": 30951,
    "start_time": "2024-02-01T18:51:07.546Z"
   },
   {
    "duration": 4,
    "start_time": "2024-02-01T18:51:38.498Z"
   },
   {
    "duration": 33,
    "start_time": "2024-02-01T18:51:38.503Z"
   },
   {
    "duration": 27,
    "start_time": "2024-02-01T18:51:38.537Z"
   },
   {
    "duration": 24,
    "start_time": "2024-02-01T18:51:38.565Z"
   },
   {
    "duration": 34,
    "start_time": "2024-02-01T18:51:38.590Z"
   },
   {
    "duration": 36,
    "start_time": "2024-02-01T18:51:38.625Z"
   },
   {
    "duration": 172,
    "start_time": "2024-02-01T18:51:38.662Z"
   },
   {
    "duration": 247,
    "start_time": "2024-02-01T18:51:38.836Z"
   },
   {
    "duration": 5,
    "start_time": "2024-02-01T18:51:39.085Z"
   },
   {
    "duration": 544,
    "start_time": "2024-02-01T18:51:39.091Z"
   },
   {
    "duration": 9,
    "start_time": "2024-02-01T18:51:39.637Z"
   },
   {
    "duration": 446,
    "start_time": "2024-02-01T18:51:39.648Z"
   },
   {
    "duration": 237,
    "start_time": "2024-02-01T18:51:40.096Z"
   },
   {
    "duration": 19,
    "start_time": "2024-02-01T18:51:40.335Z"
   },
   {
    "duration": 268,
    "start_time": "2024-02-01T18:51:40.355Z"
   },
   {
    "duration": 142,
    "start_time": "2024-02-01T18:51:40.624Z"
   },
   {
    "duration": 147,
    "start_time": "2024-02-01T18:51:40.769Z"
   },
   {
    "duration": 128,
    "start_time": "2024-02-01T18:51:40.918Z"
   },
   {
    "duration": 125,
    "start_time": "2024-02-01T18:51:41.047Z"
   },
   {
    "duration": 185,
    "start_time": "2024-02-01T18:51:41.173Z"
   },
   {
    "duration": 9,
    "start_time": "2024-02-01T18:51:41.359Z"
   },
   {
    "duration": 55,
    "start_time": "2024-02-01T18:51:41.369Z"
   },
   {
    "duration": 156,
    "start_time": "2024-02-01T18:51:41.426Z"
   },
   {
    "duration": 227,
    "start_time": "2024-02-01T18:51:41.584Z"
   },
   {
    "duration": 137,
    "start_time": "2024-02-01T18:51:41.812Z"
   },
   {
    "duration": 9,
    "start_time": "2024-02-01T18:51:41.951Z"
   },
   {
    "duration": 134,
    "start_time": "2024-02-01T18:51:41.961Z"
   },
   {
    "duration": 133,
    "start_time": "2024-02-01T18:51:42.096Z"
   },
   {
    "duration": 132,
    "start_time": "2024-02-01T18:51:42.231Z"
   },
   {
    "duration": 10,
    "start_time": "2024-02-01T18:51:42.365Z"
   },
   {
    "duration": 57,
    "start_time": "2024-02-01T18:51:42.377Z"
   },
   {
    "duration": 55,
    "start_time": "2024-02-01T21:49:00.819Z"
   },
   {
    "duration": 1269,
    "start_time": "2024-02-01T21:49:05.834Z"
   },
   {
    "duration": 60,
    "start_time": "2024-02-01T21:49:07.105Z"
   },
   {
    "duration": 21,
    "start_time": "2024-02-01T21:49:07.167Z"
   },
   {
    "duration": 16,
    "start_time": "2024-02-01T21:49:07.190Z"
   },
   {
    "duration": 6,
    "start_time": "2024-02-01T21:49:07.208Z"
   },
   {
    "duration": 18,
    "start_time": "2024-02-01T21:49:07.215Z"
   },
   {
    "duration": 10,
    "start_time": "2024-02-01T21:49:07.235Z"
   },
   {
    "duration": 13,
    "start_time": "2024-02-01T21:49:07.247Z"
   },
   {
    "duration": 191,
    "start_time": "2024-02-01T21:49:07.261Z"
   },
   {
    "duration": 13,
    "start_time": "2024-02-01T21:49:07.454Z"
   },
   {
    "duration": 36008,
    "start_time": "2024-02-01T21:49:07.468Z"
   },
   {
    "duration": 29,
    "start_time": "2024-02-01T21:49:43.478Z"
   },
   {
    "duration": 4,
    "start_time": "2024-02-01T21:49:43.509Z"
   },
   {
    "duration": 35,
    "start_time": "2024-02-01T21:49:43.515Z"
   },
   {
    "duration": 8,
    "start_time": "2024-02-01T21:49:43.558Z"
   },
   {
    "duration": 10,
    "start_time": "2024-02-01T21:49:43.568Z"
   },
   {
    "duration": 28,
    "start_time": "2024-02-01T21:49:43.580Z"
   },
   {
    "duration": 33,
    "start_time": "2024-02-01T21:49:43.609Z"
   },
   {
    "duration": 194,
    "start_time": "2024-02-01T21:49:43.644Z"
   },
   {
    "duration": 286,
    "start_time": "2024-02-01T21:49:43.840Z"
   },
   {
    "duration": 6,
    "start_time": "2024-02-01T21:49:44.127Z"
   },
   {
    "duration": 585,
    "start_time": "2024-02-01T21:49:44.135Z"
   },
   {
    "duration": 4,
    "start_time": "2024-02-01T21:49:44.723Z"
   },
   {
    "duration": 431,
    "start_time": "2024-02-01T21:49:44.729Z"
   },
   {
    "duration": 279,
    "start_time": "2024-02-01T21:49:45.162Z"
   },
   {
    "duration": 28,
    "start_time": "2024-02-01T21:49:45.444Z"
   },
   {
    "duration": 293,
    "start_time": "2024-02-01T21:49:45.474Z"
   },
   {
    "duration": 181,
    "start_time": "2024-02-01T21:49:45.771Z"
   },
   {
    "duration": 182,
    "start_time": "2024-02-01T21:49:45.953Z"
   },
   {
    "duration": 163,
    "start_time": "2024-02-01T21:49:46.137Z"
   },
   {
    "duration": 158,
    "start_time": "2024-02-01T21:49:46.302Z"
   },
   {
    "duration": 228,
    "start_time": "2024-02-01T21:49:46.462Z"
   },
   {
    "duration": 12,
    "start_time": "2024-02-01T21:49:46.692Z"
   },
   {
    "duration": 8,
    "start_time": "2024-02-01T21:49:46.706Z"
   },
   {
    "duration": 190,
    "start_time": "2024-02-01T21:49:46.716Z"
   },
   {
    "duration": 269,
    "start_time": "2024-02-01T21:49:46.908Z"
   },
   {
    "duration": 167,
    "start_time": "2024-02-01T21:49:47.179Z"
   },
   {
    "duration": 20,
    "start_time": "2024-02-01T21:49:47.347Z"
   },
   {
    "duration": 155,
    "start_time": "2024-02-01T21:49:47.368Z"
   },
   {
    "duration": 156,
    "start_time": "2024-02-01T21:49:47.525Z"
   },
   {
    "duration": 160,
    "start_time": "2024-02-01T21:49:47.683Z"
   },
   {
    "duration": 22,
    "start_time": "2024-02-01T21:49:47.845Z"
   },
   {
    "duration": 30,
    "start_time": "2024-02-01T21:49:47.868Z"
   },
   {
    "duration": 13,
    "start_time": "2024-02-01T21:53:56.979Z"
   },
   {
    "duration": 1244,
    "start_time": "2024-02-01T22:05:29.764Z"
   },
   {
    "duration": 57,
    "start_time": "2024-02-01T22:05:31.010Z"
   },
   {
    "duration": 21,
    "start_time": "2024-02-01T22:05:31.069Z"
   },
   {
    "duration": 14,
    "start_time": "2024-02-01T22:05:31.092Z"
   },
   {
    "duration": 30,
    "start_time": "2024-02-01T22:05:31.108Z"
   },
   {
    "duration": 35,
    "start_time": "2024-02-01T22:05:31.140Z"
   },
   {
    "duration": 36,
    "start_time": "2024-02-01T22:05:31.177Z"
   },
   {
    "duration": 5,
    "start_time": "2024-02-01T22:05:31.215Z"
   },
   {
    "duration": 217,
    "start_time": "2024-02-01T22:05:31.222Z"
   },
   {
    "duration": 20,
    "start_time": "2024-02-01T22:05:31.443Z"
   },
   {
    "duration": 37,
    "start_time": "2024-02-01T22:05:31.465Z"
   },
   {
    "duration": 35507,
    "start_time": "2024-02-01T22:05:31.504Z"
   },
   {
    "duration": 31,
    "start_time": "2024-02-01T22:06:07.013Z"
   },
   {
    "duration": 4,
    "start_time": "2024-02-01T22:06:07.058Z"
   },
   {
    "duration": 27,
    "start_time": "2024-02-01T22:06:07.064Z"
   },
   {
    "duration": 8,
    "start_time": "2024-02-01T22:06:07.093Z"
   },
   {
    "duration": 10,
    "start_time": "2024-02-01T22:06:07.103Z"
   },
   {
    "duration": 12,
    "start_time": "2024-02-01T22:06:07.114Z"
   },
   {
    "duration": 40,
    "start_time": "2024-02-01T22:06:07.127Z"
   },
   {
    "duration": 14,
    "start_time": "2024-02-01T22:06:07.168Z"
   },
   {
    "duration": 214,
    "start_time": "2024-02-01T22:06:07.183Z"
   },
   {
    "duration": 287,
    "start_time": "2024-02-01T22:06:07.399Z"
   },
   {
    "duration": 5,
    "start_time": "2024-02-01T22:06:07.688Z"
   },
   {
    "duration": 561,
    "start_time": "2024-02-01T22:06:07.695Z"
   },
   {
    "duration": 5,
    "start_time": "2024-02-01T22:06:08.257Z"
   },
   {
    "duration": 421,
    "start_time": "2024-02-01T22:06:08.263Z"
   },
   {
    "duration": 267,
    "start_time": "2024-02-01T22:06:08.685Z"
   },
   {
    "duration": 15,
    "start_time": "2024-02-01T22:06:08.960Z"
   },
   {
    "duration": 292,
    "start_time": "2024-02-01T22:06:08.976Z"
   },
   {
    "duration": 165,
    "start_time": "2024-02-01T22:06:09.270Z"
   },
   {
    "duration": 185,
    "start_time": "2024-02-01T22:06:09.437Z"
   },
   {
    "duration": 155,
    "start_time": "2024-02-01T22:06:09.624Z"
   },
   {
    "duration": 153,
    "start_time": "2024-02-01T22:06:09.781Z"
   },
   {
    "duration": 222,
    "start_time": "2024-02-01T22:06:09.936Z"
   },
   {
    "duration": 10,
    "start_time": "2024-02-01T22:06:10.160Z"
   },
   {
    "duration": 8,
    "start_time": "2024-02-01T22:06:10.171Z"
   },
   {
    "duration": 188,
    "start_time": "2024-02-01T22:06:10.180Z"
   },
   {
    "duration": 248,
    "start_time": "2024-02-01T22:06:10.369Z"
   },
   {
    "duration": 159,
    "start_time": "2024-02-01T22:06:10.619Z"
   },
   {
    "duration": 11,
    "start_time": "2024-02-01T22:06:10.779Z"
   },
   {
    "duration": 158,
    "start_time": "2024-02-01T22:06:10.792Z"
   },
   {
    "duration": 153,
    "start_time": "2024-02-01T22:06:10.951Z"
   },
   {
    "duration": 161,
    "start_time": "2024-02-01T22:06:11.106Z"
   },
   {
    "duration": 13,
    "start_time": "2024-02-01T22:06:11.269Z"
   },
   {
    "duration": 25,
    "start_time": "2024-02-01T22:06:11.283Z"
   },
   {
    "duration": 15,
    "start_time": "2024-02-02T07:29:27.479Z"
   },
   {
    "duration": 1443,
    "start_time": "2024-02-02T07:29:42.528Z"
   },
   {
    "duration": 186,
    "start_time": "2024-02-02T07:29:43.974Z"
   },
   {
    "duration": 28,
    "start_time": "2024-02-02T07:29:44.163Z"
   },
   {
    "duration": 17,
    "start_time": "2024-02-02T07:29:44.194Z"
   },
   {
    "duration": 4,
    "start_time": "2024-02-02T07:29:46.512Z"
   },
   {
    "duration": 5,
    "start_time": "2024-02-02T07:29:46.708Z"
   },
   {
    "duration": 9,
    "start_time": "2024-02-02T07:29:47.114Z"
   },
   {
    "duration": 5,
    "start_time": "2024-02-02T07:29:47.931Z"
   },
   {
    "duration": 192,
    "start_time": "2024-02-02T07:29:48.868Z"
   },
   {
    "duration": 12,
    "start_time": "2024-02-02T07:29:59.329Z"
   },
   {
    "duration": 29,
    "start_time": "2024-02-02T07:31:20.300Z"
   },
   {
    "duration": 89,
    "start_time": "2024-02-02T07:37:14.443Z"
   },
   {
    "duration": 98,
    "start_time": "2024-02-02T07:37:21.969Z"
   },
   {
    "duration": 86,
    "start_time": "2024-02-02T07:37:26.809Z"
   },
   {
    "duration": 98,
    "start_time": "2024-02-02T07:37:49.948Z"
   },
   {
    "duration": 90,
    "start_time": "2024-02-02T07:37:58.632Z"
   },
   {
    "duration": 87,
    "start_time": "2024-02-02T07:38:30.938Z"
   },
   {
    "duration": 90,
    "start_time": "2024-02-02T07:39:21.121Z"
   },
   {
    "duration": 87,
    "start_time": "2024-02-02T07:39:32.907Z"
   },
   {
    "duration": 4,
    "start_time": "2024-02-02T07:39:44.234Z"
   },
   {
    "duration": 4,
    "start_time": "2024-02-02T07:39:53.721Z"
   },
   {
    "duration": 552,
    "start_time": "2024-02-02T07:40:01.963Z"
   },
   {
    "duration": 388,
    "start_time": "2024-02-02T07:41:07.832Z"
   },
   {
    "duration": 38225,
    "start_time": "2024-02-02T07:41:21.359Z"
   },
   {
    "duration": 492,
    "start_time": "2024-02-02T07:43:28.406Z"
   },
   {
    "duration": 270,
    "start_time": "2024-02-02T07:43:37.017Z"
   },
   {
    "duration": 20,
    "start_time": "2024-02-02T07:44:44.963Z"
   },
   {
    "duration": 27,
    "start_time": "2024-02-02T07:45:21.834Z"
   },
   {
    "duration": 1305,
    "start_time": "2024-02-02T07:45:42.757Z"
   },
   {
    "duration": 58,
    "start_time": "2024-02-02T07:45:45.226Z"
   },
   {
    "duration": 20,
    "start_time": "2024-02-02T07:45:45.562Z"
   },
   {
    "duration": 16,
    "start_time": "2024-02-02T07:45:45.765Z"
   },
   {
    "duration": 4,
    "start_time": "2024-02-02T07:45:46.570Z"
   },
   {
    "duration": 5,
    "start_time": "2024-02-02T07:45:46.775Z"
   },
   {
    "duration": 12,
    "start_time": "2024-02-02T07:45:47.236Z"
   },
   {
    "duration": 4,
    "start_time": "2024-02-02T07:45:47.676Z"
   },
   {
    "duration": 192,
    "start_time": "2024-02-02T07:45:47.876Z"
   },
   {
    "duration": 12,
    "start_time": "2024-02-02T07:45:49.458Z"
   },
   {
    "duration": 30,
    "start_time": "2024-02-02T07:45:50.069Z"
   },
   {
    "duration": 19,
    "start_time": "2024-02-02T07:45:55.956Z"
   },
   {
    "duration": 29,
    "start_time": "2024-02-02T07:46:04.149Z"
   },
   {
    "duration": 1287,
    "start_time": "2024-02-02T07:50:41.856Z"
   },
   {
    "duration": 58,
    "start_time": "2024-02-02T07:50:43.145Z"
   },
   {
    "duration": 23,
    "start_time": "2024-02-02T07:50:43.205Z"
   },
   {
    "duration": 16,
    "start_time": "2024-02-02T07:50:43.351Z"
   },
   {
    "duration": 4,
    "start_time": "2024-02-02T07:50:45.253Z"
   },
   {
    "duration": 4,
    "start_time": "2024-02-02T07:50:45.543Z"
   },
   {
    "duration": 14,
    "start_time": "2024-02-02T07:50:46.873Z"
   },
   {
    "duration": 5,
    "start_time": "2024-02-02T07:50:47.340Z"
   },
   {
    "duration": 184,
    "start_time": "2024-02-02T07:50:47.621Z"
   },
   {
    "duration": 11,
    "start_time": "2024-02-02T07:50:49.311Z"
   },
   {
    "duration": 30,
    "start_time": "2024-02-02T07:50:56.687Z"
   },
   {
    "duration": 865,
    "start_time": "2024-02-02T07:52:12.552Z"
   },
   {
    "duration": 697,
    "start_time": "2024-02-02T07:52:33.455Z"
   },
   {
    "duration": 6,
    "start_time": "2024-02-02T07:53:28.362Z"
   },
   {
    "duration": 33,
    "start_time": "2024-02-02T07:53:38.848Z"
   },
   {
    "duration": 7,
    "start_time": "2024-02-02T07:54:05.945Z"
   },
   {
    "duration": 7,
    "start_time": "2024-02-02T07:54:15.644Z"
   },
   {
    "duration": 24,
    "start_time": "2024-02-02T07:58:26.216Z"
   },
   {
    "duration": 9,
    "start_time": "2024-02-02T08:14:14.039Z"
   },
   {
    "duration": 30,
    "start_time": "2024-02-02T08:14:29.368Z"
   },
   {
    "duration": 6,
    "start_time": "2024-02-02T08:14:36.964Z"
   },
   {
    "duration": 1246,
    "start_time": "2024-02-02T08:15:35.993Z"
   },
   {
    "duration": 57,
    "start_time": "2024-02-02T08:15:37.241Z"
   },
   {
    "duration": 21,
    "start_time": "2024-02-02T08:15:37.300Z"
   },
   {
    "duration": 15,
    "start_time": "2024-02-02T08:15:38.068Z"
   },
   {
    "duration": 3,
    "start_time": "2024-02-02T08:15:39.127Z"
   },
   {
    "duration": 5,
    "start_time": "2024-02-02T08:15:39.359Z"
   },
   {
    "duration": 9,
    "start_time": "2024-02-02T08:15:40.471Z"
   },
   {
    "duration": 5,
    "start_time": "2024-02-02T08:15:41.072Z"
   },
   {
    "duration": 183,
    "start_time": "2024-02-02T08:15:41.730Z"
   },
   {
    "duration": 11,
    "start_time": "2024-02-02T08:15:44.051Z"
   },
   {
    "duration": 31,
    "start_time": "2024-02-02T08:15:48.316Z"
   },
   {
    "duration": 7,
    "start_time": "2024-02-02T08:16:35.767Z"
   },
   {
    "duration": 8,
    "start_time": "2024-02-02T08:16:46.091Z"
   },
   {
    "duration": 8,
    "start_time": "2024-02-02T08:18:44.425Z"
   },
   {
    "duration": 5,
    "start_time": "2024-02-02T08:20:48.349Z"
   },
   {
    "duration": 6,
    "start_time": "2024-02-02T08:21:12.256Z"
   },
   {
    "duration": 5,
    "start_time": "2024-02-02T08:21:16.704Z"
   },
   {
    "duration": 26,
    "start_time": "2024-02-02T08:21:58.578Z"
   },
   {
    "duration": 10,
    "start_time": "2024-02-02T08:23:54.346Z"
   },
   {
    "duration": 15,
    "start_time": "2024-02-02T08:24:06.174Z"
   },
   {
    "duration": 181,
    "start_time": "2024-02-02T08:24:45.530Z"
   },
   {
    "duration": 189,
    "start_time": "2024-02-02T08:24:51.735Z"
   },
   {
    "duration": 255,
    "start_time": "2024-02-02T08:24:58.846Z"
   },
   {
    "duration": 288,
    "start_time": "2024-02-02T08:26:46.976Z"
   },
   {
    "duration": 6,
    "start_time": "2024-02-02T08:27:09.235Z"
   },
   {
    "duration": 565,
    "start_time": "2024-02-02T08:27:09.828Z"
   },
   {
    "duration": 110,
    "start_time": "2024-02-02T08:30:21.403Z"
   },
   {
    "duration": 13,
    "start_time": "2024-02-02T08:30:28.591Z"
   },
   {
    "duration": 19,
    "start_time": "2024-02-02T08:33:06.956Z"
   },
   {
    "duration": 5,
    "start_time": "2024-02-02T08:33:18.669Z"
   },
   {
    "duration": 7,
    "start_time": "2024-02-02T08:33:26.498Z"
   },
   {
    "duration": 15,
    "start_time": "2024-02-02T08:33:31.438Z"
   },
   {
    "duration": 8,
    "start_time": "2024-02-02T08:33:31.777Z"
   },
   {
    "duration": 1336,
    "start_time": "2024-02-02T08:34:08.758Z"
   },
   {
    "duration": 57,
    "start_time": "2024-02-02T08:34:10.097Z"
   },
   {
    "duration": 21,
    "start_time": "2024-02-02T08:34:10.156Z"
   },
   {
    "duration": 17,
    "start_time": "2024-02-02T08:34:10.179Z"
   },
   {
    "duration": 3,
    "start_time": "2024-02-02T08:34:10.628Z"
   },
   {
    "duration": 6,
    "start_time": "2024-02-02T08:34:11.343Z"
   },
   {
    "duration": 10,
    "start_time": "2024-02-02T08:34:11.963Z"
   },
   {
    "duration": 5,
    "start_time": "2024-02-02T08:34:12.409Z"
   },
   {
    "duration": 194,
    "start_time": "2024-02-02T08:34:12.661Z"
   },
   {
    "duration": 12,
    "start_time": "2024-02-02T08:34:13.497Z"
   },
   {
    "duration": 31,
    "start_time": "2024-02-02T08:34:14.038Z"
   },
   {
    "duration": 7,
    "start_time": "2024-02-02T08:34:14.433Z"
   },
   {
    "duration": 6,
    "start_time": "2024-02-02T08:34:17.798Z"
   },
   {
    "duration": 29,
    "start_time": "2024-02-02T08:34:20.088Z"
   },
   {
    "duration": 6,
    "start_time": "2024-02-02T08:34:23.639Z"
   },
   {
    "duration": 20,
    "start_time": "2024-02-02T08:34:26.086Z"
   },
   {
    "duration": 141,
    "start_time": "2024-02-02T08:34:26.688Z"
   },
   {
    "duration": 22,
    "start_time": "2024-02-02T08:35:08.957Z"
   },
   {
    "duration": 12,
    "start_time": "2024-02-02T08:35:34.149Z"
   },
   {
    "duration": 23,
    "start_time": "2024-02-02T08:35:40.358Z"
   },
   {
    "duration": 24,
    "start_time": "2024-02-02T08:35:47.221Z"
   },
   {
    "duration": 5,
    "start_time": "2024-02-02T08:35:56.391Z"
   },
   {
    "duration": 5,
    "start_time": "2024-02-02T08:35:59.355Z"
   },
   {
    "duration": 14,
    "start_time": "2024-02-02T08:36:03.760Z"
   },
   {
    "duration": 1357,
    "start_time": "2024-02-02T08:36:20.128Z"
   },
   {
    "duration": 57,
    "start_time": "2024-02-02T08:36:21.487Z"
   },
   {
    "duration": 21,
    "start_time": "2024-02-02T08:36:21.546Z"
   },
   {
    "duration": 61,
    "start_time": "2024-02-02T08:36:21.568Z"
   },
   {
    "duration": 4,
    "start_time": "2024-02-02T08:36:22.260Z"
   },
   {
    "duration": 5,
    "start_time": "2024-02-02T08:36:23.855Z"
   },
   {
    "duration": 10,
    "start_time": "2024-02-02T08:36:25.176Z"
   },
   {
    "duration": 5,
    "start_time": "2024-02-02T08:36:26.573Z"
   },
   {
    "duration": 197,
    "start_time": "2024-02-02T08:36:26.873Z"
   },
   {
    "duration": 13,
    "start_time": "2024-02-02T08:36:29.397Z"
   },
   {
    "duration": 29,
    "start_time": "2024-02-02T08:36:30.427Z"
   },
   {
    "duration": 8,
    "start_time": "2024-02-02T08:36:31.536Z"
   },
   {
    "duration": 8,
    "start_time": "2024-02-02T08:36:35.286Z"
   },
   {
    "duration": 31,
    "start_time": "2024-02-02T08:36:36.997Z"
   },
   {
    "duration": 4,
    "start_time": "2024-02-02T08:36:39.893Z"
   },
   {
    "duration": 5,
    "start_time": "2024-02-02T08:36:42.450Z"
   },
   {
    "duration": 20,
    "start_time": "2024-02-02T08:36:58.476Z"
   },
   {
    "duration": 23,
    "start_time": "2024-02-02T08:37:02.261Z"
   },
   {
    "duration": 17,
    "start_time": "2024-02-02T08:39:42.055Z"
   },
   {
    "duration": 7,
    "start_time": "2024-02-02T08:40:38.943Z"
   },
   {
    "duration": 3,
    "start_time": "2024-02-02T08:40:40.576Z"
   },
   {
    "duration": 7,
    "start_time": "2024-02-02T08:40:43.815Z"
   },
   {
    "duration": 27,
    "start_time": "2024-02-02T08:41:14.540Z"
   },
   {
    "duration": 16,
    "start_time": "2024-02-02T08:41:16.857Z"
   },
   {
    "duration": 185,
    "start_time": "2024-02-02T08:41:25.873Z"
   },
   {
    "duration": 296,
    "start_time": "2024-02-02T08:41:34.394Z"
   },
   {
    "duration": 6,
    "start_time": "2024-02-02T08:41:43.336Z"
   },
   {
    "duration": 589,
    "start_time": "2024-02-02T08:41:43.936Z"
   },
   {
    "duration": 14,
    "start_time": "2024-02-02T08:41:50.426Z"
   },
   {
    "duration": 1190,
    "start_time": "2024-02-02T08:43:32.249Z"
   },
   {
    "duration": 57,
    "start_time": "2024-02-02T08:43:33.441Z"
   },
   {
    "duration": 34,
    "start_time": "2024-02-02T08:43:33.500Z"
   },
   {
    "duration": 37,
    "start_time": "2024-02-02T08:43:33.536Z"
   },
   {
    "duration": 3,
    "start_time": "2024-02-02T08:43:34.750Z"
   },
   {
    "duration": 5,
    "start_time": "2024-02-02T08:43:35.847Z"
   },
   {
    "duration": 10,
    "start_time": "2024-02-02T08:43:36.634Z"
   },
   {
    "duration": 4,
    "start_time": "2024-02-02T08:43:38.274Z"
   },
   {
    "duration": 173,
    "start_time": "2024-02-02T08:43:38.623Z"
   },
   {
    "duration": 11,
    "start_time": "2024-02-02T08:43:40.189Z"
   },
   {
    "duration": 29,
    "start_time": "2024-02-02T08:43:42.100Z"
   },
   {
    "duration": 7,
    "start_time": "2024-02-02T08:43:42.392Z"
   },
   {
    "duration": 6,
    "start_time": "2024-02-02T08:43:43.269Z"
   },
   {
    "duration": 37,
    "start_time": "2024-02-02T08:43:43.982Z"
   },
   {
    "duration": 4,
    "start_time": "2024-02-02T08:43:45.470Z"
   },
   {
    "duration": 5,
    "start_time": "2024-02-02T08:43:46.193Z"
   },
   {
    "duration": 20,
    "start_time": "2024-02-02T08:43:48.109Z"
   },
   {
    "duration": 6,
    "start_time": "2024-02-02T08:43:48.624Z"
   },
   {
    "duration": 3,
    "start_time": "2024-02-02T08:43:49.360Z"
   },
   {
    "duration": 6,
    "start_time": "2024-02-02T08:43:49.714Z"
   },
   {
    "duration": 26,
    "start_time": "2024-02-02T08:43:50.925Z"
   },
   {
    "duration": 15,
    "start_time": "2024-02-02T08:43:52.440Z"
   },
   {
    "duration": 192,
    "start_time": "2024-02-02T08:43:52.984Z"
   },
   {
    "duration": 305,
    "start_time": "2024-02-02T08:43:54.705Z"
   },
   {
    "duration": 6,
    "start_time": "2024-02-02T08:43:58.120Z"
   },
   {
    "duration": 597,
    "start_time": "2024-02-02T08:43:59.989Z"
   },
   {
    "duration": 16,
    "start_time": "2024-02-02T08:44:03.726Z"
   },
   {
    "duration": 9,
    "start_time": "2024-02-02T08:45:09.583Z"
   },
   {
    "duration": 638,
    "start_time": "2024-02-02T08:45:22.227Z"
   },
   {
    "duration": 13,
    "start_time": "2024-02-02T08:45:37.187Z"
   },
   {
    "duration": 22,
    "start_time": "2024-02-02T08:45:47.006Z"
   },
   {
    "duration": 4,
    "start_time": "2024-02-02T08:49:56.755Z"
   },
   {
    "duration": 307,
    "start_time": "2024-02-02T08:52:34.862Z"
   },
   {
    "duration": 5,
    "start_time": "2024-02-02T08:53:21.284Z"
   },
   {
    "duration": 312,
    "start_time": "2024-02-02T08:53:25.250Z"
   },
   {
    "duration": 1268,
    "start_time": "2024-02-02T08:53:46.972Z"
   },
   {
    "duration": 58,
    "start_time": "2024-02-02T08:53:48.242Z"
   },
   {
    "duration": 31,
    "start_time": "2024-02-02T08:53:48.301Z"
   },
   {
    "duration": 52,
    "start_time": "2024-02-02T08:53:48.335Z"
   },
   {
    "duration": 3,
    "start_time": "2024-02-02T08:53:48.428Z"
   },
   {
    "duration": 4,
    "start_time": "2024-02-02T08:53:48.750Z"
   },
   {
    "duration": 10,
    "start_time": "2024-02-02T08:53:49.209Z"
   },
   {
    "duration": 5,
    "start_time": "2024-02-02T08:53:50.319Z"
   },
   {
    "duration": 179,
    "start_time": "2024-02-02T08:53:50.474Z"
   },
   {
    "duration": 13,
    "start_time": "2024-02-02T08:53:51.079Z"
   },
   {
    "duration": 30,
    "start_time": "2024-02-02T08:53:51.483Z"
   },
   {
    "duration": 7,
    "start_time": "2024-02-02T08:53:51.686Z"
   },
   {
    "duration": 7,
    "start_time": "2024-02-02T08:53:52.169Z"
   },
   {
    "duration": 31,
    "start_time": "2024-02-02T08:53:52.709Z"
   },
   {
    "duration": 4,
    "start_time": "2024-02-02T08:53:53.066Z"
   },
   {
    "duration": 5,
    "start_time": "2024-02-02T08:53:54.887Z"
   },
   {
    "duration": 20,
    "start_time": "2024-02-02T08:53:55.685Z"
   },
   {
    "duration": 6,
    "start_time": "2024-02-02T08:53:56.104Z"
   },
   {
    "duration": 4,
    "start_time": "2024-02-02T08:53:56.317Z"
   },
   {
    "duration": 6,
    "start_time": "2024-02-02T08:53:56.574Z"
   },
   {
    "duration": 25,
    "start_time": "2024-02-02T08:53:57.886Z"
   },
   {
    "duration": 13,
    "start_time": "2024-02-02T08:53:59.617Z"
   },
   {
    "duration": 176,
    "start_time": "2024-02-02T08:54:00.719Z"
   },
   {
    "duration": 300,
    "start_time": "2024-02-02T08:54:03.897Z"
   },
   {
    "duration": 7,
    "start_time": "2024-02-02T08:54:06.202Z"
   },
   {
    "duration": 554,
    "start_time": "2024-02-02T08:54:06.548Z"
   },
   {
    "duration": 13,
    "start_time": "2024-02-02T08:54:10.160Z"
   },
   {
    "duration": 9,
    "start_time": "2024-02-02T08:54:11.021Z"
   },
   {
    "duration": 5,
    "start_time": "2024-02-02T08:54:14.349Z"
   },
   {
    "duration": 352,
    "start_time": "2024-02-02T08:54:15.656Z"
   },
   {
    "duration": 524,
    "start_time": "2024-02-02T08:56:36.504Z"
   },
   {
    "duration": 2,
    "start_time": "2024-02-02T08:56:53.377Z"
   },
   {
    "duration": 328,
    "start_time": "2024-02-02T08:56:54.441Z"
   },
   {
    "duration": 340,
    "start_time": "2024-02-02T08:57:23.453Z"
   },
   {
    "duration": 293,
    "start_time": "2024-02-02T08:57:42.792Z"
   },
   {
    "duration": 303,
    "start_time": "2024-02-02T08:57:54.601Z"
   },
   {
    "duration": 295,
    "start_time": "2024-02-02T08:58:03.526Z"
   },
   {
    "duration": 3,
    "start_time": "2024-02-02T08:58:23.085Z"
   },
   {
    "duration": 284,
    "start_time": "2024-02-02T09:02:05.492Z"
   },
   {
    "duration": 291,
    "start_time": "2024-02-02T09:03:01.103Z"
   },
   {
    "duration": 174,
    "start_time": "2024-02-02T09:09:53.712Z"
   },
   {
    "duration": 277,
    "start_time": "2024-02-02T09:09:59.431Z"
   },
   {
    "duration": 1267,
    "start_time": "2024-02-02T12:57:36.921Z"
   },
   {
    "duration": 90,
    "start_time": "2024-02-02T12:57:38.190Z"
   },
   {
    "duration": 19,
    "start_time": "2024-02-02T12:57:38.281Z"
   },
   {
    "duration": 13,
    "start_time": "2024-02-02T12:57:38.302Z"
   },
   {
    "duration": 3,
    "start_time": "2024-02-02T12:57:38.664Z"
   },
   {
    "duration": 4,
    "start_time": "2024-02-02T12:57:38.875Z"
   },
   {
    "duration": 10,
    "start_time": "2024-02-02T12:57:39.359Z"
   },
   {
    "duration": 4,
    "start_time": "2024-02-02T12:57:39.776Z"
   },
   {
    "duration": 183,
    "start_time": "2024-02-02T12:57:40.011Z"
   },
   {
    "duration": 12,
    "start_time": "2024-02-02T12:57:40.528Z"
   },
   {
    "duration": 27,
    "start_time": "2024-02-02T12:57:40.889Z"
   },
   {
    "duration": 7,
    "start_time": "2024-02-02T12:57:41.176Z"
   },
   {
    "duration": 7,
    "start_time": "2024-02-02T12:57:41.927Z"
   },
   {
    "duration": 27,
    "start_time": "2024-02-02T12:57:42.042Z"
   },
   {
    "duration": 3,
    "start_time": "2024-02-02T12:57:42.197Z"
   },
   {
    "duration": 5,
    "start_time": "2024-02-02T12:57:42.741Z"
   },
   {
    "duration": 17,
    "start_time": "2024-02-02T12:57:43.558Z"
   },
   {
    "duration": 6,
    "start_time": "2024-02-02T12:57:43.890Z"
   },
   {
    "duration": 3,
    "start_time": "2024-02-02T12:57:44.158Z"
   },
   {
    "duration": 7,
    "start_time": "2024-02-02T12:57:44.976Z"
   },
   {
    "duration": 23,
    "start_time": "2024-02-02T12:57:45.566Z"
   },
   {
    "duration": 14,
    "start_time": "2024-02-02T12:57:46.306Z"
   },
   {
    "duration": 160,
    "start_time": "2024-02-02T12:57:46.698Z"
   },
   {
    "duration": 268,
    "start_time": "2024-02-02T12:57:48.509Z"
   },
   {
    "duration": 5,
    "start_time": "2024-02-02T12:57:49.754Z"
   },
   {
    "duration": 506,
    "start_time": "2024-02-02T12:57:50.371Z"
   },
   {
    "duration": 13,
    "start_time": "2024-02-02T12:57:51.928Z"
   },
   {
    "duration": 10,
    "start_time": "2024-02-02T12:57:53.150Z"
   },
   {
    "duration": 4,
    "start_time": "2024-02-02T12:57:56.783Z"
   },
   {
    "duration": 288,
    "start_time": "2024-02-02T12:57:59.352Z"
   },
   {
    "duration": 332,
    "start_time": "2024-02-02T12:58:40.247Z"
   },
   {
    "duration": 258,
    "start_time": "2024-02-02T12:58:41.813Z"
   },
   {
    "duration": 141,
    "start_time": "2024-02-02T13:00:13.697Z"
   },
   {
    "duration": 136,
    "start_time": "2024-02-02T13:01:47.230Z"
   },
   {
    "duration": 155,
    "start_time": "2024-02-02T13:04:00.957Z"
   },
   {
    "duration": 144,
    "start_time": "2024-02-02T13:06:28.938Z"
   },
   {
    "duration": 162,
    "start_time": "2024-02-02T13:07:26.406Z"
   },
   {
    "duration": 148,
    "start_time": "2024-02-02T13:07:35.613Z"
   },
   {
    "duration": 146,
    "start_time": "2024-02-02T13:08:01.101Z"
   },
   {
    "duration": 208,
    "start_time": "2024-02-02T13:08:08.208Z"
   },
   {
    "duration": 149,
    "start_time": "2024-02-02T13:08:21.132Z"
   },
   {
    "duration": 77,
    "start_time": "2024-02-02T13:08:26.557Z"
   },
   {
    "duration": 152,
    "start_time": "2024-02-02T13:08:29.821Z"
   },
   {
    "duration": 156,
    "start_time": "2024-02-02T13:11:56.736Z"
   },
   {
    "duration": 150,
    "start_time": "2024-02-02T13:12:02.340Z"
   },
   {
    "duration": 160,
    "start_time": "2024-02-02T13:12:09.171Z"
   },
   {
    "duration": 135,
    "start_time": "2024-02-02T13:12:15.678Z"
   },
   {
    "duration": 142,
    "start_time": "2024-02-02T13:12:21.661Z"
   },
   {
    "duration": 175,
    "start_time": "2024-02-02T13:12:31.808Z"
   },
   {
    "duration": 152,
    "start_time": "2024-02-02T13:12:39.007Z"
   },
   {
    "duration": 208,
    "start_time": "2024-02-02T13:17:44.443Z"
   },
   {
    "duration": 345,
    "start_time": "2024-02-02T13:18:59.652Z"
   },
   {
    "duration": 263,
    "start_time": "2024-02-02T13:20:19.054Z"
   },
   {
    "duration": 10,
    "start_time": "2024-02-02T13:50:16.839Z"
   },
   {
    "duration": 9,
    "start_time": "2024-02-02T13:50:19.177Z"
   },
   {
    "duration": 98,
    "start_time": "2024-02-02T14:06:54.556Z"
   },
   {
    "duration": 82,
    "start_time": "2024-02-02T14:07:08.777Z"
   },
   {
    "duration": 115,
    "start_time": "2024-02-02T14:09:16.843Z"
   },
   {
    "duration": 113,
    "start_time": "2024-02-02T14:09:41.897Z"
   },
   {
    "duration": 123,
    "start_time": "2024-02-02T14:09:58.451Z"
   },
   {
    "duration": 108,
    "start_time": "2024-02-02T14:10:14.631Z"
   },
   {
    "duration": 92,
    "start_time": "2024-02-02T14:10:30.748Z"
   },
   {
    "duration": 398,
    "start_time": "2024-02-02T14:11:24.504Z"
   },
   {
    "duration": 130,
    "start_time": "2024-02-02T14:11:59.208Z"
   },
   {
    "duration": 269,
    "start_time": "2024-02-02T14:12:19.309Z"
   },
   {
    "duration": 86,
    "start_time": "2024-02-02T14:12:27.556Z"
   },
   {
    "duration": 264,
    "start_time": "2024-02-02T14:12:38.867Z"
   },
   {
    "duration": 252,
    "start_time": "2024-02-02T14:15:26.808Z"
   },
   {
    "duration": 253,
    "start_time": "2024-02-02T14:15:46.207Z"
   },
   {
    "duration": 266,
    "start_time": "2024-02-02T14:16:29.267Z"
   },
   {
    "duration": 266,
    "start_time": "2024-02-02T14:16:40.834Z"
   },
   {
    "duration": 262,
    "start_time": "2024-02-02T14:16:51.941Z"
   },
   {
    "duration": 302,
    "start_time": "2024-02-02T14:20:11.283Z"
   },
   {
    "duration": 497,
    "start_time": "2024-02-02T14:20:20.886Z"
   },
   {
    "duration": 326,
    "start_time": "2024-02-02T14:20:29.623Z"
   },
   {
    "duration": 310,
    "start_time": "2024-02-02T14:20:42.481Z"
   },
   {
    "duration": 294,
    "start_time": "2024-02-02T14:26:30.080Z"
   },
   {
    "duration": 324,
    "start_time": "2024-02-02T14:26:33.044Z"
   },
   {
    "duration": 236,
    "start_time": "2024-02-02T14:26:46.760Z"
   },
   {
    "duration": 227,
    "start_time": "2024-02-02T14:27:03.624Z"
   },
   {
    "duration": 251,
    "start_time": "2024-02-02T14:30:29.127Z"
   },
   {
    "duration": 274,
    "start_time": "2024-02-02T14:35:21.094Z"
   },
   {
    "duration": 260,
    "start_time": "2024-02-02T14:35:26.766Z"
   },
   {
    "duration": 304,
    "start_time": "2024-02-02T14:35:42.032Z"
   },
   {
    "duration": 112,
    "start_time": "2024-02-02T14:57:04.951Z"
   },
   {
    "duration": 400,
    "start_time": "2024-02-02T14:57:15.874Z"
   },
   {
    "duration": 437,
    "start_time": "2024-02-02T14:57:30.737Z"
   },
   {
    "duration": 76,
    "start_time": "2024-02-02T14:58:16.268Z"
   },
   {
    "duration": 1602,
    "start_time": "2024-02-02T14:58:23.291Z"
   },
   {
    "duration": 71,
    "start_time": "2024-02-02T15:01:58.333Z"
   },
   {
    "duration": 91,
    "start_time": "2024-02-02T15:02:21.626Z"
   },
   {
    "duration": 362,
    "start_time": "2024-02-02T15:07:35.265Z"
   },
   {
    "duration": 10,
    "start_time": "2024-02-02T15:11:58.444Z"
   },
   {
    "duration": 10,
    "start_time": "2024-02-02T15:12:05.555Z"
   },
   {
    "duration": 4,
    "start_time": "2024-02-02T15:12:55.748Z"
   },
   {
    "duration": 1240,
    "start_time": "2024-02-02T15:15:55.729Z"
   },
   {
    "duration": 1532,
    "start_time": "2024-02-02T15:17:10.843Z"
   },
   {
    "duration": 1293,
    "start_time": "2024-02-02T15:17:40.400Z"
   },
   {
    "duration": 1179,
    "start_time": "2024-02-02T15:17:59.002Z"
   },
   {
    "duration": 4,
    "start_time": "2024-02-02T15:18:56.524Z"
   },
   {
    "duration": 9,
    "start_time": "2024-02-02T15:20:00.043Z"
   },
   {
    "duration": 9,
    "start_time": "2024-02-02T15:20:12.496Z"
   },
   {
    "duration": 6,
    "start_time": "2024-02-02T15:20:20.068Z"
   },
   {
    "duration": 5,
    "start_time": "2024-02-02T15:20:44.063Z"
   },
   {
    "duration": 11,
    "start_time": "2024-02-02T15:21:04.192Z"
   },
   {
    "duration": 7,
    "start_time": "2024-02-02T15:21:13.663Z"
   },
   {
    "duration": 5,
    "start_time": "2024-02-02T15:21:15.065Z"
   },
   {
    "duration": 7,
    "start_time": "2024-02-02T15:21:24.616Z"
   },
   {
    "duration": 1225,
    "start_time": "2024-02-02T15:22:29.484Z"
   },
   {
    "duration": 1274,
    "start_time": "2024-02-02T15:23:01.020Z"
   },
   {
    "duration": 3,
    "start_time": "2024-02-02T15:23:32.108Z"
   },
   {
    "duration": 1299,
    "start_time": "2024-02-02T15:23:50.214Z"
   },
   {
    "duration": 5,
    "start_time": "2024-02-02T15:24:08.059Z"
   },
   {
    "duration": 9,
    "start_time": "2024-02-02T15:24:19.262Z"
   },
   {
    "duration": 11,
    "start_time": "2024-02-02T15:32:11.180Z"
   },
   {
    "duration": 8,
    "start_time": "2024-02-02T15:32:20.501Z"
   },
   {
    "duration": 1210,
    "start_time": "2024-02-02T15:32:36.527Z"
   },
   {
    "duration": 7,
    "start_time": "2024-02-02T15:34:04.003Z"
   },
   {
    "duration": 4,
    "start_time": "2024-02-02T15:34:05.754Z"
   },
   {
    "duration": 8,
    "start_time": "2024-02-02T15:34:09.404Z"
   },
   {
    "duration": 10,
    "start_time": "2024-02-02T15:34:32.535Z"
   },
   {
    "duration": 8,
    "start_time": "2024-02-02T15:34:51.897Z"
   },
   {
    "duration": 6,
    "start_time": "2024-02-02T15:34:52.190Z"
   },
   {
    "duration": 1231,
    "start_time": "2024-02-02T15:34:58.507Z"
   },
   {
    "duration": 8,
    "start_time": "2024-02-02T15:35:16.210Z"
   },
   {
    "duration": 595,
    "start_time": "2024-02-02T15:35:22.710Z"
   },
   {
    "duration": 10,
    "start_time": "2024-02-02T15:35:44.938Z"
   },
   {
    "duration": 9,
    "start_time": "2024-02-02T15:36:11.569Z"
   },
   {
    "duration": 8,
    "start_time": "2024-02-02T15:37:23.271Z"
   },
   {
    "duration": 7,
    "start_time": "2024-02-02T15:37:23.941Z"
   },
   {
    "duration": 596,
    "start_time": "2024-02-02T15:37:40.643Z"
   },
   {
    "duration": 8,
    "start_time": "2024-02-02T15:38:28.116Z"
   },
   {
    "duration": 10,
    "start_time": "2024-02-02T15:38:58.349Z"
   },
   {
    "duration": 4,
    "start_time": "2024-02-02T15:38:58.959Z"
   },
   {
    "duration": 8,
    "start_time": "2024-02-02T15:39:02.774Z"
   },
   {
    "duration": 10,
    "start_time": "2024-02-02T15:39:42.900Z"
   },
   {
    "duration": 3,
    "start_time": "2024-02-02T15:39:43.389Z"
   },
   {
    "duration": 54,
    "start_time": "2024-02-02T15:39:43.554Z"
   },
   {
    "duration": 20,
    "start_time": "2024-02-02T15:39:43.711Z"
   },
   {
    "duration": 16,
    "start_time": "2024-02-02T15:39:43.805Z"
   },
   {
    "duration": 3,
    "start_time": "2024-02-02T15:39:44.331Z"
   },
   {
    "duration": 4,
    "start_time": "2024-02-02T15:39:44.474Z"
   },
   {
    "duration": 9,
    "start_time": "2024-02-02T15:39:44.829Z"
   },
   {
    "duration": 4,
    "start_time": "2024-02-02T15:39:45.459Z"
   },
   {
    "duration": 161,
    "start_time": "2024-02-02T15:39:45.539Z"
   },
   {
    "duration": 11,
    "start_time": "2024-02-02T15:39:45.722Z"
   },
   {
    "duration": 26,
    "start_time": "2024-02-02T15:39:45.883Z"
   },
   {
    "duration": 7,
    "start_time": "2024-02-02T15:39:45.999Z"
   },
   {
    "duration": 7,
    "start_time": "2024-02-02T15:39:46.148Z"
   },
   {
    "duration": 29,
    "start_time": "2024-02-02T15:39:46.281Z"
   },
   {
    "duration": 3,
    "start_time": "2024-02-02T15:39:46.423Z"
   },
   {
    "duration": 5,
    "start_time": "2024-02-02T15:39:46.570Z"
   },
   {
    "duration": 17,
    "start_time": "2024-02-02T15:39:46.824Z"
   },
   {
    "duration": 5,
    "start_time": "2024-02-02T15:39:46.931Z"
   },
   {
    "duration": 3,
    "start_time": "2024-02-02T15:39:46.999Z"
   },
   {
    "duration": 5,
    "start_time": "2024-02-02T15:39:47.168Z"
   },
   {
    "duration": 24,
    "start_time": "2024-02-02T15:39:47.273Z"
   },
   {
    "duration": 15,
    "start_time": "2024-02-02T15:39:47.545Z"
   },
   {
    "duration": 168,
    "start_time": "2024-02-02T15:39:47.700Z"
   },
   {
    "duration": 271,
    "start_time": "2024-02-02T15:39:47.941Z"
   },
   {
    "duration": 5,
    "start_time": "2024-02-02T15:39:48.214Z"
   },
   {
    "duration": 547,
    "start_time": "2024-02-02T15:39:48.221Z"
   },
   {
    "duration": 19,
    "start_time": "2024-02-02T15:39:48.770Z"
   },
   {
    "duration": 9,
    "start_time": "2024-02-02T15:39:48.792Z"
   },
   {
    "duration": 4,
    "start_time": "2024-02-02T15:39:49.765Z"
   },
   {
    "duration": 289,
    "start_time": "2024-02-02T15:39:50.423Z"
   },
   {
    "duration": 313,
    "start_time": "2024-02-02T15:39:51.578Z"
   },
   {
    "duration": 266,
    "start_time": "2024-02-02T15:39:52.442Z"
   },
   {
    "duration": 157,
    "start_time": "2024-02-02T15:39:54.672Z"
   },
   {
    "duration": 171,
    "start_time": "2024-02-02T15:39:54.836Z"
   },
   {
    "duration": 147,
    "start_time": "2024-02-02T15:39:55.514Z"
   },
   {
    "duration": 142,
    "start_time": "2024-02-02T15:39:55.663Z"
   },
   {
    "duration": 155,
    "start_time": "2024-02-02T15:39:55.836Z"
   },
   {
    "duration": 154,
    "start_time": "2024-02-02T15:39:56.190Z"
   },
   {
    "duration": 225,
    "start_time": "2024-02-02T15:39:57.615Z"
   },
   {
    "duration": 347,
    "start_time": "2024-02-02T15:39:58.235Z"
   },
   {
    "duration": 266,
    "start_time": "2024-02-02T15:39:58.641Z"
   },
   {
    "duration": 7,
    "start_time": "2024-02-02T15:40:05.089Z"
   },
   {
    "duration": 4,
    "start_time": "2024-02-02T15:40:05.798Z"
   },
   {
    "duration": 98,
    "start_time": "2024-02-02T15:40:07.447Z"
   },
   {
    "duration": 8,
    "start_time": "2024-02-02T15:40:30.700Z"
   },
   {
    "duration": 7,
    "start_time": "2024-02-02T15:40:31.866Z"
   },
   {
    "duration": 9,
    "start_time": "2024-02-02T15:40:34.031Z"
   },
   {
    "duration": 12,
    "start_time": "2024-02-02T15:41:57.199Z"
   },
   {
    "duration": 7,
    "start_time": "2024-02-02T15:42:15.971Z"
   },
   {
    "duration": 7,
    "start_time": "2024-02-02T15:42:19.534Z"
   },
   {
    "duration": 12,
    "start_time": "2024-02-02T15:42:25.913Z"
   },
   {
    "duration": 12,
    "start_time": "2024-02-02T15:42:32.135Z"
   },
   {
    "duration": 11,
    "start_time": "2024-02-02T15:42:38.660Z"
   },
   {
    "duration": 8,
    "start_time": "2024-02-02T15:42:42.609Z"
   },
   {
    "duration": 8,
    "start_time": "2024-02-02T15:42:49.571Z"
   },
   {
    "duration": 8,
    "start_time": "2024-02-02T15:43:00.989Z"
   },
   {
    "duration": 8,
    "start_time": "2024-02-02T15:43:45.556Z"
   },
   {
    "duration": 8,
    "start_time": "2024-02-02T15:49:41.584Z"
   },
   {
    "duration": 11,
    "start_time": "2024-02-02T15:50:17.748Z"
   },
   {
    "duration": 4,
    "start_time": "2024-02-02T15:50:18.281Z"
   },
   {
    "duration": 7,
    "start_time": "2024-02-02T15:50:53.668Z"
   },
   {
    "duration": 4,
    "start_time": "2024-02-02T15:51:33.288Z"
   },
   {
    "duration": 106,
    "start_time": "2024-02-02T15:53:47.520Z"
   },
   {
    "duration": 13,
    "start_time": "2024-02-02T15:53:50.583Z"
   },
   {
    "duration": 12,
    "start_time": "2024-02-02T15:54:16.229Z"
   },
   {
    "duration": 12,
    "start_time": "2024-02-02T15:54:46.158Z"
   },
   {
    "duration": 5,
    "start_time": "2024-02-02T15:54:57.131Z"
   },
   {
    "duration": 1147,
    "start_time": "2024-02-02T15:55:35.456Z"
   },
   {
    "duration": 11,
    "start_time": "2024-02-02T15:55:58.304Z"
   },
   {
    "duration": 6,
    "start_time": "2024-02-02T15:56:06.983Z"
   },
   {
    "duration": 8,
    "start_time": "2024-02-02T15:56:18.028Z"
   },
   {
    "duration": 6,
    "start_time": "2024-02-02T15:56:18.346Z"
   },
   {
    "duration": 11,
    "start_time": "2024-02-02T15:56:23.435Z"
   },
   {
    "duration": 1196,
    "start_time": "2024-02-02T15:56:52.796Z"
   },
   {
    "duration": 9,
    "start_time": "2024-02-02T15:57:11.804Z"
   },
   {
    "duration": 566,
    "start_time": "2024-02-02T15:57:22.729Z"
   },
   {
    "duration": 589,
    "start_time": "2024-02-02T15:58:16.961Z"
   },
   {
    "duration": 71,
    "start_time": "2024-02-02T15:58:25.882Z"
   },
   {
    "duration": 78,
    "start_time": "2024-02-02T15:58:42.661Z"
   },
   {
    "duration": 1144,
    "start_time": "2024-02-02T15:58:45.754Z"
   },
   {
    "duration": 6,
    "start_time": "2024-02-02T16:01:42.048Z"
   },
   {
    "duration": 3,
    "start_time": "2024-02-02T16:01:53.575Z"
   },
   {
    "duration": 9,
    "start_time": "2024-02-02T16:01:58.188Z"
   },
   {
    "duration": 10,
    "start_time": "2024-02-02T16:02:27.302Z"
   },
   {
    "duration": 10,
    "start_time": "2024-02-02T16:02:34.101Z"
   },
   {
    "duration": 4,
    "start_time": "2024-02-02T16:02:43.948Z"
   },
   {
    "duration": 9,
    "start_time": "2024-02-02T16:03:07.686Z"
   },
   {
    "duration": 4,
    "start_time": "2024-02-02T16:03:08.360Z"
   },
   {
    "duration": 640,
    "start_time": "2024-02-02T16:03:10.023Z"
   },
   {
    "duration": 69,
    "start_time": "2024-02-02T16:03:46.931Z"
   },
   {
    "duration": 7,
    "start_time": "2024-02-02T16:03:52.783Z"
   },
   {
    "duration": 8,
    "start_time": "2024-02-02T16:03:56.102Z"
   },
   {
    "duration": 11,
    "start_time": "2024-02-02T16:04:19.129Z"
   },
   {
    "duration": 8,
    "start_time": "2024-02-02T16:04:20.747Z"
   },
   {
    "duration": 6,
    "start_time": "2024-02-02T16:05:18.083Z"
   },
   {
    "duration": 293,
    "start_time": "2024-02-02T16:05:47.914Z"
   },
   {
    "duration": 362,
    "start_time": "2024-02-02T16:06:07.168Z"
   },
   {
    "duration": 10,
    "start_time": "2024-02-02T16:06:14.821Z"
   },
   {
    "duration": 9,
    "start_time": "2024-02-02T16:06:23.092Z"
   },
   {
    "duration": 10,
    "start_time": "2024-02-02T16:06:35.535Z"
   },
   {
    "duration": 5,
    "start_time": "2024-02-02T16:06:35.857Z"
   },
   {
    "duration": 8,
    "start_time": "2024-02-02T16:06:50.386Z"
   },
   {
    "duration": 3,
    "start_time": "2024-02-02T16:08:11.721Z"
   },
   {
    "duration": 1672,
    "start_time": "2024-02-02T16:08:14.721Z"
   },
   {
    "duration": 5,
    "start_time": "2024-02-02T16:08:45.503Z"
   },
   {
    "duration": 11,
    "start_time": "2024-02-02T16:08:57.102Z"
   },
   {
    "duration": 6,
    "start_time": "2024-02-02T16:08:57.560Z"
   },
   {
    "duration": 5,
    "start_time": "2024-02-02T16:09:26.298Z"
   },
   {
    "duration": 8,
    "start_time": "2024-02-02T16:09:38.068Z"
   },
   {
    "duration": 4,
    "start_time": "2024-02-02T16:09:44.043Z"
   },
   {
    "duration": 5,
    "start_time": "2024-02-02T16:09:50.879Z"
   },
   {
    "duration": 6,
    "start_time": "2024-02-02T16:09:52.196Z"
   },
   {
    "duration": 441,
    "start_time": "2024-02-02T16:09:53.846Z"
   },
   {
    "duration": 6,
    "start_time": "2024-02-02T16:10:17.134Z"
   },
   {
    "duration": 338,
    "start_time": "2024-02-02T16:10:20.317Z"
   },
   {
    "duration": 354,
    "start_time": "2024-02-02T16:12:59.322Z"
   },
   {
    "duration": 360,
    "start_time": "2024-02-02T16:13:04.266Z"
   },
   {
    "duration": 348,
    "start_time": "2024-02-02T16:13:07.330Z"
   },
   {
    "duration": 361,
    "start_time": "2024-02-02T16:14:23.531Z"
   },
   {
    "duration": 413,
    "start_time": "2024-02-02T16:14:45.260Z"
   },
   {
    "duration": 349,
    "start_time": "2024-02-02T16:15:02.336Z"
   },
   {
    "duration": 10,
    "start_time": "2024-02-02T16:15:08.582Z"
   },
   {
    "duration": 6,
    "start_time": "2024-02-02T16:15:09.071Z"
   },
   {
    "duration": 5,
    "start_time": "2024-02-02T16:15:09.898Z"
   },
   {
    "duration": 381,
    "start_time": "2024-02-02T16:15:11.270Z"
   },
   {
    "duration": 11,
    "start_time": "2024-02-02T16:15:37.887Z"
   },
   {
    "duration": 11,
    "start_time": "2024-02-02T16:15:44.818Z"
   },
   {
    "duration": 12,
    "start_time": "2024-02-02T16:15:45.122Z"
   },
   {
    "duration": 8,
    "start_time": "2024-02-02T16:15:51.157Z"
   },
   {
    "duration": 3,
    "start_time": "2024-02-02T16:17:12.119Z"
   },
   {
    "duration": 2,
    "start_time": "2024-02-02T16:17:13.089Z"
   },
   {
    "duration": 3,
    "start_time": "2024-02-02T16:17:13.876Z"
   },
   {
    "duration": 56,
    "start_time": "2024-02-02T16:17:14.043Z"
   },
   {
    "duration": 20,
    "start_time": "2024-02-02T16:17:14.205Z"
   },
   {
    "duration": 15,
    "start_time": "2024-02-02T16:17:14.338Z"
   },
   {
    "duration": 3,
    "start_time": "2024-02-02T16:17:14.940Z"
   },
   {
    "duration": 5,
    "start_time": "2024-02-02T16:17:15.071Z"
   },
   {
    "duration": 10,
    "start_time": "2024-02-02T16:17:15.711Z"
   },
   {
    "duration": 4,
    "start_time": "2024-02-02T16:17:15.819Z"
   },
   {
    "duration": 169,
    "start_time": "2024-02-02T16:17:15.878Z"
   },
   {
    "duration": 11,
    "start_time": "2024-02-02T16:17:16.049Z"
   },
   {
    "duration": 29,
    "start_time": "2024-02-02T16:17:16.131Z"
   },
   {
    "duration": 7,
    "start_time": "2024-02-02T16:17:16.183Z"
   },
   {
    "duration": 7,
    "start_time": "2024-02-02T16:17:16.242Z"
   },
   {
    "duration": 28,
    "start_time": "2024-02-02T16:17:16.377Z"
   },
   {
    "duration": 4,
    "start_time": "2024-02-02T16:17:16.489Z"
   },
   {
    "duration": 4,
    "start_time": "2024-02-02T16:17:16.664Z"
   },
   {
    "duration": 19,
    "start_time": "2024-02-02T16:17:16.735Z"
   },
   {
    "duration": 5,
    "start_time": "2024-02-02T16:17:16.788Z"
   },
   {
    "duration": 4,
    "start_time": "2024-02-02T16:17:16.860Z"
   },
   {
    "duration": 13,
    "start_time": "2024-02-02T16:17:16.919Z"
   },
   {
    "duration": 24,
    "start_time": "2024-02-02T16:17:17.113Z"
   },
   {
    "duration": 13,
    "start_time": "2024-02-02T16:17:17.282Z"
   },
   {
    "duration": 162,
    "start_time": "2024-02-02T16:17:17.370Z"
   },
   {
    "duration": 278,
    "start_time": "2024-02-02T16:17:17.611Z"
   },
   {
    "duration": 6,
    "start_time": "2024-02-02T16:17:17.890Z"
   },
   {
    "duration": 559,
    "start_time": "2024-02-02T16:17:17.897Z"
   },
   {
    "duration": 13,
    "start_time": "2024-02-02T16:17:18.458Z"
   },
   {
    "duration": 9,
    "start_time": "2024-02-02T16:17:18.482Z"
   },
   {
    "duration": 5,
    "start_time": "2024-02-02T16:17:18.492Z"
   },
   {
    "duration": 310,
    "start_time": "2024-02-02T16:17:18.850Z"
   },
   {
    "duration": 340,
    "start_time": "2024-02-02T16:17:19.162Z"
   },
   {
    "duration": 247,
    "start_time": "2024-02-02T16:17:19.503Z"
   },
   {
    "duration": 179,
    "start_time": "2024-02-02T16:17:19.752Z"
   },
   {
    "duration": 162,
    "start_time": "2024-02-02T16:17:19.933Z"
   },
   {
    "duration": 156,
    "start_time": "2024-02-02T16:17:20.096Z"
   },
   {
    "duration": 146,
    "start_time": "2024-02-02T16:17:20.253Z"
   },
   {
    "duration": 157,
    "start_time": "2024-02-02T16:17:20.401Z"
   },
   {
    "duration": 167,
    "start_time": "2024-02-02T16:17:20.560Z"
   },
   {
    "duration": 220,
    "start_time": "2024-02-02T16:17:21.064Z"
   },
   {
    "duration": 354,
    "start_time": "2024-02-02T16:17:21.548Z"
   },
   {
    "duration": 275,
    "start_time": "2024-02-02T16:17:21.904Z"
   },
   {
    "duration": 10,
    "start_time": "2024-02-02T16:17:24.055Z"
   },
   {
    "duration": 105,
    "start_time": "2024-02-02T16:17:41.370Z"
   },
   {
    "duration": 10,
    "start_time": "2024-02-02T16:17:54.825Z"
   },
   {
    "duration": 4,
    "start_time": "2024-02-02T16:18:06.137Z"
   },
   {
    "duration": 11,
    "start_time": "2024-02-02T16:18:11.920Z"
   },
   {
    "duration": 7,
    "start_time": "2024-02-02T16:18:12.816Z"
   },
   {
    "duration": 6,
    "start_time": "2024-02-02T16:18:13.882Z"
   },
   {
    "duration": 5,
    "start_time": "2024-02-02T16:18:17.009Z"
   },
   {
    "duration": 366,
    "start_time": "2024-02-02T16:18:18.343Z"
   },
   {
    "duration": 9,
    "start_time": "2024-02-02T16:18:34.816Z"
   },
   {
    "duration": 4,
    "start_time": "2024-02-02T16:19:14.497Z"
   },
   {
    "duration": 5,
    "start_time": "2024-02-02T16:19:16.085Z"
   },
   {
    "duration": 8,
    "start_time": "2024-02-02T16:19:16.508Z"
   },
   {
    "duration": 99,
    "start_time": "2024-02-02T16:19:39.519Z"
   },
   {
    "duration": 6,
    "start_time": "2024-02-02T16:19:51.372Z"
   },
   {
    "duration": 4,
    "start_time": "2024-02-02T16:19:52.964Z"
   },
   {
    "duration": 15,
    "start_time": "2024-02-02T16:19:53.884Z"
   },
   {
    "duration": 9,
    "start_time": "2024-02-02T16:19:54.239Z"
   },
   {
    "duration": 10,
    "start_time": "2024-02-02T16:20:07.539Z"
   },
   {
    "duration": 8,
    "start_time": "2024-02-02T16:20:07.933Z"
   },
   {
    "duration": 5,
    "start_time": "2024-02-02T16:20:11.953Z"
   },
   {
    "duration": 9,
    "start_time": "2024-02-02T16:20:20.331Z"
   },
   {
    "duration": 87,
    "start_time": "2024-02-02T16:20:43.323Z"
   },
   {
    "duration": 68,
    "start_time": "2024-02-02T16:21:04.261Z"
   },
   {
    "duration": 4,
    "start_time": "2024-02-02T16:21:31.495Z"
   },
   {
    "duration": 6,
    "start_time": "2024-02-02T16:21:32.017Z"
   },
   {
    "duration": 8,
    "start_time": "2024-02-02T16:21:33.572Z"
   },
   {
    "duration": 356,
    "start_time": "2024-02-02T16:21:35.139Z"
   },
   {
    "duration": 6,
    "start_time": "2024-02-02T16:22:04.820Z"
   },
   {
    "duration": 6,
    "start_time": "2024-02-02T16:22:38.515Z"
   },
   {
    "duration": 7,
    "start_time": "2024-02-02T16:22:39.432Z"
   },
   {
    "duration": 280,
    "start_time": "2024-02-02T16:22:43.486Z"
   },
   {
    "duration": 375,
    "start_time": "2024-02-02T16:26:52.471Z"
   },
   {
    "duration": 312,
    "start_time": "2024-02-02T16:27:10.118Z"
   },
   {
    "duration": 299,
    "start_time": "2024-02-02T16:27:18.866Z"
   },
   {
    "duration": 328,
    "start_time": "2024-02-02T16:27:35.810Z"
   },
   {
    "duration": 547,
    "start_time": "2024-02-02T16:27:51.763Z"
   },
   {
    "duration": 544,
    "start_time": "2024-02-02T16:29:55.055Z"
   },
   {
    "duration": 416,
    "start_time": "2024-02-02T16:30:01.547Z"
   },
   {
    "duration": 354,
    "start_time": "2024-02-02T16:30:22.419Z"
   },
   {
    "duration": 333,
    "start_time": "2024-02-02T16:30:27.118Z"
   },
   {
    "duration": 9,
    "start_time": "2024-02-02T16:40:20.217Z"
   },
   {
    "duration": 7,
    "start_time": "2024-02-02T16:41:20.068Z"
   },
   {
    "duration": 6,
    "start_time": "2024-02-02T16:41:27.390Z"
   },
   {
    "duration": 8,
    "start_time": "2024-02-02T16:41:31.242Z"
   },
   {
    "duration": 354,
    "start_time": "2024-02-02T16:42:34.062Z"
   },
   {
    "duration": 295,
    "start_time": "2024-02-02T16:42:41.224Z"
   },
   {
    "duration": 1528,
    "start_time": "2024-02-02T16:42:53.268Z"
   },
   {
    "duration": 405,
    "start_time": "2024-02-02T16:43:22.943Z"
   },
   {
    "duration": 303,
    "start_time": "2024-02-02T16:44:10.519Z"
   },
   {
    "duration": 306,
    "start_time": "2024-02-02T16:45:01.057Z"
   },
   {
    "duration": 289,
    "start_time": "2024-02-02T16:47:35.666Z"
   },
   {
    "duration": 274,
    "start_time": "2024-02-02T16:49:22.028Z"
   },
   {
    "duration": 10,
    "start_time": "2024-02-02T16:50:54.737Z"
   },
   {
    "duration": 383,
    "start_time": "2024-02-02T16:52:03.523Z"
   },
   {
    "duration": 287,
    "start_time": "2024-02-02T16:52:50.320Z"
   },
   {
    "duration": 12,
    "start_time": "2024-02-02T17:00:03.201Z"
   },
   {
    "duration": 22,
    "start_time": "2024-02-02T17:01:38.258Z"
   },
   {
    "duration": 22,
    "start_time": "2024-02-02T17:01:48.916Z"
   },
   {
    "duration": 22,
    "start_time": "2024-02-02T17:02:04.976Z"
   },
   {
    "duration": 21,
    "start_time": "2024-02-02T17:07:36.942Z"
   },
   {
    "duration": 5,
    "start_time": "2024-02-02T17:08:20.280Z"
   },
   {
    "duration": 5,
    "start_time": "2024-02-02T17:08:36.018Z"
   },
   {
    "duration": 12,
    "start_time": "2024-02-02T17:30:57.065Z"
   },
   {
    "duration": 1117,
    "start_time": "2024-02-02T17:44:31.279Z"
   },
   {
    "duration": 57,
    "start_time": "2024-02-02T17:44:32.397Z"
   },
   {
    "duration": 21,
    "start_time": "2024-02-02T17:44:32.456Z"
   },
   {
    "duration": 15,
    "start_time": "2024-02-02T17:44:32.479Z"
   },
   {
    "duration": 3,
    "start_time": "2024-02-02T17:44:32.496Z"
   },
   {
    "duration": 6,
    "start_time": "2024-02-02T17:44:32.501Z"
   },
   {
    "duration": 19,
    "start_time": "2024-02-02T17:44:32.508Z"
   },
   {
    "duration": 5,
    "start_time": "2024-02-02T17:44:32.528Z"
   },
   {
    "duration": 182,
    "start_time": "2024-02-02T17:44:32.535Z"
   },
   {
    "duration": 10,
    "start_time": "2024-02-02T17:44:32.719Z"
   },
   {
    "duration": 27,
    "start_time": "2024-02-02T17:44:32.731Z"
   },
   {
    "duration": 22,
    "start_time": "2024-02-02T17:44:32.760Z"
   },
   {
    "duration": 6,
    "start_time": "2024-02-02T17:44:32.783Z"
   },
   {
    "duration": 26,
    "start_time": "2024-02-02T17:44:32.790Z"
   },
   {
    "duration": 3,
    "start_time": "2024-02-02T17:44:32.818Z"
   },
   {
    "duration": 5,
    "start_time": "2024-02-02T17:44:32.822Z"
   },
   {
    "duration": 18,
    "start_time": "2024-02-02T17:44:32.828Z"
   },
   {
    "duration": 37,
    "start_time": "2024-02-02T17:44:32.847Z"
   },
   {
    "duration": 3,
    "start_time": "2024-02-02T17:44:32.885Z"
   },
   {
    "duration": 5,
    "start_time": "2024-02-02T17:44:32.890Z"
   },
   {
    "duration": 22,
    "start_time": "2024-02-02T17:44:32.897Z"
   },
   {
    "duration": 13,
    "start_time": "2024-02-02T17:44:32.920Z"
   },
   {
    "duration": 201,
    "start_time": "2024-02-02T17:44:32.934Z"
   },
   {
    "duration": 299,
    "start_time": "2024-02-02T17:44:33.137Z"
   },
   {
    "duration": 6,
    "start_time": "2024-02-02T17:44:33.437Z"
   },
   {
    "duration": 541,
    "start_time": "2024-02-02T17:44:33.444Z"
   },
   {
    "duration": 13,
    "start_time": "2024-02-02T17:44:33.987Z"
   },
   {
    "duration": 8,
    "start_time": "2024-02-02T17:44:34.004Z"
   },
   {
    "duration": 5,
    "start_time": "2024-02-02T17:44:34.013Z"
   },
   {
    "duration": 309,
    "start_time": "2024-02-02T17:44:34.019Z"
   },
   {
    "duration": 298,
    "start_time": "2024-02-02T17:44:34.330Z"
   },
   {
    "duration": 238,
    "start_time": "2024-02-02T17:44:34.630Z"
   },
   {
    "duration": 175,
    "start_time": "2024-02-02T17:44:34.870Z"
   },
   {
    "duration": 161,
    "start_time": "2024-02-02T17:44:35.047Z"
   },
   {
    "duration": 151,
    "start_time": "2024-02-02T17:44:35.210Z"
   },
   {
    "duration": 147,
    "start_time": "2024-02-02T17:44:35.362Z"
   },
   {
    "duration": 158,
    "start_time": "2024-02-02T17:44:35.511Z"
   },
   {
    "duration": 154,
    "start_time": "2024-02-02T17:44:35.670Z"
   },
   {
    "duration": 229,
    "start_time": "2024-02-02T17:44:35.826Z"
   },
   {
    "duration": 367,
    "start_time": "2024-02-02T17:44:36.056Z"
   },
   {
    "duration": 261,
    "start_time": "2024-02-02T17:44:36.425Z"
   },
   {
    "duration": 10,
    "start_time": "2024-02-02T17:44:36.688Z"
   },
   {
    "duration": 6,
    "start_time": "2024-02-02T17:44:36.699Z"
   },
   {
    "duration": 6,
    "start_time": "2024-02-02T17:44:36.706Z"
   },
   {
    "duration": 6,
    "start_time": "2024-02-02T17:44:36.713Z"
   },
   {
    "duration": 315,
    "start_time": "2024-02-02T17:44:36.720Z"
   },
   {
    "duration": 9,
    "start_time": "2024-02-02T17:44:37.037Z"
   },
   {
    "duration": 5,
    "start_time": "2024-02-02T17:44:37.048Z"
   },
   {
    "duration": 6,
    "start_time": "2024-02-02T17:44:37.055Z"
   },
   {
    "duration": 24,
    "start_time": "2024-02-02T17:44:37.062Z"
   },
   {
    "duration": 298,
    "start_time": "2024-02-02T17:44:37.087Z"
   },
   {
    "duration": 15,
    "start_time": "2024-02-02T17:44:37.386Z"
   },
   {
    "duration": 12,
    "start_time": "2024-02-02T17:44:37.403Z"
   },
   {
    "duration": 289,
    "start_time": "2024-02-02T17:44:37.416Z"
   },
   {
    "duration": 11,
    "start_time": "2024-02-02T17:44:37.707Z"
   },
   {
    "duration": 10,
    "start_time": "2024-02-02T17:44:37.720Z"
   },
   {
    "duration": 12,
    "start_time": "2024-02-02T17:44:37.731Z"
   },
   {
    "duration": 73,
    "start_time": "2024-02-02T17:48:10.709Z"
   },
   {
    "duration": 286,
    "start_time": "2024-02-02T17:48:18.529Z"
   },
   {
    "duration": 262,
    "start_time": "2024-02-02T17:48:42.031Z"
   },
   {
    "duration": 189,
    "start_time": "2024-02-02T17:49:48.497Z"
   },
   {
    "duration": 282,
    "start_time": "2024-02-02T17:50:39.621Z"
   },
   {
    "duration": 284,
    "start_time": "2024-02-02T17:52:42.321Z"
   },
   {
    "duration": 288,
    "start_time": "2024-02-02T17:53:12.909Z"
   },
   {
    "duration": 279,
    "start_time": "2024-02-02T17:53:25.125Z"
   },
   {
    "duration": 278,
    "start_time": "2024-02-02T17:53:30.594Z"
   },
   {
    "duration": 261,
    "start_time": "2024-02-02T17:53:38.321Z"
   },
   {
    "duration": 267,
    "start_time": "2024-02-02T17:53:43.280Z"
   },
   {
    "duration": 81,
    "start_time": "2024-02-02T17:55:09.466Z"
   },
   {
    "duration": 262,
    "start_time": "2024-02-02T17:55:13.794Z"
   },
   {
    "duration": 235,
    "start_time": "2024-02-02T17:56:05.976Z"
   },
   {
    "duration": 325,
    "start_time": "2024-02-02T17:56:25.108Z"
   },
   {
    "duration": 249,
    "start_time": "2024-02-02T17:56:36.567Z"
   },
   {
    "duration": 246,
    "start_time": "2024-02-02T17:56:55.013Z"
   },
   {
    "duration": 264,
    "start_time": "2024-02-02T17:57:15.288Z"
   },
   {
    "duration": 248,
    "start_time": "2024-02-02T17:58:40.127Z"
   },
   {
    "duration": 1189,
    "start_time": "2024-02-03T09:38:54.007Z"
   },
   {
    "duration": 57,
    "start_time": "2024-02-03T09:38:55.198Z"
   },
   {
    "duration": 21,
    "start_time": "2024-02-03T09:38:55.257Z"
   },
   {
    "duration": 15,
    "start_time": "2024-02-03T09:38:55.279Z"
   },
   {
    "duration": 3,
    "start_time": "2024-02-03T09:38:55.296Z"
   },
   {
    "duration": 12,
    "start_time": "2024-02-03T09:38:55.301Z"
   },
   {
    "duration": 12,
    "start_time": "2024-02-03T09:38:55.315Z"
   },
   {
    "duration": 4,
    "start_time": "2024-02-03T09:38:55.329Z"
   },
   {
    "duration": 199,
    "start_time": "2024-02-03T09:38:55.335Z"
   },
   {
    "duration": 11,
    "start_time": "2024-02-03T09:38:55.535Z"
   },
   {
    "duration": 45,
    "start_time": "2024-02-03T09:38:55.548Z"
   },
   {
    "duration": 7,
    "start_time": "2024-02-03T09:38:55.594Z"
   },
   {
    "duration": 21,
    "start_time": "2024-02-03T09:38:55.602Z"
   },
   {
    "duration": 47,
    "start_time": "2024-02-03T09:38:55.626Z"
   },
   {
    "duration": 4,
    "start_time": "2024-02-03T09:38:55.674Z"
   },
   {
    "duration": 25,
    "start_time": "2024-02-03T09:38:55.679Z"
   },
   {
    "duration": 33,
    "start_time": "2024-02-03T09:38:55.706Z"
   },
   {
    "duration": 6,
    "start_time": "2024-02-03T09:38:55.741Z"
   },
   {
    "duration": 23,
    "start_time": "2024-02-03T09:38:55.748Z"
   },
   {
    "duration": 26,
    "start_time": "2024-02-03T09:38:55.772Z"
   },
   {
    "duration": 27,
    "start_time": "2024-02-03T09:38:55.800Z"
   },
   {
    "duration": 14,
    "start_time": "2024-02-03T09:38:55.828Z"
   },
   {
    "duration": 183,
    "start_time": "2024-02-03T09:38:55.843Z"
   },
   {
    "duration": 329,
    "start_time": "2024-02-03T09:38:56.028Z"
   },
   {
    "duration": 15,
    "start_time": "2024-02-03T09:38:56.358Z"
   },
   {
    "duration": 548,
    "start_time": "2024-02-03T09:38:56.375Z"
   },
   {
    "duration": 14,
    "start_time": "2024-02-03T09:38:56.925Z"
   },
   {
    "duration": 18,
    "start_time": "2024-02-03T09:38:56.941Z"
   },
   {
    "duration": 16,
    "start_time": "2024-02-03T09:38:56.961Z"
   },
   {
    "duration": 305,
    "start_time": "2024-02-03T09:38:56.978Z"
   },
   {
    "duration": 341,
    "start_time": "2024-02-03T09:38:57.285Z"
   },
   {
    "duration": 249,
    "start_time": "2024-02-03T09:38:57.628Z"
   },
   {
    "duration": 307,
    "start_time": "2024-02-03T09:38:57.878Z"
   },
   {
    "duration": 266,
    "start_time": "2024-02-03T09:38:58.186Z"
   },
   {
    "duration": 286,
    "start_time": "2024-02-03T09:38:58.453Z"
   },
   {
    "duration": 238,
    "start_time": "2024-02-03T09:38:58.741Z"
   },
   {
    "duration": 297,
    "start_time": "2024-02-03T09:38:58.981Z"
   },
   {
    "duration": 347,
    "start_time": "2024-02-03T09:38:59.280Z"
   },
   {
    "duration": 10,
    "start_time": "2024-02-03T09:38:59.629Z"
   },
   {
    "duration": 8,
    "start_time": "2024-02-03T09:38:59.640Z"
   },
   {
    "duration": 23,
    "start_time": "2024-02-03T09:38:59.652Z"
   },
   {
    "duration": 17,
    "start_time": "2024-02-03T09:38:59.676Z"
   },
   {
    "duration": 313,
    "start_time": "2024-02-03T09:38:59.694Z"
   },
   {
    "duration": 10,
    "start_time": "2024-02-03T09:39:00.008Z"
   },
   {
    "duration": 38,
    "start_time": "2024-02-03T09:39:00.020Z"
   },
   {
    "duration": 24,
    "start_time": "2024-02-03T09:39:00.059Z"
   },
   {
    "duration": 58,
    "start_time": "2024-02-03T09:39:00.084Z"
   },
   {
    "duration": 351,
    "start_time": "2024-02-03T09:39:00.144Z"
   },
   {
    "duration": 12,
    "start_time": "2024-02-03T09:39:00.497Z"
   },
   {
    "duration": 122,
    "start_time": "2024-02-03T09:39:00.510Z"
   },
   {
    "duration": 408,
    "start_time": "2024-02-03T09:39:00.633Z"
   },
   {
    "duration": 13,
    "start_time": "2024-02-03T09:39:01.043Z"
   },
   {
    "duration": 106,
    "start_time": "2024-02-03T09:39:01.058Z"
   },
   {
    "duration": 37,
    "start_time": "2024-02-03T09:39:01.166Z"
   },
   {
    "duration": 7,
    "start_time": "2024-02-03T11:11:36.269Z"
   },
   {
    "duration": 1246,
    "start_time": "2024-02-03T11:27:00.753Z"
   },
   {
    "duration": 57,
    "start_time": "2024-02-03T11:27:02.001Z"
   },
   {
    "duration": 19,
    "start_time": "2024-02-03T11:27:02.060Z"
   },
   {
    "duration": 35,
    "start_time": "2024-02-03T11:27:02.081Z"
   },
   {
    "duration": 14,
    "start_time": "2024-02-03T11:27:02.119Z"
   },
   {
    "duration": 37,
    "start_time": "2024-02-03T11:27:02.134Z"
   },
   {
    "duration": 15,
    "start_time": "2024-02-03T11:27:02.172Z"
   },
   {
    "duration": 14,
    "start_time": "2024-02-03T11:27:02.189Z"
   },
   {
    "duration": 200,
    "start_time": "2024-02-03T11:27:02.204Z"
   },
   {
    "duration": 11,
    "start_time": "2024-02-03T11:27:02.406Z"
   },
   {
    "duration": 28,
    "start_time": "2024-02-03T11:27:02.418Z"
   },
   {
    "duration": 6,
    "start_time": "2024-02-03T11:27:02.447Z"
   },
   {
    "duration": 24,
    "start_time": "2024-02-03T11:27:02.455Z"
   },
   {
    "duration": 27,
    "start_time": "2024-02-03T11:27:02.482Z"
   },
   {
    "duration": 3,
    "start_time": "2024-02-03T11:27:02.511Z"
   },
   {
    "duration": 30,
    "start_time": "2024-02-03T11:27:02.516Z"
   },
   {
    "duration": 23,
    "start_time": "2024-02-03T11:27:02.547Z"
   },
   {
    "duration": 5,
    "start_time": "2024-02-03T11:27:02.572Z"
   },
   {
    "duration": 6,
    "start_time": "2024-02-03T11:27:02.579Z"
   },
   {
    "duration": 6,
    "start_time": "2024-02-03T11:27:02.587Z"
   },
   {
    "duration": 25,
    "start_time": "2024-02-03T11:27:02.595Z"
   },
   {
    "duration": 29,
    "start_time": "2024-02-03T11:27:02.621Z"
   },
   {
    "duration": 194,
    "start_time": "2024-02-03T11:27:02.652Z"
   },
   {
    "duration": 289,
    "start_time": "2024-02-03T11:27:02.848Z"
   },
   {
    "duration": 6,
    "start_time": "2024-02-03T11:27:03.139Z"
   },
   {
    "duration": 590,
    "start_time": "2024-02-03T11:27:03.147Z"
   },
   {
    "duration": 14,
    "start_time": "2024-02-03T11:27:03.739Z"
   },
   {
    "duration": 21,
    "start_time": "2024-02-03T11:27:03.755Z"
   },
   {
    "duration": 4,
    "start_time": "2024-02-03T11:27:03.778Z"
   },
   {
    "duration": 333,
    "start_time": "2024-02-03T11:27:03.783Z"
   },
   {
    "duration": 340,
    "start_time": "2024-02-03T11:27:04.118Z"
   },
   {
    "duration": 259,
    "start_time": "2024-02-03T11:27:04.460Z"
   },
   {
    "duration": 294,
    "start_time": "2024-02-03T11:27:04.721Z"
   },
   {
    "duration": 277,
    "start_time": "2024-02-03T11:27:05.016Z"
   },
   {
    "duration": 311,
    "start_time": "2024-02-03T11:27:05.294Z"
   },
   {
    "duration": 243,
    "start_time": "2024-02-03T11:27:05.607Z"
   },
   {
    "duration": 299,
    "start_time": "2024-02-03T11:27:05.852Z"
   },
   {
    "duration": 370,
    "start_time": "2024-02-03T11:27:06.152Z"
   },
   {
    "duration": 10,
    "start_time": "2024-02-03T11:27:06.524Z"
   },
   {
    "duration": 10,
    "start_time": "2024-02-03T11:27:06.536Z"
   },
   {
    "duration": 5,
    "start_time": "2024-02-03T11:27:06.551Z"
   },
   {
    "duration": 6,
    "start_time": "2024-02-03T11:27:06.573Z"
   },
   {
    "duration": 331,
    "start_time": "2024-02-03T11:27:06.580Z"
   },
   {
    "duration": 10,
    "start_time": "2024-02-03T11:27:06.913Z"
   },
   {
    "duration": 6,
    "start_time": "2024-02-03T11:27:06.924Z"
   },
   {
    "duration": 7,
    "start_time": "2024-02-03T11:27:06.932Z"
   },
   {
    "duration": 12,
    "start_time": "2024-02-03T11:27:06.940Z"
   },
   {
    "duration": 347,
    "start_time": "2024-02-03T11:27:06.953Z"
   },
   {
    "duration": 11,
    "start_time": "2024-02-03T11:27:07.302Z"
   },
   {
    "duration": 10,
    "start_time": "2024-02-03T11:27:07.315Z"
   },
   {
    "duration": 297,
    "start_time": "2024-02-03T11:27:07.326Z"
   },
   {
    "duration": 12,
    "start_time": "2024-02-03T11:27:07.625Z"
   },
   {
    "duration": 22,
    "start_time": "2024-02-03T11:27:07.638Z"
   },
   {
    "duration": 13,
    "start_time": "2024-02-03T11:27:07.661Z"
   },
   {
    "duration": 13,
    "start_time": "2024-02-03T11:27:07.675Z"
   },
   {
    "duration": 54,
    "start_time": "2024-02-03T11:27:07.689Z"
   },
   {
    "duration": 3,
    "start_time": "2024-02-03T11:27:07.744Z"
   },
   {
    "duration": 11,
    "start_time": "2024-02-03T11:27:07.748Z"
   },
   {
    "duration": 13,
    "start_time": "2024-02-03T11:27:07.760Z"
   },
   {
    "duration": 4,
    "start_time": "2024-02-03T11:27:07.775Z"
   },
   {
    "duration": 6,
    "start_time": "2024-02-03T11:27:07.781Z"
   },
   {
    "duration": 9,
    "start_time": "2024-02-03T11:27:07.788Z"
   },
   {
    "duration": 652,
    "start_time": "2024-02-03T11:27:07.798Z"
   },
   {
    "duration": 612,
    "start_time": "2024-02-03T11:27:08.452Z"
   },
   {
    "duration": 710,
    "start_time": "2024-02-03T11:27:09.066Z"
   }
  ],
  "kernelspec": {
   "display_name": "Python 3",
   "language": "python",
   "name": "python3"
  },
  "language_info": {
   "codemirror_mode": {
    "name": "ipython",
    "version": 3
   },
   "file_extension": ".py",
   "mimetype": "text/x-python",
   "name": "python",
   "nbconvert_exporter": "python",
   "pygments_lexer": "ipython3",
   "version": "3.8.8"
  },
  "toc": {
   "base_numbering": 1,
   "nav_menu": {},
   "number_sections": true,
   "sideBar": true,
   "skip_h1_title": true,
   "title_cell": "Table of Contents",
   "title_sidebar": "Contents",
   "toc_cell": false,
   "toc_position": {
    "height": "calc(100% - 180px)",
    "left": "10px",
    "top": "150px",
    "width": "257.545px"
   },
   "toc_section_display": true,
   "toc_window_display": true
  },
  "varInspector": {
   "cols": {
    "lenName": 16,
    "lenType": 16,
    "lenVar": 40
   },
   "kernels_config": {
    "python": {
     "delete_cmd_postfix": "",
     "delete_cmd_prefix": "del ",
     "library": "var_list.py",
     "varRefreshCmd": "print(var_dic_list())"
    },
    "r": {
     "delete_cmd_postfix": ") ",
     "delete_cmd_prefix": "rm(",
     "library": "var_list.r",
     "varRefreshCmd": "cat(var_dic_list()) "
    }
   },
   "types_to_exclude": [
    "module",
    "function",
    "builtin_function_or_method",
    "instance",
    "_Feature"
   ],
   "window_display": false
  }
 },
 "nbformat": 4,
 "nbformat_minor": 2
}
