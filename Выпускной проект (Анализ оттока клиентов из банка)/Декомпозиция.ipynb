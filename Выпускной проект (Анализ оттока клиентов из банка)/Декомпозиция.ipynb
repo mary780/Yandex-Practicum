{
 "cells": [
  {
   "cell_type": "markdown",
   "metadata": {},
   "source": [
    "# Анализ оттока клиентов из банка"
   ]
  },
  {
   "cell_type": "markdown",
   "metadata": {},
   "source": [
    "**Цель**: Проанализировать клиентов  банка и выделить сегменты клиентов, которые склонны уходить из банка\n",
    "    \n",
    "**Данные**  \n",
    "User_id – идентификатор пользователя;  \n",
    "Score – баллы кредитного скоринга;  \n",
    "City – город;  \n",
    "Genger – пол;  \n",
    "Age – возраст;  \n",
    "Balance – баланс на счёте;  \n",
    "Products– количество продуктов, которыми пользуется клиент;  \n",
    "CreditCart – имеется ли кредитная карта;  \n",
    "Last_activity – активный клиент или нет (в течение 30 дней);  \n",
    "Еstimated_salary – заработная плата клиента;  \n",
    "Churn – ушёл или нет;  \n",
    "Equity – кол-во баллов собственности;"
   ]
  },
  {
   "cell_type": "markdown",
   "metadata": {},
   "source": [
    "## Декомпозиция"
   ]
  },
  {
   "cell_type": "markdown",
   "metadata": {},
   "source": [
    "1. Загрузка и описание данных.  \n",
    "2. Подготовка данных:  \n",
    "- анализ природы пропусков и их разумная обработка;\n",
    "- проверить соответствия типов данных;\n",
    "- проверить наличие или отсутствие дубликатов;\n",
    "- кодирование.\n",
    "\n",
    "\n",
    "\n",
    "3. EDA:\n",
    "- анализ распределения признаков, в тч в разрезе оттока (непрерывные: отточные интервалы, категориальные/дискретные: отток выше, чем по банку) с помощью графиков;\n",
    "- корреляционный анализ и интерпретация. \n",
    "\n",
    "\n",
    "\n",
    "    \n",
    "\n",
    "\n",
    "\n",
    "4. Проверка статистических гипотез и обоснование выбора тестов:  \n",
    "- H0: Средний доход ушедших клиентов равен среднему доходу клиентов, которые остались.  \n",
    "H1: Средний доход ушедших клиентов НЕ равен среднему доходу клиентов, которые остались.\n",
    "\n",
    "- H0: Средние баллы собственности клиентов, которые остались в банке, равны средним баллам собственности клиентов, которые ушли.   \n",
    " H1: Средние баллы собственности клиентов, которые остались в банке, отличаются от средних баллов собственности клиентов, которые ушли.\n",
    " \n",
    "\n",
    "5. Подведение промежуточных итогов - выводы по результатам EDA, корреляционного анализа и\n",
    "гипотез, выделение признаков, влияющих на оттток.  \n",
    "\n",
    "\n",
    "\n",
    "\n",
    "6. Сегментация пользователей, склонных к уходу из банка (от 3 сегментов).\n",
    "\n",
    "\n",
    "\n",
    "7. Приоритизация сегментов: с какой группы начать работу? (у маркетинга нет автоматизированных систем, работаю руками). \n",
    "\n",
    "\n",
    "\n",
    "8. Формирование рекомендаций (таргетированных) по работе с ними\n",
    "\n"
   ]
  }
 ],
 "metadata": {
  "ExecuteTimeLog": [
   {
    "duration": 916,
    "start_time": "2024-06-05T09:02:57.942Z"
   },
   {
    "duration": 68,
    "start_time": "2024-06-05T09:03:31.258Z"
   },
   {
    "duration": 19,
    "start_time": "2024-06-05T09:03:33.210Z"
   },
   {
    "duration": 4,
    "start_time": "2024-06-05T09:06:40.504Z"
   },
   {
    "duration": 9,
    "start_time": "2024-06-05T09:09:25.073Z"
   },
   {
    "duration": 11,
    "start_time": "2024-06-05T09:10:15.059Z"
   },
   {
    "duration": 11,
    "start_time": "2024-06-05T09:17:38.858Z"
   },
   {
    "duration": 57,
    "start_time": "2024-06-05T09:18:38.492Z"
   },
   {
    "duration": 17,
    "start_time": "2024-06-05T09:21:32.287Z"
   },
   {
    "duration": 71,
    "start_time": "2024-06-05T09:21:40.172Z"
   },
   {
    "duration": 16,
    "start_time": "2024-06-05T09:21:48.833Z"
   },
   {
    "duration": 3,
    "start_time": "2024-06-05T09:21:56.177Z"
   },
   {
    "duration": 4,
    "start_time": "2024-06-05T09:22:40.527Z"
   },
   {
    "duration": 89,
    "start_time": "2024-06-05T09:23:43.453Z"
   },
   {
    "duration": 4,
    "start_time": "2024-06-05T09:24:17.846Z"
   },
   {
    "duration": 10,
    "start_time": "2024-06-05T09:24:27.367Z"
   }
  ],
  "kernelspec": {
   "display_name": "Python 3",
   "language": "python",
   "name": "python3"
  },
  "language_info": {
   "codemirror_mode": {
    "name": "ipython",
    "version": 3
   },
   "file_extension": ".py",
   "mimetype": "text/x-python",
   "name": "python",
   "nbconvert_exporter": "python",
   "pygments_lexer": "ipython3",
   "version": "3.8.8"
  },
  "toc": {
   "base_numbering": 1,
   "nav_menu": {},
   "number_sections": true,
   "sideBar": true,
   "skip_h1_title": true,
   "title_cell": "Table of Contents",
   "title_sidebar": "Contents",
   "toc_cell": false,
   "toc_position": {},
   "toc_section_display": true,
   "toc_window_display": false
  },
  "varInspector": {
   "cols": {
    "lenName": 16,
    "lenType": 16,
    "lenVar": 40
   },
   "kernels_config": {
    "python": {
     "delete_cmd_postfix": "",
     "delete_cmd_prefix": "del ",
     "library": "var_list.py",
     "varRefreshCmd": "print(var_dic_list())"
    },
    "r": {
     "delete_cmd_postfix": ") ",
     "delete_cmd_prefix": "rm(",
     "library": "var_list.r",
     "varRefreshCmd": "cat(var_dic_list()) "
    }
   },
   "types_to_exclude": [
    "module",
    "function",
    "builtin_function_or_method",
    "instance",
    "_Feature"
   ],
   "window_display": false
  }
 },
 "nbformat": 4,
 "nbformat_minor": 2
}
