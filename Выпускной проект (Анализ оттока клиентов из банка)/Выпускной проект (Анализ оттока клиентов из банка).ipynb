{
 "cells": [
  {
   "cell_type": "markdown",
   "metadata": {},
   "source": [
    "#   Анализ оттока клиентов из банка "
   ]
  },
  {
   "cell_type": "markdown",
   "metadata": {},
   "source": [
    "**Цель**: Проанализировать клиентов  банка и выделить сегменты клиентов, которые склонны уходить из банка\n",
    "    \n",
    "**Данные**  \n",
    "User_id – идентификатор пользователя;  \n",
    "Score – баллы кредитного скоринга;  \n",
    "City – город;  \n",
    "Genger – пол;  \n",
    "Age – возраст;  \n",
    "Balance – баланс на счёте;  \n",
    "Products– количество продуктов, которыми пользуется клиент;  \n",
    "CreditCart – имеется ли кредитная карта;  \n",
    "Last_activity – активный клиент или нет (в течение 30 дней);  \n",
    "Еstimated_salary – заработная плата клиента;  \n",
    "Churn – ушёл или нет;  \n",
    "Equity – кол-во баллов собственности;"
   ]
  },
  {
   "cell_type": "markdown",
   "metadata": {},
   "source": [
    "## Загрузка данных и описание"
   ]
  },
  {
   "cell_type": "code",
   "execution_count": 1,
   "metadata": {},
   "outputs": [
    {
     "name": "stdout",
     "output_type": "stream",
     "text": [
      "Requirement already satisfied: phik in c:\\users\\admin\\anaconda3\\lib\\site-packages (0.12.4)\n",
      "Requirement already satisfied: scipy>=1.5.2 in c:\\users\\admin\\anaconda3\\lib\\site-packages (from phik) (1.10.1)\n",
      "Requirement already satisfied: joblib>=0.14.1 in c:\\users\\admin\\anaconda3\\lib\\site-packages (from phik) (1.0.1)\n",
      "Requirement already satisfied: pandas>=0.25.1 in c:\\users\\admin\\anaconda3\\lib\\site-packages (from phik) (1.2.4)\n",
      "Requirement already satisfied: matplotlib>=2.2.3 in c:\\users\\admin\\anaconda3\\lib\\site-packages (from phik) (3.3.4)\n",
      "Requirement already satisfied: numpy>=1.18.0 in c:\\users\\admin\\anaconda3\\lib\\site-packages (from phik) (1.20.1)\n",
      "Requirement already satisfied: pillow>=6.2.0 in c:\\users\\admin\\anaconda3\\lib\\site-packages (from matplotlib>=2.2.3->phik) (8.2.0)\n",
      "Requirement already satisfied: cycler>=0.10 in c:\\users\\admin\\anaconda3\\lib\\site-packages (from matplotlib>=2.2.3->phik) (0.10.0)\n",
      "Requirement already satisfied: pyparsing!=2.0.4,!=2.1.2,!=2.1.6,>=2.0.3 in c:\\users\\admin\\anaconda3\\lib\\site-packages (from matplotlib>=2.2.3->phik) (2.4.7)\n",
      "Requirement already satisfied: python-dateutil>=2.1 in c:\\users\\admin\\anaconda3\\lib\\site-packages (from matplotlib>=2.2.3->phik) (2.8.1)\n",
      "Requirement already satisfied: kiwisolver>=1.0.1 in c:\\users\\admin\\anaconda3\\lib\\site-packages (from matplotlib>=2.2.3->phik) (1.3.1)\n",
      "Requirement already satisfied: six in c:\\users\\admin\\anaconda3\\lib\\site-packages (from cycler>=0.10->matplotlib>=2.2.3->phik) (1.15.0)\n",
      "Requirement already satisfied: pytz>=2017.3 in c:\\users\\admin\\anaconda3\\lib\\site-packages (from pandas>=0.25.1->phik) (2021.1)\n"
     ]
    }
   ],
   "source": [
    "!pip install phik"
   ]
  },
  {
   "cell_type": "code",
   "execution_count": 2,
   "metadata": {},
   "outputs": [],
   "source": [
    "import pandas as pd\n",
    "import numpy as np\n",
    "import matplotlib.pyplot as plt\n",
    "import seaborn as sns\n",
    "import plotly.express as px\n",
    "import phik\n",
    "from phik import resources, report\n",
    "from phik.report import plot_correlation_matrix\n",
    "from scipy.stats import shapiro, ttest_ind, mannwhitneyu, levene"
   ]
  },
  {
   "cell_type": "code",
   "execution_count": 3,
   "metadata": {
    "scrolled": true
   },
   "outputs": [],
   "source": [
    "df=pd.read_csv(r\"D:\\Загрузки\\bank_scrooge.csv\")"
   ]
  },
  {
   "cell_type": "code",
   "execution_count": 4,
   "metadata": {},
   "outputs": [],
   "source": [
    "def analysis_df(df):\n",
    "\n",
    "    print(\"Info:\")\n",
    "    print(df.info())\n",
    "    print(\"\\n\")\n",
    "\n",
    "    print(\"Head:\")\n",
    "    display(df.head())\n",
    "    print(\"\\n\")\n",
    "\n",
    "    print(\"Describe:\")\n",
    "    display(df.describe())\n",
    "    print(\"\\n\")\n",
    "\n",
    "    print(\"Value Counts:\")\n",
    "    for column in df.columns:\n",
    "        if df[column].dtype == 'object':\n",
    "            display(df[column].value_counts().to_frame())\n",
    "            print(\"\\n\")\n",
    "            print('List of Unique')\n",
    "            print(df[column].unique())\n",
    "    print(\"\\n\")\n",
    "    \n",
    "    print('Duplicates:')\n",
    "    print(df.duplicated(['USERID']).sum())\n",
    "    display(df[df.duplicated(['USERID'], keep=False)].sort_values(by='USERID').head(20))"
   ]
  },
  {
   "cell_type": "code",
   "execution_count": 5,
   "metadata": {
    "scrolled": true
   },
   "outputs": [
    {
     "name": "stdout",
     "output_type": "stream",
     "text": [
      "Info:\n",
      "<class 'pandas.core.frame.DataFrame'>\n",
      "RangeIndex: 10000 entries, 0 to 9999\n",
      "Data columns (total 12 columns):\n",
      " #   Column         Non-Null Count  Dtype  \n",
      "---  ------         --------------  -----  \n",
      " 0   USERID         10000 non-null  int64  \n",
      " 1   score          10000 non-null  float64\n",
      " 2   city           10000 non-null  object \n",
      " 3   gender         10000 non-null  object \n",
      " 4   age            9974 non-null   float64\n",
      " 5   equity         10000 non-null  int64  \n",
      " 6   balance        7705 non-null   float64\n",
      " 7   products       10000 non-null  int64  \n",
      " 8   credit_card    10000 non-null  int64  \n",
      " 9   last_activity  10000 non-null  int64  \n",
      " 10  EST_SALARY     10000 non-null  float64\n",
      " 11  churn          10000 non-null  int64  \n",
      "dtypes: float64(4), int64(6), object(2)\n",
      "memory usage: 937.6+ KB\n",
      "None\n",
      "\n",
      "\n",
      "Head:\n"
     ]
    },
    {
     "data": {
      "text/html": [
       "<div>\n",
       "<style scoped>\n",
       "    .dataframe tbody tr th:only-of-type {\n",
       "        vertical-align: middle;\n",
       "    }\n",
       "\n",
       "    .dataframe tbody tr th {\n",
       "        vertical-align: top;\n",
       "    }\n",
       "\n",
       "    .dataframe thead th {\n",
       "        text-align: right;\n",
       "    }\n",
       "</style>\n",
       "<table border=\"1\" class=\"dataframe\">\n",
       "  <thead>\n",
       "    <tr style=\"text-align: right;\">\n",
       "      <th></th>\n",
       "      <th>USERID</th>\n",
       "      <th>score</th>\n",
       "      <th>city</th>\n",
       "      <th>gender</th>\n",
       "      <th>age</th>\n",
       "      <th>equity</th>\n",
       "      <th>balance</th>\n",
       "      <th>products</th>\n",
       "      <th>credit_card</th>\n",
       "      <th>last_activity</th>\n",
       "      <th>EST_SALARY</th>\n",
       "      <th>churn</th>\n",
       "    </tr>\n",
       "  </thead>\n",
       "  <tbody>\n",
       "    <tr>\n",
       "      <th>0</th>\n",
       "      <td>183012</td>\n",
       "      <td>850.0</td>\n",
       "      <td>Рыбинск</td>\n",
       "      <td>Ж</td>\n",
       "      <td>25.0</td>\n",
       "      <td>1</td>\n",
       "      <td>59214.82</td>\n",
       "      <td>2</td>\n",
       "      <td>0</td>\n",
       "      <td>1</td>\n",
       "      <td>75719.14</td>\n",
       "      <td>1</td>\n",
       "    </tr>\n",
       "    <tr>\n",
       "      <th>1</th>\n",
       "      <td>146556</td>\n",
       "      <td>861.0</td>\n",
       "      <td>Рыбинск</td>\n",
       "      <td>Ж</td>\n",
       "      <td>37.0</td>\n",
       "      <td>5</td>\n",
       "      <td>850594.33</td>\n",
       "      <td>3</td>\n",
       "      <td>1</td>\n",
       "      <td>0</td>\n",
       "      <td>86621.77</td>\n",
       "      <td>0</td>\n",
       "    </tr>\n",
       "    <tr>\n",
       "      <th>2</th>\n",
       "      <td>120722</td>\n",
       "      <td>892.0</td>\n",
       "      <td>Рыбинск</td>\n",
       "      <td>Ж</td>\n",
       "      <td>30.0</td>\n",
       "      <td>0</td>\n",
       "      <td>NaN</td>\n",
       "      <td>1</td>\n",
       "      <td>1</td>\n",
       "      <td>1</td>\n",
       "      <td>107683.34</td>\n",
       "      <td>0</td>\n",
       "    </tr>\n",
       "    <tr>\n",
       "      <th>3</th>\n",
       "      <td>225363</td>\n",
       "      <td>866.0</td>\n",
       "      <td>Ярославль</td>\n",
       "      <td>Ж</td>\n",
       "      <td>51.0</td>\n",
       "      <td>5</td>\n",
       "      <td>1524746.26</td>\n",
       "      <td>2</td>\n",
       "      <td>0</td>\n",
       "      <td>1</td>\n",
       "      <td>174423.53</td>\n",
       "      <td>1</td>\n",
       "    </tr>\n",
       "    <tr>\n",
       "      <th>4</th>\n",
       "      <td>157978</td>\n",
       "      <td>730.0</td>\n",
       "      <td>Ярославль</td>\n",
       "      <td>М</td>\n",
       "      <td>34.0</td>\n",
       "      <td>5</td>\n",
       "      <td>174.00</td>\n",
       "      <td>1</td>\n",
       "      <td>1</td>\n",
       "      <td>0</td>\n",
       "      <td>67353.16</td>\n",
       "      <td>1</td>\n",
       "    </tr>\n",
       "  </tbody>\n",
       "</table>\n",
       "</div>"
      ],
      "text/plain": [
       "   USERID  score       city gender   age  equity     balance  products  \\\n",
       "0  183012  850.0    Рыбинск      Ж  25.0       1    59214.82         2   \n",
       "1  146556  861.0    Рыбинск      Ж  37.0       5   850594.33         3   \n",
       "2  120722  892.0    Рыбинск      Ж  30.0       0         NaN         1   \n",
       "3  225363  866.0  Ярославль      Ж  51.0       5  1524746.26         2   \n",
       "4  157978  730.0  Ярославль      М  34.0       5      174.00         1   \n",
       "\n",
       "   credit_card  last_activity  EST_SALARY  churn  \n",
       "0            0              1    75719.14      1  \n",
       "1            1              0    86621.77      0  \n",
       "2            1              1   107683.34      0  \n",
       "3            0              1   174423.53      1  \n",
       "4            1              0    67353.16      1  "
      ]
     },
     "metadata": {},
     "output_type": "display_data"
    },
    {
     "name": "stdout",
     "output_type": "stream",
     "text": [
      "\n",
      "\n",
      "Describe:\n"
     ]
    },
    {
     "data": {
      "text/html": [
       "<div>\n",
       "<style scoped>\n",
       "    .dataframe tbody tr th:only-of-type {\n",
       "        vertical-align: middle;\n",
       "    }\n",
       "\n",
       "    .dataframe tbody tr th {\n",
       "        vertical-align: top;\n",
       "    }\n",
       "\n",
       "    .dataframe thead th {\n",
       "        text-align: right;\n",
       "    }\n",
       "</style>\n",
       "<table border=\"1\" class=\"dataframe\">\n",
       "  <thead>\n",
       "    <tr style=\"text-align: right;\">\n",
       "      <th></th>\n",
       "      <th>USERID</th>\n",
       "      <th>score</th>\n",
       "      <th>age</th>\n",
       "      <th>equity</th>\n",
       "      <th>balance</th>\n",
       "      <th>products</th>\n",
       "      <th>credit_card</th>\n",
       "      <th>last_activity</th>\n",
       "      <th>EST_SALARY</th>\n",
       "      <th>churn</th>\n",
       "    </tr>\n",
       "  </thead>\n",
       "  <tbody>\n",
       "    <tr>\n",
       "      <th>count</th>\n",
       "      <td>10000.00000</td>\n",
       "      <td>10000.000000</td>\n",
       "      <td>9974.000000</td>\n",
       "      <td>10000.000000</td>\n",
       "      <td>7.705000e+03</td>\n",
       "      <td>10000.000000</td>\n",
       "      <td>10000.000000</td>\n",
       "      <td>10000.000000</td>\n",
       "      <td>1.000000e+04</td>\n",
       "      <td>10000.000000</td>\n",
       "    </tr>\n",
       "    <tr>\n",
       "      <th>mean</th>\n",
       "      <td>171814.71260</td>\n",
       "      <td>848.699400</td>\n",
       "      <td>42.734409</td>\n",
       "      <td>2.627600</td>\n",
       "      <td>8.277943e+05</td>\n",
       "      <td>1.870100</td>\n",
       "      <td>0.680400</td>\n",
       "      <td>0.523500</td>\n",
       "      <td>1.478669e+05</td>\n",
       "      <td>0.182000</td>\n",
       "    </tr>\n",
       "    <tr>\n",
       "      <th>std</th>\n",
       "      <td>33708.23812</td>\n",
       "      <td>65.448519</td>\n",
       "      <td>12.179971</td>\n",
       "      <td>1.980836</td>\n",
       "      <td>1.980614e+06</td>\n",
       "      <td>0.792647</td>\n",
       "      <td>0.466345</td>\n",
       "      <td>0.499472</td>\n",
       "      <td>1.393885e+05</td>\n",
       "      <td>0.385864</td>\n",
       "    </tr>\n",
       "    <tr>\n",
       "      <th>min</th>\n",
       "      <td>94561.00000</td>\n",
       "      <td>642.000000</td>\n",
       "      <td>18.000000</td>\n",
       "      <td>0.000000</td>\n",
       "      <td>0.000000e+00</td>\n",
       "      <td>0.000000</td>\n",
       "      <td>0.000000</td>\n",
       "      <td>0.000000</td>\n",
       "      <td>2.546300e+03</td>\n",
       "      <td>0.000000</td>\n",
       "    </tr>\n",
       "    <tr>\n",
       "      <th>25%</th>\n",
       "      <td>142810.25000</td>\n",
       "      <td>802.000000</td>\n",
       "      <td>33.000000</td>\n",
       "      <td>0.000000</td>\n",
       "      <td>2.955542e+05</td>\n",
       "      <td>1.000000</td>\n",
       "      <td>0.000000</td>\n",
       "      <td>0.000000</td>\n",
       "      <td>7.525190e+04</td>\n",
       "      <td>0.000000</td>\n",
       "    </tr>\n",
       "    <tr>\n",
       "      <th>50%</th>\n",
       "      <td>172728.00000</td>\n",
       "      <td>853.000000</td>\n",
       "      <td>40.000000</td>\n",
       "      <td>3.000000</td>\n",
       "      <td>5.242722e+05</td>\n",
       "      <td>2.000000</td>\n",
       "      <td>1.000000</td>\n",
       "      <td>1.000000</td>\n",
       "      <td>1.196581e+05</td>\n",
       "      <td>0.000000</td>\n",
       "    </tr>\n",
       "    <tr>\n",
       "      <th>75%</th>\n",
       "      <td>201261.75000</td>\n",
       "      <td>900.000000</td>\n",
       "      <td>51.000000</td>\n",
       "      <td>4.000000</td>\n",
       "      <td>9.807058e+05</td>\n",
       "      <td>2.000000</td>\n",
       "      <td>1.000000</td>\n",
       "      <td>1.000000</td>\n",
       "      <td>1.745005e+05</td>\n",
       "      <td>0.000000</td>\n",
       "    </tr>\n",
       "    <tr>\n",
       "      <th>max</th>\n",
       "      <td>229145.00000</td>\n",
       "      <td>1000.000000</td>\n",
       "      <td>86.000000</td>\n",
       "      <td>9.000000</td>\n",
       "      <td>1.191136e+08</td>\n",
       "      <td>5.000000</td>\n",
       "      <td>1.000000</td>\n",
       "      <td>1.000000</td>\n",
       "      <td>1.395064e+06</td>\n",
       "      <td>1.000000</td>\n",
       "    </tr>\n",
       "  </tbody>\n",
       "</table>\n",
       "</div>"
      ],
      "text/plain": [
       "             USERID         score          age        equity       balance  \\\n",
       "count   10000.00000  10000.000000  9974.000000  10000.000000  7.705000e+03   \n",
       "mean   171814.71260    848.699400    42.734409      2.627600  8.277943e+05   \n",
       "std     33708.23812     65.448519    12.179971      1.980836  1.980614e+06   \n",
       "min     94561.00000    642.000000    18.000000      0.000000  0.000000e+00   \n",
       "25%    142810.25000    802.000000    33.000000      0.000000  2.955542e+05   \n",
       "50%    172728.00000    853.000000    40.000000      3.000000  5.242722e+05   \n",
       "75%    201261.75000    900.000000    51.000000      4.000000  9.807058e+05   \n",
       "max    229145.00000   1000.000000    86.000000      9.000000  1.191136e+08   \n",
       "\n",
       "           products   credit_card  last_activity    EST_SALARY         churn  \n",
       "count  10000.000000  10000.000000   10000.000000  1.000000e+04  10000.000000  \n",
       "mean       1.870100      0.680400       0.523500  1.478669e+05      0.182000  \n",
       "std        0.792647      0.466345       0.499472  1.393885e+05      0.385864  \n",
       "min        0.000000      0.000000       0.000000  2.546300e+03      0.000000  \n",
       "25%        1.000000      0.000000       0.000000  7.525190e+04      0.000000  \n",
       "50%        2.000000      1.000000       1.000000  1.196581e+05      0.000000  \n",
       "75%        2.000000      1.000000       1.000000  1.745005e+05      0.000000  \n",
       "max        5.000000      1.000000       1.000000  1.395064e+06      1.000000  "
      ]
     },
     "metadata": {},
     "output_type": "display_data"
    },
    {
     "name": "stdout",
     "output_type": "stream",
     "text": [
      "\n",
      "\n",
      "Value Counts:\n"
     ]
    },
    {
     "data": {
      "text/html": [
       "<div>\n",
       "<style scoped>\n",
       "    .dataframe tbody tr th:only-of-type {\n",
       "        vertical-align: middle;\n",
       "    }\n",
       "\n",
       "    .dataframe tbody tr th {\n",
       "        vertical-align: top;\n",
       "    }\n",
       "\n",
       "    .dataframe thead th {\n",
       "        text-align: right;\n",
       "    }\n",
       "</style>\n",
       "<table border=\"1\" class=\"dataframe\">\n",
       "  <thead>\n",
       "    <tr style=\"text-align: right;\">\n",
       "      <th></th>\n",
       "      <th>city</th>\n",
       "    </tr>\n",
       "  </thead>\n",
       "  <tbody>\n",
       "    <tr>\n",
       "      <th>Ярославль</th>\n",
       "      <td>5888</td>\n",
       "    </tr>\n",
       "    <tr>\n",
       "      <th>Рыбинск</th>\n",
       "      <td>2695</td>\n",
       "    </tr>\n",
       "    <tr>\n",
       "      <th>Ростов</th>\n",
       "      <td>1417</td>\n",
       "    </tr>\n",
       "  </tbody>\n",
       "</table>\n",
       "</div>"
      ],
      "text/plain": [
       "           city\n",
       "Ярославль  5888\n",
       "Рыбинск    2695\n",
       "Ростов     1417"
      ]
     },
     "metadata": {},
     "output_type": "display_data"
    },
    {
     "name": "stdout",
     "output_type": "stream",
     "text": [
      "\n",
      "\n",
      "List of Unique\n",
      "['Рыбинск' 'Ярославль' 'Ростов']\n"
     ]
    },
    {
     "data": {
      "text/html": [
       "<div>\n",
       "<style scoped>\n",
       "    .dataframe tbody tr th:only-of-type {\n",
       "        vertical-align: middle;\n",
       "    }\n",
       "\n",
       "    .dataframe tbody tr th {\n",
       "        vertical-align: top;\n",
       "    }\n",
       "\n",
       "    .dataframe thead th {\n",
       "        text-align: right;\n",
       "    }\n",
       "</style>\n",
       "<table border=\"1\" class=\"dataframe\">\n",
       "  <thead>\n",
       "    <tr style=\"text-align: right;\">\n",
       "      <th></th>\n",
       "      <th>gender</th>\n",
       "    </tr>\n",
       "  </thead>\n",
       "  <tbody>\n",
       "    <tr>\n",
       "      <th>М</th>\n",
       "      <td>5005</td>\n",
       "    </tr>\n",
       "    <tr>\n",
       "      <th>Ж</th>\n",
       "      <td>4995</td>\n",
       "    </tr>\n",
       "  </tbody>\n",
       "</table>\n",
       "</div>"
      ],
      "text/plain": [
       "   gender\n",
       "М    5005\n",
       "Ж    4995"
      ]
     },
     "metadata": {},
     "output_type": "display_data"
    },
    {
     "name": "stdout",
     "output_type": "stream",
     "text": [
      "\n",
      "\n",
      "List of Unique\n",
      "['Ж' 'М']\n",
      "\n",
      "\n",
      "Duplicates:\n",
      "73\n"
     ]
    },
    {
     "data": {
      "text/html": [
       "<div>\n",
       "<style scoped>\n",
       "    .dataframe tbody tr th:only-of-type {\n",
       "        vertical-align: middle;\n",
       "    }\n",
       "\n",
       "    .dataframe tbody tr th {\n",
       "        vertical-align: top;\n",
       "    }\n",
       "\n",
       "    .dataframe thead th {\n",
       "        text-align: right;\n",
       "    }\n",
       "</style>\n",
       "<table border=\"1\" class=\"dataframe\">\n",
       "  <thead>\n",
       "    <tr style=\"text-align: right;\">\n",
       "      <th></th>\n",
       "      <th>USERID</th>\n",
       "      <th>score</th>\n",
       "      <th>city</th>\n",
       "      <th>gender</th>\n",
       "      <th>age</th>\n",
       "      <th>equity</th>\n",
       "      <th>balance</th>\n",
       "      <th>products</th>\n",
       "      <th>credit_card</th>\n",
       "      <th>last_activity</th>\n",
       "      <th>EST_SALARY</th>\n",
       "      <th>churn</th>\n",
       "    </tr>\n",
       "  </thead>\n",
       "  <tbody>\n",
       "    <tr>\n",
       "      <th>1893</th>\n",
       "      <td>116540</td>\n",
       "      <td>883.0</td>\n",
       "      <td>Рыбинск</td>\n",
       "      <td>Ж</td>\n",
       "      <td>55.0</td>\n",
       "      <td>1</td>\n",
       "      <td>362756.49</td>\n",
       "      <td>3</td>\n",
       "      <td>0</td>\n",
       "      <td>1</td>\n",
       "      <td>175920.48</td>\n",
       "      <td>1</td>\n",
       "    </tr>\n",
       "    <tr>\n",
       "      <th>7694</th>\n",
       "      <td>116540</td>\n",
       "      <td>887.0</td>\n",
       "      <td>Ярославль</td>\n",
       "      <td>Ж</td>\n",
       "      <td>38.0</td>\n",
       "      <td>0</td>\n",
       "      <td>NaN</td>\n",
       "      <td>1</td>\n",
       "      <td>0</td>\n",
       "      <td>1</td>\n",
       "      <td>119247.61</td>\n",
       "      <td>0</td>\n",
       "    </tr>\n",
       "    <tr>\n",
       "      <th>7542</th>\n",
       "      <td>117943</td>\n",
       "      <td>880.0</td>\n",
       "      <td>Ярославль</td>\n",
       "      <td>Ж</td>\n",
       "      <td>40.0</td>\n",
       "      <td>0</td>\n",
       "      <td>NaN</td>\n",
       "      <td>1</td>\n",
       "      <td>1</td>\n",
       "      <td>0</td>\n",
       "      <td>137718.93</td>\n",
       "      <td>0</td>\n",
       "    </tr>\n",
       "    <tr>\n",
       "      <th>4866</th>\n",
       "      <td>117943</td>\n",
       "      <td>855.0</td>\n",
       "      <td>Рыбинск</td>\n",
       "      <td>Ж</td>\n",
       "      <td>32.0</td>\n",
       "      <td>6</td>\n",
       "      <td>1036832.93</td>\n",
       "      <td>4</td>\n",
       "      <td>1</td>\n",
       "      <td>1</td>\n",
       "      <td>107792.71</td>\n",
       "      <td>1</td>\n",
       "    </tr>\n",
       "    <tr>\n",
       "      <th>5896</th>\n",
       "      <td>120258</td>\n",
       "      <td>905.0</td>\n",
       "      <td>Ярославль</td>\n",
       "      <td>М</td>\n",
       "      <td>30.0</td>\n",
       "      <td>0</td>\n",
       "      <td>NaN</td>\n",
       "      <td>1</td>\n",
       "      <td>1</td>\n",
       "      <td>1</td>\n",
       "      <td>146427.96</td>\n",
       "      <td>0</td>\n",
       "    </tr>\n",
       "    <tr>\n",
       "      <th>5863</th>\n",
       "      <td>120258</td>\n",
       "      <td>908.0</td>\n",
       "      <td>Рыбинск</td>\n",
       "      <td>Ж</td>\n",
       "      <td>38.0</td>\n",
       "      <td>4</td>\n",
       "      <td>2213581.63</td>\n",
       "      <td>2</td>\n",
       "      <td>0</td>\n",
       "      <td>1</td>\n",
       "      <td>160327.77</td>\n",
       "      <td>1</td>\n",
       "    </tr>\n",
       "    <tr>\n",
       "      <th>1411</th>\n",
       "      <td>123461</td>\n",
       "      <td>829.0</td>\n",
       "      <td>Ярославль</td>\n",
       "      <td>Ж</td>\n",
       "      <td>59.0</td>\n",
       "      <td>0</td>\n",
       "      <td>96222.44</td>\n",
       "      <td>2</td>\n",
       "      <td>0</td>\n",
       "      <td>1</td>\n",
       "      <td>102771.55</td>\n",
       "      <td>1</td>\n",
       "    </tr>\n",
       "    <tr>\n",
       "      <th>8638</th>\n",
       "      <td>123461</td>\n",
       "      <td>934.0</td>\n",
       "      <td>Рыбинск</td>\n",
       "      <td>М</td>\n",
       "      <td>34.0</td>\n",
       "      <td>0</td>\n",
       "      <td>NaN</td>\n",
       "      <td>2</td>\n",
       "      <td>1</td>\n",
       "      <td>0</td>\n",
       "      <td>291619.27</td>\n",
       "      <td>0</td>\n",
       "    </tr>\n",
       "    <tr>\n",
       "      <th>8164</th>\n",
       "      <td>124450</td>\n",
       "      <td>859.0</td>\n",
       "      <td>Ярославль</td>\n",
       "      <td>Ж</td>\n",
       "      <td>38.0</td>\n",
       "      <td>6</td>\n",
       "      <td>516811.20</td>\n",
       "      <td>1</td>\n",
       "      <td>1</td>\n",
       "      <td>1</td>\n",
       "      <td>95144.63</td>\n",
       "      <td>1</td>\n",
       "    </tr>\n",
       "    <tr>\n",
       "      <th>9775</th>\n",
       "      <td>124450</td>\n",
       "      <td>758.0</td>\n",
       "      <td>Рыбинск</td>\n",
       "      <td>Ж</td>\n",
       "      <td>36.0</td>\n",
       "      <td>0</td>\n",
       "      <td>73574.07</td>\n",
       "      <td>2</td>\n",
       "      <td>0</td>\n",
       "      <td>1</td>\n",
       "      <td>79963.59</td>\n",
       "      <td>0</td>\n",
       "    </tr>\n",
       "    <tr>\n",
       "      <th>4850</th>\n",
       "      <td>126368</td>\n",
       "      <td>909.0</td>\n",
       "      <td>Ярославль</td>\n",
       "      <td>Ж</td>\n",
       "      <td>30.0</td>\n",
       "      <td>4</td>\n",
       "      <td>1322623.29</td>\n",
       "      <td>2</td>\n",
       "      <td>0</td>\n",
       "      <td>1</td>\n",
       "      <td>140675.66</td>\n",
       "      <td>1</td>\n",
       "    </tr>\n",
       "    <tr>\n",
       "      <th>5420</th>\n",
       "      <td>126368</td>\n",
       "      <td>832.0</td>\n",
       "      <td>Рыбинск</td>\n",
       "      <td>Ж</td>\n",
       "      <td>33.0</td>\n",
       "      <td>0</td>\n",
       "      <td>NaN</td>\n",
       "      <td>1</td>\n",
       "      <td>0</td>\n",
       "      <td>0</td>\n",
       "      <td>118465.34</td>\n",
       "      <td>0</td>\n",
       "    </tr>\n",
       "    <tr>\n",
       "      <th>8785</th>\n",
       "      <td>127440</td>\n",
       "      <td>663.0</td>\n",
       "      <td>Ярославль</td>\n",
       "      <td>М</td>\n",
       "      <td>NaN</td>\n",
       "      <td>0</td>\n",
       "      <td>NaN</td>\n",
       "      <td>1</td>\n",
       "      <td>1</td>\n",
       "      <td>1</td>\n",
       "      <td>117197.56</td>\n",
       "      <td>0</td>\n",
       "    </tr>\n",
       "    <tr>\n",
       "      <th>4443</th>\n",
       "      <td>127440</td>\n",
       "      <td>846.0</td>\n",
       "      <td>Рыбинск</td>\n",
       "      <td>М</td>\n",
       "      <td>66.0</td>\n",
       "      <td>1</td>\n",
       "      <td>57405.67</td>\n",
       "      <td>2</td>\n",
       "      <td>0</td>\n",
       "      <td>1</td>\n",
       "      <td>17831.63</td>\n",
       "      <td>0</td>\n",
       "    </tr>\n",
       "    <tr>\n",
       "      <th>3988</th>\n",
       "      <td>129785</td>\n",
       "      <td>904.0</td>\n",
       "      <td>Рыбинск</td>\n",
       "      <td>М</td>\n",
       "      <td>33.0</td>\n",
       "      <td>5</td>\n",
       "      <td>2427737.60</td>\n",
       "      <td>3</td>\n",
       "      <td>0</td>\n",
       "      <td>1</td>\n",
       "      <td>188856.75</td>\n",
       "      <td>1</td>\n",
       "    </tr>\n",
       "    <tr>\n",
       "      <th>9504</th>\n",
       "      <td>129785</td>\n",
       "      <td>949.0</td>\n",
       "      <td>Ярославль</td>\n",
       "      <td>М</td>\n",
       "      <td>43.0</td>\n",
       "      <td>0</td>\n",
       "      <td>NaN</td>\n",
       "      <td>1</td>\n",
       "      <td>1</td>\n",
       "      <td>1</td>\n",
       "      <td>166845.37</td>\n",
       "      <td>0</td>\n",
       "    </tr>\n",
       "    <tr>\n",
       "      <th>904</th>\n",
       "      <td>131419</td>\n",
       "      <td>934.0</td>\n",
       "      <td>Ярославль</td>\n",
       "      <td>М</td>\n",
       "      <td>35.0</td>\n",
       "      <td>5</td>\n",
       "      <td>2348335.95</td>\n",
       "      <td>2</td>\n",
       "      <td>0</td>\n",
       "      <td>0</td>\n",
       "      <td>217105.13</td>\n",
       "      <td>1</td>\n",
       "    </tr>\n",
       "    <tr>\n",
       "      <th>2138</th>\n",
       "      <td>131419</td>\n",
       "      <td>739.0</td>\n",
       "      <td>Рыбинск</td>\n",
       "      <td>Ж</td>\n",
       "      <td>37.0</td>\n",
       "      <td>3</td>\n",
       "      <td>1307941.65</td>\n",
       "      <td>3</td>\n",
       "      <td>0</td>\n",
       "      <td>0</td>\n",
       "      <td>103867.47</td>\n",
       "      <td>0</td>\n",
       "    </tr>\n",
       "    <tr>\n",
       "      <th>7487</th>\n",
       "      <td>140377</td>\n",
       "      <td>930.0</td>\n",
       "      <td>Рыбинск</td>\n",
       "      <td>Ж</td>\n",
       "      <td>34.0</td>\n",
       "      <td>5</td>\n",
       "      <td>1123967.02</td>\n",
       "      <td>1</td>\n",
       "      <td>1</td>\n",
       "      <td>1</td>\n",
       "      <td>148336.26</td>\n",
       "      <td>0</td>\n",
       "    </tr>\n",
       "    <tr>\n",
       "      <th>1608</th>\n",
       "      <td>140377</td>\n",
       "      <td>802.0</td>\n",
       "      <td>Ярославль</td>\n",
       "      <td>М</td>\n",
       "      <td>26.0</td>\n",
       "      <td>3</td>\n",
       "      <td>539863.29</td>\n",
       "      <td>4</td>\n",
       "      <td>1</td>\n",
       "      <td>1</td>\n",
       "      <td>112167.83</td>\n",
       "      <td>1</td>\n",
       "    </tr>\n",
       "  </tbody>\n",
       "</table>\n",
       "</div>"
      ],
      "text/plain": [
       "      USERID  score       city gender   age  equity     balance  products  \\\n",
       "1893  116540  883.0    Рыбинск      Ж  55.0       1   362756.49         3   \n",
       "7694  116540  887.0  Ярославль      Ж  38.0       0         NaN         1   \n",
       "7542  117943  880.0  Ярославль      Ж  40.0       0         NaN         1   \n",
       "4866  117943  855.0    Рыбинск      Ж  32.0       6  1036832.93         4   \n",
       "5896  120258  905.0  Ярославль      М  30.0       0         NaN         1   \n",
       "5863  120258  908.0    Рыбинск      Ж  38.0       4  2213581.63         2   \n",
       "1411  123461  829.0  Ярославль      Ж  59.0       0    96222.44         2   \n",
       "8638  123461  934.0    Рыбинск      М  34.0       0         NaN         2   \n",
       "8164  124450  859.0  Ярославль      Ж  38.0       6   516811.20         1   \n",
       "9775  124450  758.0    Рыбинск      Ж  36.0       0    73574.07         2   \n",
       "4850  126368  909.0  Ярославль      Ж  30.0       4  1322623.29         2   \n",
       "5420  126368  832.0    Рыбинск      Ж  33.0       0         NaN         1   \n",
       "8785  127440  663.0  Ярославль      М   NaN       0         NaN         1   \n",
       "4443  127440  846.0    Рыбинск      М  66.0       1    57405.67         2   \n",
       "3988  129785  904.0    Рыбинск      М  33.0       5  2427737.60         3   \n",
       "9504  129785  949.0  Ярославль      М  43.0       0         NaN         1   \n",
       "904   131419  934.0  Ярославль      М  35.0       5  2348335.95         2   \n",
       "2138  131419  739.0    Рыбинск      Ж  37.0       3  1307941.65         3   \n",
       "7487  140377  930.0    Рыбинск      Ж  34.0       5  1123967.02         1   \n",
       "1608  140377  802.0  Ярославль      М  26.0       3   539863.29         4   \n",
       "\n",
       "      credit_card  last_activity  EST_SALARY  churn  \n",
       "1893            0              1   175920.48      1  \n",
       "7694            0              1   119247.61      0  \n",
       "7542            1              0   137718.93      0  \n",
       "4866            1              1   107792.71      1  \n",
       "5896            1              1   146427.96      0  \n",
       "5863            0              1   160327.77      1  \n",
       "1411            0              1   102771.55      1  \n",
       "8638            1              0   291619.27      0  \n",
       "8164            1              1    95144.63      1  \n",
       "9775            0              1    79963.59      0  \n",
       "4850            0              1   140675.66      1  \n",
       "5420            0              0   118465.34      0  \n",
       "8785            1              1   117197.56      0  \n",
       "4443            0              1    17831.63      0  \n",
       "3988            0              1   188856.75      1  \n",
       "9504            1              1   166845.37      0  \n",
       "904             0              0   217105.13      1  \n",
       "2138            0              0   103867.47      0  \n",
       "7487            1              1   148336.26      0  \n",
       "1608            1              1   112167.83      1  "
      ]
     },
     "metadata": {},
     "output_type": "display_data"
    }
   ],
   "source": [
    "analysis_df(df)"
   ]
  },
  {
   "cell_type": "markdown",
   "metadata": {},
   "source": [
    "**Вывод**  \n",
    "Видим пропуски в столбцах age, balance;  \n",
    "Нужно изменить названия колонок;  \n",
    "Нужно изменить типы данных в следующих столбцах:  score, age на int, credit_card, last_activity, churn на bool;  \n",
    "Есть дубликаты по столбцу user_id. Судя по таблице, эти люди переехали в другой город и пользовались другим отделением банка. Удалять не будем"
   ]
  },
  {
   "cell_type": "markdown",
   "metadata": {},
   "source": []
  },
  {
   "cell_type": "markdown",
   "metadata": {},
   "source": [
    "## Подготовка данных"
   ]
  },
  {
   "cell_type": "markdown",
   "metadata": {},
   "source": [
    "Посмотрим на записи, где количество продуктов - 0.  \n",
    "Это ошибка, т.к. человек не может быть клиентом банка, не имея ни одного продукта в нем."
   ]
  },
  {
   "cell_type": "code",
   "execution_count": 6,
   "metadata": {
    "scrolled": true
   },
   "outputs": [
    {
     "data": {
      "text/html": [
       "<div>\n",
       "<style scoped>\n",
       "    .dataframe tbody tr th:only-of-type {\n",
       "        vertical-align: middle;\n",
       "    }\n",
       "\n",
       "    .dataframe tbody tr th {\n",
       "        vertical-align: top;\n",
       "    }\n",
       "\n",
       "    .dataframe thead th {\n",
       "        text-align: right;\n",
       "    }\n",
       "</style>\n",
       "<table border=\"1\" class=\"dataframe\">\n",
       "  <thead>\n",
       "    <tr style=\"text-align: right;\">\n",
       "      <th></th>\n",
       "      <th>USERID</th>\n",
       "      <th>score</th>\n",
       "      <th>city</th>\n",
       "      <th>gender</th>\n",
       "      <th>age</th>\n",
       "      <th>equity</th>\n",
       "      <th>balance</th>\n",
       "      <th>products</th>\n",
       "      <th>credit_card</th>\n",
       "      <th>last_activity</th>\n",
       "      <th>EST_SALARY</th>\n",
       "      <th>churn</th>\n",
       "    </tr>\n",
       "  </thead>\n",
       "  <tbody>\n",
       "    <tr>\n",
       "      <th>8957</th>\n",
       "      <td>147837</td>\n",
       "      <td>962.0</td>\n",
       "      <td>Рыбинск</td>\n",
       "      <td>Ж</td>\n",
       "      <td>79.0</td>\n",
       "      <td>3</td>\n",
       "      <td>NaN</td>\n",
       "      <td>0</td>\n",
       "      <td>0</td>\n",
       "      <td>0</td>\n",
       "      <td>25063.96</td>\n",
       "      <td>1</td>\n",
       "    </tr>\n",
       "  </tbody>\n",
       "</table>\n",
       "</div>"
      ],
      "text/plain": [
       "      USERID  score     city gender   age  equity  balance  products  \\\n",
       "8957  147837  962.0  Рыбинск      Ж  79.0       3      NaN         0   \n",
       "\n",
       "      credit_card  last_activity  EST_SALARY  churn  \n",
       "8957            0              0    25063.96      1  "
      ]
     },
     "execution_count": 6,
     "metadata": {},
     "output_type": "execute_result"
    }
   ],
   "source": [
    "df[df['products']==0]"
   ]
  },
  {
   "cell_type": "code",
   "execution_count": 7,
   "metadata": {},
   "outputs": [],
   "source": [
    "# Удалим строку\n",
    "df= df[df['products']!=0]"
   ]
  },
  {
   "cell_type": "code",
   "execution_count": 8,
   "metadata": {},
   "outputs": [],
   "source": [
    "df = df.rename(columns={'USERID': 'user_id', 'EST_SALARY':'estimated_salary'})"
   ]
  },
  {
   "cell_type": "code",
   "execution_count": 9,
   "metadata": {},
   "outputs": [],
   "source": [
    "df['age_missing'] = df['age'].isna().astype(int)\n",
    "df['balance_missing'] = df['balance'].isna().astype(int)"
   ]
  },
  {
   "cell_type": "code",
   "execution_count": 10,
   "metadata": {},
   "outputs": [],
   "source": [
    "corr_df=df[['score', 'equity', 'products', 'estimated_salary', 'credit_card', 'last_activity', 'churn', 'city', 'gender', 'age_missing', 'balance_missing']]"
   ]
  },
  {
   "cell_type": "code",
   "execution_count": 11,
   "metadata": {
    "scrolled": true
   },
   "outputs": [],
   "source": [
    "phik = corr_df.phik_matrix(interval_cols=['score', 'equity', 'products', 'estimated_salary'])[['age_missing', 'balance_missing']]"
   ]
  },
  {
   "cell_type": "code",
   "execution_count": 12,
   "metadata": {},
   "outputs": [
    {
     "data": {
      "image/png": "[encoded data removed]",
      "text/plain": [
       "<Figure size 648x432 with 2 Axes>"
      ]
     },
     "metadata": {
      "needs_background": "light"
     },
     "output_type": "display_data"
    }
   ],
   "source": [
    "plot_correlation_matrix(phik.values, \n",
    "                        x_labels=phik.columns, \n",
    "                        y_labels=phik.index, \n",
    "                        vmin=0, vmax=1, color_map=\"BuPu\", \n",
    "                        title=r\"correlation $\\phi_K$\", \n",
    "                        fontsize_factor=1.5, \n",
    "                        figsize=(9, 6))\n",
    "plt.tight_layout()"
   ]
  },
  {
   "cell_type": "markdown",
   "metadata": {},
   "source": [
    "**Вывод**  \n",
    "Пропуски в значениях возраста случайны, а так как их немного, можно удалить эти строки.  \n",
    "Пропуски в столбце balance сильно коррелируют со значениями в столбце equity (кол-во баллов собственности)"
   ]
  },
  {
   "cell_type": "code",
   "execution_count": 13,
   "metadata": {},
   "outputs": [],
   "source": [
    "# Удалим строки, где пропущен возраст\n",
    "df=df.dropna(subset=['age'])"
   ]
  },
  {
   "cell_type": "code",
   "execution_count": 14,
   "metadata": {},
   "outputs": [],
   "source": [
    "# Пропуски в столбце balance заменим на медианное значение в зависимости от количества баллов собственности\n",
    "df['balance'] = (df['balance']\n",
    "    .fillna(df.groupby(['equity'])['balance']\n",
    "    .transform('median'))) "
   ]
  },
  {
   "cell_type": "code",
   "execution_count": 15,
   "metadata": {},
   "outputs": [],
   "source": [
    "df['score'] = df['score'].astype('int')\n",
    "df['age'] = df['age'].astype('int')\n",
    "df['credit_card'] = df['credit_card'].astype('bool')\n",
    "df['last_activity'] = df['last_activity'].astype('bool')\n",
    "df['churn'] = df['churn'].astype('bool')"
   ]
  },
  {
   "cell_type": "markdown",
   "metadata": {},
   "source": [
    "**Общий Вывод**  \n",
    "Изменили названия столбцов;  \n",
    "Привели данные к нужному типу;  \n",
    "Проверили дубликаты;  \n",
    "Удалили строки с пропусками в столбце возраст, а пропуски в столбце баланса заменили на медианное значение в зависимости от количества баллов собственности\n",
    "Пропуски в столбце age абсолютно случайны (MCAR)  \n",
    "Пропуски в столбце balance случайны (MAR)"
   ]
  },
  {
   "cell_type": "markdown",
   "metadata": {},
   "source": [
    "## EDA"
   ]
  },
  {
   "cell_type": "markdown",
   "metadata": {},
   "source": [
    "### Баллы кредитного скоринга"
   ]
  },
  {
   "cell_type": "code",
   "execution_count": 16,
   "metadata": {},
   "outputs": [
    {
     "data": {
      "image/png": "[encoded data removed]",
      "text/plain": [
       "<Figure size 720x504 with 1 Axes>"
      ]
     },
     "metadata": {
      "needs_background": "light"
     },
     "output_type": "display_data"
    }
   ],
   "source": [
    "fig, ax = plt.subplots(figsize=(10, 7))\n",
    "sns.histplot(data=df, x='score', hue='churn', stat='density', common_norm=False)\n",
    "plt.title('Распределение баллов кредитного скоринга в разрезе оттока', fontsize=18)\n",
    "plt.show()"
   ]
  },
  {
   "cell_type": "markdown",
   "metadata": {},
   "source": [
    "**Вывод**  \n",
    "Больше склонны к уходу из банка клиенты с кредитным скорингом в диапазоне от 825 до 910"
   ]
  },
  {
   "cell_type": "markdown",
   "metadata": {},
   "source": [
    "### Возраст клиентов"
   ]
  },
  {
   "cell_type": "code",
   "execution_count": 17,
   "metadata": {
    "scrolled": false
   },
   "outputs": [
    {
     "data": {
      "image/png": "[encoded data removed]",
      "text/plain": [
       "<Figure size 720x504 with 1 Axes>"
      ]
     },
     "metadata": {
      "needs_background": "light"
     },
     "output_type": "display_data"
    }
   ],
   "source": [
    "fig, ax = plt.subplots(figsize=(10, 7))\n",
    "sns.histplot(data=df, x='age', hue='churn', stat='density', common_norm=False, bins=34)\n",
    "plt.title('Распределение возраста клиентов в разрезе оттока', fontsize=18)\n",
    "plt.show()"
   ]
  },
  {
   "cell_type": "markdown",
   "metadata": {},
   "source": []
  },
  {
   "cell_type": "markdown",
   "metadata": {},
   "source": [
    "**Вывод**  \n",
    "Больше склонны к уходу из банка клиенты в возрасте от 24 до 36 и от 50 до 60"
   ]
  },
  {
   "cell_type": "markdown",
   "metadata": {},
   "source": [
    "### Баланс на счете"
   ]
  },
  {
   "cell_type": "code",
   "execution_count": 18,
   "metadata": {},
   "outputs": [
    {
     "data": {
      "text/plain": [
       "array([1839891.334])"
      ]
     },
     "execution_count": 18,
     "metadata": {},
     "output_type": "execute_result"
    }
   ],
   "source": [
    "# Посмотрим, в каком диапазоне лежит большинство значений баланса, тк имеются аномально высокие значения\n",
    "np.percentile(df['balance'], [95])"
   ]
  },
  {
   "cell_type": "code",
   "execution_count": 19,
   "metadata": {},
   "outputs": [
    {
     "data": {
      "image/png": "[encoded data removed]",
      "text/plain": [
       "<Figure size 720x504 with 1 Axes>"
      ]
     },
     "metadata": {
      "needs_background": "light"
     },
     "output_type": "display_data"
    }
   ],
   "source": [
    "fig, ax = plt.subplots(figsize=(10, 7))\n",
    "ax.set_xlim(0,2000000)\n",
    "sns.histplot(data=df, x='balance', hue='churn', stat='density', common_norm=False)\n",
    "plt.title('Распределение баланса на счете в разрезе оттока', fontsize=18)\n",
    "plt.ticklabel_format(style='plain', axis = 'x')\n",
    "plt.show()"
   ]
  },
  {
   "cell_type": "markdown",
   "metadata": {},
   "source": [
    "**Вывод**  \n",
    "Больше склонны к уходу из банка клиенты, чей баланс на счете превышает 750.000 "
   ]
  },
  {
   "cell_type": "markdown",
   "metadata": {},
   "source": [
    "### Зарплата клиентов"
   ]
  },
  {
   "cell_type": "code",
   "execution_count": 20,
   "metadata": {},
   "outputs": [
    {
     "data": {
      "text/plain": [
       "array([316366.936])"
      ]
     },
     "execution_count": 20,
     "metadata": {},
     "output_type": "execute_result"
    }
   ],
   "source": [
    "np.percentile(df['estimated_salary'], [95])"
   ]
  },
  {
   "cell_type": "code",
   "execution_count": 21,
   "metadata": {},
   "outputs": [
    {
     "data": {
      "image/png": "[encoded data removed]",
      "text/plain": [
       "<Figure size 720x504 with 1 Axes>"
      ]
     },
     "metadata": {
      "needs_background": "light"
     },
     "output_type": "display_data"
    }
   ],
   "source": [
    "fig, ax = plt.subplots(figsize=(10, 7))\n",
    "ax.set_xlim(0,400000)\n",
    "sns.histplot(data=df, x='estimated_salary', hue='churn', stat='density', common_norm=False)\n",
    "plt.title('Распределение зарплаты клиентов в разрезе оттока', fontsize=18)\n",
    "plt.ticklabel_format(style='plain', axis = 'x')\n",
    "plt.show()"
   ]
  },
  {
   "cell_type": "markdown",
   "metadata": {},
   "source": [
    "**Вывод**  \n",
    "Больше склонны к уходу из банка клиенты, зарплата которых находится в диапазоне от 95.000 до 140.000 и от 150.000 до 210.000"
   ]
  },
  {
   "cell_type": "markdown",
   "metadata": {},
   "source": [
    "### Баллы собственности"
   ]
  },
  {
   "cell_type": "code",
   "execution_count": 22,
   "metadata": {},
   "outputs": [],
   "source": [
    "def bar(x, title):\n",
    "    fig, ax = plt.subplots(figsize=(8, 6))\n",
    "    sns.barplot(data=df, x=x, y='churn', ax=ax, palette='crest', ci=None)\n",
    "    ax.axhline(df['churn'].mean(), color='red', linewidth=2, linestyle='--')\n",
    "    ax.set_title(title, fontsize=16)\n",
    "    plt.tight_layout()\n",
    "    plt.show()"
   ]
  },
  {
   "cell_type": "code",
   "execution_count": 23,
   "metadata": {
    "scrolled": false
   },
   "outputs": [
    {
     "data": {
      "image/png": "[encoded data removed]",
      "text/plain": [
       "<Figure size 576x432 with 1 Axes>"
      ]
     },
     "metadata": {
      "needs_background": "light"
     },
     "output_type": "display_data"
    }
   ],
   "source": [
    "bar('equity', 'Отток клиентов от количества баллов собственности')"
   ]
  },
  {
   "cell_type": "markdown",
   "metadata": {},
   "source": [
    "**Вывод**  \n",
    "Больше склонны к уходу из банка клиенты, у которых не менее 3 баллов собственности."
   ]
  },
  {
   "cell_type": "markdown",
   "metadata": {},
   "source": [
    "### Город"
   ]
  },
  {
   "cell_type": "code",
   "execution_count": 24,
   "metadata": {},
   "outputs": [
    {
     "data": {
      "image/png": "[encoded data removed]",
      "text/plain": [
       "<Figure size 576x432 with 1 Axes>"
      ]
     },
     "metadata": {
      "needs_background": "light"
     },
     "output_type": "display_data"
    }
   ],
   "source": [
    "bar('city', 'Отток клиентов в зависимости от города')"
   ]
  },
  {
   "cell_type": "markdown",
   "metadata": {},
   "source": [
    "**Вывод**  \n",
    "Больше склонны к уходу из банка клиенты из Ярославля и Ростова"
   ]
  },
  {
   "cell_type": "markdown",
   "metadata": {},
   "source": [
    "### Пол"
   ]
  },
  {
   "cell_type": "code",
   "execution_count": 25,
   "metadata": {},
   "outputs": [
    {
     "data": {
      "image/png": "[encoded data removed]",
      "text/plain": [
       "<Figure size 576x432 with 1 Axes>"
      ]
     },
     "metadata": {
      "needs_background": "light"
     },
     "output_type": "display_data"
    }
   ],
   "source": [
    "bar('gender', 'Отток клиентов в зависимости от пола')"
   ]
  },
  {
   "cell_type": "markdown",
   "metadata": {},
   "source": [
    "**Вывод**  \n",
    "Больше склонны к уходу из банка мужчины"
   ]
  },
  {
   "cell_type": "markdown",
   "metadata": {},
   "source": [
    "### Количество продуктов"
   ]
  },
  {
   "cell_type": "code",
   "execution_count": 26,
   "metadata": {
    "scrolled": false
   },
   "outputs": [
    {
     "data": {
      "image/png": "[encoded data removed]",
      "text/plain": [
       "<Figure size 576x432 with 1 Axes>"
      ]
     },
     "metadata": {
      "needs_background": "light"
     },
     "output_type": "display_data"
    }
   ],
   "source": [
    "bar('products', 'Отток клиентов в зависимости от количества продуктов') "
   ]
  },
  {
   "cell_type": "markdown",
   "metadata": {},
   "source": [
    "**Вывод**  \n",
    "Больше склонны к уходу из банка клиенты, у которых 3 и более продукта. "
   ]
  },
  {
   "cell_type": "markdown",
   "metadata": {},
   "source": [
    "### Кредитная карта"
   ]
  },
  {
   "cell_type": "code",
   "execution_count": 27,
   "metadata": {
    "scrolled": false
   },
   "outputs": [
    {
     "data": {
      "image/png": "[encoded data removed]",
      "text/plain": [
       "<Figure size 576x432 with 1 Axes>"
      ]
     },
     "metadata": {
      "needs_background": "light"
     },
     "output_type": "display_data"
    }
   ],
   "source": [
    "bar('credit_card', 'Отток клиентов в зависимости от наличия кредитной карты') "
   ]
  },
  {
   "cell_type": "markdown",
   "metadata": {},
   "source": [
    "**Вывод**  \n",
    "Больше склонны к уходу из банка клиенты, которые не имеют кредитной карты"
   ]
  },
  {
   "cell_type": "markdown",
   "metadata": {},
   "source": [
    "### Активность в течение 30 дней"
   ]
  },
  {
   "cell_type": "code",
   "execution_count": 28,
   "metadata": {},
   "outputs": [
    {
     "data": {
      "image/png": "[encoded data removed]",
      "text/plain": [
       "<Figure size 576x432 with 1 Axes>"
      ]
     },
     "metadata": {
      "needs_background": "light"
     },
     "output_type": "display_data"
    }
   ],
   "source": [
    "bar('last_activity', 'Отток клиентов в зависимости от активности в течение последних 30 дней') "
   ]
  },
  {
   "cell_type": "markdown",
   "metadata": {},
   "source": [
    "**Вывод**  \n",
    "Больше склонны к уходу из банка клиенты, которые не были активны на протяжении 30 дней"
   ]
  },
  {
   "cell_type": "markdown",
   "metadata": {},
   "source": [
    "### Корреляция"
   ]
  },
  {
   "cell_type": "code",
   "execution_count": 29,
   "metadata": {
    "scrolled": true
   },
   "outputs": [],
   "source": [
    "corr_churn_df = df[['gender', 'city', 'score', 'equity', 'products', 'estimated_salary', 'credit_card', 'last_activity', 'churn', 'age', 'balance']]\n",
    "phik_churn = corr_churn_df.phik_matrix(interval_cols=['score', 'age', 'balance', 'estimated_salary'])"
   ]
  },
  {
   "cell_type": "code",
   "execution_count": 30,
   "metadata": {},
   "outputs": [
    {
     "data": {
      "text/html": [
       "<div>\n",
       "<style scoped>\n",
       "    .dataframe tbody tr th:only-of-type {\n",
       "        vertical-align: middle;\n",
       "    }\n",
       "\n",
       "    .dataframe tbody tr th {\n",
       "        vertical-align: top;\n",
       "    }\n",
       "\n",
       "    .dataframe thead th {\n",
       "        text-align: right;\n",
       "    }\n",
       "</style>\n",
       "<table border=\"1\" class=\"dataframe\">\n",
       "  <thead>\n",
       "    <tr style=\"text-align: right;\">\n",
       "      <th></th>\n",
       "      <th>gender</th>\n",
       "      <th>city</th>\n",
       "      <th>score</th>\n",
       "      <th>equity</th>\n",
       "      <th>products</th>\n",
       "      <th>estimated_salary</th>\n",
       "      <th>credit_card</th>\n",
       "      <th>last_activity</th>\n",
       "      <th>churn</th>\n",
       "      <th>age</th>\n",
       "      <th>balance</th>\n",
       "    </tr>\n",
       "  </thead>\n",
       "  <tbody>\n",
       "    <tr>\n",
       "      <th>gender</th>\n",
       "      <td>1.000000</td>\n",
       "      <td>0.011849</td>\n",
       "      <td>0.070593</td>\n",
       "      <td>0.063504</td>\n",
       "      <td>0.071728</td>\n",
       "      <td>0.144090</td>\n",
       "      <td>0.195636</td>\n",
       "      <td>0.012997</td>\n",
       "      <td>0.220117</td>\n",
       "      <td>0.286169</td>\n",
       "      <td>0.037204</td>\n",
       "    </tr>\n",
       "    <tr>\n",
       "      <th>city</th>\n",
       "      <td>0.011849</td>\n",
       "      <td>1.000000</td>\n",
       "      <td>0.090855</td>\n",
       "      <td>0.062574</td>\n",
       "      <td>0.125263</td>\n",
       "      <td>0.170837</td>\n",
       "      <td>0.074611</td>\n",
       "      <td>0.030504</td>\n",
       "      <td>0.016674</td>\n",
       "      <td>0.091464</td>\n",
       "      <td>0.031241</td>\n",
       "    </tr>\n",
       "    <tr>\n",
       "      <th>score</th>\n",
       "      <td>0.070593</td>\n",
       "      <td>0.090855</td>\n",
       "      <td>1.000000</td>\n",
       "      <td>0.527444</td>\n",
       "      <td>0.419642</td>\n",
       "      <td>0.395130</td>\n",
       "      <td>0.208165</td>\n",
       "      <td>0.051635</td>\n",
       "      <td>0.229553</td>\n",
       "      <td>0.033898</td>\n",
       "      <td>0.145213</td>\n",
       "    </tr>\n",
       "    <tr>\n",
       "      <th>equity</th>\n",
       "      <td>0.063504</td>\n",
       "      <td>0.062574</td>\n",
       "      <td>0.527444</td>\n",
       "      <td>1.000000</td>\n",
       "      <td>0.583305</td>\n",
       "      <td>0.285537</td>\n",
       "      <td>0.221400</td>\n",
       "      <td>0.051124</td>\n",
       "      <td>0.352114</td>\n",
       "      <td>0.045939</td>\n",
       "      <td>0.000000</td>\n",
       "    </tr>\n",
       "    <tr>\n",
       "      <th>products</th>\n",
       "      <td>0.071728</td>\n",
       "      <td>0.125263</td>\n",
       "      <td>0.419642</td>\n",
       "      <td>0.583305</td>\n",
       "      <td>1.000000</td>\n",
       "      <td>0.222246</td>\n",
       "      <td>0.271043</td>\n",
       "      <td>0.112814</td>\n",
       "      <td>0.259842</td>\n",
       "      <td>0.140869</td>\n",
       "      <td>0.000000</td>\n",
       "    </tr>\n",
       "    <tr>\n",
       "      <th>estimated_salary</th>\n",
       "      <td>0.144090</td>\n",
       "      <td>0.170837</td>\n",
       "      <td>0.395130</td>\n",
       "      <td>0.285537</td>\n",
       "      <td>0.222246</td>\n",
       "      <td>1.000000</td>\n",
       "      <td>0.038332</td>\n",
       "      <td>0.044890</td>\n",
       "      <td>0.048961</td>\n",
       "      <td>0.359702</td>\n",
       "      <td>0.218047</td>\n",
       "    </tr>\n",
       "    <tr>\n",
       "      <th>credit_card</th>\n",
       "      <td>0.195636</td>\n",
       "      <td>0.074611</td>\n",
       "      <td>0.208165</td>\n",
       "      <td>0.221400</td>\n",
       "      <td>0.271043</td>\n",
       "      <td>0.038332</td>\n",
       "      <td>1.000000</td>\n",
       "      <td>0.049567</td>\n",
       "      <td>0.201963</td>\n",
       "      <td>0.157172</td>\n",
       "      <td>0.000000</td>\n",
       "    </tr>\n",
       "    <tr>\n",
       "      <th>last_activity</th>\n",
       "      <td>0.012997</td>\n",
       "      <td>0.030504</td>\n",
       "      <td>0.051635</td>\n",
       "      <td>0.051124</td>\n",
       "      <td>0.112814</td>\n",
       "      <td>0.044890</td>\n",
       "      <td>0.049567</td>\n",
       "      <td>1.000000</td>\n",
       "      <td>0.262573</td>\n",
       "      <td>0.090472</td>\n",
       "      <td>0.000000</td>\n",
       "    </tr>\n",
       "    <tr>\n",
       "      <th>churn</th>\n",
       "      <td>0.220117</td>\n",
       "      <td>0.016674</td>\n",
       "      <td>0.229553</td>\n",
       "      <td>0.352114</td>\n",
       "      <td>0.259842</td>\n",
       "      <td>0.048961</td>\n",
       "      <td>0.201963</td>\n",
       "      <td>0.262573</td>\n",
       "      <td>1.000000</td>\n",
       "      <td>0.192511</td>\n",
       "      <td>0.034342</td>\n",
       "    </tr>\n",
       "    <tr>\n",
       "      <th>age</th>\n",
       "      <td>0.286169</td>\n",
       "      <td>0.091464</td>\n",
       "      <td>0.033898</td>\n",
       "      <td>0.045939</td>\n",
       "      <td>0.140869</td>\n",
       "      <td>0.359702</td>\n",
       "      <td>0.157172</td>\n",
       "      <td>0.090472</td>\n",
       "      <td>0.192511</td>\n",
       "      <td>1.000000</td>\n",
       "      <td>0.019341</td>\n",
       "    </tr>\n",
       "    <tr>\n",
       "      <th>balance</th>\n",
       "      <td>0.037204</td>\n",
       "      <td>0.031241</td>\n",
       "      <td>0.145213</td>\n",
       "      <td>0.000000</td>\n",
       "      <td>0.000000</td>\n",
       "      <td>0.218047</td>\n",
       "      <td>0.000000</td>\n",
       "      <td>0.000000</td>\n",
       "      <td>0.034342</td>\n",
       "      <td>0.019341</td>\n",
       "      <td>1.000000</td>\n",
       "    </tr>\n",
       "  </tbody>\n",
       "</table>\n",
       "</div>"
      ],
      "text/plain": [
       "                    gender      city     score    equity  products  \\\n",
       "gender            1.000000  0.011849  0.070593  0.063504  0.071728   \n",
       "city              0.011849  1.000000  0.090855  0.062574  0.125263   \n",
       "score             0.070593  0.090855  1.000000  0.527444  0.419642   \n",
       "equity            0.063504  0.062574  0.527444  1.000000  0.583305   \n",
       "products          0.071728  0.125263  0.419642  0.583305  1.000000   \n",
       "estimated_salary  0.144090  0.170837  0.395130  0.285537  0.222246   \n",
       "credit_card       0.195636  0.074611  0.208165  0.221400  0.271043   \n",
       "last_activity     0.012997  0.030504  0.051635  0.051124  0.112814   \n",
       "churn             0.220117  0.016674  0.229553  0.352114  0.259842   \n",
       "age               0.286169  0.091464  0.033898  0.045939  0.140869   \n",
       "balance           0.037204  0.031241  0.145213  0.000000  0.000000   \n",
       "\n",
       "                  estimated_salary  credit_card  last_activity     churn  \\\n",
       "gender                    0.144090     0.195636       0.012997  0.220117   \n",
       "city                      0.170837     0.074611       0.030504  0.016674   \n",
       "score                     0.395130     0.208165       0.051635  0.229553   \n",
       "equity                    0.285537     0.221400       0.051124  0.352114   \n",
       "products                  0.222246     0.271043       0.112814  0.259842   \n",
       "estimated_salary          1.000000     0.038332       0.044890  0.048961   \n",
       "credit_card               0.038332     1.000000       0.049567  0.201963   \n",
       "last_activity             0.044890     0.049567       1.000000  0.262573   \n",
       "churn                     0.048961     0.201963       0.262573  1.000000   \n",
       "age                       0.359702     0.157172       0.090472  0.192511   \n",
       "balance                   0.218047     0.000000       0.000000  0.034342   \n",
       "\n",
       "                       age   balance  \n",
       "gender            0.286169  0.037204  \n",
       "city              0.091464  0.031241  \n",
       "score             0.033898  0.145213  \n",
       "equity            0.045939  0.000000  \n",
       "products          0.140869  0.000000  \n",
       "estimated_salary  0.359702  0.218047  \n",
       "credit_card       0.157172  0.000000  \n",
       "last_activity     0.090472  0.000000  \n",
       "churn             0.192511  0.034342  \n",
       "age               1.000000  0.019341  \n",
       "balance           0.019341  1.000000  "
      ]
     },
     "execution_count": 30,
     "metadata": {},
     "output_type": "execute_result"
    }
   ],
   "source": [
    "phik_churn"
   ]
  },
  {
   "cell_type": "code",
   "execution_count": 31,
   "metadata": {},
   "outputs": [
    {
     "data": {
      "image/png": "[encoded data removed]",
      "text/plain": [
       "<Figure size 864x720 with 2 Axes>"
      ]
     },
     "metadata": {
      "needs_background": "light"
     },
     "output_type": "display_data"
    }
   ],
   "source": [
    "plot_correlation_matrix(phik_churn.values, \n",
    "                        x_labels=phik_churn.columns, \n",
    "                        y_labels=phik_churn.index, \n",
    "                        vmin=0, vmax=1, color_map=\"BuPu\", \n",
    "                        title=r\"correlation $\\phi_K$\", \n",
    "                        fontsize_factor=1.5, \n",
    "                        figsize=(12, 10))\n",
    "plt.tight_layout()"
   ]
  },
  {
   "cell_type": "markdown",
   "metadata": {},
   "source": [
    "**Шкала Чеддока — это шкала, которая используется для качественной оценки тесноты связи.**\n",
    "\n",
    "Значения шкалы:\n",
    "\n",
    "    0,1–0,3 — слабая связь;  \n",
    "    0,3–0,5 — умеренная связь;  \n",
    "    0,5–0,7 — заметная связь;  \n",
    "    0,7–0,9 — высокая связь;  \n",
    "    0,9–0,99 — весьма высокая связь.  \n",
    "    \n",
    "Показатель оттока имеет умеренную связь с показателями количества баллов собственности. Показатели баланса, зарплаты и города не связаны с показателем оттока. Остальные показатели слабо связаны с оттоком. "
   ]
  },
  {
   "cell_type": "markdown",
   "metadata": {},
   "source": [
    "## Проверка гипотез"
   ]
  },
  {
   "cell_type": "markdown",
   "metadata": {},
   "source": [
    "### Гипотеза о равенстве средних доходов"
   ]
  },
  {
   "cell_type": "markdown",
   "metadata": {},
   "source": [
    "**H0: Средний доход ушедших клиентов равен среднему доходу клиентов, которые остались.**  \n",
    "**H1: Средний доход ушедших клиентов НЕ равен среднему доходу клиентов, которые остались.**"
   ]
  },
  {
   "cell_type": "code",
   "execution_count": 32,
   "metadata": {},
   "outputs": [
    {
     "name": "stdout",
     "output_type": "stream",
     "text": [
      "Распределение ненормальное\n",
      "Levene test: LeveneResult(statistic=6.659643229714454, pvalue=0.009876226357398874)\n",
      "Дисперсии не равны\n"
     ]
    },
    {
     "name": "stderr",
     "output_type": "stream",
     "text": [
      "C:\\Users\\Admin\\anaconda3\\lib\\site-packages\\scipy\\stats\\_morestats.py:1816: UserWarning: p-value may not be accurate for N > 5000.\n",
      "  warnings.warn(\"p-value may not be accurate for N > 5000.\")\n"
     ]
    }
   ],
   "source": [
    "churned = df[df['churn'] == 1]['estimated_salary']\n",
    "not_churned = df[df['churn'] == 0]['estimated_salary']\n",
    "\n",
    "# Тест Шапиро-Уилка\n",
    "shapiro_churned = shapiro(churned)\n",
    "shapiro_not_churned = shapiro(not_churned)\n",
    "\n",
    "if shapiro_churned.pvalue > 0.05 and shapiro_not_churned.pvalue > 0.05:\n",
    "    print('Распределение нормальное')\n",
    "else:\n",
    "    print('Распределение ненормальное')\n",
    "\n",
    "# Тест Левена\n",
    "levene_test = levene(churned, not_churned)\n",
    "print('Levene test:', levene_test)\n",
    "\n",
    "if levene_test.pvalue > 0.05:\n",
    "    print('Дисперсии равны')\n",
    "    equal_var = True\n",
    "else:\n",
    "    print('Дисперсии не равны')\n",
    "    equal_var = False"
   ]
  },
  {
   "cell_type": "markdown",
   "metadata": {},
   "source": [
    "**Вывод**\n",
    "Тесты показали, что распределение ненормально, из-за чего необходимо использовать тест Манна-Уитни.  \n",
    "Однако размер выборки большой и в соответствии с центральной предельной теоремой выборочное распределение среднего значения выборки приблизительно нормально, даже если распределение генеральной совокупности не является нормальным, поэтому можно использовать t-тест."
   ]
  },
  {
   "cell_type": "code",
   "execution_count": 33,
   "metadata": {},
   "outputs": [
    {
     "name": "stdout",
     "output_type": "stream",
     "text": [
      "p-value:  0.8354803526840116\n",
      "Не получилось отвергнуть нулевую гипотезу\n"
     ]
    }
   ],
   "source": [
    "alpha=0.05\n",
    "results = ttest_ind(churned, not_churned, equal_var=False)\n",
    "print('p-value: ', results.pvalue)\n",
    "if results.pvalue<alpha:\n",
    "    print('Отвергаем нулевую гипотезу')\n",
    "else:\n",
    "    print('Не получилось отвергнуть нулевую гипотезу')"
   ]
  },
  {
   "cell_type": "markdown",
   "metadata": {},
   "source": [
    "**Вывод**  \n",
    "Не можем сказать, что средние доходы клиентов ушедших из банка и оставшихся разные."
   ]
  },
  {
   "cell_type": "markdown",
   "metadata": {},
   "source": [
    "### Гипотеза о равенстве средних баллов собственности"
   ]
  },
  {
   "cell_type": "markdown",
   "metadata": {},
   "source": [
    "**H0: Средние баллы собственности клиентов, которые остались в банке, равны средним баллам собственности клиентов, которые ушли.**  \n",
    "**H1: Средние баллы собственности клиентов, которые остались в банке, отличаются от средних баллов собственности клиентов, которые ушли.**"
   ]
  },
  {
   "cell_type": "code",
   "execution_count": 34,
   "metadata": {},
   "outputs": [
    {
     "name": "stdout",
     "output_type": "stream",
     "text": [
      "Распределение ненормальное\n",
      "Levene test: LeveneResult(statistic=414.5770409012039, pvalue=2.4996944163777595e-90)\n",
      "Дисперсии не равны\n"
     ]
    },
    {
     "name": "stderr",
     "output_type": "stream",
     "text": [
      "C:\\Users\\Admin\\anaconda3\\lib\\site-packages\\scipy\\stats\\_morestats.py:1816: UserWarning: p-value may not be accurate for N > 5000.\n",
      "  warnings.warn(\"p-value may not be accurate for N > 5000.\")\n"
     ]
    }
   ],
   "source": [
    "churned_e = df[df['churn'] == 1]['equity']\n",
    "not_churned_e = df[df['churn'] == 0]['equity']\n",
    "\n",
    "# Тест Шапиро-Уилка\n",
    "shapiro_churned_e = shapiro(churned_e)\n",
    "shapiro_not_churned_e = shapiro(not_churned_e)\n",
    "\n",
    "if shapiro_churned_e.pvalue > 0.05 and shapiro_not_churned_e.pvalue > 0.05:\n",
    "    print('Распределение нормальное')\n",
    "else:\n",
    "    print('Распределение ненормальное')\n",
    "\n",
    "# Тест Левена\n",
    "levene_test_e = levene(churned_e, not_churned_e)\n",
    "print('Levene test:', levene_test_e)\n",
    "\n",
    "if levene_test_e.pvalue > 0.05:\n",
    "    print('Дисперсии равны')\n",
    "    equal_var = True\n",
    "else:\n",
    "    print('Дисперсии не равны')\n",
    "    equal_var = False"
   ]
  },
  {
   "cell_type": "code",
   "execution_count": 35,
   "metadata": {},
   "outputs": [
    {
     "name": "stdout",
     "output_type": "stream",
     "text": [
      "p-value:  2.2265321241808214e-196\n",
      "Отвергаем нулевую гипотезу\n"
     ]
    }
   ],
   "source": [
    "alpha=0.05\n",
    "results = ttest_ind(churned_e, not_churned_e, equal_var=False)\n",
    "print('p-value: ', results.pvalue)\n",
    "if results.pvalue<alpha:\n",
    "    print('Отвергаем нулевую гипотезу')\n",
    "else:\n",
    "    print('Не получилось отвергнуть нулевую гипотезу')"
   ]
  },
  {
   "cell_type": "markdown",
   "metadata": {},
   "source": [
    "**Вывод**  \n",
    "Среднее количество баллов собственности клиентов, которые остались в банке, отличаются от среднего количества баллов собственности клиентов, которые ушли.\n"
   ]
  },
  {
   "cell_type": "markdown",
   "metadata": {},
   "source": [
    "## Основные выводы"
   ]
  },
  {
   "cell_type": "markdown",
   "metadata": {},
   "source": [
    "Основными показателями, влияющими на отток клиентов из банка, являются следующие:   \n",
    "\n",
    "**1. Кредитный скоринг от 825 до 910;**  \n",
    "**2. Возраст 24-36 и 50-60 лет;**  \n",
    "**3. Количество баллов собственности от 3 и выше;**  \n",
    "**4. Пол - мужской;**  \n",
    "**5. Количество продуктов 3 и более;**  \n",
    "**6. Отсутствие кредитной карты;**  \n",
    "**7. Не активны в течение последних 30 дней.**\n",
    "\n",
    "Заметная связь присутствует между показателями Кредитного скоринга и Количества баллов собственности: следует разделить данные показатели при сегментации.\n",
    "\n",
    "Умеренная связь между показателями Количества продуктов и Наличием кредитной карты, что логично, т.к. при условии, что у человека имеется кредитная карта, он автоматически обладает +1 продуктом в банке.  \n",
    "\n",
    "Умеренная связь между Количествои продуктов и Количеством баллов собственности"
   ]
  },
  {
   "cell_type": "markdown",
   "metadata": {},
   "source": [
    "## Сегментация пользователей"
   ]
  },
  {
   "cell_type": "code",
   "execution_count": 36,
   "metadata": {},
   "outputs": [
    {
     "name": "stdout",
     "output_type": "stream",
     "text": [
      "Cредний уровень оттока по банку:  0.18\n"
     ]
    }
   ],
   "source": [
    "# Сегмент 1: Клиенты в возрасте от 25 до 35, у которых нет кредитной карты \n",
    "segment_1 = df[(df['credit_card'] == 0) & ((df['age'] >= 24) & (df['age'] <= 36))]\n",
    "\n",
    "# Сегмент 2: Мужчины, у которых 3 и более продукта в банке\n",
    "segment_2 = df[(df['products'] >= 3) & (df['gender'] == 'М')]\n",
    "\n",
    "# Сегмент 3: Клиенты в возрасте от 50 до 60 лет, у которых более 3 баллов собственности и кредитный скоринг от 835 до 910\n",
    "segment_3 = df[((df['score'] >= 825) & (df['score'] <= 910)) & ((df['age'] >= 50) & (df['age'] <= 60)) & (df['equity'] >= 3)]\n",
    "\n",
    "# Сегмент 4: Клиенты, у которых 3 и более продукта в банке, которые не были активны в течение последних 30 дней\n",
    "segment_4 = df[(df['products'] >= 3)&(df['last_activity'] == 0)]\n",
    "\n",
    "print('Cредний уровень оттока по банку: ', round(df['churn'].mean(), 2))"
   ]
  },
  {
   "cell_type": "code",
   "execution_count": 37,
   "metadata": {},
   "outputs": [
    {
     "name": "stdout",
     "output_type": "stream",
     "text": [
      "Сегмент 1: Клиенты в возрасте от 24 до 36, у которых нет кредитной карты:\n",
      "Клиентов в сегменте: 966\n",
      "Ушедшие клиенты в сегменте: 324\n",
      "Доля ушедших клиентов в сегменте: 33.54%\n",
      "\n",
      "Сегмент 2: Мужчины, у которых 3 и более продукта в банке:\n",
      "Клиентов в сегменте: 752\n",
      "Ушедшие клиенты в сегменте: 376\n",
      "Доля ушедших клиентов в сегменте: 50.00%\n",
      "\n",
      "Сегмент 3: Клиенты в возрасте от 50 до 60 лет, у которых более 3 баллов собственности и кредитный скоринг от 835 до 910:\n",
      "Клиентов в сегменте: 562\n",
      "Ушедшие клиенты в сегменте: 227\n",
      "Доля ушедших клиентов в сегменте: 40.39%\n",
      "\n",
      "Сегмент 4: Клиенты, у которых 3 и более продукта в банке, которые не были активны в течение последних 30 дней:\n",
      "Клиентов в сегменте: 708\n",
      "Ушедшие клиенты в сегменте: 214\n",
      "Доля ушедших клиентов в сегменте: 30.23%\n",
      "\n"
     ]
    }
   ],
   "source": [
    "# Функция для анализа сегментов\n",
    "def analyze_segment(segment, segment_name):\n",
    "    total_clients = segment.shape[0]\n",
    "    churned_clients = segment[segment['churn'] == 1].shape[0]\n",
    "    churn_rate = churned_clients / total_clients \n",
    "    print(f'{segment_name}:')\n",
    "    print(f'Клиентов в сегменте: {total_clients}')\n",
    "    print(f'Ушедшие клиенты в сегменте: {churned_clients}')\n",
    "    print(f'Доля ушедших клиентов в сегменте: {churn_rate:.2%}\\n')\n",
    "    return total_clients, churned_clients, churn_rate\n",
    "\n",
    "segments = {\n",
    "    'Сегмент 1: Клиенты в возрасте от 24 до 36, у которых нет кредитной карты': segment_1,\n",
    "    'Сегмент 2: Мужчины, у которых 3 и более продукта в банке': segment_2,\n",
    "    'Сегмент 3: Клиенты в возрасте от 50 до 60 лет, у которых более 3 баллов собственности и кредитный скоринг от 835 до 910': segment_3,\n",
    "    'Сегмент 4: Клиенты, у которых 3 и более продукта в банке, которые не были активны в течение последних 30 дней' : segment_4}\n",
    "\n",
    "for segment_name, segment in segments.items():\n",
    "    analyze_segment(segment, segment_name)"
   ]
  },
  {
   "cell_type": "markdown",
   "metadata": {},
   "source": [
    "## Приоритизация сегментов"
   ]
  },
  {
   "cell_type": "markdown",
   "metadata": {},
   "source": [
    "**Сегмент 2: Мужчины, у которых 3 и более продукта в банке**  \n",
    "Высокая доля ушедших клиентов (50.00%)  \n",
    "Значительное количество ушедших клиентов (376)\n",
    "\n",
    "*Этот сегмент имеет наибольшую долю ушедших клиентов, что указывает на высокую вероятность оттока. Кроме того, 376 ушедших клиентов представляют собой значительное количество, что делает этот сегмент приоритетным для работы.*\n",
    "\n",
    "\n",
    "**Сегмент 3: Клиенты в возрасте от 50 до 60 лет, у которых более 3 баллов собственности и кредитный скоринг от 835 до 910**   \n",
    "Высокая доля ушедших клиентов (40.39%)  \n",
    "Умеренное количество ушедших клиентов (227)  \n",
    "\n",
    "*Несмотря на меньшее количество клиентов, чем в сегменте 1, этот сегмент имеет более высокую долю ушедших клиентов, что также указывает на высокую вероятность оттока.*\n",
    "\n",
    "**Сегмент 1: Клиенты в возрасте от 24 до 36, у которых нет кредитной карты**  \n",
    "Высокая доля ушедших клиентов (33.54%)  \n",
    "Большое количество ушедших клиентов (324)\n",
    "\n",
    "*Этот сегмент имеет большую базу клиентов и значительное количество ушедших клиентов. Хотя доля ушедших клиентов ниже, чем в сегменте 3, этот сегмент все еще важен для работы.*\n",
    "\n",
    "**Сегмент 4: Клиенты, у которых 3 и более продукта в банке, которые не были активны в течение последних 30 дней**  \n",
    "Умеренная доля ушедших клиентов (30.23%)  \n",
    "Значительное количество ушедших клиентов (214)\n",
    "\n",
    "*Этот сегмент имеет наименьшую долю ушедших клиентов среди всех сегментов, но количество ушедших клиентов все еще значительное. Этот сегмент будет последним в приоритете, но его не следует игнорировать.*"
   ]
  },
  {
   "cell_type": "markdown",
   "metadata": {},
   "source": [
    "## Рекомендации"
   ]
  },
  {
   "cell_type": "markdown",
   "metadata": {},
   "source": [
    "**Сегмент 2: Мужчины, у которых 3 и более продукта в банке**"
   ]
  },
  {
   "cell_type": "markdown",
   "metadata": {},
   "source": [
    "1. Внедрение элементов геймификации в банковские продукты. Например, начисление \"игровых\" баллов за выполнение различных банковских операций, таких как регулярные переводы, пополнение счетов и использование кредитных карт. Соответственно, чем больше у клиента продуктов, тем больше вариаинтов получения баллов. Баллы затем можно обменивать на скидку у партнеров, которые в основном ориентированы на мужскую аудиторию: спортивные товары, строительные материалы, заправки и т.д.\n",
    "\n",
    "\n",
    "\n",
    "2. Введение специальных кэшбэк-программ на категории, которые могут быть интересны мужчинам (спортивные товары, электроника, автоаксессуары и путешествия)"
   ]
  },
  {
   "cell_type": "markdown",
   "metadata": {},
   "source": [
    "\n",
    "**Сегмент 3: Клиенты в возрасте от 50 до 60 лет, у которых более 3 баллов собственности и кредитный скоринг от 835 до 910** "
   ]
  },
  {
   "cell_type": "markdown",
   "metadata": {},
   "source": [
    "1. Партнерство с медицинскими учреждениями для предоставления скидок и бонусов на медицинские услуги, санатории и кэшбэков в аптеках.\n",
    "\n",
    "\n",
    "2. Введение специализированных программ и консультаций по пенсионному планированию, которые помогут клиентам этой возрастной группы подготовиться к выходу на пенсию."
   ]
  },
  {
   "cell_type": "markdown",
   "metadata": {},
   "source": [
    "**Сегмент 1: Клиенты в возрасте от 24 до 36, у которых нет кредитной карты**  "
   ]
  },
  {
   "cell_type": "markdown",
   "metadata": {},
   "source": [
    "1. Выпуск кредитных карт с особыми преимуществами для молодых клиентов (кэшбэк на образование, путешествия и т.д.) и беспроцентным обслуживание на первые 3 месяца."
   ]
  },
  {
   "cell_type": "markdown",
   "metadata": {},
   "source": [
    "**Сегмент 4: Клиенты, у которых 3 и более продукта в банке, которые не были активны в течение последних 30 дней**  "
   ]
  },
  {
   "cell_type": "markdown",
   "metadata": {},
   "source": [
    "1. Предоставление клиентам временного доступа к премиальным услугам банка\n",
    "\n",
    "\n",
    "2. Напоминание (уведомление) клиентам о специальных предложениях, которые действуют на их продукты (например, бонусы, начисляемые на счет за пользование продуктом в течение следующего месяца)"
   ]
  },
  {
   "cell_type": "markdown",
   "metadata": {},
   "source": [
    "Ссылка на презентацию: <https://drive.google.com/file/d/1KkzYjsvQkVcQIYGxIHt-Fmo2G7q3rho0/view?usp=sharing>"
   ]
  }
 ],
 "metadata": {
  "ExecuteTimeLog": [
   {
    "duration": 54,
    "start_time": "2024-06-06T16:45:52.496Z"
   },
   {
    "duration": 1249,
    "start_time": "2024-06-06T16:47:25.826Z"
   },
   {
    "duration": 77,
    "start_time": "2024-06-06T16:47:28.257Z"
   },
   {
    "duration": 20,
    "start_time": "2024-06-06T16:47:46.811Z"
   },
   {
    "duration": 14,
    "start_time": "2024-06-06T16:47:55.141Z"
   },
   {
    "duration": 4,
    "start_time": "2024-06-06T16:48:25.144Z"
   },
   {
    "duration": 5,
    "start_time": "2024-06-06T16:48:33.037Z"
   },
   {
    "duration": 1211,
    "start_time": "2024-06-07T09:02:36.297Z"
   },
   {
    "duration": 70,
    "start_time": "2024-06-07T09:02:37.510Z"
   },
   {
    "duration": 15,
    "start_time": "2024-06-07T09:02:37.581Z"
   },
   {
    "duration": 11,
    "start_time": "2024-06-07T09:02:37.597Z"
   },
   {
    "duration": 2,
    "start_time": "2024-06-07T09:02:37.609Z"
   },
   {
    "duration": 5,
    "start_time": "2024-06-07T09:02:37.613Z"
   },
   {
    "duration": 4,
    "start_time": "2024-06-07T09:20:42.059Z"
   },
   {
    "duration": 16,
    "start_time": "2024-06-07T09:20:44.290Z"
   },
   {
    "duration": 4,
    "start_time": "2024-06-07T09:36:09.251Z"
   },
   {
    "duration": 90,
    "start_time": "2024-06-07T09:36:36.359Z"
   },
   {
    "duration": 19,
    "start_time": "2024-06-07T09:37:06.081Z"
   },
   {
    "duration": 8,
    "start_time": "2024-06-07T09:46:30.528Z"
   },
   {
    "duration": 15,
    "start_time": "2024-06-07T09:46:38.786Z"
   },
   {
    "duration": 16,
    "start_time": "2024-06-07T09:46:45.074Z"
   },
   {
    "duration": 10,
    "start_time": "2024-06-07T09:47:00.109Z"
   },
   {
    "duration": 16,
    "start_time": "2024-06-07T09:47:05.912Z"
   },
   {
    "duration": 10,
    "start_time": "2024-06-07T09:48:27.575Z"
   },
   {
    "duration": 1135,
    "start_time": "2024-06-07T09:48:32.766Z"
   },
   {
    "duration": 106,
    "start_time": "2024-06-07T09:48:33.903Z"
   },
   {
    "duration": 16,
    "start_time": "2024-06-07T09:48:34.010Z"
   },
   {
    "duration": 10,
    "start_time": "2024-06-07T09:48:34.027Z"
   },
   {
    "duration": 3,
    "start_time": "2024-06-07T09:48:34.038Z"
   },
   {
    "duration": 7,
    "start_time": "2024-06-07T09:48:34.042Z"
   },
   {
    "duration": 9,
    "start_time": "2024-06-07T09:48:34.050Z"
   },
   {
    "duration": 18,
    "start_time": "2024-06-07T09:48:34.060Z"
   },
   {
    "duration": 4,
    "start_time": "2024-06-07T09:48:34.084Z"
   },
   {
    "duration": 11,
    "start_time": "2024-06-07T09:48:34.090Z"
   },
   {
    "duration": 790,
    "start_time": "2024-06-07T09:48:34.102Z"
   },
   {
    "duration": 3238,
    "start_time": "2024-06-07T09:55:11.970Z"
   },
   {
    "duration": 56,
    "start_time": "2024-06-07T09:55:26.890Z"
   },
   {
    "duration": 692,
    "start_time": "2024-06-07T09:57:03.312Z"
   },
   {
    "duration": 2425,
    "start_time": "2024-06-07T09:57:31.248Z"
   },
   {
    "duration": 2490,
    "start_time": "2024-06-07T09:57:51.352Z"
   },
   {
    "duration": 1105,
    "start_time": "2024-06-07T09:57:53.844Z"
   },
   {
    "duration": 95,
    "start_time": "2024-06-07T09:57:54.950Z"
   },
   {
    "duration": 15,
    "start_time": "2024-06-07T09:57:55.047Z"
   },
   {
    "duration": 18,
    "start_time": "2024-06-07T09:57:55.063Z"
   },
   {
    "duration": 14,
    "start_time": "2024-06-07T09:57:55.083Z"
   },
   {
    "duration": 14,
    "start_time": "2024-06-07T09:57:55.099Z"
   },
   {
    "duration": 7,
    "start_time": "2024-06-07T09:57:55.114Z"
   },
   {
    "duration": 1727,
    "start_time": "2024-06-07T09:57:55.122Z"
   },
   {
    "duration": 5,
    "start_time": "2024-06-07T09:57:56.852Z"
   },
   {
    "duration": 4,
    "start_time": "2024-06-07T09:57:56.858Z"
   },
   {
    "duration": 108,
    "start_time": "2024-06-07T09:57:56.863Z"
   },
   {
    "duration": 2,
    "start_time": "2024-06-07T10:00:31.916Z"
   },
   {
    "duration": 7,
    "start_time": "2024-06-07T10:00:51.506Z"
   },
   {
    "duration": 3,
    "start_time": "2024-06-07T10:00:54.399Z"
   },
   {
    "duration": 4,
    "start_time": "2024-06-07T10:02:56.759Z"
   },
   {
    "duration": 65,
    "start_time": "2024-06-07T10:03:04.527Z"
   },
   {
    "duration": 2524,
    "start_time": "2024-06-07T10:03:45.519Z"
   },
   {
    "duration": 1129,
    "start_time": "2024-06-07T10:03:48.045Z"
   },
   {
    "duration": 74,
    "start_time": "2024-06-07T10:03:49.178Z"
   },
   {
    "duration": 4,
    "start_time": "2024-06-07T10:03:49.254Z"
   },
   {
    "duration": 75,
    "start_time": "2024-06-07T10:03:49.260Z"
   },
   {
    "duration": 4,
    "start_time": "2024-06-07T10:03:49.336Z"
   },
   {
    "duration": 18,
    "start_time": "2024-06-07T10:03:49.341Z"
   },
   {
    "duration": 35,
    "start_time": "2024-06-07T10:03:49.360Z"
   },
   {
    "duration": 18,
    "start_time": "2024-06-07T10:03:49.397Z"
   },
   {
    "duration": 18,
    "start_time": "2024-06-07T10:03:49.417Z"
   },
   {
    "duration": 24,
    "start_time": "2024-06-07T10:03:49.437Z"
   },
   {
    "duration": 941,
    "start_time": "2024-06-07T10:03:49.463Z"
   },
   {
    "duration": 4,
    "start_time": "2024-06-07T10:05:23.261Z"
   },
   {
    "duration": 62,
    "start_time": "2024-06-07T10:05:23.804Z"
   },
   {
    "duration": 4,
    "start_time": "2024-06-07T10:06:34.372Z"
   },
   {
    "duration": 77,
    "start_time": "2024-06-07T10:06:35.847Z"
   },
   {
    "duration": 4,
    "start_time": "2024-06-07T10:06:48.964Z"
   },
   {
    "duration": 55,
    "start_time": "2024-06-07T10:06:50.327Z"
   },
   {
    "duration": 6,
    "start_time": "2024-06-07T10:11:56.166Z"
   },
   {
    "duration": 94,
    "start_time": "2024-06-07T10:11:56.752Z"
   },
   {
    "duration": 5,
    "start_time": "2024-06-07T10:12:42.336Z"
   },
   {
    "duration": 69,
    "start_time": "2024-06-07T10:12:42.882Z"
   },
   {
    "duration": 4,
    "start_time": "2024-06-07T10:14:17.003Z"
   },
   {
    "duration": 85,
    "start_time": "2024-06-07T10:14:18.543Z"
   },
   {
    "duration": 2490,
    "start_time": "2024-06-07T10:16:15.872Z"
   },
   {
    "duration": 1190,
    "start_time": "2024-06-07T10:16:18.364Z"
   },
   {
    "duration": 60,
    "start_time": "2024-06-07T10:16:19.555Z"
   },
   {
    "duration": 5,
    "start_time": "2024-06-07T10:16:19.616Z"
   },
   {
    "duration": 167,
    "start_time": "2024-06-07T10:16:19.624Z"
   },
   {
    "duration": 0,
    "start_time": "2024-06-07T10:16:19.793Z"
   },
   {
    "duration": 0,
    "start_time": "2024-06-07T10:16:19.794Z"
   },
   {
    "duration": 0,
    "start_time": "2024-06-07T10:16:19.794Z"
   },
   {
    "duration": 0,
    "start_time": "2024-06-07T10:16:19.795Z"
   },
   {
    "duration": 0,
    "start_time": "2024-06-07T10:16:19.796Z"
   },
   {
    "duration": 0,
    "start_time": "2024-06-07T10:16:19.797Z"
   },
   {
    "duration": 0,
    "start_time": "2024-06-07T10:16:19.798Z"
   },
   {
    "duration": 7,
    "start_time": "2024-06-07T10:16:54.894Z"
   },
   {
    "duration": 66,
    "start_time": "2024-06-07T10:16:55.268Z"
   },
   {
    "duration": 7,
    "start_time": "2024-06-07T10:17:02.471Z"
   },
   {
    "duration": 66,
    "start_time": "2024-06-07T10:17:02.803Z"
   },
   {
    "duration": 3,
    "start_time": "2024-06-07T10:19:57.885Z"
   },
   {
    "duration": 4,
    "start_time": "2024-06-07T10:19:59.175Z"
   },
   {
    "duration": 57,
    "start_time": "2024-06-07T10:20:29.210Z"
   },
   {
    "duration": 18,
    "start_time": "2024-06-07T10:20:31.991Z"
   },
   {
    "duration": 3515,
    "start_time": "2024-06-07T13:30:16.001Z"
   },
   {
    "duration": 1400,
    "start_time": "2024-06-07T13:30:19.518Z"
   },
   {
    "duration": 159,
    "start_time": "2024-06-07T13:30:20.919Z"
   },
   {
    "duration": 5,
    "start_time": "2024-06-07T13:30:21.079Z"
   },
   {
    "duration": 79,
    "start_time": "2024-06-07T13:30:21.086Z"
   },
   {
    "duration": 4,
    "start_time": "2024-06-07T13:30:21.166Z"
   },
   {
    "duration": 11,
    "start_time": "2024-06-07T13:30:21.171Z"
   },
   {
    "duration": 6,
    "start_time": "2024-06-07T13:30:21.183Z"
   },
   {
    "duration": 5,
    "start_time": "2024-06-07T13:30:21.190Z"
   },
   {
    "duration": 4,
    "start_time": "2024-06-07T13:30:21.196Z"
   },
   {
    "duration": 20,
    "start_time": "2024-06-07T13:30:21.201Z"
   },
   {
    "duration": 833,
    "start_time": "2024-06-07T13:30:21.222Z"
   },
   {
    "duration": 4,
    "start_time": "2024-06-07T13:31:50.073Z"
   },
   {
    "duration": 4,
    "start_time": "2024-06-07T13:31:51.461Z"
   },
   {
    "duration": 22,
    "start_time": "2024-06-07T13:31:55.956Z"
   },
   {
    "duration": 8,
    "start_time": "2024-06-07T13:35:45.962Z"
   },
   {
    "duration": 19,
    "start_time": "2024-06-07T13:35:52.861Z"
   },
   {
    "duration": 11,
    "start_time": "2024-06-07T13:37:31.149Z"
   },
   {
    "duration": 2460,
    "start_time": "2024-06-07T13:37:42.911Z"
   },
   {
    "duration": 1114,
    "start_time": "2024-06-07T13:37:45.373Z"
   },
   {
    "duration": 70,
    "start_time": "2024-06-07T13:37:46.488Z"
   },
   {
    "duration": 4,
    "start_time": "2024-06-07T13:37:46.560Z"
   },
   {
    "duration": 109,
    "start_time": "2024-06-07T13:37:46.565Z"
   },
   {
    "duration": 4,
    "start_time": "2024-06-07T13:37:46.675Z"
   },
   {
    "duration": 9,
    "start_time": "2024-06-07T13:37:46.680Z"
   },
   {
    "duration": 29,
    "start_time": "2024-06-07T13:37:46.691Z"
   },
   {
    "duration": 19,
    "start_time": "2024-06-07T13:37:46.721Z"
   },
   {
    "duration": 2,
    "start_time": "2024-06-07T13:37:46.743Z"
   },
   {
    "duration": 6,
    "start_time": "2024-06-07T13:37:46.746Z"
   },
   {
    "duration": 6,
    "start_time": "2024-06-07T13:37:46.753Z"
   },
   {
    "duration": 1220,
    "start_time": "2024-06-07T13:37:46.761Z"
   },
   {
    "duration": 2567,
    "start_time": "2024-06-07T13:47:01.145Z"
   },
   {
    "duration": 1186,
    "start_time": "2024-06-07T13:47:03.714Z"
   },
   {
    "duration": 81,
    "start_time": "2024-06-07T13:47:04.902Z"
   },
   {
    "duration": 4,
    "start_time": "2024-06-07T13:47:04.985Z"
   },
   {
    "duration": 80,
    "start_time": "2024-06-07T13:47:04.991Z"
   },
   {
    "duration": 3,
    "start_time": "2024-06-07T13:47:05.072Z"
   },
   {
    "duration": 40,
    "start_time": "2024-06-07T13:47:05.076Z"
   },
   {
    "duration": 2,
    "start_time": "2024-06-07T13:47:05.117Z"
   },
   {
    "duration": 8,
    "start_time": "2024-06-07T13:47:05.120Z"
   },
   {
    "duration": 6,
    "start_time": "2024-06-07T13:47:05.130Z"
   },
   {
    "duration": 18,
    "start_time": "2024-06-07T13:47:05.137Z"
   },
   {
    "duration": 14,
    "start_time": "2024-06-07T13:47:05.156Z"
   },
   {
    "duration": 17,
    "start_time": "2024-06-07T13:47:05.171Z"
   },
   {
    "duration": 558,
    "start_time": "2024-06-07T13:47:12.588Z"
   },
   {
    "duration": 2112,
    "start_time": "2024-06-07T13:47:58.011Z"
   },
   {
    "duration": 16545,
    "start_time": "2024-06-07T13:50:44.271Z"
   },
   {
    "duration": 495,
    "start_time": "2024-06-07T13:56:15.305Z"
   },
   {
    "duration": 1537,
    "start_time": "2024-06-07T13:56:42.363Z"
   },
   {
    "duration": 1331,
    "start_time": "2024-06-07T13:56:46.681Z"
   },
   {
    "duration": 507,
    "start_time": "2024-06-07T13:56:58.154Z"
   },
   {
    "duration": 482,
    "start_time": "2024-06-07T13:57:35.803Z"
   },
   {
    "duration": 460,
    "start_time": "2024-06-07T13:57:40.909Z"
   },
   {
    "duration": 506,
    "start_time": "2024-06-07T13:58:17.043Z"
   },
   {
    "duration": 16632,
    "start_time": "2024-06-07T13:59:33.929Z"
   },
   {
    "duration": 16785,
    "start_time": "2024-06-07T14:01:18.435Z"
   },
   {
    "duration": 487,
    "start_time": "2024-06-07T14:01:41.396Z"
   },
   {
    "duration": 103,
    "start_time": "2024-06-07T14:01:52.896Z"
   },
   {
    "duration": 496,
    "start_time": "2024-06-07T14:02:11.716Z"
   },
   {
    "duration": 98,
    "start_time": "2024-06-07T14:02:17.276Z"
   },
   {
    "duration": 469,
    "start_time": "2024-06-07T14:02:31.873Z"
   },
   {
    "duration": 464,
    "start_time": "2024-06-07T14:02:37.490Z"
   },
   {
    "duration": 104,
    "start_time": "2024-06-07T14:02:45.440Z"
   },
   {
    "duration": 494,
    "start_time": "2024-06-07T14:03:12.050Z"
   },
   {
    "duration": 164,
    "start_time": "2024-06-07T14:03:25.573Z"
   },
   {
    "duration": 480,
    "start_time": "2024-06-07T14:03:43.502Z"
   },
   {
    "duration": 100,
    "start_time": "2024-06-07T14:04:22.265Z"
   },
   {
    "duration": 455,
    "start_time": "2024-06-07T14:05:00.468Z"
   },
   {
    "duration": 483,
    "start_time": "2024-06-07T14:05:08.043Z"
   },
   {
    "duration": 101,
    "start_time": "2024-06-07T14:05:15.351Z"
   },
   {
    "duration": 460,
    "start_time": "2024-06-07T14:05:36.973Z"
   },
   {
    "duration": 106,
    "start_time": "2024-06-07T14:05:47.036Z"
   },
   {
    "duration": 489,
    "start_time": "2024-06-07T14:07:52.155Z"
   },
   {
    "duration": 547,
    "start_time": "2024-06-07T14:15:09.077Z"
   },
   {
    "duration": 750,
    "start_time": "2024-06-07T14:16:21.015Z"
   },
   {
    "duration": 960,
    "start_time": "2024-06-07T14:16:27.680Z"
   },
   {
    "duration": 462,
    "start_time": "2024-06-07T14:16:33.211Z"
   },
   {
    "duration": 700,
    "start_time": "2024-06-07T14:16:40.590Z"
   },
   {
    "duration": 476,
    "start_time": "2024-06-07T14:16:55.935Z"
   },
   {
    "duration": 3,
    "start_time": "2024-06-07T14:17:38.819Z"
   },
   {
    "duration": 10,
    "start_time": "2024-06-07T14:17:56.214Z"
   },
   {
    "duration": 5,
    "start_time": "2024-06-07T14:17:59.969Z"
   },
   {
    "duration": 20,
    "start_time": "2024-06-07T14:21:20.468Z"
   },
   {
    "duration": 23,
    "start_time": "2024-06-07T14:21:48.742Z"
   },
   {
    "duration": 25,
    "start_time": "2024-06-07T14:22:27.249Z"
   },
   {
    "duration": 4,
    "start_time": "2024-06-07T14:25:33.322Z"
   },
   {
    "duration": 16,
    "start_time": "2024-06-07T14:25:36.186Z"
   },
   {
    "duration": 6,
    "start_time": "2024-06-07T14:32:35.975Z"
   },
   {
    "duration": 5,
    "start_time": "2024-06-07T14:32:36.981Z"
   },
   {
    "duration": 2469,
    "start_time": "2024-06-07T14:32:43.823Z"
   },
   {
    "duration": 1607,
    "start_time": "2024-06-07T14:32:46.294Z"
   },
   {
    "duration": 249,
    "start_time": "2024-06-07T14:32:47.902Z"
   },
   {
    "duration": 4,
    "start_time": "2024-06-07T14:32:48.152Z"
   },
   {
    "duration": 77,
    "start_time": "2024-06-07T14:32:48.159Z"
   },
   {
    "duration": 3,
    "start_time": "2024-06-07T14:32:48.237Z"
   },
   {
    "duration": 7,
    "start_time": "2024-06-07T14:32:48.241Z"
   },
   {
    "duration": 4,
    "start_time": "2024-06-07T14:32:48.249Z"
   },
   {
    "duration": 16933,
    "start_time": "2024-06-07T14:32:48.254Z"
   },
   {
    "duration": 566,
    "start_time": "2024-06-07T14:33:05.188Z"
   },
   {
    "duration": 5,
    "start_time": "2024-06-07T14:33:05.755Z"
   },
   {
    "duration": 17,
    "start_time": "2024-06-07T14:33:05.761Z"
   },
   {
    "duration": 64,
    "start_time": "2024-06-07T14:33:05.779Z"
   },
   {
    "duration": 13,
    "start_time": "2024-06-07T14:37:22.346Z"
   },
   {
    "duration": 4,
    "start_time": "2024-06-07T14:39:13.079Z"
   },
   {
    "duration": 5,
    "start_time": "2024-06-07T14:40:10.376Z"
   },
   {
    "duration": 3,
    "start_time": "2024-06-07T14:40:11.348Z"
   },
   {
    "duration": 11,
    "start_time": "2024-06-07T14:40:35.499Z"
   },
   {
    "duration": 2505,
    "start_time": "2024-06-07T14:41:11.507Z"
   },
   {
    "duration": 1161,
    "start_time": "2024-06-07T14:41:14.016Z"
   },
   {
    "duration": 55,
    "start_time": "2024-06-07T14:41:15.179Z"
   },
   {
    "duration": 5,
    "start_time": "2024-06-07T14:41:15.235Z"
   },
   {
    "duration": 96,
    "start_time": "2024-06-07T14:41:15.242Z"
   },
   {
    "duration": 3,
    "start_time": "2024-06-07T14:41:15.340Z"
   },
   {
    "duration": 8,
    "start_time": "2024-06-07T14:41:15.345Z"
   },
   {
    "duration": 16480,
    "start_time": "2024-06-07T14:41:15.355Z"
   },
   {
    "duration": 570,
    "start_time": "2024-06-07T14:41:31.837Z"
   },
   {
    "duration": 12,
    "start_time": "2024-06-07T14:41:32.408Z"
   },
   {
    "duration": 6,
    "start_time": "2024-06-07T14:41:32.421Z"
   },
   {
    "duration": 11,
    "start_time": "2024-06-07T14:41:32.428Z"
   },
   {
    "duration": 9,
    "start_time": "2024-06-07T14:41:32.441Z"
   },
   {
    "duration": 95,
    "start_time": "2024-06-07T14:55:10.361Z"
   },
   {
    "duration": 3457,
    "start_time": "2024-06-08T12:16:07.563Z"
   },
   {
    "duration": 1325,
    "start_time": "2024-06-08T12:16:11.022Z"
   },
   {
    "duration": 62,
    "start_time": "2024-06-08T12:16:12.348Z"
   },
   {
    "duration": 5,
    "start_time": "2024-06-08T12:16:12.411Z"
   },
   {
    "duration": 141,
    "start_time": "2024-06-08T12:16:12.417Z"
   },
   {
    "duration": 3,
    "start_time": "2024-06-08T12:16:12.559Z"
   },
   {
    "duration": 22,
    "start_time": "2024-06-08T12:16:12.564Z"
   },
   {
    "duration": 16752,
    "start_time": "2024-06-08T12:16:12.587Z"
   },
   {
    "duration": 653,
    "start_time": "2024-06-08T12:16:29.341Z"
   },
   {
    "duration": 5,
    "start_time": "2024-06-08T12:16:29.996Z"
   },
   {
    "duration": 4,
    "start_time": "2024-06-08T12:16:30.002Z"
   },
   {
    "duration": 46,
    "start_time": "2024-06-08T12:16:30.008Z"
   },
   {
    "duration": 181,
    "start_time": "2024-06-08T12:16:30.055Z"
   },
   {
    "duration": 47,
    "start_time": "2024-06-08T12:23:40.673Z"
   },
   {
    "duration": 2552,
    "start_time": "2024-06-08T12:23:46.866Z"
   },
   {
    "duration": 1137,
    "start_time": "2024-06-08T12:23:49.420Z"
   },
   {
    "duration": 67,
    "start_time": "2024-06-08T12:23:50.558Z"
   },
   {
    "duration": 4,
    "start_time": "2024-06-08T12:23:50.627Z"
   },
   {
    "duration": 78,
    "start_time": "2024-06-08T12:23:50.633Z"
   },
   {
    "duration": 3,
    "start_time": "2024-06-08T12:23:50.712Z"
   },
   {
    "duration": 5,
    "start_time": "2024-06-08T12:23:50.716Z"
   },
   {
    "duration": 16855,
    "start_time": "2024-06-08T12:23:50.722Z"
   },
   {
    "duration": 662,
    "start_time": "2024-06-08T12:24:07.578Z"
   },
   {
    "duration": 5,
    "start_time": "2024-06-08T12:24:08.242Z"
   },
   {
    "duration": 13,
    "start_time": "2024-06-08T12:24:08.248Z"
   },
   {
    "duration": 12,
    "start_time": "2024-06-08T12:24:08.263Z"
   },
   {
    "duration": 230,
    "start_time": "2024-06-08T12:24:08.276Z"
   },
   {
    "duration": 901,
    "start_time": "2024-06-08T12:26:36.981Z"
   },
   {
    "duration": 4,
    "start_time": "2024-06-08T12:26:44.924Z"
   },
   {
    "duration": 4,
    "start_time": "2024-06-08T12:26:53.663Z"
   },
   {
    "duration": 1092,
    "start_time": "2024-06-08T12:27:02.570Z"
   },
   {
    "duration": 210,
    "start_time": "2024-06-08T12:27:14.380Z"
   },
   {
    "duration": 181,
    "start_time": "2024-06-08T12:27:21.136Z"
   },
   {
    "duration": 168,
    "start_time": "2024-06-08T12:27:25.629Z"
   },
   {
    "duration": 285,
    "start_time": "2024-06-08T12:27:47.885Z"
   },
   {
    "duration": 212,
    "start_time": "2024-06-08T12:27:58.612Z"
   },
   {
    "duration": 191,
    "start_time": "2024-06-08T12:31:22.837Z"
   },
   {
    "duration": 212,
    "start_time": "2024-06-08T12:31:33.039Z"
   },
   {
    "duration": 187,
    "start_time": "2024-06-08T12:31:38.039Z"
   },
   {
    "duration": 194,
    "start_time": "2024-06-08T12:32:02.870Z"
   },
   {
    "duration": 7,
    "start_time": "2024-06-08T12:32:52.779Z"
   },
   {
    "duration": 102,
    "start_time": "2024-06-08T12:34:09.759Z"
   },
   {
    "duration": 220,
    "start_time": "2024-06-08T12:45:43.183Z"
   },
   {
    "duration": 209,
    "start_time": "2024-06-08T12:45:57.217Z"
   },
   {
    "duration": 209,
    "start_time": "2024-06-08T12:46:10.891Z"
   },
   {
    "duration": 273,
    "start_time": "2024-06-08T12:50:34.143Z"
   },
   {
    "duration": 205,
    "start_time": "2024-06-08T12:50:39.292Z"
   },
   {
    "duration": 200,
    "start_time": "2024-06-08T12:50:46.951Z"
   },
   {
    "duration": 440,
    "start_time": "2024-06-08T12:52:32.099Z"
   },
   {
    "duration": 216,
    "start_time": "2024-06-08T12:52:37.769Z"
   },
   {
    "duration": 1138,
    "start_time": "2024-06-08T12:55:30.665Z"
   },
   {
    "duration": 216,
    "start_time": "2024-06-08T12:55:44.687Z"
   },
   {
    "duration": 58,
    "start_time": "2024-06-08T12:59:18.629Z"
   },
   {
    "duration": 3,
    "start_time": "2024-06-08T12:59:23.263Z"
   },
   {
    "duration": 209,
    "start_time": "2024-06-08T13:00:33.706Z"
   },
   {
    "duration": 256,
    "start_time": "2024-06-08T13:01:14.702Z"
   },
   {
    "duration": 199,
    "start_time": "2024-06-08T13:01:21.554Z"
   },
   {
    "duration": 217,
    "start_time": "2024-06-08T13:01:41.027Z"
   },
   {
    "duration": 197,
    "start_time": "2024-06-08T13:01:59.431Z"
   },
   {
    "duration": 340,
    "start_time": "2024-06-08T13:03:05.680Z"
   },
   {
    "duration": 199,
    "start_time": "2024-06-08T13:30:57.541Z"
   },
   {
    "duration": 235,
    "start_time": "2024-06-08T13:31:02.835Z"
   },
   {
    "duration": 219,
    "start_time": "2024-06-08T13:31:18.709Z"
   },
   {
    "duration": 200,
    "start_time": "2024-06-08T13:31:22.968Z"
   },
   {
    "duration": 233,
    "start_time": "2024-06-08T13:32:17.731Z"
   },
   {
    "duration": 201,
    "start_time": "2024-06-08T13:32:27.370Z"
   },
   {
    "duration": 68,
    "start_time": "2024-06-08T13:33:33.608Z"
   },
   {
    "duration": 208,
    "start_time": "2024-06-08T13:34:19.166Z"
   },
   {
    "duration": 182,
    "start_time": "2024-06-08T13:34:31.988Z"
   },
   {
    "duration": 179,
    "start_time": "2024-06-08T13:35:08.536Z"
   },
   {
    "duration": 291,
    "start_time": "2024-06-08T13:36:57.164Z"
   },
   {
    "duration": 508,
    "start_time": "2024-06-08T13:37:06.842Z"
   },
   {
    "duration": 177,
    "start_time": "2024-06-08T13:37:12.880Z"
   },
   {
    "duration": 237,
    "start_time": "2024-06-08T13:37:17.590Z"
   },
   {
    "duration": 5,
    "start_time": "2024-06-08T13:38:13.733Z"
   },
   {
    "duration": 11,
    "start_time": "2024-06-08T13:38:52.120Z"
   },
   {
    "duration": 9,
    "start_time": "2024-06-08T13:40:31.322Z"
   },
   {
    "duration": 94,
    "start_time": "2024-06-08T13:40:49.984Z"
   },
   {
    "duration": 86,
    "start_time": "2024-06-08T13:41:30.292Z"
   },
   {
    "duration": 264,
    "start_time": "2024-06-08T13:44:58.605Z"
   },
   {
    "duration": 202,
    "start_time": "2024-06-08T13:46:07.613Z"
   },
   {
    "duration": 5181,
    "start_time": "2024-06-08T13:47:21.131Z"
   },
   {
    "duration": 5458,
    "start_time": "2024-06-08T13:52:03.640Z"
   },
   {
    "duration": 5196,
    "start_time": "2024-06-08T13:52:41.813Z"
   },
   {
    "duration": 5186,
    "start_time": "2024-06-08T13:53:05.329Z"
   },
   {
    "duration": 2622,
    "start_time": "2024-06-08T13:53:22.694Z"
   },
   {
    "duration": 1114,
    "start_time": "2024-06-08T13:53:25.318Z"
   },
   {
    "duration": 61,
    "start_time": "2024-06-08T13:53:26.433Z"
   },
   {
    "duration": 4,
    "start_time": "2024-06-08T13:53:26.496Z"
   },
   {
    "duration": 83,
    "start_time": "2024-06-08T13:53:26.502Z"
   },
   {
    "duration": 3,
    "start_time": "2024-06-08T13:53:26.586Z"
   },
   {
    "duration": 6,
    "start_time": "2024-06-08T13:53:26.590Z"
   },
   {
    "duration": 16675,
    "start_time": "2024-06-08T13:53:26.597Z"
   },
   {
    "duration": 619,
    "start_time": "2024-06-08T13:53:43.274Z"
   },
   {
    "duration": 5,
    "start_time": "2024-06-08T13:53:43.895Z"
   },
   {
    "duration": 23,
    "start_time": "2024-06-08T13:53:43.902Z"
   },
   {
    "duration": 6,
    "start_time": "2024-06-08T13:53:43.926Z"
   },
   {
    "duration": 261,
    "start_time": "2024-06-08T13:53:43.934Z"
   },
   {
    "duration": 210,
    "start_time": "2024-06-08T13:53:44.196Z"
   },
   {
    "duration": 5089,
    "start_time": "2024-06-08T13:53:44.407Z"
   },
   {
    "duration": 5125,
    "start_time": "2024-06-08T13:55:13.971Z"
   },
   {
    "duration": 4,
    "start_time": "2024-06-08T13:56:42.712Z"
   },
   {
    "duration": 4,
    "start_time": "2024-06-08T13:57:07.055Z"
   },
   {
    "duration": 5165,
    "start_time": "2024-06-08T13:57:18.006Z"
   },
   {
    "duration": 4998,
    "start_time": "2024-06-08T13:57:30.829Z"
   },
   {
    "duration": 5170,
    "start_time": "2024-06-08T13:58:58.924Z"
   },
   {
    "duration": 4,
    "start_time": "2024-06-08T13:59:15.256Z"
   },
   {
    "duration": 5001,
    "start_time": "2024-06-08T13:59:55.072Z"
   },
   {
    "duration": 5044,
    "start_time": "2024-06-08T14:06:35.067Z"
   },
   {
    "duration": 4,
    "start_time": "2024-06-08T14:07:17.064Z"
   },
   {
    "duration": 5089,
    "start_time": "2024-06-08T14:07:30.684Z"
   },
   {
    "duration": 4,
    "start_time": "2024-06-08T14:08:34.415Z"
   },
   {
    "duration": 5,
    "start_time": "2024-06-08T14:09:04.322Z"
   },
   {
    "duration": 210,
    "start_time": "2024-06-08T14:17:56.013Z"
   },
   {
    "duration": 5,
    "start_time": "2024-06-08T14:18:24.152Z"
   },
   {
    "duration": 5,
    "start_time": "2024-06-08T14:18:46.126Z"
   },
   {
    "duration": 4,
    "start_time": "2024-06-08T14:18:52.140Z"
   },
   {
    "duration": 423,
    "start_time": "2024-06-08T14:19:14.645Z"
   },
   {
    "duration": 529,
    "start_time": "2024-06-08T14:20:56.332Z"
   },
   {
    "duration": 529,
    "start_time": "2024-06-08T14:21:16.467Z"
   },
   {
    "duration": 4,
    "start_time": "2024-06-08T14:21:36.597Z"
   },
   {
    "duration": 593,
    "start_time": "2024-06-08T14:21:42.671Z"
   },
   {
    "duration": 514,
    "start_time": "2024-06-08T14:22:12.182Z"
   },
   {
    "duration": 587,
    "start_time": "2024-06-08T14:22:18.611Z"
   },
   {
    "duration": 4,
    "start_time": "2024-06-08T14:22:25.164Z"
   },
   {
    "duration": 4919,
    "start_time": "2024-06-08T14:22:28.506Z"
   },
   {
    "duration": 100,
    "start_time": "2024-06-08T14:27:36.179Z"
   },
   {
    "duration": 402,
    "start_time": "2024-06-08T14:27:45.517Z"
   },
   {
    "duration": 2,
    "start_time": "2024-06-08T14:31:00.603Z"
   },
   {
    "duration": 3,
    "start_time": "2024-06-08T14:32:23.699Z"
   },
   {
    "duration": 3,
    "start_time": "2024-06-08T14:32:28.061Z"
   },
   {
    "duration": 3,
    "start_time": "2024-06-08T14:32:42.321Z"
   },
   {
    "duration": 605,
    "start_time": "2024-06-08T14:33:19.714Z"
   },
   {
    "duration": 4,
    "start_time": "2024-06-08T14:38:32.452Z"
   },
   {
    "duration": 10,
    "start_time": "2024-06-08T14:38:32.957Z"
   },
   {
    "duration": 3,
    "start_time": "2024-06-08T14:38:44.634Z"
   },
   {
    "duration": 392,
    "start_time": "2024-06-08T14:38:45.194Z"
   },
   {
    "duration": 3,
    "start_time": "2024-06-08T14:39:23.297Z"
   },
   {
    "duration": 473,
    "start_time": "2024-06-08T14:39:23.746Z"
   },
   {
    "duration": 5,
    "start_time": "2024-06-08T14:42:20.697Z"
   },
   {
    "duration": 172,
    "start_time": "2024-06-08T14:42:21.589Z"
   },
   {
    "duration": 4,
    "start_time": "2024-06-08T14:42:36.883Z"
   },
   {
    "duration": 549,
    "start_time": "2024-06-08T14:42:38.215Z"
   },
   {
    "duration": 4,
    "start_time": "2024-06-08T14:44:11.766Z"
   },
   {
    "duration": 556,
    "start_time": "2024-06-08T14:44:12.204Z"
   },
   {
    "duration": 3,
    "start_time": "2024-06-08T14:44:24.263Z"
   },
   {
    "duration": 555,
    "start_time": "2024-06-08T14:44:26.238Z"
   },
   {
    "duration": 68,
    "start_time": "2024-06-08T14:45:23.697Z"
   },
   {
    "duration": 4,
    "start_time": "2024-06-08T14:45:28.486Z"
   },
   {
    "duration": 317,
    "start_time": "2024-06-08T14:45:29.108Z"
   },
   {
    "duration": 3,
    "start_time": "2024-06-08T14:45:39.356Z"
   },
   {
    "duration": 302,
    "start_time": "2024-06-08T14:45:40.147Z"
   },
   {
    "duration": 3,
    "start_time": "2024-06-08T14:45:47.342Z"
   },
   {
    "duration": 337,
    "start_time": "2024-06-08T14:45:47.796Z"
   },
   {
    "duration": 3,
    "start_time": "2024-06-08T14:45:54.362Z"
   },
   {
    "duration": 138,
    "start_time": "2024-06-08T14:45:55.893Z"
   },
   {
    "duration": 3,
    "start_time": "2024-06-08T14:46:14.605Z"
   },
   {
    "duration": 372,
    "start_time": "2024-06-08T14:46:14.949Z"
   },
   {
    "duration": 327,
    "start_time": "2024-06-08T14:47:05.008Z"
   },
   {
    "duration": 297,
    "start_time": "2024-06-08T14:47:13.200Z"
   },
   {
    "duration": 3,
    "start_time": "2024-06-08T16:34:55.262Z"
   },
   {
    "duration": 135,
    "start_time": "2024-06-08T16:34:56.712Z"
   },
   {
    "duration": 4,
    "start_time": "2024-06-08T16:35:10.344Z"
   },
   {
    "duration": 348,
    "start_time": "2024-06-08T16:35:11.281Z"
   },
   {
    "duration": 3,
    "start_time": "2024-06-08T16:35:17.574Z"
   },
   {
    "duration": 151,
    "start_time": "2024-06-08T16:35:18.466Z"
   },
   {
    "duration": 4,
    "start_time": "2024-06-08T16:36:35.846Z"
   },
   {
    "duration": 325,
    "start_time": "2024-06-08T16:36:36.298Z"
   },
   {
    "duration": 220,
    "start_time": "2024-06-08T16:36:39.907Z"
   },
   {
    "duration": 4,
    "start_time": "2024-06-08T16:36:49.644Z"
   },
   {
    "duration": 294,
    "start_time": "2024-06-08T16:36:50.234Z"
   },
   {
    "duration": 286,
    "start_time": "2024-06-08T16:36:52.634Z"
   },
   {
    "duration": 121,
    "start_time": "2024-06-08T16:37:16.411Z"
   },
   {
    "duration": 128,
    "start_time": "2024-06-08T16:37:21.086Z"
   },
   {
    "duration": 427,
    "start_time": "2024-06-08T16:37:27.456Z"
   },
   {
    "duration": 296,
    "start_time": "2024-06-08T16:37:49.596Z"
   },
   {
    "duration": 124,
    "start_time": "2024-06-08T16:38:52.006Z"
   },
   {
    "duration": 198,
    "start_time": "2024-06-08T16:39:11.002Z"
   },
   {
    "duration": 225,
    "start_time": "2024-06-08T16:39:35.780Z"
   },
   {
    "duration": 4,
    "start_time": "2024-06-08T16:40:12.949Z"
   },
   {
    "duration": 323,
    "start_time": "2024-06-08T16:40:13.391Z"
   },
   {
    "duration": 4,
    "start_time": "2024-06-08T16:40:20.724Z"
   },
   {
    "duration": 127,
    "start_time": "2024-06-08T16:40:21.222Z"
   },
   {
    "duration": 3,
    "start_time": "2024-06-08T16:40:34.495Z"
   },
   {
    "duration": 313,
    "start_time": "2024-06-08T16:40:34.903Z"
   },
   {
    "duration": 3,
    "start_time": "2024-06-08T16:40:45.923Z"
   },
   {
    "duration": 131,
    "start_time": "2024-06-08T16:40:46.745Z"
   },
   {
    "duration": 4,
    "start_time": "2024-06-08T16:41:03.016Z"
   },
   {
    "duration": 336,
    "start_time": "2024-06-08T16:41:03.292Z"
   },
   {
    "duration": 4,
    "start_time": "2024-06-08T16:41:20.394Z"
   },
   {
    "duration": 304,
    "start_time": "2024-06-08T16:41:20.806Z"
   },
   {
    "duration": 4,
    "start_time": "2024-06-08T16:41:27.378Z"
   },
   {
    "duration": 143,
    "start_time": "2024-06-08T16:41:28.753Z"
   },
   {
    "duration": 3,
    "start_time": "2024-06-08T16:41:45.302Z"
   },
   {
    "duration": 291,
    "start_time": "2024-06-08T16:41:46.121Z"
   },
   {
    "duration": 3,
    "start_time": "2024-06-08T16:41:52.000Z"
   },
   {
    "duration": 319,
    "start_time": "2024-06-08T16:41:52.195Z"
   },
   {
    "duration": 253,
    "start_time": "2024-06-08T16:41:55.240Z"
   },
   {
    "duration": 244,
    "start_time": "2024-06-08T16:41:56.769Z"
   },
   {
    "duration": 288,
    "start_time": "2024-06-08T16:41:57.509Z"
   },
   {
    "duration": 243,
    "start_time": "2024-06-08T16:41:58.052Z"
   },
   {
    "duration": 211,
    "start_time": "2024-06-08T16:41:58.692Z"
   },
   {
    "duration": 339,
    "start_time": "2024-06-08T16:43:33.086Z"
   },
   {
    "duration": 295,
    "start_time": "2024-06-08T16:44:55.922Z"
   },
   {
    "duration": 283,
    "start_time": "2024-06-08T16:45:12.711Z"
   },
   {
    "duration": 252,
    "start_time": "2024-06-08T16:45:26.426Z"
   },
   {
    "duration": 251,
    "start_time": "2024-06-08T16:45:46.267Z"
   },
   {
    "duration": 241,
    "start_time": "2024-06-08T16:46:02.233Z"
   },
   {
    "duration": 274,
    "start_time": "2024-06-08T16:46:27.035Z"
   },
   {
    "duration": 250,
    "start_time": "2024-06-08T16:46:57.151Z"
   },
   {
    "duration": 351,
    "start_time": "2024-06-08T16:47:36.572Z"
   },
   {
    "duration": 251,
    "start_time": "2024-06-08T16:47:43.474Z"
   },
   {
    "duration": 12036,
    "start_time": "2024-06-08T16:55:34.867Z"
   },
   {
    "duration": 14,
    "start_time": "2024-06-08T16:55:56.619Z"
   },
   {
    "duration": 1408,
    "start_time": "2024-06-08T17:17:13.236Z"
   },
   {
    "duration": 12866,
    "start_time": "2024-06-08T17:18:50.907Z"
   },
   {
    "duration": 0,
    "start_time": "2024-06-08T17:19:03.774Z"
   },
   {
    "duration": 1423,
    "start_time": "2024-06-08T17:19:04.737Z"
   },
   {
    "duration": 12103,
    "start_time": "2024-06-08T17:19:41.640Z"
   },
   {
    "duration": 11,
    "start_time": "2024-06-08T17:19:53.745Z"
   },
   {
    "duration": 1209,
    "start_time": "2024-06-08T17:19:53.758Z"
   },
   {
    "duration": 275,
    "start_time": "2024-06-08T17:20:52.937Z"
   },
   {
    "duration": 11,
    "start_time": "2024-06-08T17:20:54.951Z"
   },
   {
    "duration": 975,
    "start_time": "2024-06-08T17:20:59.888Z"
   },
   {
    "duration": 9,
    "start_time": "2024-06-08T17:54:19.106Z"
   },
   {
    "duration": 11,
    "start_time": "2024-06-08T17:54:32.080Z"
   },
   {
    "duration": 14,
    "start_time": "2024-06-08T17:54:51.449Z"
   },
   {
    "duration": 61,
    "start_time": "2024-06-08T17:54:56.947Z"
   },
   {
    "duration": 8,
    "start_time": "2024-06-08T17:55:10.312Z"
   },
   {
    "duration": 60,
    "start_time": "2024-06-08T17:55:19.927Z"
   },
   {
    "duration": 51,
    "start_time": "2024-06-08T17:55:26.306Z"
   },
   {
    "duration": 12,
    "start_time": "2024-06-08T17:55:31.868Z"
   },
   {
    "duration": 9,
    "start_time": "2024-06-08T17:55:38.485Z"
   },
   {
    "duration": 11973,
    "start_time": "2024-06-08T17:55:52.374Z"
   },
   {
    "duration": 57,
    "start_time": "2024-06-08T17:57:22.522Z"
   },
   {
    "duration": 727,
    "start_time": "2024-06-08T17:57:27.823Z"
   },
   {
    "duration": 9,
    "start_time": "2024-06-08T17:57:28.578Z"
   },
   {
    "duration": 693,
    "start_time": "2024-06-08T17:57:47.280Z"
   },
   {
    "duration": 2503,
    "start_time": "2024-06-08T17:58:17.127Z"
   },
   {
    "duration": 1126,
    "start_time": "2024-06-08T17:58:19.632Z"
   },
   {
    "duration": 126,
    "start_time": "2024-06-08T17:58:20.760Z"
   },
   {
    "duration": 4,
    "start_time": "2024-06-08T17:58:20.887Z"
   },
   {
    "duration": 91,
    "start_time": "2024-06-08T17:58:20.893Z"
   },
   {
    "duration": 3,
    "start_time": "2024-06-08T17:58:20.985Z"
   },
   {
    "duration": 20,
    "start_time": "2024-06-08T17:58:20.990Z"
   },
   {
    "duration": 834,
    "start_time": "2024-06-08T17:58:21.011Z"
   },
   {
    "duration": 0,
    "start_time": "2024-06-08T17:58:21.847Z"
   },
   {
    "duration": 0,
    "start_time": "2024-06-08T17:58:21.848Z"
   },
   {
    "duration": 0,
    "start_time": "2024-06-08T17:58:21.849Z"
   },
   {
    "duration": 0,
    "start_time": "2024-06-08T17:58:21.851Z"
   },
   {
    "duration": 0,
    "start_time": "2024-06-08T17:58:21.852Z"
   },
   {
    "duration": 0,
    "start_time": "2024-06-08T17:58:21.853Z"
   },
   {
    "duration": 0,
    "start_time": "2024-06-08T17:58:21.855Z"
   },
   {
    "duration": 0,
    "start_time": "2024-06-08T17:58:21.856Z"
   },
   {
    "duration": 0,
    "start_time": "2024-06-08T17:58:21.857Z"
   },
   {
    "duration": 0,
    "start_time": "2024-06-08T17:58:21.859Z"
   },
   {
    "duration": 0,
    "start_time": "2024-06-08T17:58:21.860Z"
   },
   {
    "duration": 0,
    "start_time": "2024-06-08T17:58:21.861Z"
   },
   {
    "duration": 0,
    "start_time": "2024-06-08T17:58:21.863Z"
   },
   {
    "duration": 0,
    "start_time": "2024-06-08T17:58:21.864Z"
   },
   {
    "duration": 0,
    "start_time": "2024-06-08T17:58:21.866Z"
   },
   {
    "duration": 0,
    "start_time": "2024-06-08T17:58:21.867Z"
   },
   {
    "duration": 0,
    "start_time": "2024-06-08T17:58:21.868Z"
   },
   {
    "duration": 0,
    "start_time": "2024-06-08T17:58:21.870Z"
   },
   {
    "duration": 0,
    "start_time": "2024-06-08T17:58:21.871Z"
   },
   {
    "duration": 0,
    "start_time": "2024-06-08T17:58:21.872Z"
   },
   {
    "duration": 0,
    "start_time": "2024-06-08T17:58:21.873Z"
   },
   {
    "duration": 3,
    "start_time": "2024-06-08T17:59:20.306Z"
   },
   {
    "duration": 307,
    "start_time": "2024-06-08T17:59:21.330Z"
   },
   {
    "duration": 455,
    "start_time": "2024-06-08T17:59:24.240Z"
   },
   {
    "duration": 3,
    "start_time": "2024-06-08T18:02:17.327Z"
   },
   {
    "duration": 199,
    "start_time": "2024-06-08T18:02:17.816Z"
   },
   {
    "duration": 344,
    "start_time": "2024-06-08T18:02:18.535Z"
   },
   {
    "duration": 2503,
    "start_time": "2024-06-08T18:02:42.348Z"
   },
   {
    "duration": 1183,
    "start_time": "2024-06-08T18:02:44.853Z"
   },
   {
    "duration": 64,
    "start_time": "2024-06-08T18:02:46.037Z"
   },
   {
    "duration": 4,
    "start_time": "2024-06-08T18:02:46.102Z"
   },
   {
    "duration": 78,
    "start_time": "2024-06-08T18:02:46.108Z"
   },
   {
    "duration": 3,
    "start_time": "2024-06-08T18:02:46.187Z"
   },
   {
    "duration": 5,
    "start_time": "2024-06-08T18:02:46.192Z"
   },
   {
    "duration": 4,
    "start_time": "2024-06-08T18:02:46.199Z"
   },
   {
    "duration": 212,
    "start_time": "2024-06-08T18:02:46.204Z"
   },
   {
    "duration": 455,
    "start_time": "2024-06-08T18:02:46.418Z"
   },
   {
    "duration": 4,
    "start_time": "2024-06-08T18:02:46.875Z"
   },
   {
    "duration": 10,
    "start_time": "2024-06-08T18:02:46.880Z"
   },
   {
    "duration": 5,
    "start_time": "2024-06-08T18:02:46.891Z"
   },
   {
    "duration": 278,
    "start_time": "2024-06-08T18:02:46.898Z"
   },
   {
    "duration": 209,
    "start_time": "2024-06-08T18:02:47.177Z"
   },
   {
    "duration": 4,
    "start_time": "2024-06-08T18:02:47.388Z"
   },
   {
    "duration": 4905,
    "start_time": "2024-06-08T18:02:47.392Z"
   },
   {
    "duration": 4,
    "start_time": "2024-06-08T18:02:52.299Z"
   },
   {
    "duration": 531,
    "start_time": "2024-06-08T18:02:52.305Z"
   },
   {
    "duration": 3,
    "start_time": "2024-06-08T18:02:52.837Z"
   },
   {
    "duration": 294,
    "start_time": "2024-06-08T18:02:52.841Z"
   },
   {
    "duration": 472,
    "start_time": "2024-06-08T18:02:53.136Z"
   },
   {
    "duration": 267,
    "start_time": "2024-06-08T18:02:53.610Z"
   },
   {
    "duration": 248,
    "start_time": "2024-06-08T18:02:53.879Z"
   },
   {
    "duration": 253,
    "start_time": "2024-06-08T18:02:54.128Z"
   },
   {
    "duration": 236,
    "start_time": "2024-06-08T18:02:54.382Z"
   },
   {
    "duration": 276,
    "start_time": "2024-06-08T18:02:54.619Z"
   },
   {
    "duration": 11,
    "start_time": "2024-06-08T18:02:54.897Z"
   },
   {
    "duration": 1070,
    "start_time": "2024-06-08T18:02:54.909Z"
   },
   {
    "duration": 230,
    "start_time": "2024-06-08T18:04:45.880Z"
   },
   {
    "duration": 11,
    "start_time": "2024-06-08T18:04:46.660Z"
   },
   {
    "duration": 1074,
    "start_time": "2024-06-08T18:04:47.783Z"
   },
   {
    "duration": 113,
    "start_time": "2024-06-08T18:16:15.993Z"
   },
   {
    "duration": 213,
    "start_time": "2024-06-08T18:16:31.213Z"
   },
   {
    "duration": 11,
    "start_time": "2024-06-08T18:16:38.316Z"
   },
   {
    "duration": 926,
    "start_time": "2024-06-08T18:16:47.134Z"
   },
   {
    "duration": 932,
    "start_time": "2024-06-08T18:17:07.495Z"
   },
   {
    "duration": 322,
    "start_time": "2024-06-08T18:18:37.283Z"
   },
   {
    "duration": 12,
    "start_time": "2024-06-08T18:18:37.793Z"
   },
   {
    "duration": 1250,
    "start_time": "2024-06-08T18:18:38.274Z"
   },
   {
    "duration": 2582,
    "start_time": "2024-06-08T18:20:53.334Z"
   },
   {
    "duration": 1117,
    "start_time": "2024-06-08T18:20:55.917Z"
   },
   {
    "duration": 65,
    "start_time": "2024-06-08T18:20:57.035Z"
   },
   {
    "duration": 5,
    "start_time": "2024-06-08T18:20:57.102Z"
   },
   {
    "duration": 81,
    "start_time": "2024-06-08T18:20:57.109Z"
   },
   {
    "duration": 3,
    "start_time": "2024-06-08T18:20:57.191Z"
   },
   {
    "duration": 23,
    "start_time": "2024-06-08T18:20:57.196Z"
   },
   {
    "duration": 5,
    "start_time": "2024-06-08T18:20:57.221Z"
   },
   {
    "duration": 333,
    "start_time": "2024-06-08T18:20:57.227Z"
   },
   {
    "duration": 449,
    "start_time": "2024-06-08T18:20:57.562Z"
   },
   {
    "duration": 5,
    "start_time": "2024-06-08T18:20:58.012Z"
   },
   {
    "duration": 5,
    "start_time": "2024-06-08T18:20:58.018Z"
   },
   {
    "duration": 6,
    "start_time": "2024-06-08T18:20:58.025Z"
   },
   {
    "duration": 284,
    "start_time": "2024-06-08T18:20:58.032Z"
   },
   {
    "duration": 213,
    "start_time": "2024-06-08T18:20:58.317Z"
   },
   {
    "duration": 4,
    "start_time": "2024-06-08T18:20:58.531Z"
   },
   {
    "duration": 5074,
    "start_time": "2024-06-08T18:20:58.536Z"
   },
   {
    "duration": 4,
    "start_time": "2024-06-08T18:21:03.612Z"
   },
   {
    "duration": 555,
    "start_time": "2024-06-08T18:21:03.618Z"
   },
   {
    "duration": 4,
    "start_time": "2024-06-08T18:21:04.174Z"
   },
   {
    "duration": 340,
    "start_time": "2024-06-08T18:21:04.179Z"
   },
   {
    "duration": 482,
    "start_time": "2024-06-08T18:21:04.521Z"
   },
   {
    "duration": 279,
    "start_time": "2024-06-08T18:21:05.004Z"
   },
   {
    "duration": 324,
    "start_time": "2024-06-08T18:21:05.285Z"
   },
   {
    "duration": 283,
    "start_time": "2024-06-08T18:21:05.611Z"
   },
   {
    "duration": 286,
    "start_time": "2024-06-08T18:21:05.895Z"
   },
   {
    "duration": 350,
    "start_time": "2024-06-08T18:21:06.183Z"
   },
   {
    "duration": 12,
    "start_time": "2024-06-08T18:21:06.536Z"
   },
   {
    "duration": 1250,
    "start_time": "2024-06-08T18:21:06.549Z"
   },
   {
    "duration": 481,
    "start_time": "2024-06-08T18:55:51.251Z"
   },
   {
    "duration": 17,
    "start_time": "2024-06-08T18:56:04.015Z"
   },
   {
    "duration": 3,
    "start_time": "2024-06-08T18:57:32.979Z"
   },
   {
    "duration": 550,
    "start_time": "2024-06-08T18:57:52.197Z"
   },
   {
    "duration": 12,
    "start_time": "2024-06-08T18:58:22.001Z"
   },
   {
    "duration": 8,
    "start_time": "2024-06-08T18:58:38.808Z"
   },
   {
    "duration": 7,
    "start_time": "2024-06-08T18:59:15.782Z"
   },
   {
    "duration": 9,
    "start_time": "2024-06-08T19:00:04.394Z"
   },
   {
    "duration": 3,
    "start_time": "2024-06-08T19:48:51.310Z"
   },
   {
    "duration": 11,
    "start_time": "2024-06-08T19:49:17.429Z"
   },
   {
    "duration": 11,
    "start_time": "2024-06-08T19:49:22.210Z"
   },
   {
    "duration": 62,
    "start_time": "2024-06-08T19:50:38.510Z"
   },
   {
    "duration": 10,
    "start_time": "2024-06-08T19:50:42.636Z"
   },
   {
    "duration": 9,
    "start_time": "2024-06-08T19:52:34.561Z"
   },
   {
    "duration": 3,
    "start_time": "2024-06-08T20:05:42.565Z"
   },
   {
    "duration": 4,
    "start_time": "2024-06-08T20:05:47.924Z"
   },
   {
    "duration": 5,
    "start_time": "2024-06-08T20:06:46.693Z"
   },
   {
    "duration": 4,
    "start_time": "2024-06-08T20:06:50.145Z"
   },
   {
    "duration": 5,
    "start_time": "2024-06-08T20:06:57.047Z"
   },
   {
    "duration": 4,
    "start_time": "2024-06-08T20:07:00.936Z"
   },
   {
    "duration": 5,
    "start_time": "2024-06-08T20:10:39.111Z"
   },
   {
    "duration": 11,
    "start_time": "2024-06-08T20:12:04.971Z"
   },
   {
    "duration": 9,
    "start_time": "2024-06-08T20:22:39.867Z"
   },
   {
    "duration": 5,
    "start_time": "2024-06-08T20:22:52.527Z"
   },
   {
    "duration": 8,
    "start_time": "2024-06-08T20:23:23.331Z"
   },
   {
    "duration": 99,
    "start_time": "2024-06-08T20:25:13.640Z"
   },
   {
    "duration": 9,
    "start_time": "2024-06-08T20:25:15.014Z"
   },
   {
    "duration": 5,
    "start_time": "2024-06-08T20:25:15.407Z"
   },
   {
    "duration": 5,
    "start_time": "2024-06-08T20:27:39.866Z"
   },
   {
    "duration": 5,
    "start_time": "2024-06-08T20:27:51.443Z"
   },
   {
    "duration": 5,
    "start_time": "2024-06-08T20:28:11.165Z"
   },
   {
    "duration": 3461,
    "start_time": "2024-06-09T10:06:05.436Z"
   },
   {
    "duration": 1280,
    "start_time": "2024-06-09T10:06:08.900Z"
   },
   {
    "duration": 74,
    "start_time": "2024-06-09T10:06:10.182Z"
   },
   {
    "duration": 7,
    "start_time": "2024-06-09T10:06:10.258Z"
   },
   {
    "duration": 104,
    "start_time": "2024-06-09T10:06:10.266Z"
   },
   {
    "duration": 4,
    "start_time": "2024-06-09T10:06:10.371Z"
   },
   {
    "duration": 16,
    "start_time": "2024-06-09T10:06:10.376Z"
   },
   {
    "duration": 4,
    "start_time": "2024-06-09T10:06:10.394Z"
   },
   {
    "duration": 300,
    "start_time": "2024-06-09T10:06:10.399Z"
   },
   {
    "duration": 521,
    "start_time": "2024-06-09T10:06:10.702Z"
   },
   {
    "duration": 4,
    "start_time": "2024-06-09T10:06:11.225Z"
   },
   {
    "duration": 4,
    "start_time": "2024-06-09T10:06:11.231Z"
   },
   {
    "duration": 7,
    "start_time": "2024-06-09T10:06:11.236Z"
   },
   {
    "duration": 277,
    "start_time": "2024-06-09T10:06:11.244Z"
   },
   {
    "duration": 210,
    "start_time": "2024-06-09T10:06:11.523Z"
   },
   {
    "duration": 4,
    "start_time": "2024-06-09T10:06:11.735Z"
   },
   {
    "duration": 4959,
    "start_time": "2024-06-09T10:06:11.740Z"
   },
   {
    "duration": 4,
    "start_time": "2024-06-09T10:06:16.701Z"
   },
   {
    "duration": 523,
    "start_time": "2024-06-09T10:06:16.706Z"
   },
   {
    "duration": 3,
    "start_time": "2024-06-09T10:06:17.231Z"
   },
   {
    "duration": 304,
    "start_time": "2024-06-09T10:06:17.236Z"
   },
   {
    "duration": 466,
    "start_time": "2024-06-09T10:06:17.541Z"
   },
   {
    "duration": 277,
    "start_time": "2024-06-09T10:06:18.009Z"
   },
   {
    "duration": 304,
    "start_time": "2024-06-09T10:06:18.287Z"
   },
   {
    "duration": 215,
    "start_time": "2024-06-09T10:06:18.593Z"
   },
   {
    "duration": 232,
    "start_time": "2024-06-09T10:06:18.870Z"
   },
   {
    "duration": 358,
    "start_time": "2024-06-09T10:06:19.104Z"
   },
   {
    "duration": 16,
    "start_time": "2024-06-09T10:06:19.465Z"
   },
   {
    "duration": 1182,
    "start_time": "2024-06-09T10:06:19.482Z"
   },
   {
    "duration": 10,
    "start_time": "2024-06-09T10:06:20.665Z"
   },
   {
    "duration": 17,
    "start_time": "2024-06-09T10:06:20.676Z"
   },
   {
    "duration": 15,
    "start_time": "2024-06-09T10:06:20.694Z"
   },
   {
    "duration": 22,
    "start_time": "2024-06-09T10:06:20.711Z"
   },
   {
    "duration": 15,
    "start_time": "2024-06-09T10:59:53.855Z"
   },
   {
    "duration": 14,
    "start_time": "2024-06-09T11:01:20.541Z"
   },
   {
    "duration": 14,
    "start_time": "2024-06-09T11:01:35.775Z"
   },
   {
    "duration": 13,
    "start_time": "2024-06-09T11:03:17.419Z"
   },
   {
    "duration": 14,
    "start_time": "2024-06-09T11:03:28.826Z"
   },
   {
    "duration": 14,
    "start_time": "2024-06-09T11:04:45.578Z"
   },
   {
    "duration": 13,
    "start_time": "2024-06-09T11:05:13.681Z"
   },
   {
    "duration": 14,
    "start_time": "2024-06-09T11:06:01.423Z"
   },
   {
    "duration": 5,
    "start_time": "2024-06-09T11:06:27.795Z"
   },
   {
    "duration": 14,
    "start_time": "2024-06-09T11:06:40.659Z"
   },
   {
    "duration": 88,
    "start_time": "2024-06-09T11:10:03.932Z"
   },
   {
    "duration": 72,
    "start_time": "2024-06-09T11:10:38.544Z"
   },
   {
    "duration": 14,
    "start_time": "2024-06-09T11:10:46.128Z"
   },
   {
    "duration": 103,
    "start_time": "2024-06-09T11:11:14.792Z"
   },
   {
    "duration": 15,
    "start_time": "2024-06-09T11:12:45.542Z"
   },
   {
    "duration": 14,
    "start_time": "2024-06-09T11:13:18.303Z"
   },
   {
    "duration": 15,
    "start_time": "2024-06-09T11:15:06.409Z"
   },
   {
    "duration": 4,
    "start_time": "2024-06-09T11:17:07.325Z"
   },
   {
    "duration": 19,
    "start_time": "2024-06-09T11:17:12.164Z"
   },
   {
    "duration": 7,
    "start_time": "2024-06-09T11:18:32.642Z"
   },
   {
    "duration": 16,
    "start_time": "2024-06-09T11:18:38.715Z"
   },
   {
    "duration": 8,
    "start_time": "2024-06-09T11:19:26.735Z"
   },
   {
    "duration": 19,
    "start_time": "2024-06-09T11:19:29.884Z"
   },
   {
    "duration": 8,
    "start_time": "2024-06-09T11:19:54.533Z"
   },
   {
    "duration": 17,
    "start_time": "2024-06-09T11:20:00.131Z"
   },
   {
    "duration": 12,
    "start_time": "2024-06-09T11:20:46.113Z"
   },
   {
    "duration": 17,
    "start_time": "2024-06-09T11:20:50.960Z"
   },
   {
    "duration": 9,
    "start_time": "2024-06-09T11:21:01.440Z"
   },
   {
    "duration": 11,
    "start_time": "2024-06-09T11:21:25.184Z"
   },
   {
    "duration": 10,
    "start_time": "2024-06-09T11:22:19.004Z"
   },
   {
    "duration": 17,
    "start_time": "2024-06-09T11:22:23.056Z"
   },
   {
    "duration": 11,
    "start_time": "2024-06-09T11:22:45.923Z"
   },
   {
    "duration": 22,
    "start_time": "2024-06-09T11:22:49.452Z"
   },
   {
    "duration": 12,
    "start_time": "2024-06-09T11:26:15.080Z"
   },
   {
    "duration": 18,
    "start_time": "2024-06-09T11:26:19.168Z"
   },
   {
    "duration": 14,
    "start_time": "2024-06-09T11:27:11.941Z"
   },
   {
    "duration": 13,
    "start_time": "2024-06-09T11:27:43.172Z"
   },
   {
    "duration": 14,
    "start_time": "2024-06-09T11:28:37.884Z"
   },
   {
    "duration": 14,
    "start_time": "2024-06-09T11:29:41.185Z"
   },
   {
    "duration": 14,
    "start_time": "2024-06-09T11:30:07.788Z"
   },
   {
    "duration": 16,
    "start_time": "2024-06-09T11:30:44.418Z"
   },
   {
    "duration": 13,
    "start_time": "2024-06-09T11:30:59.732Z"
   },
   {
    "duration": 12,
    "start_time": "2024-06-09T11:33:23.879Z"
   },
   {
    "duration": 12,
    "start_time": "2024-06-09T11:34:25.048Z"
   },
   {
    "duration": 17,
    "start_time": "2024-06-09T11:35:36.106Z"
   },
   {
    "duration": 18,
    "start_time": "2024-06-09T11:35:58.085Z"
   },
   {
    "duration": 13,
    "start_time": "2024-06-09T11:36:31.369Z"
   },
   {
    "duration": 57,
    "start_time": "2024-06-09T11:36:57.268Z"
   },
   {
    "duration": 14,
    "start_time": "2024-06-09T11:37:03.243Z"
   },
   {
    "duration": 15,
    "start_time": "2024-06-09T11:39:15.122Z"
   },
   {
    "duration": 14,
    "start_time": "2024-06-09T11:39:28.700Z"
   },
   {
    "duration": 13,
    "start_time": "2024-06-09T11:39:51.343Z"
   },
   {
    "duration": 13,
    "start_time": "2024-06-09T11:40:13.427Z"
   },
   {
    "duration": 15,
    "start_time": "2024-06-09T11:40:18.837Z"
   },
   {
    "duration": 14,
    "start_time": "2024-06-09T11:40:41.734Z"
   },
   {
    "duration": 13,
    "start_time": "2024-06-09T11:46:35.366Z"
   },
   {
    "duration": 13,
    "start_time": "2024-06-09T11:47:27.026Z"
   },
   {
    "duration": 16,
    "start_time": "2024-06-09T11:47:44.397Z"
   },
   {
    "duration": 5,
    "start_time": "2024-06-09T11:48:20.087Z"
   },
   {
    "duration": 13,
    "start_time": "2024-06-09T11:48:26.707Z"
   },
   {
    "duration": 13,
    "start_time": "2024-06-09T11:48:51.694Z"
   },
   {
    "duration": 13,
    "start_time": "2024-06-09T11:49:10.106Z"
   },
   {
    "duration": 13,
    "start_time": "2024-06-09T11:59:40.772Z"
   },
   {
    "duration": 14,
    "start_time": "2024-06-09T12:00:14.697Z"
   },
   {
    "duration": 15,
    "start_time": "2024-06-09T12:13:10.178Z"
   },
   {
    "duration": 14,
    "start_time": "2024-06-09T12:13:47.257Z"
   },
   {
    "duration": 72,
    "start_time": "2024-06-09T12:14:20.923Z"
   },
   {
    "duration": 17,
    "start_time": "2024-06-09T12:14:24.477Z"
   },
   {
    "duration": 16,
    "start_time": "2024-06-09T12:15:14.675Z"
   },
   {
    "duration": 63,
    "start_time": "2024-06-09T12:15:49.631Z"
   },
   {
    "duration": 17,
    "start_time": "2024-06-09T12:15:58.559Z"
   },
   {
    "duration": 16,
    "start_time": "2024-06-09T12:16:43.487Z"
   },
   {
    "duration": 15,
    "start_time": "2024-06-09T12:16:52.585Z"
   },
   {
    "duration": 22,
    "start_time": "2024-06-09T12:17:04.946Z"
   },
   {
    "duration": 15,
    "start_time": "2024-06-09T12:19:06.118Z"
   },
   {
    "duration": 19,
    "start_time": "2024-06-09T12:19:20.005Z"
   },
   {
    "duration": 15,
    "start_time": "2024-06-09T12:19:33.209Z"
   },
   {
    "duration": 6,
    "start_time": "2024-06-09T12:20:03.641Z"
   },
   {
    "duration": 15,
    "start_time": "2024-06-09T12:20:06.477Z"
   },
   {
    "duration": 15,
    "start_time": "2024-06-09T12:20:17.892Z"
   },
   {
    "duration": 15,
    "start_time": "2024-06-09T12:20:32.012Z"
   },
   {
    "duration": 15,
    "start_time": "2024-06-09T12:20:47.844Z"
   },
   {
    "duration": 15,
    "start_time": "2024-06-09T12:20:57.878Z"
   },
   {
    "duration": 15,
    "start_time": "2024-06-09T12:23:29.027Z"
   },
   {
    "duration": 9,
    "start_time": "2024-06-09T12:24:02.155Z"
   },
   {
    "duration": 8,
    "start_time": "2024-06-09T12:25:09.715Z"
   },
   {
    "duration": 9,
    "start_time": "2024-06-09T12:25:55.461Z"
   },
   {
    "duration": 8,
    "start_time": "2024-06-09T12:28:42.247Z"
   },
   {
    "duration": 11,
    "start_time": "2024-06-09T12:29:41.174Z"
   },
   {
    "duration": 67,
    "start_time": "2024-06-09T12:30:00.286Z"
   },
   {
    "duration": 10,
    "start_time": "2024-06-09T12:30:08.861Z"
   },
   {
    "duration": 63,
    "start_time": "2024-06-09T12:30:52.431Z"
   },
   {
    "duration": 12,
    "start_time": "2024-06-09T12:30:57.330Z"
   },
   {
    "duration": 2523,
    "start_time": "2024-06-09T14:13:19.066Z"
   },
   {
    "duration": 1142,
    "start_time": "2024-06-09T14:13:21.592Z"
   },
   {
    "duration": 56,
    "start_time": "2024-06-09T14:13:22.736Z"
   },
   {
    "duration": 4,
    "start_time": "2024-06-09T14:13:22.794Z"
   },
   {
    "duration": 82,
    "start_time": "2024-06-09T14:13:22.799Z"
   },
   {
    "duration": 3,
    "start_time": "2024-06-09T14:13:22.883Z"
   },
   {
    "duration": 5,
    "start_time": "2024-06-09T14:13:22.887Z"
   },
   {
    "duration": 3,
    "start_time": "2024-06-09T14:13:22.893Z"
   },
   {
    "duration": 326,
    "start_time": "2024-06-09T14:13:22.898Z"
   },
   {
    "duration": 455,
    "start_time": "2024-06-09T14:13:23.226Z"
   },
   {
    "duration": 5,
    "start_time": "2024-06-09T14:13:23.683Z"
   },
   {
    "duration": 7,
    "start_time": "2024-06-09T14:13:23.689Z"
   },
   {
    "duration": 7,
    "start_time": "2024-06-09T14:13:23.697Z"
   },
   {
    "duration": 258,
    "start_time": "2024-06-09T14:13:23.705Z"
   },
   {
    "duration": 219,
    "start_time": "2024-06-09T14:13:23.964Z"
   },
   {
    "duration": 4,
    "start_time": "2024-06-09T14:13:24.184Z"
   },
   {
    "duration": 4967,
    "start_time": "2024-06-09T14:13:24.189Z"
   },
   {
    "duration": 5,
    "start_time": "2024-06-09T14:13:29.157Z"
   },
   {
    "duration": 521,
    "start_time": "2024-06-09T14:13:29.163Z"
   },
   {
    "duration": 3,
    "start_time": "2024-06-09T14:13:29.685Z"
   },
   {
    "duration": 314,
    "start_time": "2024-06-09T14:13:29.689Z"
   },
   {
    "duration": 513,
    "start_time": "2024-06-09T14:13:30.005Z"
   },
   {
    "duration": 258,
    "start_time": "2024-06-09T14:13:30.520Z"
   },
   {
    "duration": 319,
    "start_time": "2024-06-09T14:13:30.779Z"
   },
   {
    "duration": 284,
    "start_time": "2024-06-09T14:13:31.099Z"
   },
   {
    "duration": 221,
    "start_time": "2024-06-09T14:13:31.384Z"
   },
   {
    "duration": 325,
    "start_time": "2024-06-09T14:13:31.607Z"
   },
   {
    "duration": 11,
    "start_time": "2024-06-09T14:13:31.936Z"
   },
   {
    "duration": 1207,
    "start_time": "2024-06-09T14:13:31.949Z"
   },
   {
    "duration": 10,
    "start_time": "2024-06-09T14:13:33.157Z"
   },
   {
    "duration": 5,
    "start_time": "2024-06-09T14:13:33.168Z"
   },
   {
    "duration": 8,
    "start_time": "2024-06-09T14:13:33.174Z"
   },
   {
    "duration": 5,
    "start_time": "2024-06-09T14:13:33.183Z"
   },
   {
    "duration": 13,
    "start_time": "2024-06-09T14:13:33.189Z"
   },
   {
    "duration": 11,
    "start_time": "2024-06-09T14:13:33.203Z"
   },
   {
    "duration": 3731,
    "start_time": "2024-06-09T20:19:40.847Z"
   },
   {
    "duration": 2090,
    "start_time": "2024-06-09T20:19:44.580Z"
   },
   {
    "duration": 97,
    "start_time": "2024-06-09T20:19:46.671Z"
   },
   {
    "duration": 4,
    "start_time": "2024-06-09T20:19:46.770Z"
   },
   {
    "duration": 80,
    "start_time": "2024-06-09T20:19:46.776Z"
   },
   {
    "duration": 3,
    "start_time": "2024-06-09T20:19:46.857Z"
   },
   {
    "duration": 4,
    "start_time": "2024-06-09T20:19:46.863Z"
   },
   {
    "duration": 4,
    "start_time": "2024-06-09T20:19:46.868Z"
   },
   {
    "duration": 335,
    "start_time": "2024-06-09T20:19:46.873Z"
   },
   {
    "duration": 538,
    "start_time": "2024-06-09T20:19:47.211Z"
   },
   {
    "duration": 6,
    "start_time": "2024-06-09T20:19:47.750Z"
   },
   {
    "duration": 4,
    "start_time": "2024-06-09T20:19:47.758Z"
   },
   {
    "duration": 7,
    "start_time": "2024-06-09T20:19:47.763Z"
   },
   {
    "duration": 293,
    "start_time": "2024-06-09T20:19:47.772Z"
   },
   {
    "duration": 214,
    "start_time": "2024-06-09T20:19:48.066Z"
   },
   {
    "duration": 4,
    "start_time": "2024-06-09T20:19:48.281Z"
   },
   {
    "duration": 5035,
    "start_time": "2024-06-09T20:19:48.286Z"
   },
   {
    "duration": 4,
    "start_time": "2024-06-09T20:19:53.323Z"
   },
   {
    "duration": 555,
    "start_time": "2024-06-09T20:19:53.328Z"
   },
   {
    "duration": 3,
    "start_time": "2024-06-09T20:19:53.884Z"
   },
   {
    "duration": 366,
    "start_time": "2024-06-09T20:19:53.889Z"
   },
   {
    "duration": 489,
    "start_time": "2024-06-09T20:19:54.257Z"
   },
   {
    "duration": 275,
    "start_time": "2024-06-09T20:19:54.747Z"
   },
   {
    "duration": 326,
    "start_time": "2024-06-09T20:19:55.023Z"
   },
   {
    "duration": 270,
    "start_time": "2024-06-09T20:19:55.350Z"
   },
   {
    "duration": 233,
    "start_time": "2024-06-09T20:19:55.622Z"
   },
   {
    "duration": 372,
    "start_time": "2024-06-09T20:19:55.857Z"
   },
   {
    "duration": 12,
    "start_time": "2024-06-09T20:19:56.230Z"
   },
   {
    "duration": 1194,
    "start_time": "2024-06-09T20:19:56.244Z"
   },
   {
    "duration": 10,
    "start_time": "2024-06-09T20:19:57.439Z"
   },
   {
    "duration": 4,
    "start_time": "2024-06-09T20:19:57.450Z"
   },
   {
    "duration": 9,
    "start_time": "2024-06-09T20:19:57.456Z"
   },
   {
    "duration": 5,
    "start_time": "2024-06-09T20:19:57.467Z"
   },
   {
    "duration": 13,
    "start_time": "2024-06-09T20:19:57.474Z"
   },
   {
    "duration": 30,
    "start_time": "2024-06-09T20:19:57.488Z"
   },
   {
    "duration": 48,
    "start_time": "2024-06-10T10:54:49.941Z"
   },
   {
    "duration": 3431,
    "start_time": "2024-06-10T10:56:07.659Z"
   },
   {
    "duration": 1430,
    "start_time": "2024-06-10T10:56:11.092Z"
   },
   {
    "duration": 55,
    "start_time": "2024-06-10T10:56:12.524Z"
   },
   {
    "duration": 5,
    "start_time": "2024-06-10T10:56:12.581Z"
   },
   {
    "duration": 84,
    "start_time": "2024-06-10T10:56:12.588Z"
   },
   {
    "duration": 4,
    "start_time": "2024-06-10T10:56:12.673Z"
   },
   {
    "duration": 14,
    "start_time": "2024-06-10T10:56:12.678Z"
   },
   {
    "duration": 21,
    "start_time": "2024-06-10T10:56:12.693Z"
   },
   {
    "duration": 338,
    "start_time": "2024-06-10T10:56:12.715Z"
   },
   {
    "duration": 539,
    "start_time": "2024-06-10T10:56:13.054Z"
   },
   {
    "duration": 20,
    "start_time": "2024-06-10T10:56:13.595Z"
   },
   {
    "duration": 6,
    "start_time": "2024-06-10T10:56:13.616Z"
   },
   {
    "duration": 7,
    "start_time": "2024-06-10T10:56:13.623Z"
   },
   {
    "duration": 299,
    "start_time": "2024-06-10T10:56:13.633Z"
   },
   {
    "duration": 243,
    "start_time": "2024-06-10T10:56:13.933Z"
   },
   {
    "duration": 4,
    "start_time": "2024-06-10T10:56:14.177Z"
   },
   {
    "duration": 5634,
    "start_time": "2024-06-10T10:56:14.183Z"
   },
   {
    "duration": 5,
    "start_time": "2024-06-10T10:56:19.826Z"
   },
   {
    "duration": 602,
    "start_time": "2024-06-10T10:56:19.833Z"
   },
   {
    "duration": 4,
    "start_time": "2024-06-10T10:56:20.437Z"
   },
   {
    "duration": 626,
    "start_time": "2024-06-10T10:56:20.443Z"
   },
   {
    "duration": 342,
    "start_time": "2024-06-10T10:56:21.071Z"
   },
   {
    "duration": 236,
    "start_time": "2024-06-10T10:56:21.415Z"
   },
   {
    "duration": 303,
    "start_time": "2024-06-10T10:56:21.653Z"
   },
   {
    "duration": 275,
    "start_time": "2024-06-10T10:56:21.957Z"
   },
   {
    "duration": 309,
    "start_time": "2024-06-10T10:56:22.233Z"
   },
   {
    "duration": 356,
    "start_time": "2024-06-10T10:56:22.544Z"
   },
   {
    "duration": 30,
    "start_time": "2024-06-10T10:56:22.901Z"
   },
   {
    "duration": 1353,
    "start_time": "2024-06-10T10:56:22.933Z"
   },
   {
    "duration": 12,
    "start_time": "2024-06-10T10:56:24.288Z"
   },
   {
    "duration": 4,
    "start_time": "2024-06-10T10:56:24.302Z"
   },
   {
    "duration": 18,
    "start_time": "2024-06-10T10:56:24.308Z"
   },
   {
    "duration": 6,
    "start_time": "2024-06-10T10:56:24.328Z"
   },
   {
    "duration": 11,
    "start_time": "2024-06-10T10:56:24.336Z"
   },
   {
    "duration": 13,
    "start_time": "2024-06-10T10:56:24.348Z"
   },
   {
    "duration": 211,
    "start_time": "2024-06-10T10:58:01.716Z"
   },
   {
    "duration": 209,
    "start_time": "2024-06-10T10:58:14.172Z"
   },
   {
    "duration": 220,
    "start_time": "2024-06-10T10:58:24.321Z"
   },
   {
    "duration": 217,
    "start_time": "2024-06-10T10:59:46.064Z"
   },
   {
    "duration": 289,
    "start_time": "2024-06-10T10:59:54.591Z"
   },
   {
    "duration": 190,
    "start_time": "2024-06-10T11:01:19.634Z"
   },
   {
    "duration": 192,
    "start_time": "2024-06-10T11:01:25.146Z"
   },
   {
    "duration": 206,
    "start_time": "2024-06-10T11:01:31.419Z"
   },
   {
    "duration": 210,
    "start_time": "2024-06-10T11:01:36.578Z"
   },
   {
    "duration": 204,
    "start_time": "2024-06-10T11:01:40.844Z"
   },
   {
    "duration": 213,
    "start_time": "2024-06-10T11:01:45.119Z"
   },
   {
    "duration": 214,
    "start_time": "2024-06-10T11:01:48.300Z"
   },
   {
    "duration": 256,
    "start_time": "2024-06-10T11:01:53.370Z"
   },
   {
    "duration": 214,
    "start_time": "2024-06-10T11:01:57.971Z"
   },
   {
    "duration": 226,
    "start_time": "2024-06-10T11:02:02.799Z"
   },
   {
    "duration": 288,
    "start_time": "2024-06-10T11:02:08.830Z"
   },
   {
    "duration": 211,
    "start_time": "2024-06-10T11:02:20.196Z"
   },
   {
    "duration": 228,
    "start_time": "2024-06-10T11:02:28.256Z"
   },
   {
    "duration": 256,
    "start_time": "2024-06-10T11:03:23.165Z"
   },
   {
    "duration": 236,
    "start_time": "2024-06-10T11:03:27.472Z"
   },
   {
    "duration": 244,
    "start_time": "2024-06-10T11:03:36.396Z"
   },
   {
    "duration": 246,
    "start_time": "2024-06-10T11:03:40.125Z"
   },
   {
    "duration": 236,
    "start_time": "2024-06-10T11:03:44.162Z"
   },
   {
    "duration": 239,
    "start_time": "2024-06-10T11:03:50.238Z"
   },
   {
    "duration": 239,
    "start_time": "2024-06-10T11:03:53.236Z"
   },
   {
    "duration": 300,
    "start_time": "2024-06-10T11:03:57.334Z"
   },
   {
    "duration": 248,
    "start_time": "2024-06-10T11:04:01.888Z"
   },
   {
    "duration": 265,
    "start_time": "2024-06-10T11:04:11.052Z"
   },
   {
    "duration": 252,
    "start_time": "2024-06-10T11:04:16.992Z"
   },
   {
    "duration": 249,
    "start_time": "2024-06-10T11:04:21.345Z"
   },
   {
    "duration": 268,
    "start_time": "2024-06-10T11:04:43.872Z"
   },
   {
    "duration": 11,
    "start_time": "2024-06-10T11:07:34.068Z"
   },
   {
    "duration": 5,
    "start_time": "2024-06-10T11:09:58.949Z"
   },
   {
    "duration": 19,
    "start_time": "2024-06-10T11:10:05.236Z"
   },
   {
    "duration": 2705,
    "start_time": "2024-06-10T11:10:18.945Z"
   },
   {
    "duration": 1254,
    "start_time": "2024-06-10T11:10:21.652Z"
   },
   {
    "duration": 180,
    "start_time": "2024-06-10T11:10:22.908Z"
   },
   {
    "duration": 4,
    "start_time": "2024-06-10T11:10:23.090Z"
   },
   {
    "duration": 93,
    "start_time": "2024-06-10T11:10:23.096Z"
   },
   {
    "duration": 22,
    "start_time": "2024-06-10T11:10:23.191Z"
   },
   {
    "duration": 6,
    "start_time": "2024-06-10T11:10:23.214Z"
   },
   {
    "duration": 6,
    "start_time": "2024-06-10T11:10:23.221Z"
   },
   {
    "duration": 350,
    "start_time": "2024-06-10T11:10:23.229Z"
   },
   {
    "duration": 513,
    "start_time": "2024-06-10T11:10:23.583Z"
   },
   {
    "duration": 15,
    "start_time": "2024-06-10T11:10:24.097Z"
   },
   {
    "duration": 5,
    "start_time": "2024-06-10T11:10:24.113Z"
   },
   {
    "duration": 10,
    "start_time": "2024-06-10T11:10:24.120Z"
   },
   {
    "duration": 303,
    "start_time": "2024-06-10T11:10:24.131Z"
   },
   {
    "duration": 276,
    "start_time": "2024-06-10T11:10:24.436Z"
   },
   {
    "duration": 5,
    "start_time": "2024-06-10T11:10:24.713Z"
   },
   {
    "duration": 5575,
    "start_time": "2024-06-10T11:10:24.719Z"
   },
   {
    "duration": 4,
    "start_time": "2024-06-10T11:10:30.296Z"
   },
   {
    "duration": 641,
    "start_time": "2024-06-10T11:10:30.302Z"
   },
   {
    "duration": 4,
    "start_time": "2024-06-10T11:10:30.945Z"
   },
   {
    "duration": 713,
    "start_time": "2024-06-10T11:10:30.950Z"
   },
   {
    "duration": 291,
    "start_time": "2024-06-10T11:10:31.665Z"
   },
   {
    "duration": 290,
    "start_time": "2024-06-10T11:10:31.958Z"
   },
   {
    "duration": 306,
    "start_time": "2024-06-10T11:10:32.249Z"
   },
   {
    "duration": 13,
    "start_time": "2024-06-10T11:10:32.557Z"
   },
   {
    "duration": 19,
    "start_time": "2024-06-10T11:10:32.571Z"
   },
   {
    "duration": 20,
    "start_time": "2024-06-10T11:10:32.592Z"
   },
   {
    "duration": 25,
    "start_time": "2024-06-10T11:10:32.616Z"
   },
   {
    "duration": 297,
    "start_time": "2024-06-10T11:10:32.643Z"
   },
   {
    "duration": 304,
    "start_time": "2024-06-10T11:10:32.941Z"
   },
   {
    "duration": 360,
    "start_time": "2024-06-10T11:10:33.247Z"
   },
   {
    "duration": 19,
    "start_time": "2024-06-10T11:10:33.609Z"
   },
   {
    "duration": 1280,
    "start_time": "2024-06-10T11:10:33.630Z"
   },
   {
    "duration": 13,
    "start_time": "2024-06-10T11:10:34.912Z"
   },
   {
    "duration": 6,
    "start_time": "2024-06-10T11:10:34.926Z"
   },
   {
    "duration": 10,
    "start_time": "2024-06-10T11:10:34.934Z"
   },
   {
    "duration": 5,
    "start_time": "2024-06-10T11:10:34.946Z"
   },
   {
    "duration": 14,
    "start_time": "2024-06-10T11:10:34.952Z"
   },
   {
    "duration": 51,
    "start_time": "2024-06-10T11:10:34.968Z"
   },
   {
    "duration": 8,
    "start_time": "2024-06-10T11:11:44.643Z"
   },
   {
    "duration": 4,
    "start_time": "2024-06-10T11:12:05.092Z"
   },
   {
    "duration": 2708,
    "start_time": "2024-06-10T11:12:09.740Z"
   },
   {
    "duration": 1210,
    "start_time": "2024-06-10T11:12:12.450Z"
   },
   {
    "duration": 61,
    "start_time": "2024-06-10T11:12:13.662Z"
   },
   {
    "duration": 5,
    "start_time": "2024-06-10T11:12:13.724Z"
   },
   {
    "duration": 94,
    "start_time": "2024-06-10T11:12:13.731Z"
   },
   {
    "duration": 10,
    "start_time": "2024-06-10T11:12:13.827Z"
   },
   {
    "duration": 4,
    "start_time": "2024-06-10T11:12:13.838Z"
   },
   {
    "duration": 18,
    "start_time": "2024-06-10T11:12:13.843Z"
   },
   {
    "duration": 21,
    "start_time": "2024-06-10T11:12:13.862Z"
   },
   {
    "duration": 4,
    "start_time": "2024-06-10T11:12:13.884Z"
   },
   {
    "duration": 314,
    "start_time": "2024-06-10T11:12:13.890Z"
   },
   {
    "duration": 487,
    "start_time": "2024-06-10T11:12:14.206Z"
   },
   {
    "duration": 5,
    "start_time": "2024-06-10T11:12:14.695Z"
   },
   {
    "duration": 56,
    "start_time": "2024-06-10T11:12:14.711Z"
   },
   {
    "duration": 85,
    "start_time": "2024-06-10T11:12:14.768Z"
   },
   {
    "duration": 326,
    "start_time": "2024-06-10T11:12:14.854Z"
   },
   {
    "duration": 263,
    "start_time": "2024-06-10T11:12:15.182Z"
   },
   {
    "duration": 5,
    "start_time": "2024-06-10T11:12:15.446Z"
   },
   {
    "duration": 5368,
    "start_time": "2024-06-10T11:12:15.452Z"
   },
   {
    "duration": 5,
    "start_time": "2024-06-10T11:12:20.821Z"
   },
   {
    "duration": 574,
    "start_time": "2024-06-10T11:12:20.827Z"
   },
   {
    "duration": 10,
    "start_time": "2024-06-10T11:12:21.402Z"
   },
   {
    "duration": 566,
    "start_time": "2024-06-10T11:12:21.413Z"
   },
   {
    "duration": 279,
    "start_time": "2024-06-10T11:12:21.980Z"
   },
   {
    "duration": 273,
    "start_time": "2024-06-10T11:12:22.260Z"
   },
   {
    "duration": 311,
    "start_time": "2024-06-10T11:12:22.534Z"
   },
   {
    "duration": 286,
    "start_time": "2024-06-10T11:12:22.846Z"
   },
   {
    "duration": 313,
    "start_time": "2024-06-10T11:12:23.133Z"
   },
   {
    "duration": 369,
    "start_time": "2024-06-10T11:12:23.447Z"
   },
   {
    "duration": 12,
    "start_time": "2024-06-10T11:12:23.818Z"
   },
   {
    "duration": 1259,
    "start_time": "2024-06-10T11:12:23.831Z"
   },
   {
    "duration": 11,
    "start_time": "2024-06-10T11:12:25.092Z"
   },
   {
    "duration": 11,
    "start_time": "2024-06-10T11:12:25.104Z"
   },
   {
    "duration": 10,
    "start_time": "2024-06-10T11:12:25.116Z"
   },
   {
    "duration": 5,
    "start_time": "2024-06-10T11:12:25.127Z"
   },
   {
    "duration": 25,
    "start_time": "2024-06-10T11:12:25.133Z"
   },
   {
    "duration": 9,
    "start_time": "2024-06-10T11:12:25.160Z"
   },
   {
    "duration": 12,
    "start_time": "2024-06-10T11:16:35.054Z"
   },
   {
    "duration": 9,
    "start_time": "2024-06-10T11:16:37.297Z"
   },
   {
    "duration": 9,
    "start_time": "2024-06-10T11:19:14.501Z"
   },
   {
    "duration": 3449,
    "start_time": "2024-06-10T15:55:13.047Z"
   },
   {
    "duration": 1467,
    "start_time": "2024-06-10T15:55:16.498Z"
   },
   {
    "duration": 75,
    "start_time": "2024-06-10T15:55:17.966Z"
   },
   {
    "duration": 5,
    "start_time": "2024-06-10T15:55:18.043Z"
   },
   {
    "duration": 102,
    "start_time": "2024-06-10T15:55:18.050Z"
   },
   {
    "duration": 13,
    "start_time": "2024-06-10T15:55:18.153Z"
   },
   {
    "duration": 4,
    "start_time": "2024-06-10T15:55:18.167Z"
   },
   {
    "duration": 29,
    "start_time": "2024-06-10T15:55:18.172Z"
   },
   {
    "duration": 6,
    "start_time": "2024-06-10T15:55:18.202Z"
   },
   {
    "duration": 12,
    "start_time": "2024-06-10T15:55:18.209Z"
   },
   {
    "duration": 375,
    "start_time": "2024-06-10T15:55:18.223Z"
   },
   {
    "duration": 593,
    "start_time": "2024-06-10T15:55:18.599Z"
   },
   {
    "duration": 9,
    "start_time": "2024-06-10T15:55:19.194Z"
   },
   {
    "duration": 6,
    "start_time": "2024-06-10T15:55:19.206Z"
   },
   {
    "duration": 6,
    "start_time": "2024-06-10T15:55:19.214Z"
   },
   {
    "duration": 331,
    "start_time": "2024-06-10T15:55:19.221Z"
   },
   {
    "duration": 296,
    "start_time": "2024-06-10T15:55:19.553Z"
   },
   {
    "duration": 5,
    "start_time": "2024-06-10T15:55:19.850Z"
   },
   {
    "duration": 6425,
    "start_time": "2024-06-10T15:55:19.857Z"
   },
   {
    "duration": 4,
    "start_time": "2024-06-10T15:55:26.284Z"
   },
   {
    "duration": 666,
    "start_time": "2024-06-10T15:55:26.300Z"
   },
   {
    "duration": 5,
    "start_time": "2024-06-10T15:55:26.968Z"
   },
   {
    "duration": 694,
    "start_time": "2024-06-10T15:55:26.974Z"
   },
   {
    "duration": 285,
    "start_time": "2024-06-10T15:55:27.670Z"
   },
   {
    "duration": 265,
    "start_time": "2024-06-10T15:55:27.957Z"
   },
   {
    "duration": 319,
    "start_time": "2024-06-10T15:55:28.223Z"
   },
   {
    "duration": 281,
    "start_time": "2024-06-10T15:55:28.544Z"
   },
   {
    "duration": 305,
    "start_time": "2024-06-10T15:55:28.827Z"
   },
   {
    "duration": 383,
    "start_time": "2024-06-10T15:55:29.134Z"
   },
   {
    "duration": 15,
    "start_time": "2024-06-10T15:55:29.518Z"
   },
   {
    "duration": 1465,
    "start_time": "2024-06-10T15:55:29.534Z"
   },
   {
    "duration": 11,
    "start_time": "2024-06-10T15:55:31.001Z"
   },
   {
    "duration": 40,
    "start_time": "2024-06-10T15:55:31.014Z"
   },
   {
    "duration": 33,
    "start_time": "2024-06-10T15:55:31.056Z"
   },
   {
    "duration": 32,
    "start_time": "2024-06-10T15:55:31.090Z"
   },
   {
    "duration": 34,
    "start_time": "2024-06-10T15:55:31.124Z"
   },
   {
    "duration": 52,
    "start_time": "2024-06-10T15:55:31.160Z"
   },
   {
    "duration": 4198,
    "start_time": "2024-06-10T17:04:27.947Z"
   },
   {
    "duration": 2103,
    "start_time": "2024-06-10T17:04:32.147Z"
   },
   {
    "duration": 125,
    "start_time": "2024-06-10T17:04:34.252Z"
   },
   {
    "duration": 5,
    "start_time": "2024-06-10T17:04:34.379Z"
   },
   {
    "duration": 90,
    "start_time": "2024-06-10T17:04:34.385Z"
   },
   {
    "duration": 11,
    "start_time": "2024-06-10T17:04:34.476Z"
   },
   {
    "duration": 4,
    "start_time": "2024-06-10T17:04:34.488Z"
   },
   {
    "duration": 62,
    "start_time": "2024-06-10T17:04:34.493Z"
   },
   {
    "duration": 34,
    "start_time": "2024-06-10T17:04:34.556Z"
   },
   {
    "duration": 23,
    "start_time": "2024-06-10T17:04:34.593Z"
   },
   {
    "duration": 303,
    "start_time": "2024-06-10T17:04:34.618Z"
   },
   {
    "duration": 531,
    "start_time": "2024-06-10T17:04:34.924Z"
   },
   {
    "duration": 5,
    "start_time": "2024-06-10T17:04:35.456Z"
   },
   {
    "duration": 45,
    "start_time": "2024-06-10T17:04:35.462Z"
   },
   {
    "duration": 30,
    "start_time": "2024-06-10T17:04:35.509Z"
   },
   {
    "duration": 270,
    "start_time": "2024-06-10T17:04:35.540Z"
   },
   {
    "duration": 259,
    "start_time": "2024-06-10T17:04:35.811Z"
   },
   {
    "duration": 5,
    "start_time": "2024-06-10T17:04:36.071Z"
   },
   {
    "duration": 5213,
    "start_time": "2024-06-10T17:04:36.078Z"
   },
   {
    "duration": 4,
    "start_time": "2024-06-10T17:04:41.293Z"
   },
   {
    "duration": 563,
    "start_time": "2024-06-10T17:04:41.298Z"
   },
   {
    "duration": 5,
    "start_time": "2024-06-10T17:04:41.863Z"
   },
   {
    "duration": 616,
    "start_time": "2024-06-10T17:04:41.869Z"
   },
   {
    "duration": 287,
    "start_time": "2024-06-10T17:04:42.486Z"
   },
   {
    "duration": 268,
    "start_time": "2024-06-10T17:04:42.775Z"
   },
   {
    "duration": 316,
    "start_time": "2024-06-10T17:04:43.044Z"
   },
   {
    "duration": 301,
    "start_time": "2024-06-10T17:04:43.361Z"
   },
   {
    "duration": 293,
    "start_time": "2024-06-10T17:04:43.666Z"
   },
   {
    "duration": 333,
    "start_time": "2024-06-10T17:04:43.960Z"
   },
   {
    "duration": 12,
    "start_time": "2024-06-10T17:04:44.295Z"
   },
   {
    "duration": 1290,
    "start_time": "2024-06-10T17:04:44.309Z"
   },
   {
    "duration": 10,
    "start_time": "2024-06-10T17:04:45.601Z"
   },
   {
    "duration": 9,
    "start_time": "2024-06-10T17:04:45.612Z"
   },
   {
    "duration": 10,
    "start_time": "2024-06-10T17:04:45.623Z"
   },
   {
    "duration": 5,
    "start_time": "2024-06-10T17:04:45.635Z"
   },
   {
    "duration": 13,
    "start_time": "2024-06-10T17:04:45.642Z"
   },
   {
    "duration": 10,
    "start_time": "2024-06-10T17:04:45.657Z"
   }
  ],
  "kernelspec": {
   "display_name": "Python 3",
   "language": "python",
   "name": "python3"
  },
  "language_info": {
   "codemirror_mode": {
    "name": "ipython",
    "version": 3
   },
   "file_extension": ".py",
   "mimetype": "text/x-python",
   "name": "python",
   "nbconvert_exporter": "python",
   "pygments_lexer": "ipython3",
   "version": "3.8.8"
  },
  "toc": {
   "base_numbering": 1,
   "nav_menu": {},
   "number_sections": true,
   "sideBar": true,
   "skip_h1_title": true,
   "title_cell": "Table of Contents",
   "title_sidebar": "Contents",
   "toc_cell": false,
   "toc_position": {},
   "toc_section_display": true,
   "toc_window_display": true
  },
  "varInspector": {
   "cols": {
    "lenName": 16,
    "lenType": 16,
    "lenVar": 40
   },
   "kernels_config": {
    "python": {
     "delete_cmd_postfix": "",
     "delete_cmd_prefix": "del ",
     "library": "var_list.py",
     "varRefreshCmd": "print(var_dic_list())"
    },
    "r": {
     "delete_cmd_postfix": ") ",
     "delete_cmd_prefix": "rm(",
     "library": "var_list.r",
     "varRefreshCmd": "cat(var_dic_list()) "
    }
   },
   "types_to_exclude": [
    "module",
    "function",
    "builtin_function_or_method",
    "instance",
    "_Feature"
   ],
   "window_display": false
  }
 },
 "nbformat": 4,
 "nbformat_minor": 2
}
